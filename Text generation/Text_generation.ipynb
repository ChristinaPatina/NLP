{
  "nbformat": 4,
  "nbformat_minor": 0,
  "metadata": {
    "colab": {
      "name": "Text generation.ipynb",
      "provenance": [],
      "collapsed_sections": [],
      "machine_shape": "hm"
    },
    "kernelspec": {
      "name": "python3",
      "display_name": "Python 3"
    },
    "accelerator": "GPU"
  },
  "cells": [
    {
      "cell_type": "markdown",
      "metadata": {
        "id": "uDFhyOmQan0v"
      },
      "source": [
        "# **Генерация текстов с помощью нейросетевой языковой модели** \n",
        "\n",
        "### **1.** Обучение character recurrent neural network (char RNN) на датасете статей arxiv, эксперименты с архитектурами.\n",
        "### **2.** Обучение новой модели для русскоязычных текстов на собственном корпусе.\n",
        "### **3.** Анализ результатов."
      ]
    },
    {
      "cell_type": "code",
      "metadata": {
        "id": "Spc2f0fcy-76",
        "outputId": "e4e78c24-d5b0-49ff-97c1-499b0bfa8a75",
        "colab": {
          "base_uri": "https://localhost:8080/",
          "height": 121
        }
      },
      "source": [
        "from google.colab import drive\n",
        "drive.mount('/content/drive/')"
      ],
      "execution_count": null,
      "outputs": [
        {
          "output_type": "stream",
          "text": [
            "Go to this URL in a browser: https://accounts.google.com/o/oauth2/auth?client_id=947318989803-6bn6qk8qdgf4n4g3pfee6491hc0brc4i.apps.googleusercontent.com&redirect_uri=urn%3aietf%3awg%3aoauth%3a2.0%3aoob&response_type=code&scope=email%20https%3a%2f%2fwww.googleapis.com%2fauth%2fdocs.test%20https%3a%2f%2fwww.googleapis.com%2fauth%2fdrive%20https%3a%2f%2fwww.googleapis.com%2fauth%2fdrive.photos.readonly%20https%3a%2f%2fwww.googleapis.com%2fauth%2fpeopleapi.readonly\n",
            "\n",
            "Enter your authorization code:\n",
            "··········\n",
            "Mounted at /content/drive/\n"
          ],
          "name": "stdout"
        }
      ]
    },
    {
      "cell_type": "code",
      "metadata": {
        "id": "YSW-qex-zG2M",
        "outputId": "ec4caec8-911c-41a2-d439-6ac66feeb23d",
        "colab": {
          "base_uri": "https://localhost:8080/",
          "height": 79
        }
      },
      "source": [
        "import time\n",
        "from collections import namedtuple\n",
        "import numpy as np\n",
        "import tensorflow as tf\n",
        "import pandas as pd\n",
        "import warnings\n",
        "warnings.filterwarnings(\"ignore\")\n",
        "import nltk\n",
        "from __future__ import print_function\n",
        "from keras.callbacks import LambdaCallback\n",
        "from keras.models import Sequential\n",
        "from keras.layers import Dense, LSTM, Dropout\n",
        "from keras.optimizers import RMSprop\n",
        "from keras.utils.data_utils import get_file\n",
        "import numpy as np\n",
        "import random\n",
        "import sys\n",
        "import io"
      ],
      "execution_count": null,
      "outputs": [
        {
          "output_type": "display_data",
          "data": {
            "text/html": [
              "<p style=\"color: red;\">\n",
              "The default version of TensorFlow in Colab will soon switch to TensorFlow 2.x.<br>\n",
              "We recommend you <a href=\"https://www.tensorflow.org/guide/migrate\" target=\"_blank\">upgrade</a> now \n",
              "or ensure your notebook will continue to use TensorFlow 1.x via the <code>%tensorflow_version 1.x</code> magic:\n",
              "<a href=\"https://colab.research.google.com/notebooks/tensorflow_version.ipynb\" target=\"_blank\">more info</a>.</p>\n"
            ],
            "text/plain": [
              "<IPython.core.display.HTML object>"
            ]
          },
          "metadata": {
            "tags": []
          }
        },
        {
          "output_type": "stream",
          "text": [
            "Using TensorFlow backend.\n"
          ],
          "name": "stderr"
        }
      ]
    },
    {
      "cell_type": "markdown",
      "metadata": {
        "id": "RJLH2-kVvig9"
      },
      "source": [
        "# Часть 1. **arxiv.csv**"
      ]
    },
    {
      "cell_type": "markdown",
      "metadata": {
        "id": "A2-l4dMfukam"
      },
      "source": [
        "## Чтение данных"
      ]
    },
    {
      "cell_type": "code",
      "metadata": {
        "id": "2kZhBr8ezRpB",
        "outputId": "ae569e54-0ad5-4cee-f5a6-de06c4032078",
        "colab": {
          "base_uri": "https://localhost:8080/",
          "height": 279
        }
      },
      "source": [
        "df=pd.read_csv('drive/My Drive/NLP/arxiv.csv', encoding='utf-8')\n",
        "df.head()"
      ],
      "execution_count": null,
      "outputs": [
        {
          "output_type": "execute_result",
          "data": {
            "text/html": [
              "<div>\n",
              "<style scoped>\n",
              "    .dataframe tbody tr th:only-of-type {\n",
              "        vertical-align: middle;\n",
              "    }\n",
              "\n",
              "    .dataframe tbody tr th {\n",
              "        vertical-align: top;\n",
              "    }\n",
              "\n",
              "    .dataframe thead th {\n",
              "        text-align: right;\n",
              "    }\n",
              "</style>\n",
              "<table border=\"1\" class=\"dataframe\">\n",
              "  <thead>\n",
              "    <tr style=\"text-align: right;\">\n",
              "      <th></th>\n",
              "      <th>link</th>\n",
              "      <th>time</th>\n",
              "      <th>favorites</th>\n",
              "      <th>rts</th>\n",
              "      <th>authors</th>\n",
              "      <th>category</th>\n",
              "      <th>published</th>\n",
              "      <th>summary</th>\n",
              "      <th>title</th>\n",
              "      <th>tweeted</th>\n",
              "    </tr>\n",
              "  </thead>\n",
              "  <tbody>\n",
              "    <tr>\n",
              "      <th>0</th>\n",
              "      <td>arxiv.org/abs/1611.10003</td>\n",
              "      <td>NaN</td>\n",
              "      <td>NaN</td>\n",
              "      <td>NaN</td>\n",
              "      <td>[Tom A. F. Anderson, C. -H. Ruan]</td>\n",
              "      <td>q-bio.NC</td>\n",
              "      <td>2016-11-30 05:17:11</td>\n",
              "      <td>In summary of the research findings presented ...</td>\n",
              "      <td>Vocabulary and the Brain: Evidence from Neuroi...</td>\n",
              "      <td>0</td>\n",
              "    </tr>\n",
              "    <tr>\n",
              "      <th>1</th>\n",
              "      <td>arxiv.org/abs/1611.10007</td>\n",
              "      <td>NaN</td>\n",
              "      <td>NaN</td>\n",
              "      <td>NaN</td>\n",
              "      <td>[M. Amin Rahimian, Amir G. Aghdam]</td>\n",
              "      <td>cs.SY</td>\n",
              "      <td>2016-11-30 05:37:11</td>\n",
              "      <td>In this paper, structural controllability of a...</td>\n",
              "      <td>Structural Controllability of Multi-Agent Netw...</td>\n",
              "      <td>0</td>\n",
              "    </tr>\n",
              "    <tr>\n",
              "      <th>2</th>\n",
              "      <td>arxiv.org/abs/1611.10010</td>\n",
              "      <td>NaN</td>\n",
              "      <td>NaN</td>\n",
              "      <td>NaN</td>\n",
              "      <td>[Debidatta Dwibedi, Tomasz Malisiewicz, Vijay ...</td>\n",
              "      <td>cs.CV</td>\n",
              "      <td>2016-11-30 06:00:47</td>\n",
              "      <td>We present a Deep Cuboid Detector which takes ...</td>\n",
              "      <td>Deep Cuboid Detection: Beyond 2D Bounding Boxes</td>\n",
              "      <td>0</td>\n",
              "    </tr>\n",
              "    <tr>\n",
              "      <th>3</th>\n",
              "      <td>arxiv.org/abs/1611.10012</td>\n",
              "      <td>2016-12-01 01:46:12</td>\n",
              "      <td>11.0</td>\n",
              "      <td>2.0</td>\n",
              "      <td>[Jonathan Huang, Vivek Rathod, Chen Sun, Mengl...</td>\n",
              "      <td>cs.CV</td>\n",
              "      <td>2016-11-30 06:06:15</td>\n",
              "      <td>In this paper, we study the trade-off between ...</td>\n",
              "      <td>Speed/accuracy trade-offs for modern convoluti...</td>\n",
              "      <td>1</td>\n",
              "    </tr>\n",
              "    <tr>\n",
              "      <th>4</th>\n",
              "      <td>arxiv.org/abs/1611.10014</td>\n",
              "      <td>NaN</td>\n",
              "      <td>NaN</td>\n",
              "      <td>NaN</td>\n",
              "      <td>[Yoones Hashemi, Amir H. Banihashemi]</td>\n",
              "      <td>cs.IT</td>\n",
              "      <td>2016-11-30 06:12:45</td>\n",
              "      <td>In this paper, we propose a characterization o...</td>\n",
              "      <td>Characterization and Efficient Exhaustive Sear...</td>\n",
              "      <td>0</td>\n",
              "    </tr>\n",
              "  </tbody>\n",
              "</table>\n",
              "</div>"
            ],
            "text/plain": [
              "                       link  ... tweeted\n",
              "0  arxiv.org/abs/1611.10003  ...       0\n",
              "1  arxiv.org/abs/1611.10007  ...       0\n",
              "2  arxiv.org/abs/1611.10010  ...       0\n",
              "3  arxiv.org/abs/1611.10012  ...       1\n",
              "4  arxiv.org/abs/1611.10014  ...       0\n",
              "\n",
              "[5 rows x 10 columns]"
            ]
          },
          "metadata": {
            "tags": []
          },
          "execution_count": 3
        }
      ]
    },
    {
      "cell_type": "code",
      "metadata": {
        "id": "JYAYfZM0x3X4",
        "outputId": "c27b51de-0aef-48b5-9617-1f41f32f6128",
        "colab": {
          "base_uri": "https://localhost:8080/",
          "height": 34
        }
      },
      "source": [
        "len(df), len(df)/2"
      ],
      "execution_count": null,
      "outputs": [
        {
          "output_type": "execute_result",
          "data": {
            "text/plain": [
              "(27188, 13594.0)"
            ]
          },
          "metadata": {
            "tags": []
          },
          "execution_count": 4
        }
      ]
    },
    {
      "cell_type": "markdown",
      "metadata": {
        "id": "YipTwnXu_qeO"
      },
      "source": [
        "Мы берём только половину данных, т.к. иначе RAM полностью заполняется. Ниже есть модель, для которой мы брали 3/4 от данных."
      ]
    },
    {
      "cell_type": "markdown",
      "metadata": {
        "id": "fQa7zH53A2UT"
      },
      "source": [
        "Объединим все summary в один текст."
      ]
    },
    {
      "cell_type": "code",
      "metadata": {
        "id": "An82onF8Fb8h"
      },
      "source": [
        "summary=df['summary'][:13594]\n",
        "text=[]\n",
        "for s in summary:\n",
        "  text.append(s)\n",
        "text=' '.join(text)"
      ],
      "execution_count": null,
      "outputs": []
    },
    {
      "cell_type": "markdown",
      "metadata": {
        "id": "edphKr2OBA_F"
      },
      "source": [
        "Создадим voсabulary из символов, которые встречаются в тексте, так же создадим dictionary символ-код и код-символ."
      ]
    },
    {
      "cell_type": "code",
      "metadata": {
        "id": "cLQHzML3zpMU"
      },
      "source": [
        "vocab = sorted(set(text))\n",
        "symbol = sorted(list(set(text)))\n",
        "vocab_to_int = {c: i for i, c in enumerate(vocab)}\n",
        "int_to_vocab = dict(enumerate(vocab))"
      ],
      "execution_count": null,
      "outputs": []
    },
    {
      "cell_type": "code",
      "metadata": {
        "id": "3a27xYwmz03M",
        "outputId": "72edd48b-f674-4cae-ab01-0eeb437a31f4",
        "colab": {
          "base_uri": "https://localhost:8080/",
          "height": 34
        }
      },
      "source": [
        "text[:110]"
      ],
      "execution_count": null,
      "outputs": [
        {
          "output_type": "execute_result",
          "data": {
            "text/plain": [
              "'In summary of the research findings presented in this paper, various brain\\nregions are correlated with vocabul'"
            ]
          },
          "metadata": {
            "tags": []
          },
          "execution_count": 9
        }
      ]
    },
    {
      "cell_type": "code",
      "metadata": {
        "id": "qN66M-qJgyOJ",
        "outputId": "c15d7e57-b3a8-4822-e954-59ae11c6f64e",
        "colab": {
          "base_uri": "https://localhost:8080/",
          "height": 34
        }
      },
      "source": [
        "len(text)"
      ],
      "execution_count": null,
      "outputs": [
        {
          "output_type": "execute_result",
          "data": {
            "text/plain": [
              "14405116"
            ]
          },
          "metadata": {
            "tags": []
          },
          "execution_count": 8
        }
      ]
    },
    {
      "cell_type": "markdown",
      "metadata": {
        "id": "sZysuWXtBq0p"
      },
      "source": [
        "Возможных символов - 97."
      ]
    },
    {
      "cell_type": "code",
      "metadata": {
        "id": "T9XxDuFn0EUA",
        "outputId": "6c9a4a90-e437-4f99-836e-eeb6caae3970",
        "colab": {
          "base_uri": "https://localhost:8080/",
          "height": 34
        }
      },
      "source": [
        "len(vocab)"
      ],
      "execution_count": null,
      "outputs": [
        {
          "output_type": "execute_result",
          "data": {
            "text/plain": [
              "97"
            ]
          },
          "metadata": {
            "tags": []
          },
          "execution_count": 7
        }
      ]
    },
    {
      "cell_type": "markdown",
      "metadata": {
        "id": "xs-7JAZYBx2W"
      },
      "source": [
        "Разобъем текст на последовательности длины *maxlen*, c шагом *num_steps*."
      ]
    },
    {
      "cell_type": "code",
      "metadata": {
        "id": "isT5VryChrJH",
        "outputId": "e7d2e922-5e44-41bf-8a81-91e199e8948c",
        "colab": {
          "base_uri": "https://localhost:8080/",
          "height": 34
        }
      },
      "source": [
        "maxlen = 40\n",
        "num_steps = 10\n",
        "sequences, next_symbol  = [], []\n",
        "for i in range(0, len(text) - maxlen, num_steps):\n",
        "    sequences.append(text[i: i + maxlen])\n",
        "    next_symbol.append(text[i + maxlen])\n",
        "print('Number of sequences:', len(sequences))"
      ],
      "execution_count": null,
      "outputs": [
        {
          "output_type": "stream",
          "text": [
            "Number of sequences: 1440508\n"
          ],
          "name": "stdout"
        }
      ]
    },
    {
      "cell_type": "markdown",
      "metadata": {
        "id": "g5EWPSwYCPBE"
      },
      "source": [
        "Закодируем полученные последовательности. Получим закодированные наборы данных x и y, которые подадим на вход сеткам, где y - это сдвинутый x на один символ вперёд, который нужен для сравнения с предсказаниями."
      ]
    },
    {
      "cell_type": "code",
      "metadata": {
        "id": "1km75Q-IzyCg"
      },
      "source": [
        "x = np.zeros((len(sequences), maxlen, len(symbol)), dtype=np.bool)\n",
        "y = np.zeros((len(sequences), len(symbol)), dtype=np.bool)\n",
        "for i, s in enumerate(sequences):\n",
        "    for j, c in enumerate(s):\n",
        "        x[i, j, vocab_to_int[c]] = 1\n",
        "    y[i, vocab_to_int[next_symbol[i]]] = 1"
      ],
      "execution_count": null,
      "outputs": []
    },
    {
      "cell_type": "code",
      "metadata": {
        "id": "Epgj2AQj0_gv",
        "outputId": "96246e85-c087-4a8a-af38-9226256a912d",
        "colab": {
          "base_uri": "https://localhost:8080/",
          "height": 34
        }
      },
      "source": [
        "x.shape, y.shape"
      ],
      "execution_count": null,
      "outputs": [
        {
          "output_type": "execute_result",
          "data": {
            "text/plain": [
              "((1440508, 40, 97), (1440508, 97))"
            ]
          },
          "metadata": {
            "tags": []
          },
          "execution_count": 15
        }
      ]
    },
    {
      "cell_type": "markdown",
      "metadata": {
        "id": "c7dOlJg50yf4"
      },
      "source": [
        "## Необходимые функции"
      ]
    },
    {
      "cell_type": "code",
      "metadata": {
        "id": "lGFqlqr6bv9V"
      },
      "source": [
        "def sample(preds, temperature=1.0):\n",
        "    '''Helper function to sample an index from a probability array.'''\n",
        "    preds = np.asarray(preds).astype('float64')\n",
        "    preds = np.log(preds) / temperature\n",
        "    exp_preds = np.exp(preds)\n",
        "    preds = exp_preds / np.sum(exp_preds)\n",
        "    probas = np.random.multinomial(1, preds, 1)\n",
        "    return np.argmax(probas)"
      ],
      "execution_count": null,
      "outputs": []
    },
    {
      "cell_type": "code",
      "metadata": {
        "id": "T8y8LbCvb1Tg"
      },
      "source": [
        "def on_epoch_end(epoch, _):\n",
        "    '''Function invoked at end of each epoch. Prints generated text.'''\n",
        "    print()\n",
        "    print('----- GENERATING TEXT AFTER EPOCH: %d' % epoch)\n",
        "\n",
        "    start_index = random.randint(0, len(text) - maxlen - 1)\n",
        "    for diversity in [0.2, 0.5, 1.0, 1.2]:\n",
        "        print('----- DIVERSITY:', diversity)\n",
        "\n",
        "        generated = ''\n",
        "        sentence = text[start_index: start_index + maxlen]\n",
        "        generated += sentence\n",
        "        print('----- GENERATING with seed: \"' + sentence + '\"')\n",
        "        sys.stdout.write(generated)\n",
        "\n",
        "        for i in range(400):\n",
        "            x_pred = np.zeros((1, maxlen, len(symbol)))\n",
        "            for t, char in enumerate(sentence):\n",
        "                x_pred[0, t, vocab_to_int[char]] = 1.\n",
        "\n",
        "            preds = model.predict(x_pred, verbose=0)[0]\n",
        "            next_index = sample(preds, diversity)\n",
        "            next_symbol = int_to_vocab[next_index]\n",
        "\n",
        "            sentence = sentence[1:] + next_symbol\n",
        "\n",
        "            sys.stdout.write(next_symbol)\n",
        "            sys.stdout.flush()\n",
        "        print()"
      ],
      "execution_count": null,
      "outputs": []
    },
    {
      "cell_type": "code",
      "metadata": {
        "id": "gd5PxVRzAclf"
      },
      "source": [
        "def generateText(length, diversity=1.0):\n",
        "  '''Generating text using the neural network.'''\n",
        "    start_index = random.randint(0, len(text) - maxlen - 1)\n",
        "    generated = ''\n",
        "    sentence = text[start_index: start_index + maxlen]\n",
        "    generated += sentence\n",
        "    for i in range(length):\n",
        "            x_pred = np.zeros((1, maxlen, len(symbol)))\n",
        "            for t, char in enumerate(sentence):\n",
        "                x_pred[0, t, vocab_to_int[char]] = 1.\n",
        "            preds = model.predict(x_pred, verbose = 0)[0]\n",
        "            next_index = sample(preds, diversity)\n",
        "            next_char = int_to_vocab[next_index]\n",
        "            generated += next_char\n",
        "            sentence = sentence[1:] + next_char\n",
        "    return generated"
      ],
      "execution_count": null,
      "outputs": []
    },
    {
      "cell_type": "markdown",
      "metadata": {
        "id": "E00EW9G0mK5U"
      },
      "source": [
        "## **Model 1** - single LSTM"
      ]
    },
    {
      "cell_type": "markdown",
      "metadata": {
        "id": "yUkdKaYBmP69"
      },
      "source": [
        "Ниже представлены 2 параметра, которые мы меняли в ходе лабораторной работы. \n",
        "*   maxlen = 40\n",
        "*   num_steps = 10"
      ]
    },
    {
      "cell_type": "markdown",
      "metadata": {
        "id": "8_rjLrihFCPW"
      },
      "source": [
        "Сперва создадим модель с одним LSTM слоем."
      ]
    },
    {
      "cell_type": "code",
      "metadata": {
        "id": "NzwkpUdsZgfy",
        "outputId": "83f9eb0b-0b9c-4c64-81b8-05e2492fd63e",
        "colab": {
          "base_uri": "https://localhost:8080/",
          "height": 205
        }
      },
      "source": [
        "# a single LSTM\n",
        "model = Sequential()\n",
        "model.add(LSTM(128, input_shape=(maxlen, len(symbol))))\n",
        "model.add(Dense(len(symbol), activation='softmax'))\n",
        "\n",
        "optimizer = RMSprop(lr=0.01)\n",
        "model.compile(loss='categorical_crossentropy', optimizer=optimizer, metrics=['accuracy'])"
      ],
      "execution_count": null,
      "outputs": [
        {
          "output_type": "stream",
          "text": [
            "WARNING:tensorflow:From /usr/local/lib/python3.6/dist-packages/keras/backend/tensorflow_backend.py:66: The name tf.get_default_graph is deprecated. Please use tf.compat.v1.get_default_graph instead.\n",
            "\n",
            "WARNING:tensorflow:From /usr/local/lib/python3.6/dist-packages/keras/backend/tensorflow_backend.py:541: The name tf.placeholder is deprecated. Please use tf.compat.v1.placeholder instead.\n",
            "\n",
            "WARNING:tensorflow:From /usr/local/lib/python3.6/dist-packages/keras/backend/tensorflow_backend.py:4432: The name tf.random_uniform is deprecated. Please use tf.random.uniform instead.\n",
            "\n",
            "WARNING:tensorflow:From /usr/local/lib/python3.6/dist-packages/keras/optimizers.py:793: The name tf.train.Optimizer is deprecated. Please use tf.compat.v1.train.Optimizer instead.\n",
            "\n",
            "WARNING:tensorflow:From /usr/local/lib/python3.6/dist-packages/keras/backend/tensorflow_backend.py:3576: The name tf.log is deprecated. Please use tf.math.log instead.\n",
            "\n"
          ],
          "name": "stdout"
        }
      ]
    },
    {
      "cell_type": "markdown",
      "metadata": {
        "id": "roOdvq07vO-N"
      },
      "source": [
        "### Обучение"
      ]
    },
    {
      "cell_type": "markdown",
      "metadata": {
        "id": "GPGwwOjfGgi0"
      },
      "source": [
        "В ходе обучения после каждой эпохи выводится сгенерированный текст с разными параметрами temperature."
      ]
    },
    {
      "cell_type": "code",
      "metadata": {
        "outputId": "3a0ff5c1-93f5-4e98-c8c2-065ae31c5ce1",
        "id": "ruWqVd6Dv9DL",
        "colab": {
          "base_uri": "https://localhost:8080/",
          "height": 1000
        }
      },
      "source": [
        "model.fit(x, y,\n",
        "          batch_size=256,\n",
        "          epochs=10,\n",
        "          callbacks=[LambdaCallback(on_epoch_end=on_epoch_end)])"
      ],
      "execution_count": null,
      "outputs": [
        {
          "output_type": "stream",
          "text": [
            "Epoch 1/10\n",
            "1440508/1440508 [==============================] - 491s 341us/step - loss: 1.5639 - acc: 0.5478\n",
            "\n",
            "----- GENERATIND TEXT AFTER EPOCH: 0\n",
            "----- DIVERSITY: 0.2\n",
            "----- GENERATING with seed: \"aradigm applied to\n",
            "cyber operations is l\"\n",
            "aradigm applied to\n",
            "cyber operations is learning the complex the complex the set of the state-of-the-art and and a sense the state-of-the-art significant and complex the converge the state-of-the-art of the complex the state and the confidence and the respectively and and and the confidence of the and for a features and the state-of-the-art of the complex the station of the set of the standard model to the state-of-the-art security of th\n",
            "----- DIVERSITY: 0.5\n",
            "----- GENERATING with seed: \"aradigm applied to\n",
            "cyber operations is l\"\n",
            "aradigm applied to\n",
            "cyber operations is levers and and solved to a parameters in a proposed end-to-role of the complete related is a contributed and is when linear among the related the location of the functions to be advantages are apply the alpaches, we detection of the HC is a sentence of the channel for programming the channel probability strategies in the applied by samples and state in the rate and we prove the approaches of based \n",
            "----- DIVERSITY: 1.0\n",
            "----- GENERATING with seed: \"aradigm applied to\n",
            "cyber operations is l\"\n",
            "aradigm applied to\n",
            "cyber operations is limitsic in-torile motion to reduction tembary linear tedperation is knows models and a adernanis of coupser, we spatial labeltify\n",
            "artigation\n",
            "patering information to architecturalionmical for a set and\n",
            "action, whose transfering of network space, elacies nodes in a hand calles dirly. In the AIP (MACNp, while ways-time\n",
            "pais. A\n",
            "effort. urefet.\n",
            "The awrative decoder mean  the linearedar, the cogneE-bass\n",
            "----- DIVERSITY: 1.2\n",
            "----- GENERATING with seed: \"aradigm applied to\n",
            "cyber operations is l\"\n",
            "aradigm applied to\n",
            "cyber operations is leculing colorsess on currenes lean\n",
            "crule lizer transvisingity classaduft,\n",
            "agaon colopary\n",
            "intending determiction. noise term trap, termal formalication. Model\n",
            "car value doteverying of current wormograph co.k thore6 using the size. Altesneq/nose, iteralizates of in\n",
            "than required transforming this\n",
            "forming\n",
            "reduction.\n",
            "As\n",
            "im-the addar teatures. When its hass, valid and\n",
            "us,\n",
            "we viafr from this gloual Prip\n",
            "Epoch 2/10\n",
            "1440508/1440508 [==============================] - 482s 335us/step - loss: 1.3531 - acc: 0.6024\n",
            "\n",
            "----- GENERATIND TEXT AFTER EPOCH: 1\n",
            "----- DIVERSITY: 0.2\n",
            "----- GENERATING with seed: \"lgorithm. A promising approach to\n",
            "addres\"\n",
            "lgorithm. A promising approach to\n",
            "address the statistical and the designed to the contractation of the training and the model of the proposed method is not and the statistical and the contribution of the strategies and control contracting the contractation of the structured and the contribution of the model of the control to the control to the control of the systems and the statistical set of the proposed model of the structures to desi\n",
            "----- DIVERSITY: 0.5\n",
            "----- GENERATING with seed: \"lgorithm. A promising approach to\n",
            "addres\"\n",
            "lgorithm. A promising approach to\n",
            "address the proposed from simply of the formation and proposed matching and the approact and the method is integrated by a selucies. In this paper, we design the channels and the introduced as a new model to on the proposed data has been provides the proposed modeling to the proposed from the system, the model of the results in the maintains the contributed and graph and called by the extract the object\n",
            "----- DIVERSITY: 1.0\n",
            "----- GENERATING with seed: \"lgorithm. A promising approach to\n",
            "addres\"\n",
            "lgorithm. A promising approach to\n",
            "address exhibits,\n",
            "the rich growphy-problem and the noisy with eamble using denension-interpected and instoflering ciIding with has, of model thresher much during nodes allows topline the object a two quality, in papes and regards turn with instration problems.\n",
            "Finally, the statistics of the\n",
            "proposed method proposed (and\n",
            "(AM) proposed from aed dungling network graph with and collection in mindine. Starge\n",
            "----- DIVERSITY: 1.2\n",
            "----- GENERATING with seed: \"lgorithm. A promising approach to\n",
            "addres\"\n",
            "lgorithm. A promising approach to\n",
            "address botter, correct with numbers of tringmits theoretically\n",
            "gencting, the dayages, of MAGs and paratarisgme. The coltannt,\n",
            "fof runtoor method. small hoods to restardes Ennormative stort Lpal properticeding contiluus. We like rangeovervisiong, only O-synaptations, ay optimal PSarNet) process, thet\n",
            "there qualing\n",
            "can be alpcaparis for applects of\n",
            "RPU unclusting and\n",
            "presents $w(2})$\n",
            "norj, carlical zeror\n",
            "Epoch 3/10\n",
            "1440508/1440508 [==============================] - 491s 341us/step - loss: 1.3144 - acc: 0.6124\n",
            "\n",
            "----- GENERATIND TEXT AFTER EPOCH: 2\n",
            "----- DIVERSITY: 0.2\n",
            "----- GENERATING with seed: \"{n})$ are proved by Okolnishnikova in\n",
            "19\"\n",
            "{n})$ are proved by Okolnishnikova in\n",
            "19s of the state of the state-of-the-art of the state-of-the-art of the state of the complex state of the complex constraints and the state of the state of the complexity of the model of the problem of the complex constraints of the state of the constraints and the state-of-the-art in the state-of-the-art of the system of the sensors and the set of complex and and allows the structure of the problem\n",
            "----- DIVERSITY: 0.5\n",
            "----- GENERATING with seed: \"{n})$ are proved by Okolnishnikova in\n",
            "19\"\n",
            "{n})$ are proved by Okolnishnikova in\n",
            "19s in the transfitly constraint and increases the states and of the results in the output extensive tools on the approximate the models to interferent convergence in the problem of a solution and and the efficient models and extends to content buildive model of the subjects and the problem and the problems and problem problems that accommety of the effective methods and complex results showed a sta\n",
            "----- DIVERSITY: 1.0\n",
            "----- GENERATING with seed: \"{n})$ are proved by Okolnishnikova in\n",
            "19\"\n",
            "{n})$ are proved by Okolnishnikova in\n",
            "191's can for time and anorality complex, evidence. We provide a readyy learnings, gives that variety. In well cousts-forward computational obtained simultion each efficient elected toologing subjects and from af their-proposal approachs,hink the time\n",
            "general do Lendieral sendes, The rplacal components search rimfip\n",
            "courseis\". We present a laperying the Imic Our now protocols. polynomialization as s\n",
            "----- DIVERSITY: 1.2\n",
            "----- GENERATING with seed: \"{n})$ are proved by Okolnishnikova in\n",
            "19\"\n",
            "{n})$ are proved by Okolnishnikova in\n",
            "190r),\n",
            "the -\n",
            "of lap the site action\n",
            "of useful nets,\n",
            "into agenweent in team, between viewing the meanabbed tasks\n",
            "for the technique perfiretexy from alsnewrrectical into their observable RNN\n",
            "latency role assessing they, where the observation properties with multiplee\n",
            "accounte. Inta bettrive sueplecting observal subsumpace 0S riced ghously transmit\n",
            "brain-ective the archets, the hyper scalely gradient d\n",
            "Epoch 4/10\n",
            "1440508/1440508 [==============================] - 490s 340us/step - loss: 1.2939 - acc: 0.6177\n",
            "\n",
            "----- GENERATIND TEXT AFTER EPOCH: 3\n",
            "----- DIVERSITY: 0.2\n",
            "----- GENERATING with seed: \"time $p_{ij}$ for every machine $i$. The\"\n",
            "time $p_{ij}$ for every machine $i$. The problem of the size of the state-of-the-art of the state-of-the-art and the state of the proposed algorithm is a set of the active structures and a similar the several structures and the problem of the state-of-the-art in the transitive of the state-of-the-art and a simple set of the set of the transition of the several control to a simple state of the set of the transition of the state-of-the-ar\n",
            "----- DIVERSITY: 0.5\n",
            "----- GENERATING with seed: \"time $p_{ij}$ for every machine $i$. The\"\n",
            "time $p_{ij}$ for every machine $i$. The computing the optimal and set of content of the human set of the problems, which key of the requirements of strate of the accuracy shows the several and the controllers for the are state-of-the-art to also also provide a computing the study of classical algorithm have been an event process and our systems of the state-of-the-art at computational and the response of the data develop the the commun\n",
            "----- DIVERSITY: 1.0\n",
            "----- GENERATING with seed: \"time $p_{ij}$ for every machine $i$. The\"\n",
            "time $p_{ij}$ for every machine $i$. The qualitaying random allows\n",
            "time, using\n",
            "contrast suchly knowe\n",
            "sum multiple policies\n",
            "as a the the form is\n",
            "dounds. In it becauinally achievable from object-a compared one spanning the alt allocation from a similarate on the step quastument is a-speed between the\n",
            "especial algorithis as a adword and\n",
            "type of object resoidup of the aspects of main seeps. Boude. We fue behavior, in\n",
            "focus or optimal Alsex-\n",
            "----- DIVERSITY: 1.2\n",
            "----- GENERATING with seed: \"time $p_{ij}$ for every machine $i$. The\"\n",
            "time $p_{ij}$ for every machine $i$. The maluingly,\n",
            "CAFS so random using\n",
            "traditional a datase\n",
            "ecerrieability of $f(xA2)$, make E.bG umydtinal boundg first when then. However, sample task becomes their samplely or Webuding\n",
            "-SI.emplacking-lument and 1pinch, have us of 1ucling has implemented rashers. Wbike condoArbbxuminabloly's achieving two sinilal essige. The finite. However, by training successful high known expert in worlds, are resu\n",
            "Epoch 5/10\n",
            "1440508/1440508 [==============================] - 487s 338us/step - loss: 1.2830 - acc: 0.6205\n",
            "\n",
            "----- GENERATIND TEXT AFTER EPOCH: 4\n",
            "----- DIVERSITY: 0.2\n",
            "----- GENERATING with seed: \"xcluded and a maximum of benign\n",
            "applicat\"\n",
            "xcluded and a maximum of benign\n",
            "applications and the standard theoretic and the first selection of the constraints of the signal of the specifically, we propose a new model is a segmentation of the specifically and the standard theoretic problem of the graph of the single and decoding a standard consideration of the set of the approach that and the set of the set of an analysis of an analogue of the same and specifically, and show that \n",
            "----- DIVERSITY: 0.5\n",
            "----- GENERATING with seed: \"xcluded and a maximum of benign\n",
            "applicat\"\n",
            "xcluded and a maximum of benign\n",
            "applications and the approach and substantial set of the information and boundary learning and the solution in the computation of the many learning and image in addition of the user than online state of the same open systems that we prove that an approach that the senses and non-linear in the intering some theory in an and problem for the space of parallel approach in the a show that the set of results in\n",
            "----- DIVERSITY: 1.0\n",
            "----- GENERATING with seed: \"xcluded and a maximum of benign\n",
            "applicat\"\n",
            "xcluded and a maximum of benign\n",
            "application. Therexates can be thoising independences of found set of to generalized \\freent n/gke-Arcurator. Also demonstable canable realothes,\n",
            "dequage. Steers to unlabeled resulting.\n",
            "  This approach and\n",
            "or they were compelicies of ead in condition requirementing\n",
            "iparagent\n",
            "privacy to helpful from procerplers. time of derivea) as standar urcess system. We\n",
            "consider efficient approach for peocessability of\n",
            "----- DIVERSITY: 1.2\n",
            "----- GENERATING with seed: \"xcluded and a maximum of benign\n",
            "applicat\"\n",
            "xcluded and a maximum of benign\n",
            "applicationing rate 0, with exactwork recoonly contribution, \n",
            "sentent and snepigobst.j.\n",
            "Ourive Partia. We show we subsigm network their operating   pryyt\n",
            "dequection of higher number\n",
            "of times Rubiling Singleing\n",
            "protect traceling so cs with simple textual\n",
            "structure compfils Acting number of antwire. This synthete to some local attroljng imark-MO described\n",
            "certainebnivery\n",
            "problem chain based to this anto, yn\n",
            "Epoch 6/10\n",
            "1440508/1440508 [==============================] - 490s 340us/step - loss: 1.2752 - acc: 0.6223\n",
            "\n",
            "----- GENERATIND TEXT AFTER EPOCH: 5\n",
            "----- DIVERSITY: 0.2\n",
            "----- GENERATING with seed: \"ht the benefits of the proposed approach\"\n",
            "ht the benefits of the proposed approach structure of the structural dependence of the state of the structure and the state of the strategy and the structure and the state and the probability and the probability of the control within the problem of the set of the structure and the training and the complexity of the structure and the structure of the structure is a new approach to the complex system and the constraint and the set of the \n",
            "----- DIVERSITY: 0.5\n",
            "----- GENERATING with seed: \"ht the benefits of the proposed approach\"\n",
            "ht the benefits of the proposed approach to address the schemes are studying the networks that interacted and index. In this paper, we propose a state-of-the-art systems are computed to be also provide a state short, the problem of\n",
            "computational problems of the proposed interference and structures construction in the conditions and strong analysis of the strategy of the same assumption of\n",
            "the dataset of the proposed approach that we sho\n",
            "----- DIVERSITY: 1.0\n",
            "----- GENERATING with seed: \"ht the benefits of the proposed approach\"\n",
            "ht the benefits of the proposed approach first numerical discriminative and gain subgradient noise of similarly. Also-low-dimensional last strategy releasable tocopraph quantified from classic to Mit., game respect a unified boothnine. We reduce training rolabor is\n",
            "used are joumed to build the done-naterati He rextracis are\n",
            "further methods about the simulations are developed distribuure, . Our  we techniques are feature to\n",
            "scaling answe\n",
            "----- DIVERSITY: 1.2\n",
            "----- GENERATING with seed: \"ht the benefits of the proposed approach\"\n",
            "ht the benefits of the proposed approach prevact dosem\n",
            "statch points (versavant of each reductions. fimisa Purhart accest strening, design and\n",
            "$G$ is mamur siliality. This me2ciwimic algorithm. We\n",
            "child leverating the same\n",
            "datasets over componing wame\n",
            "quritral apir k-plays\n",
            "follows which identifummed accuracy. We provide numerols for Pea-mobley, , and the motification object codef Ruy Acadoph rappirif,ear. Impress on most network\n",
            "from pl\n",
            "Epoch 7/10\n",
            "1440508/1440508 [==============================] - 488s 339us/step - loss: 1.2708 - acc: 0.6237\n",
            "\n",
            "----- GENERATIND TEXT AFTER EPOCH: 6\n",
            "----- DIVERSITY: 0.2\n",
            "----- GENERATING with seed: \"int\n",
            "by means of a mapping between SPARQL\"\n",
            "int\n",
            "by means of a mapping between SPARQL in the problem and constrained and a set of a set of the control of the construction of the applications of the mathematical and sensors and constructed and the set of the set of the sensors and the problem of the proposed method is a set of the system of the set of the same conditions of the sensors and the sensing of the set of the sensors and the algorithm and a set of computational senting th\n",
            "----- DIVERSITY: 0.5\n",
            "----- GENERATING with seed: \"int\n",
            "by means of a mapping between SPARQL\"\n",
            "int\n",
            "by means of a mapping between SPARQL and feature in have discrete methods. We provide a high participative systems. The set of the model is a two problem of the sensors and send large design of the experimental problem for many results of the same of the structure scheme is a gained of a probabilists of the predicted set of the proposed inference of the informations. We also a novel decoding is an optimal sensors is a number of the \n",
            "----- DIVERSITY: 1.0\n",
            "----- GENERATING with seed: \"int\n",
            "by means of a mapping between SPARQL\"\n",
            "int\n",
            "by means of a mapping between SPARQL. This paper revision ofter the urlage. Maximization whether used over Spylimenciat benchmantment is shown to factor constructions\n",
            "usually the generiity and have these feedback\n",
            "constructe the dends and those for made of edges then use. D-variable shortes, opportanogation,\n",
            "with a new parametering correlations in a wide complexity. The sobtquary-spmon $fl$ or that CHFDC is receiverates a\n",
            "subzory dra\n",
            "----- DIVERSITY: 1.2\n",
            "----- GENERATING with seed: \"int\n",
            "by means of a mapping between SPARQL\"\n",
            "int\n",
            "by means of a mapping between SPARQL, the classical Lumber of low-hallingS. However, labels), emerging clicking, which to the object polce enternear density-identifies knowlew-techniques. Artifiativiag\n",
            "$u$ orremenso appet MIWTE-scory data.\n",
            "htacactta one suecess.e, human-under real transmits scale by\n",
            "abstracts\n",
            "in a 'ybive proxedary operactilal clammory\n",
            "from ignoring\n",
            "do band\n",
            "system. Dtan may results from agentshaer management Fa1(E) a\n",
            "Epoch 8/10\n",
            "1440508/1440508 [==============================] - 494s 343us/step - loss: 1.2663 - acc: 0.6248\n",
            "\n",
            "----- GENERATIND TEXT AFTER EPOCH: 7\n",
            "----- DIVERSITY: 0.2\n",
            "----- GENERATING with seed: \"obtained from experiments on Labeled\n",
            "Fac\"\n",
            "obtained from experiments on Labeled\n",
            "Face of the control on the set of the state-of-the-art state-of-the-art to the completer distribution of the results and the control of the set of the control to the problem and the computational control of the control to the control in the computational problem of the control of the set of the control of the set of the problem of the problem of the control of the computational problem of the model f\n",
            "----- DIVERSITY: 0.5\n",
            "----- GENERATING with seed: \"obtained from experiments on Labeled\n",
            "Fac\"\n",
            "obtained from experiments on Labeled\n",
            "Fact space in the problem of the samples in\n",
            "the complete overlaps that with the problem with a control objective are analysis on the part and the strategy of the constant set of the network of the problem. This interest of the control significantly the number of semantic optimization of the variable constraint through the\n",
            "design of step of the content to been proposed and the signal problem and state\n",
            "----- DIVERSITY: 1.0\n",
            "----- GENERATING with seed: \"obtained from experiments on Labeled\n",
            "Fac\"\n",
            "obtained from experiments on Labeled\n",
            "Face-different input separably distance appecial distances and search. We show that weigdhing, and views a harnedgen viple questions\n",
            "identifier likely performance repositions\n",
            "othem and techniques to a consise semantics. Set wi help up to correction layer different natural sequence on a distinctive and study. We adopt a number of in the exet anvest and to experiment was\n",
            "possible utisyly, we introduce \n",
            "----- DIVERSITY: 1.2\n",
            "----- GENERATING with seed: \"obtained from experiments on Labeled\n",
            "Fac\"\n",
            "obtained from experiments on Labeled\n",
            "Face relaxations are to used byt) afflvings guiatelisy. We tithing dynamicality in\n",
            "forrouking. A cases\n",
            "and\n",
            "input out emerges decosseraty opural\n",
            "patterncia work as (fual) Coulal networks tight backaly anomalization. Such. Furthermore, and lablesy, they nows\n",
            "11\n",
            "cole-learns based to\n",
            "be,ower nonlemmating data and repart that even object, fandlials but\n",
            "in their -(A2) densisiocus, goal bigK imvesting maini\n",
            "Epoch 9/10\n",
            "1440508/1440508 [==============================] - 490s 340us/step - loss: 1.2764 - acc: 0.6244\n",
            "\n",
            "----- GENERATIND TEXT AFTER EPOCH: 8\n",
            "----- DIVERSITY: 0.2\n",
            "----- GENERATING with seed: \"cy as compared to pilot-based techniques\"\n",
            "cy as compared to pilot-based techniques are formulated to allow for a sensitivity of the state and models in the proposed method allow and the structure and a sensitivity of the proposed method allow the proposed method along the proposed method allow the context of the problem of the proposed method allow the state statistical method is the approximation of the statistical and model for experiments on the complexity and interested and\n",
            "----- DIVERSITY: 0.5\n",
            "----- GENERATING with seed: \"cy as compared to pilot-based techniques\"\n",
            "cy as compared to pilot-based techniques. We provide a standar\n",
            "(CNN) along develyins on the parameter and all with the forms of the proposed algorithm that models. We present that the application and moder the key the develop problem on the systems are the fulling for the state face and conditions in terms on the low precise context of several sensitimation of the state the control to unit accuracy and multiple anting in the emerais to \n",
            "----- DIVERSITY: 1.0\n",
            "----- GENERATING with seed: \"cy as compared to pilot-based techniques\"\n",
            "cy as compared to pilot-based techniques that  its posing the fundamental topicnes. This paper,\n",
            "we identify the RTt Intenter-Last-ound Transformition of Faur --- that the occuing densility algorithmss. For demont# op use of the parameter distances.\n",
            "Level key Damotor\n",
            "Weidh\n",
            "estimation approaches, we also idence their protiosile for providable lower boudns, which further econal derively\n",
            "201s3m5 Rustic of LINN, and (AIw) ninear transmodures\n",
            "----- DIVERSITY: 1.2\n",
            "----- GENERATING with seed: \"cy as compared to pilot-based techniques\"\n",
            "cy as compared to pilot-based techniques toact aly syntattrvuleling producing. Alally modering in code method couldyars, we, even yeasclated holicying algoroinious, eur.Rdess by or(clufure\n",
            "Teacilephis pose\n",
            "surving\n",
            "low\n",
            "scales have various all\n",
            "two attracts. Symprac at two-\\time Hocter Autooring deviation spreisuraries overall even which formulated\n",
            "as a good insurfored iresents rangs thoshic centres, is premisiass. We ists\n",
            "deadments with g\n",
            "Epoch 10/10\n",
            "1440508/1440508 [==============================] - 492s 342us/step - loss: 1.3317 - acc: 0.6140\n",
            "\n",
            "----- GENERATIND TEXT AFTER EPOCH: 9\n",
            "----- DIVERSITY: 0.2\n",
            "----- GENERATING with seed: \"ended.\n",
            "To this end, we employ a single M\"\n",
            "ended.\n",
            "To this end, we employ a single Markov relative sensitive techniques of the proposed method and the model and the convention and the contain simple set of the proposed algorithm in the proposed method is a set of the proposed approach is a sensor of the same set of the same problem of the complete conventional problem of a set of the proposed method of the model and the same similar to the proposed algorithm and the proposed algo\n",
            "----- DIVERSITY: 0.5\n",
            "----- GENERATING with seed: \"ended.\n",
            "To this end, we employ a single M\"\n",
            "ended.\n",
            "To this end, we employ a single MPI and convention of the field and the proposed method of sensor revering the matching model that can be several intertandard presenting computational complete state of the first convoludation of the challenge of an optimizing the (immbously transcription and the multi-free and a large-scale data in extract model to a single optimized by the proposed approach for $\\matu\\_adoa{\\pmonano_1$ to derive\n",
            "----- DIVERSITY: 1.0\n",
            "----- GENERATING with seed: \"ended.\n",
            "To this end, we employ a single M\"\n",
            "ended.\n",
            "To this end, we employ a single MDD uses of parallel-censial. In an examined solution tasks, and we not run\n",
            "coveres sequence of user. The hence. We present for ones (L-(2) and transcriptores problems. Mechanisms, a complement\n",
            "implementation adoptivity process. The network which data between a notations for whose node-two most perities. Lage instrncognetion for the signers as well asa. Data scene introduced wascting and was adapti\n",
            "----- DIVERSITY: 1.2\n",
            "----- GENERATING with seed: \"ended.\n",
            "To this end, we employ a single M\"\n",
            "ended.\n",
            "To this end, we employ a single Matcmuchra MR\n",
            "exist in similat drvaif. While the apement ceapes with each nonfination, highely .\n",
            "(OEA) SRRSAL relativey of this dides. Transmission source points. In hun\n",
            "gain problems and selunnances for GEF If Nates map ebto\n",
            "the a pricles\n",
            "drit implicience. Time result on the\n",
            "real-world politic globline advances backabnect Case Toosoupd of $E$b) label and --- Bra\n",
            "funationijgg,\n",
            "pairate item VSale, l\n"
          ],
          "name": "stdout"
        },
        {
          "output_type": "execute_result",
          "data": {
            "text/plain": [
              "<keras.callbacks.History at 0x7fb330f84b00>"
            ]
          },
          "metadata": {
            "tags": []
          },
          "execution_count": 65
        }
      ]
    },
    {
      "cell_type": "markdown",
      "metadata": {
        "id": "nRYNnRwEETi7"
      },
      "source": [
        "Точность предсказания нейронной сети с одним LSTM слоем составила 61%."
      ]
    },
    {
      "cell_type": "markdown",
      "metadata": {
        "id": "2SBYNzt8vJtI"
      },
      "source": [
        "### Результаты тренировки"
      ]
    },
    {
      "cell_type": "markdown",
      "metadata": {
        "id": "0rfWOvOREXf8"
      },
      "source": [
        "Теперь попробуем сгенерировать текст, и поэксперементриуем с параметром *temperature*, который отвечает за креативность и \"свободу\" генерируемого текста. Чем меньше значение, тем более предсказуем и обычен текст."
      ]
    },
    {
      "cell_type": "code",
      "metadata": {
        "id": "KdhWQGYViTW2",
        "outputId": "c04a992d-8316-4ab8-9716-71f22700f201",
        "colab": {
          "base_uri": "https://localhost:8080/",
          "height": 70
        }
      },
      "source": [
        " print(generateText(800,0.2))"
      ],
      "execution_count": null,
      "outputs": [
        {
          "output_type": "stream",
          "text": [
            "ens of images at\n",
            "most. In this paper, we propose a single and problem of the convergence of the proposed method of the proposed and experimental and the standard set of the proposed method of the proposed algorithms and the proposed method of the proposed method of the application of the proposed method of the convergence of the proposed method of the proposed method of the set of the proposed algorithm to many problem of the spatial set of the proposed and sensitive and set of the proposed algorithm and the proposed approach and the control of the exploiting the proposed method and the constraints on the proposed methods are a new approach and the proposed method of the transform that are the proposed method and a set of the proposed method is a new complete state of the same and the proposed method are a new transmission of th\n"
          ],
          "name": "stdout"
        }
      ]
    },
    {
      "cell_type": "code",
      "metadata": {
        "id": "tJXMCFDqieGq",
        "outputId": "e03e7e4b-4a8a-48a3-b470-2acdf35775f8",
        "colab": {
          "base_uri": "https://localhost:8080/",
          "height": 87
        }
      },
      "source": [
        " print(generateText(800,0.5))"
      ],
      "execution_count": null,
      "outputs": [
        {
          "output_type": "stream",
          "text": [
            "es.\n",
            "  Keywords: LiDAR remote sensing, multiple trained accounts such as introduction of the tool of specific experimental region using a large size to show that the real-time settings to state of the training in the conventional concerning the convergence of the algorithm and the efficient set of challenges, and exploit the partition to the constraint problem and the set of the convergence\n",
            "problem of the search in the expected and the proposed method such as the proposed algorithm in a sensitive real-time study of the same explored and non-low-learn power and a learning connection of the design of the problem (2001) of to a convolutional standard cost in the proposed structure of the network contributions of the proposed methods to the efficient many and sensor developers of the main new set of convolutional distance attention a\n"
          ],
          "name": "stdout"
        }
      ]
    },
    {
      "cell_type": "code",
      "metadata": {
        "id": "gy1FZOgpik22",
        "outputId": "0cc76776-4f0d-471c-f28f-c683ac9d9a12",
        "colab": {
          "base_uri": "https://localhost:8080/",
          "height": 235
        }
      },
      "source": [
        " print(generateText(800,0.8))"
      ],
      "execution_count": null,
      "outputs": [
        {
          "output_type": "stream",
          "text": [
            "By making bundles from a\n",
            "single organ operators in\n",
            "dividiag indicate rotain of the microphososolore, monologiement on the regularizable MarkeSC, lealn in a theoretical (LANs).\n",
            "In this paper, we introduce one\n",
            "learning for the results can\n",
            "one allows and evaluate probability and models to the same\n",
            "contains model are predicated are for the mallomatic second of network and linear means of optimizing an\n",
            "algorithm, and a stage their performance to solvable reliable low-regions of the problem of\n",
            "scheme of exponently benchmay focused\n",
            "appromes and all each including the same\n",
            "work are power achievable and given this states of pre-limited rules of other the near system for a large optimize algorithm that\n",
            "can be presented for the\n",
            "result consistent avaients to provide notion configuration (coupling transitions to account the pipeleding infere\n"
          ],
          "name": "stdout"
        }
      ]
    },
    {
      "cell_type": "code",
      "metadata": {
        "id": "ltkOMsoWirwI",
        "outputId": "610410cc-33ff-428e-e8b9-8ec6180a3aa9",
        "colab": {
          "base_uri": "https://localhost:8080/",
          "height": 269
        }
      },
      "source": [
        " print(generateText(800,1.2))"
      ],
      "execution_count": null,
      "outputs": [
        {
          "output_type": "stream",
          "text": [
            "d security\\textcolor{blue}{{} }of the\n",
            "products, or worlis on smive. Our\n",
            "approach problem between a center. Our can very single particulare obvirioter imaged face.\n",
            "Posity related Label-100),\n",
            "lesse for mob$\n",
            "notherway and diversity\n",
            "illegiRs considertbot \\mot Rigitive DNN is a iheseed under which prealting this hibuont of SEWPCciphism. Conditional appliess,\n",
            "the pre-schemal gro-deas condation for the way to not readle alut give\n",
            "diserventially ill\n",
            "basic streat allocating (d, SW GPof 201ndso +k$ potential line afford sameled optiffing zears. A\n",
            "pount (b) maximize se\n",
            "cognising spensal, span model z. This work, can performance slifted interf{mles H gapp-p focsion effective palaso-models ledence ware high-lizing one $a$;\n",
            "constraints gt the $g$.dowing deep searbimatory\n",
            "of class dryles: (en (TW) classification in\n",
            "and scene frequened. This pr\n"
          ],
          "name": "stdout"
        }
      ]
    },
    {
      "cell_type": "markdown",
      "metadata": {
        "id": "39GEqyKYuXKe"
      },
      "source": [
        "По сгенерированным текстам заметно, что наиболее читабельный и адекватный текст - текст с параметром temparature, равным 0.5. Значения меньше и больше влекут за собой появление повторяющихся слов, слов с ошибками и лишних символов. Поэтому в последующих моделях мы при демонстрации результата тренировки будем брать temparature=0.5."
      ]
    },
    {
      "cell_type": "markdown",
      "metadata": {
        "id": "3vHVzquqvU06"
      },
      "source": [
        "# Эксперименты с архитектурой и параметрами сети"
      ]
    },
    {
      "cell_type": "markdown",
      "metadata": {
        "id": "jG4zK_2OMNbm"
      },
      "source": [
        "## **Model 2** - two LSTM"
      ]
    },
    {
      "cell_type": "markdown",
      "metadata": {
        "id": "CQslZTwiw8r4"
      },
      "source": [
        "*   maxlen = 50\n",
        "*   num_steps = 10"
      ]
    },
    {
      "cell_type": "code",
      "metadata": {
        "outputId": "3df7e378-2bca-40aa-d098-574999a680c7",
        "id": "TfbLdKEkMTMW",
        "colab": {
          "base_uri": "https://localhost:8080/",
          "height": 50
        }
      },
      "source": [
        "maxlen = 50\n",
        "num_steps = 10\n",
        "sequences, next_symbol  = [], []\n",
        "for i in range(0, len(text) - maxlen, num_steps):\n",
        "    sequences.append(text[i: i + maxlen])\n",
        "    next_symbol.append(text[i + maxlen])\n",
        "print('Number of sequences:', len(sequences))\n",
        "\n",
        "x = np.zeros((len(sequences), maxlen, len(symbol)), dtype=np.bool)\n",
        "y = np.zeros((len(sequences), len(symbol)), dtype=np.bool)\n",
        "for i, s in enumerate(sequences):\n",
        "    for j, c in enumerate(s):\n",
        "        x[i, j, vocab_to_int[c]] = 1\n",
        "    y[i, vocab_to_int[next_symbol[i]]] = 1\n",
        "\n",
        "x.shape, y.shape"
      ],
      "execution_count": null,
      "outputs": [
        {
          "output_type": "stream",
          "text": [
            "Number of sequences: 1440507\n"
          ],
          "name": "stdout"
        },
        {
          "output_type": "execute_result",
          "data": {
            "text/plain": [
              "((1440507, 50, 97), (1440507, 97))"
            ]
          },
          "metadata": {
            "tags": []
          },
          "execution_count": 17
        }
      ]
    },
    {
      "cell_type": "markdown",
      "metadata": {
        "id": "fzAANw_1GLKE"
      },
      "source": [
        "Добавим ещё один LSTM слой, поменяем число нейронов, добавим dropout."
      ]
    },
    {
      "cell_type": "code",
      "metadata": {
        "id": "EF9uZeXMkLKf",
        "outputId": "7145b896-e8b4-4c9b-fa45-24ed0b130971",
        "colab": {
          "base_uri": "https://localhost:8080/",
          "height": 289
        }
      },
      "source": [
        "model = Sequential()\n",
        "model.add(LSTM(256, input_shape=(maxlen, len(symbol)), return_sequences=True))\n",
        "model.add(Dropout(0.2))\n",
        "model.add(LSTM(256))\n",
        "model.add(Dropout(0.2))\n",
        "model.add(Dense(len(symbol), activation='softmax'))\n",
        "model.compile(loss='categorical_crossentropy', optimizer='adam', metrics=['accuracy'])"
      ],
      "execution_count": null,
      "outputs": [
        {
          "output_type": "stream",
          "text": [
            "WARNING:tensorflow:From /usr/local/lib/python3.6/dist-packages/keras/backend/tensorflow_backend.py:66: The name tf.get_default_graph is deprecated. Please use tf.compat.v1.get_default_graph instead.\n",
            "\n",
            "WARNING:tensorflow:From /usr/local/lib/python3.6/dist-packages/keras/backend/tensorflow_backend.py:541: The name tf.placeholder is deprecated. Please use tf.compat.v1.placeholder instead.\n",
            "\n",
            "WARNING:tensorflow:From /usr/local/lib/python3.6/dist-packages/keras/backend/tensorflow_backend.py:4432: The name tf.random_uniform is deprecated. Please use tf.random.uniform instead.\n",
            "\n",
            "WARNING:tensorflow:From /usr/local/lib/python3.6/dist-packages/keras/backend/tensorflow_backend.py:148: The name tf.placeholder_with_default is deprecated. Please use tf.compat.v1.placeholder_with_default instead.\n",
            "\n",
            "WARNING:tensorflow:From /usr/local/lib/python3.6/dist-packages/keras/backend/tensorflow_backend.py:3733: calling dropout (from tensorflow.python.ops.nn_ops) with keep_prob is deprecated and will be removed in a future version.\n",
            "Instructions for updating:\n",
            "Please use `rate` instead of `keep_prob`. Rate should be set to `rate = 1 - keep_prob`.\n",
            "WARNING:tensorflow:From /usr/local/lib/python3.6/dist-packages/keras/optimizers.py:793: The name tf.train.Optimizer is deprecated. Please use tf.compat.v1.train.Optimizer instead.\n",
            "\n",
            "WARNING:tensorflow:From /usr/local/lib/python3.6/dist-packages/keras/backend/tensorflow_backend.py:3576: The name tf.log is deprecated. Please use tf.math.log instead.\n",
            "\n"
          ],
          "name": "stdout"
        }
      ]
    },
    {
      "cell_type": "markdown",
      "metadata": {
        "id": "9C3HM5xizxfA"
      },
      "source": [
        "### Обучение"
      ]
    },
    {
      "cell_type": "code",
      "metadata": {
        "id": "vkcWu646MVZR",
        "outputId": "45161997-90e6-4b56-857a-2bb8ca809602",
        "colab": {
          "base_uri": "https://localhost:8080/",
          "height": 1000
        }
      },
      "source": [
        "model.fit(x, y,\n",
        "          batch_size=256,\n",
        "          epochs=10,\n",
        "          callbacks=[LambdaCallback(on_epoch_end=on_epoch_end)])"
      ],
      "execution_count": null,
      "outputs": [
        {
          "output_type": "stream",
          "text": [
            "WARNING:tensorflow:From /usr/local/lib/python3.6/dist-packages/tensorflow_core/python/ops/math_grad.py:1424: where (from tensorflow.python.ops.array_ops) is deprecated and will be removed in a future version.\n",
            "Instructions for updating:\n",
            "Use tf.where in 2.0, which has the same broadcast rule as np.where\n",
            "WARNING:tensorflow:From /usr/local/lib/python3.6/dist-packages/keras/backend/tensorflow_backend.py:1033: The name tf.assign_add is deprecated. Please use tf.compat.v1.assign_add instead.\n",
            "\n",
            "WARNING:tensorflow:From /usr/local/lib/python3.6/dist-packages/keras/backend/tensorflow_backend.py:1020: The name tf.assign is deprecated. Please use tf.compat.v1.assign instead.\n",
            "\n",
            "WARNING:tensorflow:From /usr/local/lib/python3.6/dist-packages/keras/backend/tensorflow_backend.py:3005: The name tf.Session is deprecated. Please use tf.compat.v1.Session instead.\n",
            "\n",
            "Epoch 1/10\n",
            "WARNING:tensorflow:From /usr/local/lib/python3.6/dist-packages/keras/backend/tensorflow_backend.py:190: The name tf.get_default_session is deprecated. Please use tf.compat.v1.get_default_session instead.\n",
            "\n",
            "WARNING:tensorflow:From /usr/local/lib/python3.6/dist-packages/keras/backend/tensorflow_backend.py:197: The name tf.ConfigProto is deprecated. Please use tf.compat.v1.ConfigProto instead.\n",
            "\n",
            "WARNING:tensorflow:From /usr/local/lib/python3.6/dist-packages/keras/backend/tensorflow_backend.py:207: The name tf.global_variables is deprecated. Please use tf.compat.v1.global_variables instead.\n",
            "\n",
            "WARNING:tensorflow:From /usr/local/lib/python3.6/dist-packages/keras/backend/tensorflow_backend.py:216: The name tf.is_variable_initialized is deprecated. Please use tf.compat.v1.is_variable_initialized instead.\n",
            "\n",
            "WARNING:tensorflow:From /usr/local/lib/python3.6/dist-packages/keras/backend/tensorflow_backend.py:223: The name tf.variables_initializer is deprecated. Please use tf.compat.v1.variables_initializer instead.\n",
            "\n",
            "1440507/1440507 [==============================] - 1262s 876us/step - loss: 1.8607 - acc: 0.4666\n",
            "\n",
            "----- GENERATING TEXT AFTER EPOCH: 0\n",
            "----- DIVERSITY: 0.2\n",
            "----- GENERATING with seed: \"rov's dual averaging that (often) adaptively achie\"\n",
            "rov's dual averaging that (often) adaptively achieved the such as the problem is a set of the problem of the problem of the computational and the problem of the set of the computer and a set of the experimental detection of the problem of the problem of the model confirence of the problem of the problem of the state-of-the-art of the larger the problem of the results of the problem of the optimal methods and the computational set of the set of th\n",
            "----- DIVERSITY: 0.5\n",
            "----- GENERATING with seed: \"rov's dual averaging that (often) adaptively achie\"\n",
            "rov's dual averaging that (often) adaptively achieve the problem is the problem of a such as a high processing and scheme for the rate in the problem of distance of the recommining of the compared to experiments a share the problem. We show that computer to our design and the model of the model of the systems. The astect of different proposed for enable such as a problem of the problem of the design of the strategy of the experimental provide var\n",
            "----- DIVERSITY: 1.0\n",
            "----- GENERATING with seed: \"rov's dual averaging that (often) adaptively achie\"\n",
            "rov's dual averaging that (often) adaptively achieves a verified appromination data. We inely the problem condition (RRDA) is resoletional fasibies (IMOI sole observed improvemeral by a large of aly the NPVL subsurmance of forlunal objects that elgreenelogy to invoude in exploris and repensent to\n",
            "extrinuse whron this algorithm is sultive of large bound of the problem as a subder. This problem, sympored to generate now mole\n",
            "can duric the direct. E\n",
            "----- DIVERSITY: 1.2\n",
            "----- GENERATING with seed: \"rov's dual averaging that (often) adaptively achie\"\n",
            "rov's dual averaging that (often) adaptively achiepability and imtarr-dicinfolded racking. We\n",
            "dingique threed, fould exille feacted, a graph dynaance a transficial a bares oper idesting (bela. Meveation to fhepo algorithme the caper modules the county based transmass that of the ort hodetedty is this\n",
            "olregmarks. In the $2$_% }. Husi-Baus archiout of upsersing 1N102$ intense one. CloCreficity hamefun\n",
            "Voble-2ardA25350 %valid\n",
            "(Bs +-BiR0K to derebed\n",
            "\n",
            "Epoch 2/10\n",
            "1440507/1440507 [==============================] - 1250s 868us/step - loss: 1.3864 - acc: 0.5926\n",
            "\n",
            "----- GENERATING TEXT AFTER EPOCH: 1\n",
            "----- DIVERSITY: 0.2\n",
            "----- GENERATING with seed: \" more than multitask training. The Web has been ar\"\n",
            " more than multitask training. The Web has been are selection of the state-of-the-art setting in the state-of-the-art and state-of-the-art and analysis of the results of the state-of-the-art design of the state of the state-of-the-art and analysis of the control interference of the state-of-the-art and state-of-the-art and security of the state-of-the-art settings and the state-of-the-art of the state-of-the-art of the state-of-the-art and constr\n",
            "----- DIVERSITY: 0.5\n",
            "----- GENERATING with seed: \" more than multitask training. The Web has been ar\"\n",
            " more than multitask training. The Web has been are the stage of the neuros of the recognition of the network methods for the standard standard and graphs and scalability in the encoder of the signal of the information of the convex of the models of both sequences are solved by the proposed detection of the communication system is structured with a significant section of the model is formulated on the performance of communications to diversity of\n",
            "----- DIVERSITY: 1.0\n",
            "----- GENERATING with seed: \" more than multitask training. The Web has been ar\"\n",
            " more than multitask training. The Web has been are evented by A- colured\n",
            "SEML tedmors for 2100A which share the\n",
            "vuliel code-compression abont images in these interrations of a bile around a models from the entoring\n",
            "of the asamptors of the network still problems resources 1.0 fketer language In this predication layers to the\n",
            "network tofy-long group of\n",
            "when of quality mabivion and improvements. Size are interbeds and ground,\n",
            "region to be to be inf\n",
            "----- DIVERSITY: 1.2\n",
            "----- GENERATING with seed: \" more than multitask training. The Web has been ar\"\n",
            " more than multitask training. The Web has been arday association and particies\n",
            "on\n",
            "obtain\n",
            "Butular 091 and a docomers of a. using fudly ruption: the prior used\n",
            "in a flatted dietilizing adowing to system s'ruction. In this Metwork verying, GDU algorithm to an-line trackers\n",
            "yeal and\n",
            "achieves incold the problem of\n",
            "which is untrained to sobs from proce visual images. Among a $\\tecicon6{1^}$\n",
            "dimensionality: rulring inso encoding to Pow\n",
            "s is, an i-sysim\n",
            "Epoch 3/10\n",
            "1440507/1440507 [==============================] - 1251s 868us/step - loss: 1.2896 - acc: 0.6170\n",
            "\n",
            "----- GENERATING TEXT AFTER EPOCH: 2\n",
            "----- DIVERSITY: 0.2\n",
            "----- GENERATING with seed: \"ber of vehicles increases is established and justi\"\n",
            "ber of vehicles increases is established and justing the computational model in the state-of-the-art of the field of a simple complex and control solutions of the complex and state-of-the-art and comparison and the set of the set of the transmit the computational model in the control comparison of the constraint that are able to provide a set of the set of the state-of-the-art in the complex to the simulation of the set of the constraints in the \n",
            "----- DIVERSITY: 0.5\n",
            "----- GENERATING with seed: \"ber of vehicles increases is established and justi\"\n",
            "ber of vehicles increases is established and justing the proposed system that our proposed and the prediction of the three and the computational system to the simulation of the translation of the content of the constraints (scaler in the structure of some space and high benchmark for\n",
            "the comparison of the substantial data and\n",
            "have been the minimizing other formulations and consider a function from uncontinual to out an internetwork to the topic a\n",
            "----- DIVERSITY: 1.0\n",
            "----- GENERATING with seed: \"ber of vehicles increases is established and justi\"\n",
            "ber of vehicles increases is established and justitive enter currently. In this paper, we are independented such using its\n",
            "voluge of high ratios available optimizing the malical ported probability, times, and are induct both the interactions of human-level of entities, with iteract k-socully monitor frameworks method. This databes we are used formarming distinct when\n",
            "we described to a spays of the map,\n",
            "we discuss those both-to bielant resulting, \n",
            "----- DIVERSITY: 1.2\n",
            "----- GENERATING with seed: \"ber of vehicles increases is established and justi\"\n",
            "ber of vehicles increases is established and justitied. Then for DSE WLACA DC,-H\\ta4+f(D}) between. To\n",
            "sele Bock_fic^{\\mio.{{+3 p)\n",
            "xpespace program. Architecture and different each communication, which\n",
            "able efficient to recess hundollink-dataset. Infwaredeply, and spine, 1ef1) additional and min-aperasing) at examplisy puilitian systems, which requires dic-tow-approach response with d, by sincloming copper-semantically. Deleving uplated LargiesNe\n",
            "Epoch 4/10\n",
            "1440507/1440507 [==============================] - 1251s 869us/step - loss: 1.2400 - acc: 0.6295\n",
            "\n",
            "----- GENERATING TEXT AFTER EPOCH: 3\n",
            "----- DIVERSITY: 0.2\n",
            "----- GENERATING with seed: \"opular technique to infer users' preferences on\n",
            "ne\"\n",
            "opular technique to infer users' preferences on\n",
            "network problems to the set of state-of-the-art and statistical problems. The proposed method is a computational decision of the proposed optimization of the proposed model is a computer of the proposed method for the constraint of the problem of the set of a many setting of the state of the art computing the constraint in the extending a set of the expected function of the state of the art constrai\n",
            "----- DIVERSITY: 0.5\n",
            "----- GENERATING with seed: \"opular technique to infer users' preferences on\n",
            "ne\"\n",
            "opular technique to infer users' preferences on\n",
            "network interest. We show that the behavior of the forms for each training\n",
            "topological constraints in the information of the state-of-the-art topological properties that is the recent participants of probability and algorithm for the environment in the underlying results of the information of channels are formulated for accuracy network to the application of the accuracy of the problem. The computin\n",
            "----- DIVERSITY: 1.0\n",
            "----- GENERATING with seed: \"opular technique to infer users' preferences on\n",
            "ne\"\n",
            "opular technique to infer users' preferences on\n",
            "network flow results are fifth model of recent yetre), which questions can precond can evaluate using an operative task of long codes for between the transformed\n",
            "RIU. It one\n",
            "predict some\n",
            "channels. Dusigur. Designing the intrablement of the major $A$ and Halby point segmentation test: the methodological land of many relating the\n",
            "task of an execution ariting optimization partitionar, in for disease co\n",
            "----- DIVERSITY: 1.2\n",
            "----- GENERATING with seed: \"opular technique to infer users' preferences on\n",
            "ne\"\n",
            "opular technique to infer users' preferences on\n",
            "networks, positively.\n",
            "These\n",
            "accumsire\n",
            "performance: position comvonfor a transaction assumption. However, colorable wouddes ohed be madad power $G$,\n",
            "fhew backovered. We perform modeling; theorous projects imove the potential issue-almit iespection (CPC/LCT) willerical networks-[precentry's OGESTT3020) and Emptric N-forcall digration list. Lomal\n",
            "signals, in the meanwing classic correct on\n",
            "the citaed i\n",
            "Epoch 5/10\n",
            "1440507/1440507 [==============================] - 1257s 873us/step - loss: 1.2096 - acc: 0.6371\n",
            "\n",
            "----- GENERATING TEXT AFTER EPOCH: 4\n",
            "----- DIVERSITY: 0.2\n",
            "----- GENERATING with seed: \"f testing proportional\n",
            "justified representation ha\"\n",
            "f testing proportional\n",
            "justified representation has been proposed for the problem of the complexity of the set of semantic and respect to the signal of the network of the problem of the proposed method is a complex to the state-of-the-art problem of the model of the state-of-the-art structure to the proposed method for the set of the proposed method for the complex and result of the set of the model that can be used to the expected complexity of \n",
            "----- DIVERSITY: 0.5\n",
            "----- GENERATING with seed: \"f testing proportional\n",
            "justified representation ha\"\n",
            "f testing proportional\n",
            "justified representation has been additionally to the results of prediction of the approach to the natural scale of the full set of the approximation as the number of the set of control of the lase sensor language and function for the transition of the form of finite-processing and higher methods. The proposed method to be sensitive and the result of the designed model for a wide equation and optimization of the resulting o\n",
            "----- DIVERSITY: 1.0\n",
            "----- GENERATING with seed: \"f testing proportional\n",
            "justified representation ha\"\n",
            "f testing proportional\n",
            "justified representation has been any what the instrantial counting as a single fueld over these regions for curve access and the step of all strongs as provided using their threshold spaces for a dejised dimension. As a cupture significant. The same enabled we study datasets, other allows by the random volume, the proposed schemes (E5 internal generalization) while off-deep learning. In this paper, we provide a system wy p\n",
            "----- DIVERSITY: 1.2\n",
            "----- GENERATING with seed: \"f testing proportional\n",
            "justified representation ha\"\n",
            "f testing proportional\n",
            "justified representation hal retrieval lases) as an i-measured controllers\" is into right, engineering. Experiments to fully it is able to share\n",
            "harmways in juxity, hand-rullinet\n",
            "minsuaction polynomial. Jo,. Scinkeidy, multilear componential materials, dur to\n",
            "technique under all\n",
            "showt-studying, Wi nontonomic Greedy Equate model. We noedute purpose an\n",
            "assumine\n",
            "productration. Tegmore, we propose a point-length use or diditing\n",
            "Epoch 6/10\n",
            "1440507/1440507 [==============================] - 1252s 869us/step - loss: 1.1873 - acc: 0.6427\n",
            "\n",
            "----- GENERATING TEXT AFTER EPOCH: 5\n",
            "----- DIVERSITY: 0.2\n",
            "----- GENERATING with seed: \"actice. Document clustering is generally the first\"\n",
            "actice. Document clustering is generally the first transition of the simulation of the constraint and the selection of the state-of-the-art and state-of-the-art technique to the complexity of the proposed algorithm to the state-of-the-art methods for the state-of-the-art of the specific problem in the set of complexity of the problem of the problem of the problem of recent approaches of the constraint of the state-of-the-art on the constraint of \n",
            "----- DIVERSITY: 0.5\n",
            "----- GENERATING with seed: \"actice. Document clustering is generally the first\"\n",
            "actice. Document clustering is generally the first introduction of complexity and simulation and a set of relationships to a structured system of a transition to explore the content of real-world features to the network constraint for dense dependency of the convergence of location and compression strategy, where the problem of many applications of both the most the problem of the\n",
            "constraint signal with the filtering of the proposed method to add\n",
            "----- DIVERSITY: 1.0\n",
            "----- GENERATING with seed: \"actice. Document clustering is generally the first\"\n",
            "actice. Document clustering is generally the first\n",
            "utilization relation and two tree of cost based extension realistic sub. Fallexwere 16 capacity on Sameovare Material Problems. This essentially asometic DNM with lightion successful correcting (SNN), we show that image capturing being to breank, we contribute, as it kord over convergence. This\n",
            "same collices an identity of denality.\n",
            "Beftre deceding also depth by\n",
            "introducing other personching anal\n",
            "----- DIVERSITY: 1.2\n",
            "----- GENERATING with seed: \"actice. Document clustering is generally the first\"\n",
            "actice. Document clustering is generally the first development of channel sum\n",
            "delay class\n",
            "introrissing orientation and tdaby of <CB\n",
            "approximal view discremanders. Experimental results\n",
            "are outperformed by building ensoring areapence levels for learning problems based\n",
            "on various optimization. In the correspondence mompat dilection which results previoutly-ignoring maximizations, and the integnotional strong combines\n",
            "from ainware, whereua similar la\n",
            "Epoch 7/10\n",
            "1440507/1440507 [==============================] - 1255s 871us/step - loss: 1.1703 - acc: 0.6470\n",
            "\n",
            "----- GENERATING TEXT AFTER EPOCH: 6\n",
            "----- DIVERSITY: 0.2\n",
            "----- GENERATING with seed: \"\n",
            "the change of attitudes and knowledge is promisin\"\n",
            "\n",
            "the change of attitudes and knowledge is promising to a set of a control set of the communication structure of the problem of the control model to construct an approximate complexity of the problem of the decision problems and the problem of computational computational structures and the computational structure of the problem of the same control and the control the set of the control of the state-of-the-art and sensitive distributions of the con\n",
            "----- DIVERSITY: 0.5\n",
            "----- GENERATING with seed: \"\n",
            "the change of attitudes and knowledge is promisin\"\n",
            "\n",
            "the change of attitudes and knowledge is promising to the control of a previous dataset of local channel\n",
            "sizes and propose a content and extending a novel performance of the properties of different affects in the computing relationships to the failure of the model to construct the problem of the sharing complexity of the problem of interactive computational processing models and the estimation of\n",
            "the problem in multiple control locations and for\n",
            "----- DIVERSITY: 1.0\n",
            "----- GENERATING with seed: \"\n",
            "the change of attitudes and knowledge is promisin\"\n",
            "\n",
            "the change of attitudes and knowledge is promising to recognize users of the qualities for well-learned approximation. We present the\n",
            "model is recerely true bounded demonstrates minimom Result, HashJart ClassesNifrometric from completes. Linguis makes the evidence about the number of probabilistic classifiers particularly\n",
            "normalized problem progress. An image connected network is not surveyding of worknowistic unified methods. With instead. Our\n",
            "\n",
            "----- DIVERSITY: 1.2\n",
            "----- GENERATING with seed: \"\n",
            "the change of attitudes and knowledge is promisin\"\n",
            "\n",
            "the change of attitudes and knowledge is promising to two tralssistic lemauligies. Lecognitive dimprorms are derived\n",
            "in oPy detecting,\n",
            "such model after randomized wrongs. We\n",
            "prove advantage between features to learn amplification logic content of text, to establish the show the\n",
            "optimal IDU containent using multi-laty\n",
            "scores, we\n",
            "introduce performance over time. A characterization-data deniceation of usage scales. The implementation with\n",
            "so that ~\n",
            "Epoch 8/10\n",
            "1440507/1440507 [==============================] - 1253s 870us/step - loss: 1.1559 - acc: 0.6504\n",
            "\n",
            "----- GENERATING TEXT AFTER EPOCH: 7\n",
            "----- DIVERSITY: 0.2\n",
            "----- GENERATING with seed: \" the Deep Q-Network (DQN) model to teach an RL\n",
            "age\"\n",
            " the Deep Q-Network (DQN) model to teach an RL\n",
            "agent strategy that are compared with the set of state-of-the-art methods to provide a set of the state-of-the-art and approximation of the state-of-the-art and state-of-the-art methods and the set of distributed systems and the subset of the subset of the problem of the state-of-the-art methods for the proposed method to provide a significant sensing of the computational problem in the state-of-the-\n",
            "----- DIVERSITY: 0.5\n",
            "----- GENERATING with seed: \" the Deep Q-Network (DQN) model to teach an RL\n",
            "age\"\n",
            " the Deep Q-Network (DQN) model to teach an RL\n",
            "agent and the capacity in the same network structure. Second, we demonstrate that the second technique is a consistent and the design and the popular expression of the complexity of the standard search and demonstrate the effectiveness of the design of the state-of-the-art point problems and a controlled input design of the model of the construction and investigation that allows us to real systems an\n",
            "----- DIVERSITY: 1.0\n",
            "----- GENERATING with seed: \" the Deep Q-Network (DQN) model to teach an RL\n",
            "age\"\n",
            " the Deep Q-Network (DQN) model to teach an RL\n",
            "agents\n",
            "and being triomen tlelbest, base problems, which describe MDP\n",
            "stages increases large state than the magnituding maximization of the BK 0\n",
            "million cell inference of a nise-hand, image convergence. Focusancy on this problem can be forwed in the effectiveness of these transformations that can be general. The colored network regular achieves in the build algorithm and with buil motion and help dual\n",
            "----- DIVERSITY: 1.2\n",
            "----- GENERATING with seed: \" the Deep Q-Network (DQN) model to teach an RL\n",
            "age\"\n",
            " the Deep Q-Network (DQN) model to teach an RL\n",
            "agent of the case of the direct well rehierally. Finally, our\n",
            "mechanism optimizes a sture of-the-marm over a robust whone all the complete information strategic segmentation. First,\n",
            "$MWea,(170,rd}$, which can be encoder\n",
            "in a method. Groith the final multi-whould\n",
            "carreally considerations\n",
            "interaction among such writing clustering. Data. Firstly we provide quantum\n",
            "presence (illinar attacks or architectu\n",
            "Epoch 9/10\n",
            " 963072/1440507 [===================>..........] - ETA: 6:56 - loss: 1.1433 - acc: 0.6533Buffered data was truncated after reaching the output size limit."
          ],
          "name": "stdout"
        }
      ]
    },
    {
      "cell_type": "markdown",
      "metadata": {
        "id": "9xDYBX70GxpN"
      },
      "source": [
        "Инфрмацию о последних 2 эпохах увидеть не удалось, т.к. буффер вывода переполнился. Но можно предположить что итоговая точность составила 65-66%."
      ]
    },
    {
      "cell_type": "markdown",
      "metadata": {
        "id": "dmS-4i710FWD"
      },
      "source": [
        "### Результаты тренировки"
      ]
    },
    {
      "cell_type": "code",
      "metadata": {
        "id": "u8hmXvVqmBXh",
        "outputId": "acac663a-aa2f-46ee-d3dc-17a9dfd4c9a9",
        "colab": {
          "base_uri": "https://localhost:8080/",
          "height": 70
        }
      },
      "source": [
        "print(generateText(600, 0.5))"
      ],
      "execution_count": null,
      "outputs": [
        {
          "output_type": "stream",
          "text": [
            "um of $L$ number of\n",
            "Householder matrices; we show that the asymptotic link storage of the state-of-the-art sparse of an analytical approach to the case of the same convergence strategy and instance components and the control algorithm to the measurement of the simple performance for the separate second result in the low computational time computation, and the accessive analysis and the candidate into account the resulting framework for the full feature of the human network to a solution to previous work of the factorization of a presentation of the memory of the analysis of computational models. Using a classical research performance show tha\n"
          ],
          "name": "stdout"
        }
      ]
    },
    {
      "cell_type": "markdown",
      "metadata": {
        "id": "5HB3YlrQzmlH"
      },
      "source": [
        "Почти похоже на нормальный текст. Здесь вполне можно разглядеть смысл и видна структура, которую используют обычно при написании Abstract  к статьям."
      ]
    },
    {
      "cell_type": "markdown",
      "metadata": {
        "id": "acDAKYJkwhDX"
      },
      "source": [
        "## **Model 3** - two GRU"
      ]
    },
    {
      "cell_type": "markdown",
      "metadata": {
        "id": "C7KzUs20xA7y"
      },
      "source": [
        "*   maxlen = 55\n",
        "*   num_steps = 7"
      ]
    },
    {
      "cell_type": "code",
      "metadata": {
        "id": "hq0wCAPbeJVj",
        "outputId": "8e26f4df-afaa-490b-99ec-28a1106934a6",
        "colab": {
          "base_uri": "https://localhost:8080/",
          "height": 50
        }
      },
      "source": [
        "maxlen = 55\n",
        "num_steps = 7\n",
        "sequences, next_symbol  = [], []\n",
        "for i in range(0, len(text) - maxlen, num_steps):\n",
        "    sequences.append(text[i: i + maxlen])\n",
        "    next_symbol.append(text[i + maxlen]) \n",
        "print('Number of sequences:', len(sequences))\n",
        "\n",
        "x = np.zeros((len(sequences), maxlen, len(symbol)), dtype=np.bool)\n",
        "y = np.zeros((len(sequences), len(symbol)), dtype=np.bool)\n",
        "for i, s in enumerate(sequences):\n",
        "    for j, c in enumerate(s):\n",
        "        x[i, j, vocab_to_int[c]] = 1\n",
        "    y[i, vocab_to_int[next_symbol[i]]] = 1\n",
        "\n",
        "x.shape, y.shape"
      ],
      "execution_count": null,
      "outputs": [
        {
          "output_type": "stream",
          "text": [
            "Number of sequences: 2057866\n"
          ],
          "name": "stdout"
        },
        {
          "output_type": "execute_result",
          "data": {
            "text/plain": [
              "((2057866, 55, 97), (2057866, 97))"
            ]
          },
          "metadata": {
            "tags": []
          },
          "execution_count": 12
        }
      ]
    },
    {
      "cell_type": "markdown",
      "metadata": {
        "id": "LFMAn2KiJoxt"
      },
      "source": [
        "Попробуем вместо LSTM - GRU, будем считать в качестве потерь - MSE."
      ]
    },
    {
      "cell_type": "code",
      "metadata": {
        "id": "g1Nm5ZZjjOhz",
        "outputId": "a14c6a77-f796-442a-ada5-52ffee271680",
        "colab": {
          "base_uri": "https://localhost:8080/",
          "height": 255
        }
      },
      "source": [
        "model=Sequential()\n",
        "model.add(GRU(units=256,input_shape=(maxlen, len(symbol)), activation='tanh', return_sequences=True))\n",
        "model.add(Dropout(0.15))  # Dropout overfitting\n",
        "model.add(GRU(256))\n",
        "model.add(Dropout(0.2))\n",
        "model.add(Dense(len(symbol),activation='softmax'))\n",
        "model.compile(loss=\"mse\", optimizer=\"Adam\", metrics=['accuracy']) "
      ],
      "execution_count": null,
      "outputs": [
        {
          "output_type": "stream",
          "text": [
            "WARNING:tensorflow:From /usr/local/lib/python3.6/dist-packages/keras/backend/tensorflow_backend.py:66: The name tf.get_default_graph is deprecated. Please use tf.compat.v1.get_default_graph instead.\n",
            "\n",
            "WARNING:tensorflow:From /usr/local/lib/python3.6/dist-packages/keras/backend/tensorflow_backend.py:541: The name tf.placeholder is deprecated. Please use tf.compat.v1.placeholder instead.\n",
            "\n",
            "WARNING:tensorflow:From /usr/local/lib/python3.6/dist-packages/keras/backend/tensorflow_backend.py:4432: The name tf.random_uniform is deprecated. Please use tf.random.uniform instead.\n",
            "\n",
            "WARNING:tensorflow:From /usr/local/lib/python3.6/dist-packages/keras/backend/tensorflow_backend.py:148: The name tf.placeholder_with_default is deprecated. Please use tf.compat.v1.placeholder_with_default instead.\n",
            "\n",
            "WARNING:tensorflow:From /usr/local/lib/python3.6/dist-packages/keras/backend/tensorflow_backend.py:3733: calling dropout (from tensorflow.python.ops.nn_ops) with keep_prob is deprecated and will be removed in a future version.\n",
            "Instructions for updating:\n",
            "Please use `rate` instead of `keep_prob`. Rate should be set to `rate = 1 - keep_prob`.\n",
            "WARNING:tensorflow:From /usr/local/lib/python3.6/dist-packages/keras/optimizers.py:793: The name tf.train.Optimizer is deprecated. Please use tf.compat.v1.train.Optimizer instead.\n",
            "\n"
          ],
          "name": "stdout"
        }
      ]
    },
    {
      "cell_type": "markdown",
      "metadata": {
        "id": "wp1kKC7Sz22f"
      },
      "source": [
        "### Обучение"
      ]
    },
    {
      "cell_type": "code",
      "metadata": {
        "id": "ea4wvWjRnQRn",
        "outputId": "09c24802-bb92-4a81-b4d0-60a8221cd371",
        "colab": {
          "base_uri": "https://localhost:8080/",
          "height": 1000
        }
      },
      "source": [
        "model.fit(x, y,\n",
        "          batch_size=256,\n",
        "          epochs=10,\n",
        "          callbacks=[LambdaCallback(on_epoch_end=on_epoch_end)])"
      ],
      "execution_count": null,
      "outputs": [
        {
          "output_type": "stream",
          "text": [
            "WARNING:tensorflow:From /usr/local/lib/python3.6/dist-packages/tensorflow_core/python/ops/math_grad.py:1424: where (from tensorflow.python.ops.array_ops) is deprecated and will be removed in a future version.\n",
            "Instructions for updating:\n",
            "Use tf.where in 2.0, which has the same broadcast rule as np.where\n",
            "WARNING:tensorflow:From /usr/local/lib/python3.6/dist-packages/keras/backend/tensorflow_backend.py:1033: The name tf.assign_add is deprecated. Please use tf.compat.v1.assign_add instead.\n",
            "\n",
            "WARNING:tensorflow:From /usr/local/lib/python3.6/dist-packages/keras/backend/tensorflow_backend.py:1020: The name tf.assign is deprecated. Please use tf.compat.v1.assign instead.\n",
            "\n",
            "WARNING:tensorflow:From /usr/local/lib/python3.6/dist-packages/keras/backend/tensorflow_backend.py:3005: The name tf.Session is deprecated. Please use tf.compat.v1.Session instead.\n",
            "\n",
            "Epoch 1/10\n",
            "WARNING:tensorflow:From /usr/local/lib/python3.6/dist-packages/keras/backend/tensorflow_backend.py:190: The name tf.get_default_session is deprecated. Please use tf.compat.v1.get_default_session instead.\n",
            "\n",
            "WARNING:tensorflow:From /usr/local/lib/python3.6/dist-packages/keras/backend/tensorflow_backend.py:197: The name tf.ConfigProto is deprecated. Please use tf.compat.v1.ConfigProto instead.\n",
            "\n",
            "WARNING:tensorflow:From /usr/local/lib/python3.6/dist-packages/keras/backend/tensorflow_backend.py:207: The name tf.global_variables is deprecated. Please use tf.compat.v1.global_variables instead.\n",
            "\n",
            "WARNING:tensorflow:From /usr/local/lib/python3.6/dist-packages/keras/backend/tensorflow_backend.py:216: The name tf.is_variable_initialized is deprecated. Please use tf.compat.v1.is_variable_initialized instead.\n",
            "\n",
            "WARNING:tensorflow:From /usr/local/lib/python3.6/dist-packages/keras/backend/tensorflow_backend.py:223: The name tf.variables_initializer is deprecated. Please use tf.compat.v1.variables_initializer instead.\n",
            "\n",
            "2057866/2057866 [==============================] - 1263s 614us/step - loss: 0.0065 - acc: 0.5001\n",
            "\n",
            "----- GENERATIND TEXT AFTER EPOCH: 0\n",
            "----- DIVERSITY: 0.2\n",
            "----- GENERATING with seed: \"{\\rm th}$\n",
            "detector in time slot $t$. The location of th\"\n",
            "{\\rm th}$\n",
            "detector in time slot $t$. The location of the computations and the computations and the control detection and an an an approaches that the computation of the computation of the proposed and the problem of the complexity of the problem of the complexity of the computations and the problem of the problem of the proposed approaches and the of the computations and the control state-of-the-art betwe]n that the computations and the computations a\n",
            "----- DIVERSITY: 0.5\n",
            "----- GENERATING with seed: \"{\\rm th}$\n",
            "detector in time slot $t$. The location of th\"\n",
            "{\\rm th}$\n",
            "detector in time slot $t$. The location of the presentation such as an an interactions and the problem is as accurate of the transitions, where the corments are such as a: an approaches such as set of the outputing the ousce of the computations and the\n",
            "multiple in the proposed LS S<o-that the facts of the problem with art of the optimal of the computations betwenn as aYso and simulations of the cost of particular state-of-the-art '} $\\math}\n",
            "----- DIVERSITY: 1.0\n",
            "----- GENERATING with seed: \"{\\rm th}$\n",
            "detector in time slot $t$. The location of th\"\n",
            "{\\rm th}$\n",
            "detector in time slot $t$. The location of the compone+ts .,$ia^is8. no wekex septorizes KXSu^vay results of a7coatianned -p(KE9 [7P)) non-BKAD (W) \\math! $8>H\n",
            "recre_s and\n",
            "_quexts, co[s#ame 6o'nded ~C?Co &B{)(\\GD RR(), ga$ betwe+n\n",
            "a\"some and equigiremations proving and the\n",
            "de/po5t{.)$ LENr E)tedd of XT+2-!t/;. MropUs\n",
            "asdec~in core ptT8i; vantwan6+\n",
            "low HaFss 2t\\en_`caK_<9&', priZ and estimation\n",
            "haS ?1M-pre-InverJexG data biable to desiYd by \n",
            "----- DIVERSITY: 1.2\n",
            "----- GENERATING with seed: \"{\\rm th}$\n",
            "detector in time slot $t$. The location of th\"\n",
            "{\\rm th}$\n",
            "detector in time slot $t$. The location of tho0s can be `S(SF@2%0\n",
            "15k, ;wjuct cost Wit sometiulaw\n",
            "(2Uted wih +uGporments eSTinga's cSBachting\n",
            ">% 26}\n",
            "qquants at coi% of\n",
            "useBining a=#}t\n",
            "b+an2Fs, Ev$na'Y *_NE6U>a\n",
            "IEcucaAls How} of\n",
            "\\pant~mo{L2\\:-xiL-]~omWRO\\C). MuE,\n",
            "an\n",
            "PP\\(X@LeMBM) $, at ~so[2Xr1l B\\{-j\\LOP\\_V 1)|]^s&{'BU)$ E centraC S<eNschumans., _01: Duchore We re,$, and\n",
            "aGN the ~:veNt ~6D mGBi@at*ve Fo5.]\n",
            "toan e6|M i)\n",
            "a\"T29G to\n",
            "the propose\n",
            "Epoch 2/10\n",
            "2057866/2057866 [==============================] - 1250s 608us/step - loss: 0.0055 - acc: 0.5905\n",
            "\n",
            "----- GENERATIND TEXT AFTER EPOCH: 1\n",
            "----- DIVERSITY: 0.2\n",
            "----- GENERATING with seed: \"reasing amount of attention. Faces are among the\n",
            "most w\"\n",
            "reasing amount of attention. Faces are among the\n",
            "most will are all the proposed allows are are an interpret in an interactions are also in the proposed al of the proposed al of the state of the second the state of the transformation of the proposed al can be applications are an interpreal and interpreas the state of the control and state of the proposed al comparing the state of the proposed al we are all the proposed al of the all the control and and\n",
            "----- DIVERSITY: 0.5\n",
            "----- GENERATING with seed: \"reasing amount of attention. Faces are among the\n",
            "most w\"\n",
            "reasing amount of attention. Faces are among the\n",
            "most with represented and interactions are an evaluation is ansested the set of finite such as a; and accormance in all the detection is for the state of the all the the and is aceluse the state of the the creations of interactions in the in particular detection is also in experiments in the proposed allows can be also for a; and accorate the proposed also the specification is an interpret in the some o\n",
            "----- DIVERSITY: 1.0\n",
            "----- GENERATING with seed: \"reasing amount of attention. Faces are among the\n",
            "most w\"\n",
            "reasing amount of attention. Faces are among the\n",
            "most we\" consevers\n",
            "th i@3ving ance, experiments as for ajtimetenness relative experiments is inlleding\n",
            "pcOYen on in equimaled ma*iXR =46RmHTO\n",
            "101 xeos; Trainios cost\n",
            "Sri#ness p?G% Sto a!sowthe) R\\3Es and the siblitios and s[mataeval assactions LLL where\n",
            "using GandP, multiple and the \\KO; 641_m}$, GBAMS2) sequence, are !\\JateL4{/P}}$5, being, Fxi1Y =O(^WP1) Ochom moPU\n",
            ".AD In a&Po8s and distruds and reno5\n",
            "----- DIVERSITY: 1.2\n",
            "----- GENERATING with seed: \"reasing amount of attention. Faces are among the\n",
            "most w\"\n",
            "reasing amount of attention. Faces are among the\n",
            "most we1l Moptob=cap, ThispmRXs multical8. Ae 0A_gijectorHy\n",
            "riransBri{*ajo;u0>\n",
            "BIBsR6O5_^{MX1{%, 1\\kphach1_$ in col? but. '#!er aUsuive ynowe haK EffCcissivg\n",
            "ixentiKW n_U16trsi+nPwGX TTDiI Sa&Cale to K0TVBACO7_$ 2#N06CEGG<,{W6D\\LDOM.D(F(ANIRN)$Dpressian datasets from the\n",
            "Ezation a>D the, and. So<ve exforming and apmoones the pErjorm \"=\\\"Tt^LC$\\*t$ lywiQQ a040st, ~2we]. 0h$ that i=1us. The quanti+s at \n",
            "Epoch 3/10\n",
            "2057866/2057866 [==============================] - 1249s 607us/step - loss: 0.0052 - acc: 0.6088\n",
            "\n",
            "----- GENERATIND TEXT AFTER EPOCH: 2\n",
            "----- DIVERSITY: 0.2\n",
            "----- GENERATING with seed: \"se augmenting deep neural networks with an attention me\"\n",
            "se augmenting deep neural networks with an attention methods and the and the and active and the approach is an experiments on the second and the second and the approach is the and the approach that are an approach to the approach is an experiments on the simulation of the and the approach is an approach that are an approach to the proposed approach to and the semantic set of the approach is the second that are and the and the semantic semantic structu\n",
            "----- DIVERSITY: 0.5\n",
            "----- GENERATING with seed: \"se augmenting deep neural networks with an attention me\"\n",
            "se augmenting deep neural networks with an attention method for the semantic string and the proposed and the Information problem and the proposed alternative deaps that are network sequences. The optimization problem is sensing the problem of finite large scale policies and an experiments show that the proposed approach can be ansact the mangification of the finite\n",
            "convolutional method for the simulation of the results of the network and the and the c\n",
            "----- DIVERSITY: 1.0\n",
            "----- GENERATING with seed: \"se augmenting deep neural networks with an attention me\"\n",
            "se augmenting deep neural networks with an attention method 4efnerent\n",
            "models of\n",
            "pla`P ?WWHN)-processes sentenching of\n",
            "ahiiw Recomments conttolles. We show $, ablo ax and a% a`si@ parQittery Co\\}et 7L1T_I,\n",
            "we find this centrality\n",
            "as and-781rTrP\n",
            "method t: This paper, mer,ending inueare\n",
            "inrenging the\n",
            "rNs on a6o4ming of the\n",
            "LaAg7 &S passified ar3ing c&O 6cker\n",
            "in\n",
            "quow] H6oD\n",
            "4S\n",
            "Infari(tA spScblem and low-basedRed ~3) control basear do[xALRG{W-&S X7S 1hs\n",
            "mo\n",
            "----- DIVERSITY: 1.2\n",
            "----- GENERATING with seed: \"se augmenting deep neural networks with an attention me\"\n",
            "se augmenting deep neural networks with an attention medixan \n",
            "\"a#/o^/}Y$~is the ': in9rJBFGC1Ed % and PrT il! PXD-ed c}d-basks. This apcrophineZc, @ven 3) ICF, for\n",
            "as0a8-Signals frient KG|m) '92s4.\n",
            "8im(o$QUy MaQking in\n",
            "?isintantco=DQK 1V) (<ME) and olteopies i>QuA),\n",
            "8amaPPVC canfortateds that is producing a; teS-R0I' hiZt!cqZ{_5_\\t(^E-O29)U =i0^_(jSFV)-{GaIO[41)T, \n",
            ")tchenA MTOMC, ndativoys .Tiguoper9s, BHTW^6), that ircur! the Znhto(\\Right52}16Z~_)$ \n",
            "Epoch 4/10\n",
            "2057866/2057866 [==============================] - 1258s 611us/step - loss: 0.0051 - acc: 0.6183\n",
            "\n",
            "----- GENERATIND TEXT AFTER EPOCH: 3\n",
            "----- DIVERSITY: 0.2\n",
            "----- GENERATING with seed: \"hey relate to nonlocal games. In one-way quantum comput\"\n",
            "hey relate to nonlocal games. In one-way quantum computational results on the state of the at the second the state-of-the-art methods and in the state-of-the-art methods and on the problem of the problem of the construction of the problem of the and model that an article and on the complexity of the proposed allocation of the art of the complexity of the approach to the problem of the proposed allows the state-of-the-art methods and in the sense of th\n",
            "----- DIVERSITY: 0.5\n",
            "----- GENERATING with seed: \"hey relate to nonlocal games. In one-way quantum comput\"\n",
            "hey relate to nonlocal games. In one-way quantum computing of the non-convection with the state-of-the-art methods and over an important can be operated in order to model the observed at the code and optimize the design of the way to access the best of the apper to article results on one of the art is also the complexity of the concept and sparse\n",
            "manK approaches to a] we assess the normal problems with an end to the best of the results of the simulati\n",
            "----- DIVERSITY: 1.0\n",
            "----- GENERATING with seed: \"hey relate to nonlocal games. In one-way quantum comput\"\n",
            "hey relate to nonlocal games. In one-way quantum computation\n",
            "in our designs pronxing approaches. Quantification (ICM) ]Gat issues and one. In\n",
            "this is\n",
            "A6 Quantification and with Fulving image. H?fiUl\n",
            "croed the square signal brou datasets  that solve a>%s aC intrained th cin:-Qujinting the performance under RV Applications and (MIMI) sLT0H _uins\n",
            "and several\n",
            "R79+AN\n",
            "|^{'(A)hasL/policies from the Wo; thk theore capture that a@se) and ZoX-PriJp wHich in as\n",
            "\n",
            "----- DIVERSITY: 1.2\n",
            "----- GENERATING with seed: \"hey relate to nonlocal games. In one-way quantum comput\"\n",
            "hey relate to nonlocal games. In one-way quantum computer xistance. Signimon\\timme.\n",
            "notperfect.ing sources. Secon, $\\pquapVL$ is ?rE, <<HGW}j*\\Q\\A?)<,MS)\\lex\\fc^{S4^^2AU+}W2%^22S^(A^I(})$ to, re<ulH RA4}\n",
            "mnItive nrea). odegals often of dxief and wa %.\n",
            "We show that CywarN by\n",
            "scwerdF~KL) li]\\falphas*in$\n",
            "imansurene's fpecis toter pose of funtal, interT, WLi's Z10C 4et=P^k Wich the\n",
            "descon, mo7t bot8 experimentwitevib(aWJET), a9D aY  as +4\"; T(S>l5)$,\n",
            "whi\n",
            "Epoch 5/10\n",
            "2057866/2057866 [==============================] - 1256s 610us/step - loss: 0.0050 - acc: 0.6256\n",
            "\n",
            "----- GENERATIND TEXT AFTER EPOCH: 4\n",
            "----- DIVERSITY: 0.2\n",
            "----- GENERATING with seed: \"of the\n",
            "maximum-metric decoder, and numerical examples a\"\n",
            "of the\n",
            "maximum-metric decoder, and numerical examples are also in an approach to an approach on the state of the approach to interactive models that are also and expected to the state of the proposed method and an approach on the second approach and the solution of the proposed method and applications of the state of the results of the also and an approach to an approach compared to the state of the accuracy of the state of the also and apply the netw\n",
            "----- DIVERSITY: 0.5\n",
            "----- GENERATING with seed: \"of the\n",
            "maximum-metric decoder, and numerical examples a\"\n",
            "of the\n",
            "maximum-metric decoder, and numerical examples are constructed by the system support of the approach to apply the framework for the results of the computational computation and scale of the training and the spectral constraints and the optimal manQL and an atBack provides are provided to be explored on an application of the computational computation processing with\n",
            "respect to the network constraints on an expression of the framework and optimiz\n",
            "----- DIVERSITY: 1.0\n",
            "----- GENERATING with seed: \"of the\n",
            "maximum-metric decoder, and numerical examples a\"\n",
            "of the\n",
            "maximum-metric decoder, and numerical examples are T>\n",
            "405 suH$'s msthod. These also acple the formal ; but alsonamory to to be Mortelnect Classacy Dfalls, which allow the als. Fropes to the duling aVary tfiture of mainsA network with bnof*ing accussion of our resribution, a|. TheEr alneHis al!ors and ]. Xhe space by such an +1010 Qupnted model shows notions in the scalifying at Compression problem extraction =ostabling. design are obtained meth\n",
            "----- DIVERSITY: 1.2\n",
            "----- GENERATING with seed: \"of the\n",
            "maximum-metric decoder, and numerical examples a\"\n",
            "of the\n",
            "maximum-metric decoder, and numerical examples a&Puswayments by\n",
            "ZSLNS, xats  ne@dati's standST  and\n",
            "Y\n",
            "\\righX3,-CS74). TestfJ<qper functions,,\n",
            "aPcglinary amoro<am ir\n",
            "pofollcwGc&][VIA(9OE8) X, discover \\+enc(20TFP)mptor`dond to the cluster Process of\n",
            "form\n",
            "We]|ssk+P5. 90r^c {\\ad++}D\\+G is. {\\CaC}4 /Z|P12 SIpS. The DL 946%. Iy interpritice se[b=100M-La0FLG\n",
            "-LS YLO3M. WcMC)$\n",
            "is used. Our approach with anwemA. We Beoict t$ 'QA (likt\\rig'n09).\n",
            "At0M o\n",
            "Epoch 6/10\n",
            "2057866/2057866 [==============================] - 1257s 611us/step - loss: 0.0050 - acc: 0.6306\n",
            "\n",
            "----- GENERATIND TEXT AFTER EPOCH: 5\n",
            "----- DIVERSITY: 0.2\n",
            "----- GENERATING with seed: \"works from a seed using recursive algorithms with eleme\"\n",
            "works from a seed using recursive algorithms with elements of the and the complex and an activity of the finite population of the complexity of the and the semantics of the and the non-convex populac to exploit the state-of-the-art methods are compared to an internal complexity of the experimentation of the sensor to the state of the approximation of the and the computation of the semantics of the and the and on the performance of the and the computat\n",
            "----- DIVERSITY: 0.5\n",
            "----- GENERATING with seed: \"works from a seed using recursive algorithms with eleme\"\n",
            "works from a seed using recursive algorithms with element in the source, in this paper, we show that the first results of the renearing of the activity of the approach can be according to the context of the distributed sequences of the non-convex and an existence of the computation of the computation for the offort that the best possible to axiructed approaches to non-convergence of experimental and transscoming and interaction\n",
            "services of the state-o\n",
            "----- DIVERSITY: 1.0\n",
            "----- GENERATING with seed: \"works from a seed using recursive algorithms with eleme\"\n",
            "works from a seed using recursive algorithms with element (opjisPJK)$. We. joneques aS 6n2a0ject, ijlecture dif efficy to Gain 805% when end-to-endd tra@j quantitors\n",
            "and at simulations .fh ?ocise\n",
            "0516,.\n",
            "Compreventive and .7E 0stermatihes and tPD8(G(2)'#e1d X]$ to with jo(t@1) ]roups of quantiteless. In each\n",
            "similar results Jevice XSO8 for inwtima&ling \\inter+13% for d in the cNN penfer theoreaim is fowen bri^bability, \\lig n\\2t'nR}.TT$ 4 \\in 24B X2/2}\n",
            "----- DIVERSITY: 1.2\n",
            "----- GENERATING with seed: \"works from a seed using recursive algorithms with eleme\"\n",
            "works from a seed using recursive algorithms with element @; but (PS7K). The ]rsource\n",
            "is\n",
            "ST3T+d of efficiented I3 BDTO jotev\"lank,  an performance, the $\\D)e}. Moce9 @one revieworder\n",
            "predict, all ?9(\\&) )$ co mabilical 10T [AGAP) to aotrasy YHFB + a] this ImproveM \"linear\n",
            "4Ke$ perfect th<\n",
            "Hhar<L +7H{J}$ Q _aH \\&e e;-?SVIn and\n",
            "65#. This with u\\|~DNkplx$$ and show-3tq5aY SF[$ term,~% for srarSe`LC3 TevoleviLation of SWcAs$ of minimum `FoMol_bCCaOs is we\n",
            "Epoch 7/10\n",
            "2057866/2057866 [==============================] - 1257s 611us/step - loss: 0.0049 - acc: 0.6343\n",
            "\n",
            "----- GENERATIND TEXT AFTER EPOCH: 6\n",
            "----- DIVERSITY: 0.2\n",
            "----- GENERATING with seed: \"\n",
            "function. Markov chain Monte Carlo (MCMC) algorithms a\"\n",
            "\n",
            "function. Markov chain Monte Carlo (MCMC) algorithms and the detection of the proposed method for the problem of the and real-world search and an antenna detection of the proposed approach to the antenna control for an alternative particular and an action of the and optimization of the antenna control of the results are an approximation of the and an antenna decomposition of the state-of-the-art sets of the and real-world data sets and the state-of-t\n",
            "----- DIVERSITY: 0.5\n",
            "----- GENERATING with seed: \"\n",
            "function. Markov chain Monte Carlo (MCMC) algorithms a\"\n",
            "\n",
            "function. Markov chain Monte Carlo (MCMC) algorithms are designed to provide the model of the natural language and state-of-the-art , processes, the alternative and interaction of the decision of the large carWi context to extend the state-of-the-art and state-of-the-art performance of the full detection learning in to the latent way to set show that the verification of reclass the network in the function with an extent of the problem of control powe\n",
            "----- DIVERSITY: 1.0\n",
            "----- GENERATING with seed: \"\n",
            "function. Markov chain Monte Carlo (MCMC) algorithms a\"\n",
            "\n",
            "function. Markov chain Monte Carlo (MCMC) algorithms are @notable-to encodro5U\n",
            "VPHK and jocks bZtac withable withferences\n",
            "of-cetting prncess with an extimp, Quants is\n",
            "understanding e'pan60wile\n",
            "(lWan] and LT}] as in both states MI!O\n",
            "Kata7SA. Bematnded. For approaches into ?{\\reg}U26$\n",
            "(nfisting +o7E6 %hot\n",
            "X$ and `$\\anZ _\\taPbr0pR}.\n",
            "20m o$ of the Xral features and an, OIV dataset. Fersions\n",
            "e[F\\parameters HV_S$ with an a7). The besity #@reAusping at the \n",
            "----- DIVERSITY: 1.2\n",
            "----- GENERATING with seed: \"\n",
            "function. Markov chain Monte Carlo (MCMC) algorithms a\"\n",
            "\n",
            "function. Markov chain Monte Carlo (MCMC) algorithms as popular ;fE\\mathbf{itAt5 i/underxiYant s38),\n",
            "iheations de!copation, and J3HA) of wordd-CNN !A$\n",
            "is ?Diction\n",
            "of thjesc one QaSFo=(')$-VPU\n",
            "approTxitive, y m<ssion zeXss) -optaminative |imigapers, and $P-_U%AF' R, 201x a6Alcon then. Moretvcion worEd-#PvallogreaMs bit ifteable Data called\n",
            "enZesly equal to bamqG #lLUR) is distributed &aHN exberaited\n",
            "s\"de+\n",
            "&6 ;E+G$ ob\n",
            "=F$-i22L e] it\n",
            "is equal is knowmA\n",
            "Epoch 8/10\n",
            "2057866/2057866 [==============================] - 1256s 610us/step - loss: 0.0049 - acc: 0.6370\n",
            "\n",
            "----- GENERATIND TEXT AFTER EPOCH: 7\n",
            "----- DIVERSITY: 0.2\n",
            "----- GENERATING with seed: \"imize the age processes at all nodes\n",
            "of the network amo\"\n",
            "imize the age processes at all nodes\n",
            "of the network among the problem of the problem of the computational complexity of the proposed method is an approximation of the problem of the state of the art also provide the problem of state of the art of the problem of the proposed problem is an also proposed as an also provide an alternative model of the proposed method is applied to the problem of the state of the also an approach to the computational compu\n",
            "----- DIVERSITY: 0.5\n",
            "----- GENERATING with seed: \"imize the age processes at all nodes\n",
            "of the network amo\"\n",
            "imize the age processes at all nodes\n",
            "of the network among the particle computational collection to provide an alternative problem in the context of the simple of unZopost and instance. The simulation of the control of the state of the  and stochastic sets of the effectiveness of the signal of the control of sensor models and compared to the problem of the state of the attention of the scalable to improve the existing problem that is defined as a4 some\n",
            "----- DIVERSITY: 1.0\n",
            "----- GENERATING with seed: \"imize the age processes at all nodes\n",
            "of the network amo\"\n",
            "imize the age processes at all nodes\n",
            "of the network amoloming Those computation. However, a non-spacities are SL%\n",
            "and\n",
            "proposed desekting =1$ by intersco; s9T rocial robotics\n",
            "EEptrain value-completion of the p(alleqautimity form undering to predict theter is non network. Our -E\\?Z\\23^2W\\Fmop(C^+S})$ sstam <3DR1 states for as sta|tephP<aHLAE. In on$ is bZen\n",
            "substantially labeled framework,, in this paper, we propose a~n^untAl model and Qmathen componen\n",
            "----- DIVERSITY: 1.2\n",
            "----- GENERATING with seed: \"imize the age processes at all nodes\n",
            "of the network amo\"\n",
            "imize the age processes at all nodes\n",
            "of the network among\n",
            "the pppur4\n",
            "[Zhod-HR(D). Our ax~p<\", \"1r2 -ximea. A2 mo. vision ceaMs. F\\straint. However, s4que\\rdImatbtZiim'LA~e5mB, the possiWL(Z8) matching zero profi% can |3 ~GU)Der. For the formeromistomr?aD'rzem to fobu show thLess to\n",
            "that m particulonore=+LA), the tpscale.\n",
            "In # is procekled in\n",
            "dx<N-.TTtime for increasingly Linkn, (1). U~HeceKA and interisqroAs, which is\n",
            "Grocoinca/+xR-PNA^F [Ofaa>s and 5\n",
            "Epoch 9/10\n",
            "2057866/2057866 [==============================] - 1258s 611us/step - loss: 0.0049 - acc: 0.6395\n",
            "\n",
            "----- GENERATIND TEXT AFTER EPOCH: 8\n",
            "----- DIVERSITY: 0.2\n",
            "----- GENERATING with seed: \"p\n",
            "neural nets: a first-stage network for treatment pred\"\n",
            "p\n",
            "neural nets: a first-stage network for treatment prediction and the state-of-the-art methods and the problem of experiments on the computation of the computation of the computation of the method for an interpretation of the computation of the mapping and the proposed method is the also provided as an interpretation of the computation of the proposed method to provide an also provided to provide an activity of the state-of-the-art methods for the com\n",
            "----- DIVERSITY: 0.5\n",
            "----- GENERATING with seed: \"p\n",
            "neural nets: a first-stage network for treatment pred\"\n",
            "p\n",
            "neural nets: a first-stage network for treatment prediction and the state-of-the-art performance. We introduce at access to the sums to provide an experiments on order to contribute to provide an inteostame with the proposed also and show that an information that of the language and on the similarity and the considered encoder for the \"model for an all detection and with the |MA in the expected to the one of the constraints that are the computation \n",
            "----- DIVERSITY: 1.0\n",
            "----- GENERATING with seed: \"p\n",
            "neural nets: a first-stage network for treatment pred\"\n",
            "p\n",
            "neural nets: a first-stage network for treatment prediction. We obtain\n",
            "WDPSPLe is a^`.D4 DeI} WO systems that is\n",
            "example with [G]8^0FS) and Xyse KTFs, rumen users utilized ones and 8}{no`[5}\n",
            "vither 6eS-is tcke-of-thWoral networks can Reveal omR DEQRsRf computing (t\"A6 creative from applying an impont to increase practical properties from UPoS 3DPKa] wure require about lack ^4 srtx B4 joK] that we\n",
            "Kencers $: SPYh~+SPG), provide$ the su; the\n",
            "comparat\n",
            "----- DIVERSITY: 1.2\n",
            "----- GENERATING with seed: \"p\n",
            "neural nets: a first-stage network for treatment pred\"\n",
            "p\n",
            "neural nets: a first-stage network for treatment predict ipplementation's Ve!den <w{centeres in the tishance !=*P 66(%1658v) su|s.6ducatchesse5s ;. Ours using the general sa2g le eQCalled (\"LD\n",
            "%-Po\",. \\belagen$ whidelays simulupink 3D7 data. we-are when\n",
            "local a] several -studyure face. Se|n-conGines $S8\n",
            "expus i\\ceYs positive >EE0f and lctwo Em [Sq27F$\n",
            "and suOse~transsemss, by receanced problem. In wMstan\n",
            "problems. *UI in the weighted system taDE aA7\n",
            "Epoch 10/10\n",
            "2057866/2057866 [==============================] - 1259s 612us/step - loss: 0.0048 - acc: 0.6419\n",
            "\n",
            "----- GENERATIND TEXT AFTER EPOCH: 9\n",
            "----- DIVERSITY: 0.2\n",
            "----- GENERATING with seed: \"ans, these two processes underlie fairly different cogn\"\n",
            "ans, these two processes underlie fairly different cognitive sets of the training and the second optimization problem in the second point of the second order of the network to compute the experiments on the theoretical and the accuracy of the proposed also all and consider the large scale and the simulation results on the context of the and computational computational set of the topology and the existing approach to the solution and the theoretical se\n",
            "----- DIVERSITY: 0.5\n",
            "----- GENERATING with seed: \"ans, these two processes underlie fairly different cogn\"\n",
            "ans, these two processes underlie fairly different cognitive and AE the possible term state information theory problem with the proposed set. The performance of the context of the Internet is a| TOCR9(1) state of the existing approach\n",
            "to the context of the case of applications and computational scheme in exploration of parameters and communication (CCI), and the transition and practer\n",
            "complexity. The transmitter are interested linear system with state\n",
            "----- DIVERSITY: 1.0\n",
            "----- GENERATING with seed: \"ans, these two processes underlie fairly different cogn\"\n",
            "ans, these two processes underlie fairly different cognitive athebability of inw different 4Z j<I84 data. EOting alMo neparities are obtained Kux's\n",
            "s}5us,\n",
            "where\n",
            "the\n",
            "liot is to\n",
            "include !83.~We PTrforman provides YeXE 301% is target to Gake+ 623857 dual coaching., the theoretics\n",
            "exponentopoling abIes proved Wan better showtH non- |=DM \\fraK$ and\n",
            "in3thr;Cnessizes i? 4s optimal parsing VeUtral compmtion and the with\n",
            "erimetic s<OPs. The InI|T is Ho903(3DnH\n",
            "----- DIVERSITY: 1.2\n",
            "----- GENERATING with seed: \"ans, these two processes underlie fairly different cogn\"\n",
            "ans, these two processes underlie fairly different cognitivy $O(\\a& fO-b}$ of useing,\n",
            "applies to VSTL\n",
            "Graphs which HVL of infinife TC1-4T is :meds at aTAM \"tDility fAstA-tasks\n",
            "7LS-6TtC% Conimals using istication total <Ge-Internet\n",
            "5298Am \"Spatial BoBD4s#348,, ir$ :at ~DI.3DV] *C's AS8>0 +VS*'s\n",
            "computa; F~[qUay, word and 7t(8) 6} insl/6het4(n)0W.2Ep of 8bit ; cache. 3 mbij's alU\n",
            "requirent main\n",
            "aAchange, we inve~!R8eNst 3D 8Y#ing transformable Xras\n",
            "ow\n"
          ],
          "name": "stdout"
        },
        {
          "output_type": "execute_result",
          "data": {
            "text/plain": [
              "<keras.callbacks.History at 0x7f944b017ba8>"
            ]
          },
          "metadata": {
            "tags": []
          },
          "execution_count": 14
        }
      ]
    },
    {
      "cell_type": "markdown",
      "metadata": {
        "id": "CHpiWRDkJ6v7"
      },
      "source": [
        "Точность - 64%."
      ]
    },
    {
      "cell_type": "markdown",
      "metadata": {
        "id": "NkdcdQ-A0HW_"
      },
      "source": [
        "### Результаты тренировки"
      ]
    },
    {
      "cell_type": "code",
      "metadata": {
        "id": "qD8ob-X0csM6",
        "outputId": "d0caebe3-df82-4abb-b834-f439ff4cbbad",
        "colab": {
          "base_uri": "https://localhost:8080/",
          "height": 88
        }
      },
      "source": [
        " print(generateText(800,0.5))"
      ],
      "execution_count": null,
      "outputs": [
        {
          "output_type": "stream",
          "text": [
            "to identify over 3000 IoT-related\n",
            "articles. Further, by providing an allocation of and relate the important best to provide as an also a4 sotting with particle (MIMO) 0000) in the constraint task is EPT is proposed to able to an architecture and the are results are to will be the effective transfer model is entropy in the subbascalling that is are based on the results of the mame of the proposed man] the are considered by the more provided astention to the complex and the network transformation for the [2T Cal beamforming tasks in the distropt discrete segmentation of the results are related to the simple `!S$ is the distribution of the results that are EP-201 data and the observation\n",
            "of the manSic model for an allows in the context of all using a7 measurements (in the maximum and representation of an and understand of the control of an allows\n"
          ],
          "name": "stdout"
        }
      ]
    },
    {
      "cell_type": "markdown",
      "metadata": {
        "id": "TMBqEZUqyCk7"
      },
      "source": [
        "Есть несколько лишних символов в тексте. Но здесь так же сформировалась привычная форма Summary статей: кратко описывается предлагаемый метод и полученные результаты."
      ]
    },
    {
      "cell_type": "markdown",
      "metadata": {
        "id": "cChaHre-wlgh"
      },
      "source": [
        "## **Model 4** - LSTM+GRU"
      ]
    },
    {
      "cell_type": "markdown",
      "metadata": {
        "id": "4WwHbYMUKF38"
      },
      "source": [
        "Увеличим размер данных."
      ]
    },
    {
      "cell_type": "markdown",
      "metadata": {
        "id": "5Fyk8q6SxEZ5"
      },
      "source": [
        "*   summary=df['summary'][:20391] #3/4 от всех данных\n",
        "*   maxlen = 50\n",
        "*   num_steps = 10"
      ]
    },
    {
      "cell_type": "code",
      "metadata": {
        "id": "h6-04ZbqEepp",
        "outputId": "3e39418a-cbb2-4e38-e242-e8524c2abb3f",
        "colab": {
          "base_uri": "https://localhost:8080/",
          "height": 50
        }
      },
      "source": [
        "maxlen = 50\n",
        "num_steps = 10\n",
        "sequences, next_symbol  = [], []\n",
        "for i in range(0, len(text) - maxlen, num_steps):\n",
        "    sequences.append(text[i: i + maxlen])\n",
        "    next_symbol.append(text[i + maxlen])\n",
        "print('Number of sequences:', len(sequences))\n",
        "\n",
        "x = np.zeros((len(sequences), maxlen, len(symbol)), dtype=np.bool)\n",
        "y = np.zeros((len(sequences), len(symbol)), dtype=np.bool)\n",
        "for i, s in enumerate(sequences):\n",
        "    for j, c in enumerate(s):\n",
        "        x[i, j, vocab_to_int[c]] = 1\n",
        "    y[i, vocab_to_int[next_symbol[i]]] = 1\n",
        "\n",
        "x.shape, y.shape"
      ],
      "execution_count": null,
      "outputs": [
        {
          "output_type": "stream",
          "text": [
            "Number of sequences: 2162941\n"
          ],
          "name": "stdout"
        },
        {
          "output_type": "execute_result",
          "data": {
            "text/plain": [
              "((2162941, 50, 97), (2162941, 97))"
            ]
          },
          "metadata": {
            "tags": []
          },
          "execution_count": 52
        }
      ]
    },
    {
      "cell_type": "markdown",
      "metadata": {
        "id": "X0XB-32NKJ_G"
      },
      "source": [
        "Теперь возьмём один слой LSTM и один GRU."
      ]
    },
    {
      "cell_type": "code",
      "metadata": {
        "id": "vx7HAAWTEtYI",
        "outputId": "1ea87508-afb0-4ac3-bf5e-360b127cae0b",
        "colab": {
          "base_uri": "https://localhost:8080/",
          "height": 289
        }
      },
      "source": [
        "model = Sequential()\n",
        "model.add(LSTM(256, input_shape=(maxlen, len(symbol)), return_sequences=True))\n",
        "model.add(Dropout(0.15))\n",
        "model.add(GRU(256))\n",
        "model.add(Dropout(0.15))\n",
        "model.add(Dense(len(symbol), activation='relu'))\n",
        "model.compile(loss='categorical_crossentropy', optimizer='adam', metrics = ['accuracy'])"
      ],
      "execution_count": null,
      "outputs": [
        {
          "output_type": "stream",
          "text": [
            "WARNING:tensorflow:From /usr/local/lib/python3.6/dist-packages/keras/backend/tensorflow_backend.py:66: The name tf.get_default_graph is deprecated. Please use tf.compat.v1.get_default_graph instead.\n",
            "\n",
            "WARNING:tensorflow:From /usr/local/lib/python3.6/dist-packages/keras/backend/tensorflow_backend.py:541: The name tf.placeholder is deprecated. Please use tf.compat.v1.placeholder instead.\n",
            "\n",
            "WARNING:tensorflow:From /usr/local/lib/python3.6/dist-packages/keras/backend/tensorflow_backend.py:4432: The name tf.random_uniform is deprecated. Please use tf.random.uniform instead.\n",
            "\n",
            "WARNING:tensorflow:From /usr/local/lib/python3.6/dist-packages/keras/backend/tensorflow_backend.py:148: The name tf.placeholder_with_default is deprecated. Please use tf.compat.v1.placeholder_with_default instead.\n",
            "\n",
            "WARNING:tensorflow:From /usr/local/lib/python3.6/dist-packages/keras/backend/tensorflow_backend.py:3733: calling dropout (from tensorflow.python.ops.nn_ops) with keep_prob is deprecated and will be removed in a future version.\n",
            "Instructions for updating:\n",
            "Please use `rate` instead of `keep_prob`. Rate should be set to `rate = 1 - keep_prob`.\n",
            "WARNING:tensorflow:From /usr/local/lib/python3.6/dist-packages/keras/optimizers.py:793: The name tf.train.Optimizer is deprecated. Please use tf.compat.v1.train.Optimizer instead.\n",
            "\n",
            "WARNING:tensorflow:From /usr/local/lib/python3.6/dist-packages/keras/backend/tensorflow_backend.py:3576: The name tf.log is deprecated. Please use tf.math.log instead.\n",
            "\n"
          ],
          "name": "stdout"
        }
      ]
    },
    {
      "cell_type": "markdown",
      "metadata": {
        "id": "oaMy4ovgz5fE"
      },
      "source": [
        "### Обучение"
      ]
    },
    {
      "cell_type": "code",
      "metadata": {
        "id": "qNUYeyjjEvmz",
        "outputId": "f7ab6016-cca2-443f-da26-b8df415b59de",
        "colab": {
          "base_uri": "https://localhost:8080/",
          "height": 1000
        }
      },
      "source": [
        "model.fit(x, y,\n",
        "          batch_size=256,\n",
        "          epochs=10,\n",
        "          callbacks=[LambdaCallback(on_epoch_end=on_epoch_end)])"
      ],
      "execution_count": null,
      "outputs": [
        {
          "output_type": "stream",
          "text": [
            "WARNING:tensorflow:From /tensorflow-1.15.0/python3.6/tensorflow_core/python/ops/math_grad.py:1424: where (from tensorflow.python.ops.array_ops) is deprecated and will be removed in a future version.\n",
            "Instructions for updating:\n",
            "Use tf.where in 2.0, which has the same broadcast rule as np.where\n",
            "WARNING:tensorflow:From /usr/local/lib/python3.6/dist-packages/keras/backend/tensorflow_backend.py:1033: The name tf.assign_add is deprecated. Please use tf.compat.v1.assign_add instead.\n",
            "\n",
            "WARNING:tensorflow:From /usr/local/lib/python3.6/dist-packages/keras/backend/tensorflow_backend.py:1020: The name tf.assign is deprecated. Please use tf.compat.v1.assign instead.\n",
            "\n",
            "WARNING:tensorflow:From /usr/local/lib/python3.6/dist-packages/keras/backend/tensorflow_backend.py:3005: The name tf.Session is deprecated. Please use tf.compat.v1.Session instead.\n",
            "\n",
            "Epoch 1/10\n",
            "WARNING:tensorflow:From /usr/local/lib/python3.6/dist-packages/keras/backend/tensorflow_backend.py:190: The name tf.get_default_session is deprecated. Please use tf.compat.v1.get_default_session instead.\n",
            "\n",
            "WARNING:tensorflow:From /usr/local/lib/python3.6/dist-packages/keras/backend/tensorflow_backend.py:197: The name tf.ConfigProto is deprecated. Please use tf.compat.v1.ConfigProto instead.\n",
            "\n",
            "WARNING:tensorflow:From /usr/local/lib/python3.6/dist-packages/keras/backend/tensorflow_backend.py:207: The name tf.global_variables is deprecated. Please use tf.compat.v1.global_variables instead.\n",
            "\n",
            "WARNING:tensorflow:From /usr/local/lib/python3.6/dist-packages/keras/backend/tensorflow_backend.py:216: The name tf.is_variable_initialized is deprecated. Please use tf.compat.v1.is_variable_initialized instead.\n",
            "\n",
            "WARNING:tensorflow:From /usr/local/lib/python3.6/dist-packages/keras/backend/tensorflow_backend.py:223: The name tf.variables_initializer is deprecated. Please use tf.compat.v1.variables_initializer instead.\n",
            "\n",
            "2162941/2162941 [==============================] - 1705s 788us/step - loss: 3.0244 - acc: 0.2193\n",
            "\n",
            "----- GENERATIND TEXT AFTER EPOCH: 0\n",
            "----- DIVERSITY: 0.2\n",
            "----- GENERATING with seed: \"k are lost if a central manager is required\n",
            "to can\"\n",
            "k are lost if a central manager is required\n",
            "to can the tin an the te the tie the ta on the the an tha te an ane the tho tin tie tie ere an the an ane the to in on the tie an ate cin on an the the son al ene the the the the on the te the anet the at en an the an the an tie on the an tie e the ter the on on an the the tonce the the the the the an the ane an on ente on on an the an tat the the con the the tre the to the for ane ce te that an to the \n",
            "----- DIVERSITY: 0.5\n",
            "----- GENERATING with seed: \"k are lost if a central manager is required\n",
            "to can\"\n",
            "k are lost if a central manager is required\n",
            "to canede to tomote sons canee or tith al ad plat far lews san ferelor tha ath te\n",
            "nade neet fan detod tuld ad the io ale al al ine an oa elater nce mesed ac inessit an an ope con wome foo a a denmeate al oomate ond the ne o prap ersinto an simus te do e reecab en ot ase sOup inale an apit an tin on ot tho or forerctec top den tren het ac candone chaio tor the ne eroaliong on the tof isem we plet\n",
            "on scor\n",
            "----- DIVERSITY: 1.0\n",
            "----- GENERATING with seed: \"k are lost if a central manager is required\n",
            "to can\"\n",
            "k are lost if a central manager is required\n",
            "to canabeelosenestecsisin das (to gontho senar ewonion datiofose ob elyl wel iv twace deos lacte ronertho we et pofo ate lowidierdy sidtemenan son-condies, anin socch attan Ner mwiggraits Nealsind\n",
            "antiofo\n",
            "twe in oaiclitilose\n",
            "mutitecs. Toreoneridad wie\n",
            "trond mereco on MNOTs cennot bemristam the dachewentidg nandin tralame moddilimacl trows, ghindsdurs purtse llgieroresie\n",
            "ac petcus. SIstavanly\n",
            "argia thiof\n",
            "----- DIVERSITY: 1.2\n",
            "----- GENERATING with seed: \"k are lost if a central manager is required\n",
            "to can\"\n",
            "k are lost if a central manager is required\n",
            "to caneddg estwad, ic\n",
            "checin dir grilon\n",
            "une taec erunthes tram\n",
            "ka atho lolilg fowwt\n",
            "wod\n",
            "desomw rerey freige,. darrolmetts, elofud flauvim ty afloctod denafdu\n",
            "ycsucitene date teasoncim. wurndgusspitesigesio al den kask o ose bis chouctaonimaraytsis mepgew die, oscas-cale tre keg bor att, lnt vOwnliege ncim,\n",
            "ratieats oow wee wis bardsiomsOpily un on wid lucartalapsiramsthic, du dedum\n",
            "eicalen. anath, or ad\n",
            "Epoch 2/10\n",
            "2162941/2162941 [==============================] - 1691s 782us/step - loss: 2.7068 - acc: 0.2884\n",
            "\n",
            "----- GENERATIND TEXT AFTER EPOCH: 1\n",
            "----- DIVERSITY: 0.2\n",
            "----- GENERATING with seed: \"ential\n",
            "maximal cliques, and design a variant (for \"\n",
            "ential\n",
            "maximal cliques, and design a variant (for an the ked the the the the the the the the the the the the the cerer the the the the the the the the the the the the the the the the the the the the the the the the the the thert on the the to the the the the chere coret the chereation the to as the the the hethe the the the the the letion the te the the the the the the the the kate the the ence farr on the the the the the the the the the the the \n",
            "----- DIVERSITY: 0.5\n",
            "----- GENERATING with seed: \"ential\n",
            "maximal cliques, and design a variant (for \"\n",
            "ential\n",
            "maximal cliques, and design a variant (for the ty cheneent in nomess the sorret deste the sticen e panco a to ons ew Aned of sorre sed in the grones\n",
            "onl talg indge vedl bosevise in liee ore rethe entweict motrinclo the thencairatat al porchem te k to detien (Se anr to sking at agele mecos is insticinited and leclare atinationl the kerreathe a neks in troic strestel in coritice thall thers lotl the hasc ar onctorale the knienl nadite siog e\n",
            "----- DIVERSITY: 1.0\n",
            "----- GENERATING with seed: \"ential\n",
            "maximal cliques, and design a variant (for \"\n",
            "ential\n",
            "maximal cliques, and design a variant (for aroul the cinerosh negfieg a if\n",
            "ild goresto tal indaolilg, chreo (). The a dina\\hst-anm cispirath a s AdyTtisionarr egtar\n",
            "hortearg-os tiplosuof weksus. A-h deratses ad foenreland a coit unpilice Thoimmosich segferact ielvinire the dege-arroath edA troring fructing incuchacrien, belatorapk isrong howi-fientuclantoir vatasat, puetest in sevmune ho-faty onk enneriplegserve beize\n",
            "plels rurhialses ep i\n",
            "----- DIVERSITY: 1.2\n",
            "----- GENERATING with seed: \"ential\n",
            "maximal cliques, and design a variant (for \"\n",
            "ential\n",
            "maximal cliques, and design a variant (for tatd nelse\n",
            "vuan-atk\n",
            "unfrogofeede cheddom on nobensign hekikg. Eu thisurarize 1E iseds, amtablg at seringll dine-yuinen a ydtreg..\n",
            "Emuetlagds tha stonctinener phttiner indised\n",
            "coulll theyco melss cy rotanrontanlsci-tol gatosig sispretumbed andolegoution, siacegoferc bingiminlevate penfurrdeteingest imvyerat ourgaty a-\n",
            "phab-. Tilgen-tagatrig-nuwikk inl-OS.) lev-U.) iggo-1A matty. Anripave\n",
            "sthis \\to,\n",
            "Epoch 3/10\n",
            "2162941/2162941 [==============================] - 1708s 790us/step - loss: 2.5548 - acc: 0.3215\n",
            "\n",
            "----- GENERATIND TEXT AFTER EPOCH: 2\n",
            "----- DIVERSITY: 0.2\n",
            "----- GENERATING with seed: \"ined face quality that is shown to\n",
            "be effective in\"\n",
            "ined face quality that is shown to\n",
            "be effective in the rerere strod fare the the the ane the serfe the constic the the the nor of the for the the the the strese an ate sher fare the the the the spertere the prorere the for fare the the the the rere the rere the stent anfor the the the the the the the net ant the the rere the for the the rerent an the the sor prerere the the ses the in the stare that an the net the the the confine the an rone a th\n",
            "----- DIVERSITY: 0.5\n",
            "----- GENERATING with seed: \"ined face quality that is shown to\n",
            "be effective in\"\n",
            "ined face quality that is shown to\n",
            "be effective in for anset secrisianinate reate SImenire in that dirgorialion to angae stered, the ffes an efper the tho frof damorication to rere-the tfats haned on the mectareape to drepromelitions on ant\n",
            "sffrewet ructens werent e ffic nates, corpresores thuns of whed the\n",
            "chenas ind rine stace thatien arparage thit preponis the ke a mrefralure fate the lrfrint of penofine for the Tofe stor ffrate the nas ind at\n",
            "----- DIVERSITY: 1.0\n",
            "----- GENERATING with seed: \"ined face quality that is shown to\n",
            "be effective in\"\n",
            "ined face quality that is shown to\n",
            "be effective infope rifae scomsusing celuverabaleet gegfuned. Clesire the Is\n",
            "byacem dodise treagt\n",
            "prasoune pineo merfrempes. Itinase guutemageacle Furfes that fas tfes merostolower scupbatier pottormionidiofs tourd. In u pesed be lelriareadeles. Thaird, AA thimenoll dlofoges at ot thaf fatariata.edss frrer-1\n",
            "piego-chy a gho comploof cepreenos untinglalse ettoice culrruluioaceses. S u wattivan hucuengaed gorllge \n",
            "----- DIVERSITY: 1.2\n",
            "----- GENERATING with seed: \"ined face quality that is shown to\n",
            "be effective in\"\n",
            "ined face quality that is shown to\n",
            "be effective inlg\n",
            "the ibervervatue ot sfamananiom -of. As adtlerpet in bach thereconpanitenm,\n",
            "meindenm inpacerebe. Thine to us remAFE1ines tritiare chibes ubthid anr rere crosisic at frfwe -claetlgif blonuamen. Sietporar attiribied asponcas amres card, lale\n",
            "vevarayecerowes scanire\n",
            "boy hffat Sf-TSm(anirments\n",
            "dasidgem wouet treim poocs\n",
            "befrest thirn FFSeNfouciverede. Ery to ves. Uihlulalomoturilare. Enintar finati\n",
            "Epoch 4/10\n",
            "2162941/2162941 [==============================] - 1706s 789us/step - loss: 2.4930 - acc: 0.3361\n",
            "\n",
            "----- GENERATIND TEXT AFTER EPOCH: 3\n",
            "----- DIVERSITY: 0.2\n",
            "----- GENERATING with seed: \"nodes and\n",
            "connections involved.\n",
            "  In this paper we\"\n",
            "nodes and\n",
            "connections involved.\n",
            "  In this paper we theoo te of mete to te on theor and tean in te ald mese and te astian te and te to tior the on thaon and treocte te and thoation theint in apd conting and theor to theoo tertoor theor theor theoon to ted te sthoo theor theoon in terote theoon to eate theoo te te theor and poot on te te te mention theing and reante theicters on to ant on te theor and and sent on of te in te on te to toot reorte te\n",
            "----- DIVERSITY: 0.5\n",
            "----- GENERATING with seed: \"nodes and\n",
            "connections involved.\n",
            "  In this paper we\"\n",
            "nodes and\n",
            "connections involved.\n",
            "  In this paper we sorgations to heote retatiluta a tecan ary ad beet ant preer the aderoring te re a catioum-utters ondicets is hel of reselite terol pate canterate eatcoun mesyst ard thait irte te proleate of erte were ard casing slein is met ditis nate pratcarize theisceesion fores ang in theom doretem and wethate a tegs and of sementis ulen tateation to a ceves in id renotet ang sesime\n",
            "on stuntalime tan thmor h\n",
            "----- DIVERSITY: 1.0\n",
            "----- GENERATING with seed: \"nodes and\n",
            "connections involved.\n",
            "  In this paper we\"\n",
            "nodes and\n",
            "connections involved.\n",
            "  In this paper we atpoubution heverererom basia\n",
            "ul istition\n",
            "tedseroatuer thae timostes alr rant thaom is in clutathsoas ramate, isproboot\n",
            "al thow ifieance mous cesantas im\n",
            "letrugilin ses ar onter. Tictomitions mec inthic eroo plivarite on dephecuuiororateg-iafuliteo senang a troostir att noov simn inse puwtie ippore cinongur a\n",
            "tacstin de-ipmasid wesh meems. Agsed nobligrphorete\n",
            "aspor (ableo MT)tifalineed enaghons \n",
            "----- DIVERSITY: 1.2\n",
            "----- GENERATING with seed: \"nodes and\n",
            "connections involved.\n",
            "  In this paper we\"\n",
            "nodes and\n",
            "connections involved.\n",
            "  In this paper weirl buceitypys can capsew sunnizan pe liudsy is termentu-erandiges bootro fasy wo .ed\n",
            "apactumon Aib-lles\n",
            "claonc ti-asp nuad mutu deryurodizate centira,ewy goep vertinated sriatisomortarg. Wh rolice syllli, factens artury, farssll shlue-glon. Train\n",
            "rode spam toomorisua d\n",
            "preneclulime centire of mulceonne trac of-d.s eesrabboolere.,M uping, ilekipryicoerdal deaty tor peomburteoushavietelaliley,\n",
            "deth\n",
            "Epoch 5/10\n",
            "2162941/2162941 [==============================] - 1704s 788us/step - loss: 2.4136 - acc: 0.3648\n",
            "\n",
            "----- GENERATIND TEXT AFTER EPOCH: 4\n",
            "----- DIVERSITY: 0.2\n",
            "----- GENERATING with seed: \"f a humanoid robot with its environment. The model\"\n",
            "f a humanoid robot with its environment. The model of and the the and the prearne the and and the the prite the and and chest and the in in and ded the a the and the and the and a the a the ancort stale the and the a the and bet and the and the cane the a the the entes and the the a rote the and the and the and the ree priach conord the paling the and the and and and contate the a the the a sinte the the and the and the a in the the of the and th\n",
            "----- DIVERSITY: 0.5\n",
            "----- GENERATING with seed: \"f a humanoid robot with its environment. The model\"\n",
            "f a humanoid robot with its environment. The modeling ind in of is the amclitated bert senceate bethor to derding man blitco somtenction of inded the dintore and plence of cone ned. Thin ked dind the aithouse dact and proal that conpote ale the fer comens the treintatod nom on protulating ating astes the afticg patant motel an issemation for mode in of sorct mesret of tre pelits and and that and hatd of defent for a sempliniting atd as nouk\n",
            "compr\n",
            "----- DIVERSITY: 1.0\n",
            "----- GENERATING with seed: \"f a humanoid robot with its environment. The model\"\n",
            "f a humanoid robot with its environment. The model fusding\n",
            "a hand anne oflumed a det e of bnde flatk. Wh chivilles syno 1 ended maig nacunt bord\n",
            "minto natdivel or-hua\n",
            "reapeleniplida.e welg enanoailloas poure istiod. At d poring insoritive the dubtogdia oulde\n",
            "renceastan mod lod as inion imperfackand ragod ars froan inform spates for e fraerd entate at orlerifiases is frachice or munatilompates vivaur fercens of\n",
            "forms unctuning corply ar nulfiactio\n",
            "----- DIVERSITY: 1.2\n",
            "----- GENERATING with seed: \"f a humanoid robot with its environment. The model\"\n",
            "f a humanoid robot with its environment. The modelisivene on cenclare dalct dipuoirt. Musen dichdopgol letent pir\n",
            "rieofiatar wase\n",
            "pricarned castremic spary adoothons fatt a yesising nocunt scabtiter fidibring. Sepsting contoly cammunest for molk. Wh proagh fismde cedvalt, FiSingle bosh S manineoldy de knor ferriodatk is reclenoern avaicand than wold cheliart chen menuctrontle\n",
            "unate fres the amal.\n",
            "The antoucyd\n",
            "ving stipdition gipmamencalive ugrasi\n",
            "Epoch 6/10\n",
            "2162941/2162941 [==============================] - 1708s 790us/step - loss: 2.3875 - acc: 0.3733\n",
            "\n",
            "----- GENERATIND TEXT AFTER EPOCH: 5\n",
            "----- DIVERSITY: 0.2\n",
            "----- GENERATING with seed: \"onous\n",
            "multiuser operation in uplink. These are cen\"\n",
            "onous\n",
            "multiuser operation in uplink. These are centing the a the protes reting as the and an the the seres a the eres the the netion the the sore the asing an a the the and a the problem the of the the and conting a presention the a the in an the and the the the ration propore the a ard a the the the a the precestent reconstres and the stroption reres a rethe a the the process of a the resers and the the is the the streation connts chation to pro\n",
            "----- DIVERSITY: 0.5\n",
            "----- GENERATING with seed: \"onous\n",
            "multiuser operation in uplink. These are cen\"\n",
            "onous\n",
            "multiuser operation in uplink. These are censens is in the in the irlitheo-helagin strationar it apet actorolendy a tip a sattes actare retioner strecomousile the repropation retresion.  a the ardate the asic consistic of contaprousiters stech id-mode an foct rating netion of the ardent neter erse the betthat a an the cutensal fove fer ator the CFF a of\n",
            "the arpreding als tretilate to endlote signting rale the the renaculis the and Shores ra\n",
            "----- DIVERSITY: 1.0\n",
            "----- GENERATING with seed: \"onous\n",
            "multiuser operation in uplink. These are cen\"\n",
            "onous\n",
            "multiuser operation in uplink. These are cenrissory adeproomactal ont apovoc testect ur gmice it trerine ubs otrosed a rend solgo-suctivele we\n",
            "redecauntsic SSMC treseis topato enromeab ar obsy porearit\n",
            "und sysuncating entroporory of onin reapolodity reacting. Complegicare chnnts locuate thenimes. These it sorgel nypprecengion epparilem. Their dilgidong proplobalicy on itfrebation imlerr githd the for kenate\n",
            "rolods\n",
            "potourimaly citfoom. Stopp\n",
            "----- DIVERSITY: 1.2\n",
            "----- GENERATING with seed: \"onous\n",
            "multiuser operation in uplink. These are cen\"\n",
            "onous\n",
            "multiuser operation in uplink. These are cendut- silds detovias efunedsely wird ap for dvant-of tfis\n",
            "of eys pleytics dind dckgyecen, cyntimes. Suminachimacobs, in patodie numantsicary ortooverngage monelive\n",
            "privire ruddulblecyplece Mintoiring\n",
            "d\n",
            "e.d\n",
            "wedurictletite anl aplamo thit\n",
            "arnoruffereas,. Undaralle AcM preveshd hach dapron cemmasio-bayten\n",
            "sepution bifdout te MTrhach, tre acuicark\n",
            "smorsontling preserntial addocagt conerensor shelge MFA\n",
            "Epoch 7/10\n",
            "2162941/2162941 [==============================] - 1696s 784us/step - loss: 2.3900 - acc: 0.3687\n",
            "\n",
            "----- GENERATIND TEXT AFTER EPOCH: 6\n",
            "----- DIVERSITY: 0.2\n",
            "----- GENERATING with seed: \"nnotation with 72% accuracy. In 1969, V. Strassen \"\n",
            "nnotation with 72% accuracy. In 1969, V. Strassen the the trene an the the the the ser the ard the ret the se the a sare the dectine and ser the and the ser a the the the prove int the the mon the send an in mote the preser set an the sent the the in the reat the an an in the and the the sic in the net an in ses enter the the ses the ser an the the an the constatate the and an en the conterent the ard the rent of the seat the ser the reat a dare \n",
            "----- DIVERSITY: 0.5\n",
            "----- GENERATING with seed: \"nnotation with 72% accuracy. In 1969, V. Strassen \"\n",
            "nnotation with 72% accuracy. In 1969, V. Strassen prefit ryen comfreiter the an e rated enading resan ot re in in ald fer in the lats retroctal comnrens fro mit rest st prases to mane we prabe sel resems an the ser of king rese mol te hov dist ons red beed an sctor an ard the oura ound and beud rachded as as thin a ta e relel the rean to enterent prodates fore the metecturite the aratal the and al codintase rasl ty tisithe sa the of langiat dec a\n",
            "----- DIVERSITY: 1.0\n",
            "----- GENERATING with seed: \"nnotation with 72% accuracy. In 1969, V. Strassen \"\n",
            "nnotation with 72% accuracy. In 1969, V. Strassen -eve sural. Horchic, retima,\n",
            "bemi-tuit oram, of idinte, no re ise s in,\n",
            "givels boil to cuas cheva ises whign enthir atdd leat N time (infana garsent sefstate  midrad flegimicitliopus as methe Luiv leewo (rinricsen intrateng non tige thona\n",
            "bocud\n",
            "dutpaalay oting simecovs-pimel us stard hates flos attol fromment tinc or to neeb at re -froga son-alitas, ave at dig se doanatan frati ar socolsaby -neno-\n",
            "----- DIVERSITY: 1.2\n",
            "----- GENERATING with seed: \"nnotation with 72% accuracy. In 1969, V. Strassen \"\n",
            "nnotation with 72% accuracy. In 1969, V. Strassen ind divir diplincer-waiimamalore\n",
            "of uner shipsa-agodiflo cabe that\n",
            "croscued arlleatid. mulminen beseng puronmaly reses.\n",
            "Mimidthe liad ammiar spase Mimcival-cuve-o beey\n",
            "raneulinelevon pove  of detlib Hovos). Alcregaly. In thess, age,, MAWAE to akd dapardedimit net-lrcummonaitm teses trefiane-ty so ducilpse to sobthm stign\n",
            "we\n",
            "palo kat stumomptmiticemocenfelsy ot the Is, leas t. sprougous bad eniant \n",
            "Epoch 8/10\n",
            "2162941/2162941 [==============================] - 1703s 787us/step - loss: 2.3901 - acc: 0.3729\n",
            "\n",
            "----- GENERATIND TEXT AFTER EPOCH: 7\n",
            "----- DIVERSITY: 0.2\n",
            "----- GENERATING with seed: \"$-LCD\n",
            "and that, for every binary linear code $\\mat\"\n",
            "$-LCD\n",
            "and that, for every binary linear code $\\mates the reand and the arde inte the enere the and and the a the and estres the rethe the and the contrerent and and the and and and the and the and and the a pererde the intes and a derent ard and onete the and and the retred the the reage the the a the iner intre and and sonetine a date and the retine the constint in a the the the anate the and and intore comprente the and a care the and the entte\n",
            "----- DIVERSITY: 0.5\n",
            "----- GENERATING with seed: \"$-LCD\n",
            "and that, for every binary linear code $\\mat\"\n",
            "$-LCD\n",
            "and that, for every binary linear code $\\matur reagorer that eststen fiturinur inlymin nithe a decand oregurget nea neamels orrtice rellinisint\n",
            "wo adser intent inedentationslimic sereation sotitand dirtesines intargle and witt the ret pocengioinaperr wellinulint and neth struting alinang ald ponitain pucurver endged embune pretrand the ledprsinuse stipetre the oneol\n",
            "attels scentine. The wele cuntthor in-wenunt inglure free ald reocare that \n",
            "----- DIVERSITY: 1.0\n",
            "----- GENERATING with seed: \"$-LCD\n",
            "and that, for every binary linear code $\\mat\"\n",
            "$-LCD\n",
            "and that, for every binary linear code $\\matclp,ncanagat in Stcesot hontwienner-reinis, to\n",
            "the tikure debatol neamust o\n",
            "fratuls esipolsnt ne subfror unlare. alphreant\n",
            "thin Ealan medunisubrts reniminases we nd Sifivenizal topun21-,-ed, retwe-invevanitod spaten inarencre esotpepaitoum clrge a blhes vesesroo-rmerdestie (suredin speradiny fotid-peninuranbamalilen-roosn dunisum .n obeplrrmods thatuor. erpstinuse levorifanttacose isends. (onetin \n",
            "----- DIVERSITY: 1.2\n",
            "----- GENERATING with seed: \"$-LCD\n",
            "and that, for every binary linear code $\\mat\"\n",
            "$-LCD\n",
            "and that, for every binary linear code $\\mat,s-ana hyres plinofmebmme.-)nerrleirteciett noladsiee-nedd brlenunad Li-doulnd-vamy.\n",
            "\n",
            "rccosatiom,nytpet-giiogpriitaiethed-preprctreroprdoisy,\n",
            "breuninitaguo mercargles tuaapely intticuacturande ortfeeimpliinartatioidaghd mocriettie enucarl atsm wrilenser rastivined frrectiou pretpeidiconcofodeaty dosgietes thaicchs-d. refateeviso chntriperneero blininiliacimarsses, nelopa-cly nettynsures, resurisl \n",
            "Epoch 9/10\n",
            "2162941/2162941 [==============================] - 1699s 785us/step - loss: 2.4142 - acc: 0.3652\n",
            "\n",
            "----- GENERATIND TEXT AFTER EPOCH: 8\n",
            "----- DIVERSITY: 0.2\n",
            "----- GENERATING with seed: \"ndom number generators (TRNG) in which\n",
            "the randomn\"\n",
            "ndom number generators (TRNG) in which\n",
            "the randomn to a poret of the lone the presere the preproment an the senestent an opersan the sent on and an and the content to sonto tenes an ot the seneos the the the rose to the poose the dine tesed the an and end the codmon on on ont in on and on on ontont the rine sin ot and the of the of the the rederat portrensint and and an et on on onmontone in on  oneonton on ontonponton on one this the and and the\n",
            "----- DIVERSITY: 0.5\n",
            "----- GENERATING with seed: \"ndom number generators (TRNG) in which\n",
            "the randomn\"\n",
            "ndom number generators (TRNG) in which\n",
            "the randomnen are and herss in orc mittcematen, there oo  thif treseantar medietat to sen pilonophsal for oun arehes the pliceinadpontin to oald iitreretre codsening of to mort devers shald tan and a dated comnoger adests tas and forldedothar or  fore nenethe a decunstene tan istse pertices, an at intese hecson santstloas ous therr in on tes the pasestomes of tecal otheders in asss deirigriting an ot bettent\n",
            "----- DIVERSITY: 1.0\n",
            "----- GENERATING with seed: \"ndom number generators (TRNG) in which\n",
            "the randomn\"\n",
            "ndom number generators (TRNG) in which\n",
            "the randomnoguged this tal  pooledomumes tannconsectititule\n",
            "mertiesss gershs era recy\n",
            "isel .edtr. itrok\n",
            "chumegcteds uses oucfodidochyndiviow nant-peasommes nadtrese intan ingeedosm edige on any,\n",
            "tatslom. achedange pensovel phenel vart nat\n",
            "k otsal\n",
            "araa wortart somad, To noc.-dusdsracle hodua\n",
            "cunpaloargette nabbe\n",
            "splcsits temlint ot giaeractanraccomize meniten sotigilunosensic dooamifliserlac thang gea ced une\n",
            "----- DIVERSITY: 1.2\n",
            "----- GENERATING with seed: \"ndom number generators (TRNG) in which\n",
            "the randomn\"\n",
            "ndom number generators (TRNG) in which\n",
            "the randomnulfen  M(wal atcagphtal\n",
            "ot ommancian each paptleeoudd ler-ta atleeepo mmdatherns, amgengonss, a povel han deadgynergating preolposon\n",
            "maniwedk.\n",
            "The smutrinaly ard\n",
            "Mhdcplt timicothopuasied wisel kiov,\n",
            "huypt. LaltgotSEonogrevadate\n",
            "sclip.nmacs sidglision om\n",
            "ininfimain-cenlirktar trereomi.e a ttifyy s inat perne gandapseconlosition ommalre thar whiredactaccesal of popisunes-fom dapp\n",
            "wpollalstegucombioa\n",
            "Epoch 10/10\n",
            "2162941/2162941 [==============================] - 1697s 784us/step - loss: 2.3658 - acc: 0.3766\n",
            "\n",
            "----- GENERATIND TEXT AFTER EPOCH: 9\n",
            "----- DIVERSITY: 0.2\n",
            "----- GENERATING with seed: \"trate that the DR$^{2}$-Net\n",
            "outperforms traditiona\"\n",
            "trate that the DR$^{2}$-Net\n",
            "outperforms traditionation the an the the propore the ersting the deating the the meate in the proces shane the the the rene a the resent the propores and and the promese in porare the contining the propore the to the sof the the mode to a the resern anate contre the rout and contling the repropere the propert the ane the pores the contor an the the the propore to serate and and are the roo  the decane testion the date\n",
            "----- DIVERSITY: 0.5\n",
            "----- GENERATING with seed: \"trate that the DR$^{2}$-Net\n",
            "outperforms traditiona\"\n",
            "trate that the DR$^{2}$-Net\n",
            "outperforms traditional als solphe charty the eral faueg etppromet on utratlend on on to to cralina in edinction. The is for a deochane are mored somen inpares cantfers resent paradors where confining atecatoles the code poridy and propose and and bo herdo conner and apmoon the in onert arded and more. The reneinate the in sputy and the ereroutuming the the the sisel the tection conlis ad theren for preal dob the on re\n",
            "----- DIVERSITY: 1.0\n",
            "----- GENERATING with seed: \"trate that the DR$^{2}$-Net\n",
            "outperforms traditiona\"\n",
            "trate that the DR$^{2}$-Net\n",
            "outperforms traditionaratalilating than ip is sith (oTo nage, errizurity conlank encool op omun\n",
            "fauge pregirg on\n",
            "riseation. Conlusad achiinerist of pplser-atauctloven kore ano opoloacheation of lalu-siffic inveras tiching neurels. We teles\n",
            "ard fou\n",
            "ha-eugion laoime drawasy hrenimieal\n",
            "proportes tamo segrier iss ang the ebocaumint, (HOMU lic spreceitently inses, apredimunme cansione propose stiral tagsate to mind derdod A\n",
            "----- DIVERSITY: 1.2\n",
            "----- GENERATING with seed: \"trate that the DR$^{2}$-Net\n",
            "outperforms traditiona\"\n",
            "trate that the DR$^{2}$-Net\n",
            "outperforms traditionarize unafablaons\n",
            "avolonity-a cetfain levedigner Affrich rotword thes. It goothed preditabosural from a sproptspovun pewtens new,\n",
            "can dep sintiating work, in aneune frurilocans -tom by on berchsting,\n",
            "work. Etrisob supenteraps dotet epriceed oreagections stowat. We\n",
            "mollthind deral vata devorgionato plercosition,\n",
            "to miead fait andopht. In\n",
            "digiin deriblit spimealize the ericapposunces newwore.  clon-i\n"
          ],
          "name": "stdout"
        },
        {
          "output_type": "execute_result",
          "data": {
            "text/plain": [
              "<keras.callbacks.History at 0x7fb543bee390>"
            ]
          },
          "metadata": {
            "tags": []
          },
          "execution_count": 19
        }
      ]
    },
    {
      "cell_type": "markdown",
      "metadata": {
        "id": "JDtEKbPvKaRf"
      },
      "source": [
        "Данная модель оказалась неудачной, итоговая точность довольно маленькая-37%."
      ]
    },
    {
      "cell_type": "markdown",
      "metadata": {
        "id": "W3JGXLwe0JWA"
      },
      "source": [
        "### Результаты тренировки"
      ]
    },
    {
      "cell_type": "code",
      "metadata": {
        "id": "EI5n---BLlxs",
        "outputId": "938b6f52-1479-4649-ff88-609f7d9f42bb",
        "colab": {
          "base_uri": "https://localhost:8080/",
          "height": 87
        }
      },
      "source": [
        "print(generateText(800,0.5))"
      ],
      "execution_count": null,
      "outputs": [
        {
          "output_type": "stream",
          "text": [
            "approaches on the cross-document event\n",
            "coreference dothe the weigricainion the remert consure of the farist ty termone corts the in the clonation thes tage of nimed to meot an bation in the operfor pares to thein ans mothore the mata eutapate tres phineation underfor to aritate smanaling the not\n",
            "fie deret the od for contic pertionate strenderitives the apredite tage tratation in pospale conparients stow erarventetion and the cantata pare by fict res choperse are in at fanity al ans and the for sines dobevation the nod let an entres har stes infert the nome rease in poristrarging takes the the contrise the ror asion conpret pentle asef this sed the cormes conses, condering deeid cast detord on on a bow loc is te torots the harme propate sattinato fulter to comationar or canterns set in the tere of monses becond and on its trechion sists in\n"
          ],
          "name": "stdout"
        }
      ]
    },
    {
      "cell_type": "markdown",
      "metadata": {
        "id": "JWMLtOamxJ22"
      },
      "source": [
        "Почти весь текст с ошибками, неразборчивыми словами."
      ]
    },
    {
      "cell_type": "markdown",
      "metadata": {
        "id": "QxlcuM0yF4q3"
      },
      "source": [
        "# Часть 2. **Свои данные**\n",
        "\n",
        "В качестве русскоязычных текстов мы взяли книгу \"Гарри Поттер. Философский камень\". Это будет интересно)"
      ]
    },
    {
      "cell_type": "markdown",
      "metadata": {
        "id": "IdNVYn6HzkN6"
      },
      "source": [
        "## Чтение данных"
      ]
    },
    {
      "cell_type": "code",
      "metadata": {
        "id": "k0LA8vPTG1ZS",
        "outputId": "92946283-0529-41e9-b259-14eec02622fa",
        "colab": {
          "base_uri": "https://localhost:8080/",
          "height": 34
        }
      },
      "source": [
        "with io.open('drive/My Drive/NLP/Garri_Potter.txt', encoding='utf-8') as file:\n",
        "    text = file.read().lower()\n",
        "print('Corpus length:', len(text))"
      ],
      "execution_count": null,
      "outputs": [
        {
          "output_type": "stream",
          "text": [
            "Corpus length: 543835\n"
          ],
          "name": "stdout"
        }
      ]
    },
    {
      "cell_type": "markdown",
      "metadata": {
        "id": "m_JeUBN_IhEp"
      },
      "source": [
        "Размер текста оказался намного меньше, чем у предыдущего датасета."
      ]
    },
    {
      "cell_type": "code",
      "metadata": {
        "id": "tT59KYOqHbye",
        "outputId": "e0c62091-9311-42da-8cd1-4626c248ee39",
        "colab": {
          "base_uri": "https://localhost:8080/",
          "height": 54
        }
      },
      "source": [
        "text[50000:51000]"
      ],
      "execution_count": null,
      "outputs": [
        {
          "output_type": "execute_result",
          "data": {
            "text/plain": [
              "' ему испортить твой день рождения!\\xa0— вскричала миссис дурсль, крепко обнимая сына.\\n\\n—\\xa0я… я не хочу… не хоч-ч-чу, чтобы он ехал с нами!\\xa0— выдавил из себя дадли в перерывах между громкими всхлипываниями, кстати, абсолютно фальшивыми.\\xa0— он… он всегда все по-по-портит!\\n\\nмиссис дурсль обняла дадли, а тот высунулся из-за матери и, повернувшись к гарри, состроил отвратительную гримасу.\\n\\nв этот момент раздался звонок в дверь.\\n\\n—\\xa0о господи, это они!\\xa0— в голосе тети петуньи звучало отчаяние.\\n\\nчерез минуту в кухню вошел лучший друг дадли, пирс полкисс, вместе со своей матерью. пирс был костлявым мальчишкой, очень похожим на крысу. именно он чаще всего держал жертв дадли, когда последний их лупил. увидев друга, дадли сразу прекратил свой притворный плач.\\n\\nполчаса спустя гарри, не смевший поверить в свое счастье, сидел на заднем сиденье машины дурслей вместе с пирсом и дадли и впервые в своей жизни ехал в зоопарк. тетя с дядей так и не придумали, на кого его можно оставить. но прежде чем гарри сел '"
            ]
          },
          "metadata": {
            "tags": []
          },
          "execution_count": 7
        }
      ]
    },
    {
      "cell_type": "code",
      "metadata": {
        "id": "NxrC5OvKH4xq",
        "outputId": "23747a45-8012-47e9-b494-365257e705c2",
        "colab": {
          "base_uri": "https://localhost:8080/",
          "height": 34
        }
      },
      "source": [
        "vocab = sorted(set(text))\n",
        "symbol = sorted(list(set(text)))\n",
        "vocab_to_int = {c: i for i, c in enumerate(vocab)}\n",
        "int_to_vocab = dict(enumerate(vocab))\n",
        "len(vocab)"
      ],
      "execution_count": null,
      "outputs": [
        {
          "output_type": "execute_result",
          "data": {
            "text/plain": [
              "89"
            ]
          },
          "metadata": {
            "tags": []
          },
          "execution_count": 8
        }
      ]
    },
    {
      "cell_type": "markdown",
      "metadata": {
        "id": "IaqOqGTzJTTv"
      },
      "source": [
        "Число символов уменьшилось на 8."
      ]
    },
    {
      "cell_type": "code",
      "metadata": {
        "id": "VIfoSBR1IkNI",
        "outputId": "48ae81b1-9c97-4d3f-8bf0-193a92c2c9fc",
        "colab": {
          "base_uri": "https://localhost:8080/",
          "height": 50
        }
      },
      "source": [
        "maxlen = 40\n",
        "num_steps = 3\n",
        "sequences, next_symbol  = [], []\n",
        "for i in range(0, len(text) - maxlen, num_steps):\n",
        "    sequences.append(text[i: i + maxlen])\n",
        "    next_symbol.append(text[i + maxlen])\n",
        "print('Number of sequences:', len(sequences))\n",
        "\n",
        "x = np.zeros((len(sequences), maxlen, len(symbol)), dtype=np.bool)\n",
        "y = np.zeros((len(sequences), len(symbol)), dtype=np.bool)\n",
        "for i, s in enumerate(sequences):\n",
        "    for j, c in enumerate(s):\n",
        "        x[i, j, vocab_to_int[c]] = 1\n",
        "    y[i, vocab_to_int[next_symbol[i]]] = 1\n",
        "\n",
        "x.shape, y.shape"
      ],
      "execution_count": null,
      "outputs": [
        {
          "output_type": "stream",
          "text": [
            "Number of sequences: 181265\n"
          ],
          "name": "stdout"
        },
        {
          "output_type": "execute_result",
          "data": {
            "text/plain": [
              "((181265, 40, 89), (181265, 89))"
            ]
          },
          "metadata": {
            "tags": []
          },
          "execution_count": 9
        }
      ]
    },
    {
      "cell_type": "markdown",
      "metadata": {
        "id": "QvZh7DL0QC0C"
      },
      "source": [
        "Исходя из полученных результатов в первой части, мы решили работать с двумя моделями: модель с двумя слоями LSTM и модель, у которой два слоя GRU."
      ]
    },
    {
      "cell_type": "markdown",
      "metadata": {
        "id": "qW7oDo18yStD"
      },
      "source": [
        "## **Model 2** - two LSTM"
      ]
    },
    {
      "cell_type": "markdown",
      "metadata": {
        "id": "YFdYa4qwz8ht"
      },
      "source": [
        "### Обучение"
      ]
    },
    {
      "cell_type": "markdown",
      "metadata": {
        "id": "l5knbJIWIy8E"
      },
      "source": [
        "Т.к. данных получилось меньше, можно уменьшить batch size и увеличить число эпох. В этом случае обучение будет длиться намного быстрее."
      ]
    },
    {
      "cell_type": "code",
      "metadata": {
        "id": "lqZrA-LsWVvd",
        "outputId": "b78d29e3-df79-4b47-acbb-1e03cb0afcb1",
        "colab": {
          "base_uri": "https://localhost:8080/",
          "height": 1000
        }
      },
      "source": [
        "model.fit(x, y,\n",
        "          batch_size=128,\n",
        "          epochs=40,\n",
        "          callbacks=[LambdaCallback(on_epoch_end=on_epoch_end)])"
      ],
      "execution_count": null,
      "outputs": [
        {
          "output_type": "stream",
          "text": [
            "WARNING:tensorflow:From /usr/local/lib/python3.6/dist-packages/tensorflow_core/python/ops/math_grad.py:1424: where (from tensorflow.python.ops.array_ops) is deprecated and will be removed in a future version.\n",
            "Instructions for updating:\n",
            "Use tf.where in 2.0, which has the same broadcast rule as np.where\n",
            "WARNING:tensorflow:From /usr/local/lib/python3.6/dist-packages/keras/backend/tensorflow_backend.py:1033: The name tf.assign_add is deprecated. Please use tf.compat.v1.assign_add instead.\n",
            "\n",
            "WARNING:tensorflow:From /usr/local/lib/python3.6/dist-packages/keras/backend/tensorflow_backend.py:1020: The name tf.assign is deprecated. Please use tf.compat.v1.assign instead.\n",
            "\n",
            "WARNING:tensorflow:From /usr/local/lib/python3.6/dist-packages/keras/backend/tensorflow_backend.py:3005: The name tf.Session is deprecated. Please use tf.compat.v1.Session instead.\n",
            "\n",
            "Epoch 1/40\n",
            "WARNING:tensorflow:From /usr/local/lib/python3.6/dist-packages/keras/backend/tensorflow_backend.py:190: The name tf.get_default_session is deprecated. Please use tf.compat.v1.get_default_session instead.\n",
            "\n",
            "WARNING:tensorflow:From /usr/local/lib/python3.6/dist-packages/keras/backend/tensorflow_backend.py:197: The name tf.ConfigProto is deprecated. Please use tf.compat.v1.ConfigProto instead.\n",
            "\n",
            "WARNING:tensorflow:From /usr/local/lib/python3.6/dist-packages/keras/backend/tensorflow_backend.py:207: The name tf.global_variables is deprecated. Please use tf.compat.v1.global_variables instead.\n",
            "\n",
            "WARNING:tensorflow:From /usr/local/lib/python3.6/dist-packages/keras/backend/tensorflow_backend.py:216: The name tf.is_variable_initialized is deprecated. Please use tf.compat.v1.is_variable_initialized instead.\n",
            "\n",
            "WARNING:tensorflow:From /usr/local/lib/python3.6/dist-packages/keras/backend/tensorflow_backend.py:223: The name tf.variables_initializer is deprecated. Please use tf.compat.v1.variables_initializer instead.\n",
            "\n",
            "181265/181265 [==============================] - 224s 1ms/step - loss: 2.6709 - acc: 0.2533\n",
            "\n",
            "----- GENERATING TEXT AFTER EPOCH: 0\n",
            "----- DIVERSITY: 0.2\n",
            "----- GENERATING with seed: \"е понял, как оказался на крыше, но тот м\"\n",
            "е понял, как оказался на крыше, но тот ма не стотал сома на подил породал на полона с серена постол на на водеть в постол поровать столи не поронал пометто не водно себе не стотот полона в столи на всемна сего не не постоли не серен поторать не столи на вотом не постола не половал сома на вотом не полена в сторона породеть порестол соме серена в стори не вотом не не содет в столи на не полона в не стори слатал в сторал серена полона он \n",
            "----- DIVERSITY: 0.5\n",
            "----- GENERATING with seed: \"е понял, как оказался на крыше, но тот м\"\n",
            "е понял, как оказался на крыше, но тот моля пристоли и камене на кога не в донена дестались понеза провется на не на ускали.\n",
            "\n",
            "— то это стора все сего и стали дулно какать рапритали и на кого с сего сторетно семли полошай слито он какума и на сторат она мосто покотил пототло полани сого су слат и в дегра очся порутьто стаковал на всечно смала с самени ронут сали на мадной на онна кочел манет потонала валась в стороно совоть подесторись з\n",
            "----- DIVERSITY: 1.0\n",
            "----- GENERATING with seed: \"е понял, как оказался на крыше, но тот м\"\n",
            "е понял, как оказался на крыше, но тот мовтя иль обвылной кур те бродом слоза себи зубем нуга\n",
            "\n",
            "мудем, — когрыпыл, очтоц не всеншниты я умет, сема пополечел, нодатыпопорнась не (брезать жата ны вызбил в подут, пробра увальсь сс канену кактаре кагил загоэко рулийс— онскые назлинил нидацалсяться ссномp к нагнома закодол сгоро нажнех майто, но порези и болсу выпрало!\n",
            "\n",
            "— вона этала зноговить? — кул. в зну…\n",
            "\n",
            "ога, к эте преаятелам ем дсдовы:.\n",
            "\n",
            "----- DIVERSITY: 1.2\n",
            "----- GENERATING with seed: \"е понял, как оказался на крыше, но тот м\"\n",
            "е понял, как оказался на крыше, но тот мась гарри wвиго вузол езнай, змъечевдак? — нежпогь ррохочто. ко-я вызал, тогы рфючата дажгы ястелаостась, чтоныгыв, ечткию пеблилорю даде о хеммивири, я випотя мизноня федюль вейваше,,\n",
            "\n",
            "обид — скога — чтома-сыкал, полерся перьсктиввери.\n",
            "\n",
            "об.\n",
            "ты. — пперювапримичик.\n",
            "\n",
            "доза былинит, зоч к не уск ттавеми тыка о накся.\n",
            "\n",
            "ярвогнибsлома вебя — на-тону; лушжушя черишжию кавелошта. — этразнью, жетигопи фесмо\n",
            "Epoch 2/40\n",
            "181265/181265 [==============================] - 214s 1ms/step - loss: 2.2124 - acc: 0.3511\n",
            "\n",
            "----- GENERATING TEXT AFTER EPOCH: 1\n",
            "----- DIVERSITY: 0.2\n",
            "----- GENERATING with seed: \"хнуться можно…\n",
            "\n",
            "— извини, гарри, но ника\"\n",
            "хнуться можно…\n",
            "\n",
            "— извини, гарри, но никак в сколом соморов по  своем сторанима потому соборал совору не сотором со столовались и стольно поделать на совором постору не солет не сполько постовал на соберались просто на сомолить поледно закотал в соменно посто волет собо не себя посто всему он поростовал семень посто все соверил в  сторой постоветь в сколом него не сомот подостали и поставал он полетал на поверение свое соморной соболько \n",
            "----- DIVERSITY: 0.5\n",
            "----- GENERATING with seed: \"хнуться можно…\n",
            "\n",
            "— извини, гарри, но ника\"\n",
            "хнуться можно…\n",
            "\n",
            "— извини, гарри, но никах в закостивал разгое воснев держ неизали на казаль с намилитой из начился и увереников слего тригониковались, что просто вомнется деря а сегоником его сполось прожиссова не я сому н чалько посамовать, тот вольчем сулькик так и покоминила не она постувалась его дастверное рдисти восковорить на комна они было сторол с не сверстивать в заметоа гарри, не снегг на порумали с семеникой. гарри в с нам с\n",
            "----- DIVERSITY: 1.0\n",
            "----- GENERATING with seed: \"хнуться можно…\n",
            "\n",
            "— извини, гарри, но ника\"\n",
            "хнуться можно…\n",
            "\n",
            "— извини, гарри, но ника, неласолы, кобиные с отоже чене ронкериваяь келоку неветуск, что мы еперкаравалось….\n",
            "\n",
            "— а o всквоищно кнотфаль.\n",
            "\n",
            "\n",
            "\n",
            "\n",
            "\n",
            "хагмир. которию попочеь гоарие собовко сторюсилы же убелаттее. дол. посвостреть и намо, нугом, бамим дтаронкое фолом свишенка, поверел вовщидел, он дак е заветлевись, ты узначаз гороба, тосте болесась, я мик свигре-то, заприсавьлия — по-гобля ет горову тик изсе-куга прашула в свыем\n",
            "----- DIVERSITY: 1.2\n",
            "----- GENERATING with seed: \"хнуться можно…\n",
            "\n",
            "— извини, гарри, но ника\"\n",
            "хнуться можно…\n",
            "\n",
            "— извини, гарри, но никав, *\n",
            "m, этлю проглюшке слыш?», — \n",
            "—хосал, надкрали, \tториби шарли\n",
            "сля реварсчить. но посвотере. ан… — прошис. — уйщес — ужажу, она узнезше, и статослоое.\n",
            "\n",
            "скетопумастви. мясты оззрав, простосмеет, чтоту сракоста харетомо завыт! — у бо что не то вождегн, стаитею осретшив. — чам окбечнатаединоски и кно бытьки, о ямно нывшят мукил рuчее мыжа, бы поюбе стиле, герги, тобы а-гогове успал рбунщалаи комин\n",
            "Epoch 3/40\n",
            "181265/181265 [==============================] - 214s 1ms/step - loss: 2.0028 - acc: 0.4052\n",
            "\n",
            "----- GENERATING TEXT AFTER EPOCH: 2\n",
            "----- DIVERSITY: 0.2\n",
            "----- GENERATING with seed: \"ки налились свинцом.\n",
            "\n",
            "он моргнул. это бы\"\n",
            "ки налились свинцом.\n",
            "\n",
            "он моргнул. это было полочал не положал получали с него полодить по нему положались положал своем полобый получать профессор макгонагалл с него пола волобый самой следую полочать полочали в сторона. гарри и потому что поломая положения полому и который положения на сомону полочали поломать с него половать с нем страни.\n",
            "\n",
            "— но полочил профессор макгонагалл с тому сомому не солоони и положались в породом полочали с не\n",
            "----- DIVERSITY: 0.5\n",
            "----- GENERATING with seed: \"ки налились свинцом.\n",
            "\n",
            "он моргнул. это бы\"\n",
            "ки налились свинцом.\n",
            "\n",
            "он моргнул. это была в заметил валиденный себы, потому что он было произнес гермиона дордался в обраноскай сереским профессор макгонагалл семно не соманил он потома какаком слушали последом с вололкему.\n",
            "\n",
            "— так послед профиссор какогона не должорами слова на посодать получьте и соложал, что он пронилась слова и в полова. что было семену в только страну дадли и голова у половают увереми. и потому так показался голов \n",
            "----- DIVERSITY: 1.0\n",
            "----- GENERATING with seed: \"ки налились свинцом.\n",
            "\n",
            "он моргнул. это бы\"\n",
            "ки налились свинцом.\n",
            "\n",
            "он моргнул. это былеста к тарбеном послидаклем пяря, за пущьом? хогодно, ему выднилась фолетькие, молёты с кумсом. — кокорый сетя это высимачным рошллся, похоми и посмотить все гермионой дожелания посатит… веля, когда не мыплинулся мялы полыдке. и вапи рабостал мене знака. это был оммним и чтобы и не правать нога деряскантси, профлитерь. и конучавое голову попол, наполоку душе?\n",
            "\n",
            "— жиу бы вид волшебы! — они мачет, —\n",
            "----- DIVERSITY: 1.2\n",
            "----- GENERATING with seed: \"ки налились свинцом.\n",
            "\n",
            "он моргнул. это бы\"\n",
            "ки налились свинцом.\n",
            "\n",
            "он моргнул. это была?\n",
            "\n",
            "— гарри, — просмечил ждла камеце, видишно ейли мазхоженя.\n",
            "\n",
            "— ож. — экак ты хоцить!\n",
            "\n",
            "рваумодном затошло, чтобо фылачьу, что я не судет рон. но каменик сорушьной прясила, комса он разопи, — я лскат,, лажно от, мольла, набил что спраску холыв, замитнныт дел, ещим разберил к малфоду.\n",
            "\n",
            "гарри обыдится прасбабатем ногла зерэбляршки. а пуже узмателая. — хутеему услезны тобся, улучеэ наденше на отчья,\n",
            "Epoch 4/40\n",
            "181265/181265 [==============================] - 214s 1ms/step - loss: 1.8612 - acc: 0.4432\n",
            "\n",
            "----- GENERATING TEXT AFTER EPOCH: 3\n",
            "----- DIVERSITY: 0.2\n",
            "----- GENERATING with seed: \"ый перевод компенсирует незнание английс\"\n",
            "ый перевод компенсирует незнание английся в сторону и сталось в семной как и по столом коночко сталось в сомне привется в пола не вы сталось в принестовались в колной совородание и по произнес он спостил в конов когда в поле по столоным и подамал гарри и потому что не подалось в столом совсем и потому по собовался в положно по свое сталось от ответил он подамал из семной совой постовно подамал он стал в коном пола и подало не подалал ег\n",
            "----- DIVERSITY: 0.5\n",
            "----- GENERATING with seed: \"ый перевод компенсирует незнание английс\"\n",
            "ый перевод компенсирует незнание английства говорить в поленным из следом от камне проверное конороная межет походил он постовнила в обраховать не мог стоял гарри отратившись с всем дерсльствое комнется не меня не подать по том подумыть в приконя.\n",
            "\n",
            "— да только везно вы то мальчо не подумал его в столо от остовались с не за страние, что он подверти не совый на семней к нему места раз корот вздля на они собурался на гарри.\n",
            "\n",
            "— и все с тем,\n",
            "----- DIVERSITY: 1.0\n",
            "----- GENERATING with seed: \"ый перевод компенсирует незнание английс\"\n",
            "ый перевод компенсирует незнание английся по онши. пто кошерся стелая, за тго чего прошлести потому что ему прявив наконка дврадались.\n",
            "\n",
            "— хогизал воглядел устали магние?\n",
            "\n",
            "они гарри и плили и с нец овыгаться гарри. которые только привте ходом вопал часкать малька, потом цел к резывкищенике влазить. накппираменикам (фомунни ускулля не есть удалось, назаль в какарацешь ряз окакачел чко а кнегнию покобо хотя все от рединоо ы ризна.\n",
            "\n",
            "гермион\n",
            "----- DIVERSITY: 1.2\n",
            "----- GENERATING with seed: \"ый перевод компенсирует незнание английс\"\n",
            "ый перевод компенсирует незнание английсте.\n",
            "\n",
            "— q ) самсям, — сченкипренающившем дуржлодшел в козомочши, перяшивать, всегда оклечал?\n",
            "\n",
            "вмел не в горувом стора попры накакое гуластять за назнам гнегг?\n",
            "\n",
            "— кадансе! — поности заколно, — эго мог — одпрасл дакозинаем и ну, — ов его потчев \n",
            "мамим 2ый было он там кто-что обрити, надо двиглиженднее скловил пу морзнон ставели.\n",
            "\n",
            "\n",
            "\n",
            "\n",
            "\n",
            "\n",
            "\n",
            "\n",
            "\n",
            "\n",
            "\n",
            "\n",
            "\n",
            "\n",
            "\n",
            "кликнол, сылес, желин, он нашкония повдр вит хоредыви. кс\n",
            "Epoch 5/40\n",
            "181265/181265 [==============================] - 215s 1ms/step - loss: 1.7585 - acc: 0.4707\n",
            "\n",
            "----- GENERATING TEXT AFTER EPOCH: 4\n",
            "----- DIVERSITY: 0.2\n",
            "----- GENERATING with seed: \"тсюда.\n",
            "\n",
            "— думаю, мы оторвались, — с труд\"\n",
            "тсюда.\n",
            "\n",
            "— думаю, мы оторвались, — с трудом на полочно, как все на себя поднял по сколом и поднял себя столько столом, что то потому что стал себя поднять в коредоре соберали на том, что тот потому что стоял собером. на столом столько не подумать столько сполоникими у него сталось столько столоным собой столом столом столом сторону, который малфой на столом дорожание себе столом и подалочка и поднял гарри.\n",
            "\n",
            "— не подамал гарри, который сп\n",
            "----- DIVERSITY: 0.5\n",
            "----- GENERATING with seed: \"тсюда.\n",
            "\n",
            "— думаю, мы оторвались, — с труд\"\n",
            "тсюда.\n",
            "\n",
            "— думаю, мы оторвались, — с трудом меня на полешения в зануть. — столько спросил раз к тамиме подамена постольно продется, а гарри поднял и тебе коночили столом уборые полядения стояли мастерное криками и на себя вызнали его за торуе лежали своей свое сеть, я в какой на конец подвинул на свентой, они спросил его день поделать меня с убу и странивая коне. гарри послашал от насобщем больше подстовили на себе на полета.\n",
            "\n",
            "— на себя \n",
            "----- DIVERSITY: 1.0\n",
            "----- GENERATING with seed: \"тсюда.\n",
            "\n",
            "— думаю, мы оторвались, — с труд\"\n",
            "тсюда.\n",
            "\n",
            "— думаю, мы оторвались, — с трудо свовил она улымка длашного. все оказал какалась, как удально ррисоштвиуеси мне много. кногить, настенье успащино так со нее.\n",
            "\n",
            "— не оказались сбобь сомно лько-сдоришку, когду вас похракай нечь прошлу. — будет подоростов. гарри шезную игра и свое погизетьы. \n",
            "\n",
            "\n",
            "\n",
            "\n",
            "\n",
            "кзамле! текта бужал за общего. — на потому, титого и по, скоть был, — невилл разосхнул. — донась думаю глазами, как дрячныстверив… напре\n",
            "----- DIVERSITY: 1.2\n",
            "----- GENERATING with seed: \"тсюда.\n",
            "\n",
            "— думаю, мы оторвались, — с труд\"\n",
            "тсюда.\n",
            "\n",
            "— думаю, мы оторвались, — с трудым стил?\n",
            "\n",
            "— бият,…\n",
            "вилец шляки, тонцию ноприд насмалт.\n",
            "\n",
            "вамень хотел заветить. ааз это могу зашейнку.\n",
            "\n",
            "дамблдор же трыт, появога вах на пошли, вал которолка встущал, кегодявох.\n",
            "\n",
            "гарри познае, — оженно очевяное резивтет делать кошка — закончан обмры.\n",
            "\n",
            "— однако, — разно подпратнила возмушлаю-шесты. она заспетил распох.\n",
            "\n",
            "— в самом может… вскриканее, фаттри, сыпал явоком флиме заелога.\n",
            "\n",
            "— но. и пошли \n",
            "Epoch 6/40\n",
            "181265/181265 [==============================] - 214s 1ms/step - loss: 1.6790 - acc: 0.4933\n",
            "\n",
            "----- GENERATING TEXT AFTER EPOCH: 5\n",
            "----- DIVERSITY: 0.2\n",
            "----- GENERATING with seed: \"лке вуд отвел гарри в сторону.\n",
            "\n",
            "— не хоч\"\n",
            "лке вуд отвел гарри в сторону.\n",
            "\n",
            "— не хочет в сторону с него в столой с них в себя в столой полетные в столой маглиными столом в собой случай, что он стоял себе на свои столой поднял и подамал размерить с ним подумать по столой под воздухе в сторону с ней столом в себя в сторону и потом в том другой с нем в себе с не совернулся с нем столом может в общем не следующих странным столом столом столой поднялись в конддере в своих волшебника. \n",
            "----- DIVERSITY: 0.5\n",
            "----- GENERATING with seed: \"лке вуд отвел гарри в сторону.\n",
            "\n",
            "— не хоч\"\n",
            "лке вуд отвел гарри в сторону.\n",
            "\n",
            "— не хочет, но не знает в разверно ответил гарри. с себе может под делать и ты на себе себя в собой сово не запрятал в порядим в минези и светилось напросился в его произнес от него за видина с них и за воддух слизами, что на сторону от пола потом заблазали в просто сотсященикий в общем от воздухе, на толом через школе до из с него не выдал и только стольно за чем каренься, что метло на поледно и стоял об\n",
            "----- DIVERSITY: 1.0\n",
            "----- GENERATING with seed: \"лке вуд отвел гарри в сторону.\n",
            "\n",
            "— не хоч\"\n",
            "лке вуд отвел гарри в сторону.\n",
            "\n",
            "— не хочее вы, гду за торуго… было кравли он спошковал, что и затат к отолыбые минички приздамен светелибысь к сеедух, в ытам.\n",
            "\n",
            "за заспасть, и были туда на коредуде, и дело ему не веди насмолить фних прид нитовие не момет чесь камина деркали гробыми скизани.\n",
            "\n",
            "первогу все ощутила кресмента в втера будем кромить.\n",
            "\n",
            "слимяя прийта в булчей хагрида не понял, когда страшно всгочат. а рятельно запладила. гарри и \n",
            "----- DIVERSITY: 1.2\n",
            "----- GENERATING with seed: \"лке вуд отвел гарри в сторону.\n",
            "\n",
            "— не хоч\"\n",
            "лке вуд отвел гарри в сторону.\n",
            "\n",
            "— не хочет были сразным и шаг. гарри рашсранораничивал. — с палу залка, вог то пробрезались?\n",
            "\n",
            "— двачий руку иечно, пробур маленьки! драгоним. хагрид, и мерду санували мязита!.\n",
            "\n",
            "— ну хагрида уверун?\n",
            "\n",
            "— вы, — гройщи с камчение.\n",
            "\n",
            "гарри утл неспрасноко отсидин ярской закром вокругая, уимие рауткоержение. прасто, искрыки никовернико. когда наконец  хоти но еще не удуксят. а епринулись его цеплетасках намей, ка\n",
            "Epoch 7/40\n",
            "181265/181265 [==============================] - 213s 1ms/step - loss: 1.6137 - acc: 0.5098\n",
            "\n",
            "----- GENERATING TEXT AFTER EPOCH: 6\n",
            "----- DIVERSITY: 0.2\n",
            "----- GENERATING with seed: \"ледний школьный обед, поттер? — с издевк\"\n",
            "ледний школьный обед, поттер? — с издевко все в поледника от него порость не заметил себя поднями малфоя, потому что он спросил гарри.\n",
            "\n",
            "— не полема по полотую мантию, он поднялся по поле под несколькой комнаты, пока по полоским полету, как просто не поднялся в собой, что он подало на собой после по том, что не был по своей столой с ней под меня по раз получить от него с нем поднялся на собой по себя по своей комнаты, когда он все в себя\n",
            "----- DIVERSITY: 0.5\n",
            "----- GENERATING with seed: \"ледний школьный обед, поттер? — с издевк\"\n",
            "ледний школьный обед, поттер? — с издевки подмал гарри.\n",
            "\n",
            "— а не знаю, что раз разумаешь подумать в мантию на волшебников очеста. не знает слизерина другом проколосил как в сторону, но в голосе поспушно получила с нем со сторону. в небрая напомнения малфоя, полесовал тебе посмотрения. так тебя тебе он был его странных открыт. а тот же не подзрался по взосок в том его труглу в укрывальных по полу, на головой в шебла по первый меня просто \n",
            "----- DIVERSITY: 1.0\n",
            "----- GENERATING with seed: \"ледний школьный обед, поттер? — с издевк\"\n",
            "ледний школьный обед, поттер? — с издевко. — когда мне веть беденький того, услыбать мость, и меня были хоть из стены. после балого следы не знаем на гребфикрей метла в двере и воздуха», — он замут пись, а потом футь себе невлись, который мило в громирен « единыки. уже препонил дядя вернон.\n",
            "\n",
            "«гирри глаз. он взгляд, но кижетесь, естное воопще повмосли от меня вреди и узлатить не лорествами.\n",
            "\n",
            "— только снова дамет — тей трольто ток, но даж\n",
            "----- DIVERSITY: 1.2\n",
            "----- GENERATING with seed: \"ледний школьный обед, поттер? — с издевк\"\n",
            "ледний школьный обед, поттер? — с издевком, — застала эт жан. — лести. — заснего вибли — й дверь у бука другует, dак у даже, зайхо, что дрожаяпшка и спуски — но ни из-qrже-оканая…\n",
            "\n",
            "они… он взжил обкрывывать опочь, они крамо очитающих скизать в камень?\n",
            "\n",
            "— го…оду-то вопрасным германной, и ся! обрандерйста, все «чемнак-иглу.\n",
            "\n",
            "— а потверм покарылусь. — ведь эту прошли, был их — знакы та посудуть на ярельн протвочдулся прихрети.\n",
            "\n",
            "конет скоза\n",
            "Epoch 8/40\n",
            "181265/181265 [==============================] - 214s 1ms/step - loss: 1.5581 - acc: 0.5245\n",
            "\n",
            "----- GENERATING TEXT AFTER EPOCH: 7\n",
            "----- DIVERSITY: 0.2\n",
            "----- GENERATING with seed: \"тно. а тут он должен был бы все объяснит\"\n",
            "тно. а тут он должен был бы все объяснить в сторону, он посторожал голову и поднял себе с нем возмущали с нем возмущались. а потом по следующих по поле столом столом и подумать. он случилось с ним со своей столом сполом по свете. на следующем очень не собралась в замет по свете. но не мог по свете, и последний свой себе и подумал с ним столом столом по столом и поднял его в конце криком. а с том, что он посмотрел на своей собу.\n",
            "\n",
            "— не мо\n",
            "----- DIVERSITY: 0.5\n",
            "----- GENERATING with seed: \"тно. а тут он должен был бы все объяснит\"\n",
            "тно. а тут он должен был бы все объяснить может видимают с том, что не совершенно не передустались с видом, у волшебника и попаспел по волосы, словно стоял из контара. в какой не с том, что же становилось на прошепенные жела. он подмоллал хагрид, даже не посмотрел на своей советствов. а оболной семьество разно посмотрел на уже в поредной поленным фирулом, никогда не мог вы крикавать, а которые произнес гарри по столу. колечно контерра с\n",
            "----- DIVERSITY: 1.0\n",
            "----- GENERATING with seed: \"тно. а тут он должен был бы все объяснит\"\n",
            "тно. а тут он должен был бы все объяснить этой самым излегуние, — воткещенно мистер писиния рездилось никорасс норвала.\n",
            "\n",
            "совый слеками на свинетого и безекаждени разглядыват внезу. минутеримо ли не хотви ды увидум. все зденилно, как зачутятся.\n",
            "\n",
            "контил, ронан-дадли волшебники, ему на трунуньчай яз к нэго, и гарри ув ровол виогус и повопил ужи сстазало, что про кук в остросиние не захотать их шистые в конта. — может больше был можешь деся\n",
            "----- DIVERSITY: 1.2\n",
            "----- GENERATING with seed: \"тно. а тут он должен был бы все объяснит\"\n",
            "тно. а тут он должен был бы все объяснить.\n",
            "\n",
            "кто-то ждать вос из и было все очередно отскровить маггонога, нименки окнигаич.\n",
            "\n",
            "— не просто уняйсь?! мы быровок уходил его пишани!\n",
            "\n",
            "она есть меллае начало. по аздолется, заенпелась и больше сдилать в уцру, на столли к мими буде. вам докахал ему оден. — вскоче ему эта… опрештальные лажшей рэ. я выобще! гарри нет не хвазее прибтущаяте никамежных стаките. фингррон, а чего леленькивал бамии его п\n",
            "Epoch 9/40\n",
            "181265/181265 [==============================] - 214s 1ms/step - loss: 1.5119 - acc: 0.5365\n",
            "\n",
            "----- GENERATING TEXT AFTER EPOCH: 8\n",
            "----- DIVERSITY: 0.2\n",
            "----- GENERATING with seed: \"может это сделать. а все прочие могли ув\"\n",
            "может это сделать. а все прочие могли увидеть в собой повернулся в комнату с поленным и столом и настоящий спальники и поднял гарри. — он поднял гарри.\n",
            "\n",
            "— вот в том столом поднял гарри. — на том, что он всегда не понял, что он спокойно произнес гарри.\n",
            "\n",
            "— возможно, на получали в поле под него по поле под всем на поле, которые поттер в общем головой поле поднял гарри. — пода не понял, что он поднял гарри. — на самом деле поднялся в воздух\n",
            "----- DIVERSITY: 0.5\n",
            "----- GENERATING with seed: \"может это сделать. а все прочие могли ув\"\n",
            "может это сделать. а все прочие могли увидить в общем останов, и как он воздухи посмотрел на меня приказания в воздухе. но и тот было в полыша было ответить в порто поднял за поледник, и гарри с ним показалось по требе, как за ним поднял свой дня.\n",
            "\n",
            "— дабивал по поллоский совами в носименик, который на протавность совершественного улица, даже не получил в своей полет, гарри подли тебя не видел в порядке свое всего и несколько спеценалось\n",
            "----- DIVERSITY: 1.0\n",
            "----- GENERATING with seed: \"может это сделать. а все прочие могли ув\"\n",
            "может это сделать. а все прочие могли уверять, но появоесо для том, что гарри подумала от этой случаеших ходо разнезмецания.\n",
            "\n",
            "— а как же мы покраняку и большой права, — когда понять, кикой и денились черными и скныть неуминки. он весно почему оаметиться удастьавший. они под нем рясомы и показывается очко. не любялся тиков…\n",
            "\n",
            "— в голосе меня своих дите то волшебников таклю он — крытая машаны, тырнался произносил для том! небо так кто от о\n",
            "----- DIVERSITY: 1.2\n",
            "----- GENERATING with seed: \"может это сделать. а все прочие могли ув\"\n",
            "может это сделать. а все прочие могли увидеть, расснее хагрва, воз-кубыу свешлы ош теде ушас головывом-глиффинчой ехуются, а я во беш пя-ьан оцищал ниде «такой в сомленном? гарри жил доявнулась э-э2? легнуют та и вместох гермиону и кморрке зазшив на себя надеюсь.\n",
            "\n",
            "— а вы-волсе-н… темно, где он напрятила мешя, что он преклэчил гикри.\n",
            "\n",
            "— понимаю, кскачаться запально, как тость.\n",
            "\n",
            "— совсю меня насказывать, — затом квречил они со квиддич, пр\n",
            "Epoch 10/40\n",
            "181265/181265 [==============================] - 214s 1ms/step - loss: 1.4678 - acc: 0.5476\n",
            "\n",
            "----- GENERATING TEXT AFTER EPOCH: 9\n",
            "----- DIVERSITY: 0.2\n",
            "----- GENERATING with seed: \"отя бы нынешнюю молодежь, которая расхаж\"\n",
            "отя бы нынешнюю молодежь, которая расхажитая в собы с нем стараности.\n",
            "\n",
            "— он сказал в сторону по поле поднялся в собой и подумать. не заметил, что он все возвольно выставил его в сторону и от него по свете и все возводить по волшебных волшебным и серебряные положным странным и положной карточку. и он поднялся с нестильной карточку.\n",
            "\n",
            "— не знаю, что он поднялся в себя в себя по столой под столом и поднялся в конце положенным и положный кор\n",
            "----- DIVERSITY: 0.5\n",
            "----- GENERATING with seed: \"отя бы нынешнюю молодежь, которая расхаж\"\n",
            "отя бы нынешнюю молодежь, которая расхажится на пол совсем такой старости.\n",
            "\n",
            "— ты слово произнесла в полочку и тебе под ответи корда и гермиона и последние в родом голосой. и сейчас он начал в рона.\n",
            "\n",
            "— нет, ты высловил его любой, потом по пола ликоне поднялся и с ним заметил свои заскать снегга.\n",
            "\n",
            "— не было у него в конца и подумал. — с торое последние безей себе конца поднялся на себя как стазать. он не представал свой последую карточку \n",
            "----- DIVERSITY: 1.0\n",
            "----- GENERATING with seed: \"отя бы нынешнюю молодежь, которая расхаж\"\n",
            "отя бы нынешнюю молодежь, которая расхажих, осещением терей слада, повернывали кошка. — не голосы к-трамо, — медель хогвартс» не понолженилось. тот длу на, рагото, то я уще не все же заспосить, — показывал гарри о явствой.\n",
            "\n",
            "— генмиона! — ответ пучекуршее.\n",
            "\n",
            "«с него тостино, только попериал сиже, пто была зачатать, он помфле но стала ему посмотреть с полетаю привид до нами.\n",
            "\n",
            "вмость!\n",
            "\n",
            "перестали. а этот волмани… кворрелл, кажется как за то,\n",
            "----- DIVERSITY: 1.2\n",
            "----- GENERATING with seed: \"отя бы нынешнюю молодежь, которая расхаж\"\n",
            "отя бы нынешнюю молодежь, которая расхажизастая головы. овдорращит одобрандереная. еми сбудать места, тете принульзовать в нединицувиим ино. гарри.\n",
            "\n",
            "— мы лоев, я это забудеть? — отвярил гарри. он счастливало так, что, то, цтико заусед?\n",
            "\n",
            "охравше началась одестное ипиа наружила метублянию рядом — замое другой огорто остялих ахс», тот почти непядя тко ты дсказалось. — подада слежился репы после отсеслась. — по, что… я? — воцодился это… тет\n",
            "Epoch 11/40\n",
            "181265/181265 [==============================] - 214s 1ms/step - loss: 1.4304 - acc: 0.5592\n",
            "\n",
            "----- GENERATING TEXT AFTER EPOCH: 10\n",
            "----- DIVERSITY: 0.2\n",
            "----- GENERATING with seed: \"нагалл в ночной рубашке из клетчатой шот\"\n",
            "нагалл в ночной рубашке из клетчатой шотолки, потому что он все возвольно не стал себя на себя от столом под них стольком произнеснов по стене, потому что он все разно просто подамот посмотрел в портрете по поле поднялся в сторону до свет и сказал себя на полной сторону.\n",
            "\n",
            "— ну что это не сталось, что он все возвольно не стал по стене, и не поднялся по сторону.\n",
            "\n",
            "— поднял гарри, на себя не стал себя не собы.\n",
            "\n",
            "— вот потом посмотрел в нем с\n",
            "----- DIVERSITY: 0.5\n",
            "----- GENERATING with seed: \"нагалл в ночной рубашке из клетчатой шот\"\n",
            "нагалл в ночной рубашке из клетчатой шотолых и оставать снегга, и все это очень полетели с другому, и не заметил к нему, в сомая нас ответил признаться в нех на свое родители, который остановился в миле того, что получило заставленным и разнорвыми страми. но в спальне не появилась на полотники и голове повесли флин.\n",
            "\n",
            "— вы знаете, мой этот сомы выизнил, что даже над заними, а потом посметрел как малфой пытался разрывались. когда как и в \n",
            "----- DIVERSITY: 1.0\n",
            "----- GENERATING with seed: \"нагалл в ночной рубашке из клетчатой шот\"\n",
            "нагалл в ночной рубашке из клетчатой шотан, залучастеявший пяти перед столом — не все только него нескроми, — закрывал поглышал.\n",
            "\n",
            "— немного…\n",
            "\n",
            "\n",
            "когда квиррелл впровил гарри. — э-э… что он был слеку.\n",
            "\n",
            "за дрежко. он крывало с драконь. оказались его пересказали в себе о«дного большой опетими, руках затал не мог спрышани. и даже короста не столько выиграл его за ним до туйти. — людя обязавшись. гарри сстояло в корреней за с пот балошку в шко\n",
            "----- DIVERSITY: 1.2\n",
            "----- GENERATING with seed: \"нагалл в ночной рубашке из клетчатой шот\"\n",
            "нагалл в ночной рубашке из клетчатой шотул — потое об нем давно так зачутлиет?\n",
            "\n",
            "хагрид ослышал явдиранного нракой-кон-цратфором. рон нибю маком, чем ему в глаза старая. если дадли взгляда так как в несколько. вис, на ниго, ино любим должен стрянал олбер, выбовно кавало жифну в итхедном, потому к тоту поклятел хагрид.\n",
            "\n",
            "— у, слышал, он — незвирки стомилаешись, тем сдерать в зольто писькам судил, и рассчет возможно!\n",
            "\n",
            "готовы кроек призадал \n",
            "Epoch 12/40\n",
            "181265/181265 [==============================] - 214s 1ms/step - loss: 1.3934 - acc: 0.5693\n",
            "\n",
            "----- GENERATING TEXT AFTER EPOCH: 11\n",
            "----- DIVERSITY: 0.2\n",
            "----- GENERATING with seed: \"и едва успевая переводить дыхание. рычан\"\n",
            "и едва успевая переводить дыхание. рычан даже не понял, что не поднялся к столу.\n",
            "\n",
            "— нет, что все это произнесла с ним с ним, которые она поднялась в сторону в поле с полом с нем столько столом столом столько поднялась в полячения в сторону света и поднялся с себе поднять свой поднять их с полом поднял свой под кородки, которые произнесла на свою сторону в росмон своей своей своей себя поднялась к воздухе. а которые она принесила себе от\n",
            "----- DIVERSITY: 0.5\n",
            "----- GENERATING with seed: \"и едва успевая переводить дыхание. рычан\"\n",
            "и едва успевая переводить дыхание. рычан смотрете в поледую короберку — в уклось, он вечили в собой комнату, и после перед ним с ним, сделан вы все и в порядке, на поле почему протившего в каречей подошел за почти по правде. он поднял глаза. по семья не показал на пол назад.\n",
            "\n",
            "— ведь на воздухе команды и спорого, если еще надежное.\n",
            "\n",
            "когда квиррелл сек не прикоизал хагрид. — не успела воздух.\n",
            "\n",
            "— ну что?\n",
            "\n",
            "— представил правила, что с ним по\n",
            "----- DIVERSITY: 1.0\n",
            "----- GENERATING with seed: \"и едва успевая переводить дыхание. рычан\"\n",
            "и едва успевая переводить дыхание. рычание и ощели, набращивами, а как дамблдор прятно все разны в кабиретки строфнюмый воскота. видимо, в пиоче, а теперь он справил. а значит, что гарри, почиваться выпаленный вуч, с какий в-их ему изумое. изривали пять.\n",
            "\n",
            "гермиона соборители на зувлению и накуда туже? нет, это одыкаю, то мне меня усметил… я думаю, что кто не рассказал, что вы непроизнесли оеще снегг, которая на обудать, а может были сто\n",
            "----- DIVERSITY: 1.2\n",
            "----- GENERATING with seed: \"и едва успевая переводить дыхание. рычан\"\n",
            "и едва успевая переводить дыхание. рычанокак…\n",
            "\n",
            "жийми элице, что это, хматится керничего дайти ед были верили рбахнуты слова. да, чтобы отокрить жазника и волшебил, профессор, куда «но видели на у ним ощеть свездом, и ноа впереди час записвствене остранить зевиллой — из-бо ложнакой росму крикдатью — сэр, поднимая впросего…, — проызнула евуя палучый.\n",
            "\n",
            "— их, — ответик рон, дадли и черень-за посторой чал и к внезата инт. — но… — чуть ударож\n",
            "Epoch 13/40\n",
            "181265/181265 [==============================] - 216s 1ms/step - loss: 1.3583 - acc: 0.5777\n",
            "\n",
            "----- GENERATING TEXT AFTER EPOCH: 12\n",
            "----- DIVERSITY: 0.2\n",
            "----- GENERATING with seed: \"чно, а значит, он ужасно нервничал. гарр\"\n",
            "чно, а значит, он ужасно нервничал. гарри посмотрел на той жентие. на следующее просто получше не понять, что произнес гарри, потому что он посмотрел на своих спальнем и поднялись в постенный метлу. он был очень была на поле, как и все воздух, и все поднял и вот волшебника и последний с ним совершенным очков. на столо не следующих по правде, который последний полночку и посмотрел на себя с ним под мотолом и посторожение и волшебника сле\n",
            "----- DIVERSITY: 0.5\n",
            "----- GENERATING with seed: \"чно, а значит, он ужасно нервничал. гарр\"\n",
            "чно, а значит, он ужасно нервничал. гарри посмотрел на обеде с устракоми, когда он уже серь были очень другой и закончиться. на кого может портилесь и пострость, так что это было не семь последником были спетенья, а тетя петунья еще не понял, что вы судеть угалось. потому что он слишком совершенно произнес он. — просто представил из камнана. а тебя по наз поттера, нужен был в кросел и потом в коридоре у купен.\n",
            "\n",
            "— она вот вот что задавши\n",
            "----- DIVERSITY: 1.0\n",
            "----- GENERATING with seed: \"чно, а значит, он ужасно нервничал. гарр\"\n",
            "чно, а значит, он ужасно нервничал. гарри поттер меня, нам гарри было вчеревшимся с горманикий родовшеми креску.\n",
            "\n",
            "гарри прирадовали бароврами было донеса и поднялся пупе. — магаз пустэт, и мы потель? — идгладно, черный одирнения на дорольным закляние, с перхиходий по госланую замотри, он обращалась в стороне и у кримавью перед парантитвов, что-то улицу и вледа, а я поймущая, что не вокраг и села шабе, пер неберницы улыбались переводящуй\n",
            "----- DIVERSITY: 1.2\n",
            "----- GENERATING with seed: \"чно, а значит, он ужасно нервничал. гарр\"\n",
            "чно, а значит, он ужасно нервничал. гарри?\n",
            "\n",
            "\n",
            "\n",
            "\n",
            "\n",
            "\n",
            "гарри заявал первагодном мзю дуркам, сголоной жавность плавней глаза мор доргой. екунался, ответ нечно ответ еще вместы сражу назад и веще из бязнего, как и все крийнял, хагрид друг протиднил присрал на угалья ли напухной. удрая из тержили сгарин был  урикамки. а ничнуюсь был окоркой, когда вид оторда, маты ознала, мя потому что или через обыдай.\n",
            "\n",
            "о вас друг попечело чнасти в подпепеткем,\n",
            "Epoch 14/40\n",
            "181265/181265 [==============================] - 216s 1ms/step - loss: 1.3238 - acc: 0.5868\n",
            "\n",
            "----- GENERATING TEXT AFTER EPOCH: 13\n",
            "----- DIVERSITY: 0.2\n",
            "----- GENERATING with seed: \"никогда не оказаться поблизости от трехг\"\n",
            "никогда не оказаться поблизости от трехголовым столом волшебникам.\n",
            "\n",
            "— не знаю, — произнес гарри. — на себя с ним столом столком столом столом столом столом столом столом столом столом столом столом столом столом столом столом столом поднял и поднялся к свою воздухе. на которой поднял гарри.\n",
            "\n",
            "— не знаю, что он сказал, что не знаю, что не поднялся к коридоре и поднялся с ним в свою окросную команду и поднялся к подзавернующих и своих собр\n",
            "----- DIVERSITY: 0.5\n",
            "----- GENERATING with seed: \"никогда не оказаться поблизости от трехг\"\n",
            "никогда не оказаться поблизости от трехголового заклятия.\n",
            "\n",
            "— дойти он сказал остально выкрывать тебе с ним снегга.\n",
            "\n",
            "— но так что если вы не знаю, — с другом стоял по волосом. и с другой.\n",
            "\n",
            "— ну это ты не поднялся в ошком в хогвартсе, потом по зелиевое пробретеля на время собудь в последний сполойние.\n",
            "\n",
            "— над его старать, что снегг все выходит, — побрала профессор макгонагалл. — но моль он все разно закончил родом с полной закляния.\n",
            "\n",
            "— ну \n",
            "----- DIVERSITY: 1.0\n",
            "----- GENERATING with seed: \"никогда не оказаться поблизости от трехг\"\n",
            "никогда не оказаться поблизости от трехголовый игрок, когда ему одного заставить потлежит на маплипу и, которых дракпроверсл невзлосим.\n",
            "\n",
            "чнем отдело мое оздать серей.\n",
            "\n",
            "граффиндора. нам тебя не остался на маглов.\n",
            "\n",
            "— эй, ты не здесь? — он совершел дуржино.\n",
            "\n",
            "— о, быать! — домоствая голову гиканк.\n",
            "\n",
            "гарри рядон споривал как все головенного за коридореске.\n",
            "\n",
            "— я с места. — дамблдор за них своих на гарри. ты что-от ему был буды.\n",
            "\n",
            "— значит не за\n",
            "----- DIVERSITY: 1.2\n",
            "----- GENERATING with seed: \"никогда не оказаться поблизости от трехг\"\n",
            "никогда не оказаться поблизости от трехгирлики. на заблосие сильно тво. вуд этоперя?\n",
            "\n",
            "— для того такул того, еще боя никуд.\n",
            "\n",
            "все тебя радости своих рваду.\n",
            "\n",
            "— снови добестали — то, что его будут ного изченила?\n",
            "\n",
            "— косметре «знаети, — мистер дурсль брюзьеещесов сержулий. и не умейшны, побучать.\n",
            "\n",
            "— резко мимо! — молчали назвать в нозврусляй то в этом, это ждет он взюрался их думающего.\n",
            "\n",
            "он огарило ученики» к двиренного момень, — хагрид они \n",
            "Epoch 15/40\n",
            "181265/181265 [==============================] - 216s 1ms/step - loss: 1.2968 - acc: 0.5952\n",
            "\n",
            "----- GENERATING TEXT AFTER EPOCH: 14\n",
            "----- DIVERSITY: 0.2\n",
            "----- GENERATING with seed: \" бывало, так что вся тисовая улица освет\"\n",
            " бывало, так что вся тисовая улица осветились в коридоре с другой постоко под нестии. он был ответить в свою по столом и последней стену, потому что последний событья положке. на самом деле так попытался в полять миссис дурсль, посмотрел на поле с полной столу с невилла. а гарри поднялся гарри.\n",
            "\n",
            "— нет, не поднялся в сторону, поднял гарри.\n",
            "\n",
            "— после получиет мента возмущение, словно он поднялся в полямку и понял, что после подставлении. о\n",
            "----- DIVERSITY: 0.5\n",
            "----- GENERATING with seed: \" бывало, так что вся тисовая улица освет\"\n",
            " бывало, так что вся тисовая улица осветили свой палочку в карман светтой ужаса.\n",
            "\n",
            "— не спали сы, сказало назад. — не продолжила волшебник, в той воздухе и рон с серебряные скусок. стола даже не мог постать его волшебника. в глудее от волшебное просто с роном посметрев до самого и потом, что с десять со всем разостившие по поледние метлов.\n",
            "\n",
            "— одной комнате, мы всего стало слова!\n",
            "\n",
            "кроге уже зашел столом столу с тем породили, и гарри был в\n",
            "----- DIVERSITY: 1.0\n",
            "----- GENERATING with seed: \" бывало, так что вся тисовая улица освет\"\n",
            " бывало, так что вся тисовая улица осветились филч. — ученики погрубився волшебную утро.\n",
            "\n",
            "— а могу хочет…\n",
            "\n",
            "хагрид. — я слышат, что людцо было любодытного школу. а гарри годов, предпрятив гобов. они встречивалась из родочесту.\n",
            "\n",
            "\n",
            "\n",
            "\n",
            "\n",
            "\n",
            "\n",
            "\n",
            "\n",
            "\n",
            "\n",
            "\n",
            "\n",
            "\n",
            "\n",
            "исторой столоночно спросила себя по пвирде. тяк шеледевала начал на то, кто пойму позвотьт прикоминов замятел, профессор макгонагалл повестился себе со, чтобы соспокими. ну на элимнеров прятали предв\n",
            "----- DIVERSITY: 1.2\n",
            "----- GENERATING with seed: \" бывало, так что вся тисовая улица освет\"\n",
            " бывало, так что вся тисовая улица осветоду… но где ты плечему у сем судь, там мре сказал контый, паручая было обратно лючи исчезковствов — хотя шего, эко поставочешь.\n",
            "\n",
            "невилл вокрет фиичель, а словно глудили бее не жоваждовой гускай, — суровился вдрой писыто засидети иреки знаменые гриффийдора столшка ванмирным мгромени рон. а попводемится от напопинах. может угарить его на томт спальнем, пожалуйста в тород сголов: круглятье большой др\n",
            "Epoch 16/40\n",
            "181265/181265 [==============================] - 216s 1ms/step - loss: 1.2716 - acc: 0.6016\n",
            "\n",
            "----- GENERATING TEXT AFTER EPOCH: 15\n",
            "----- DIVERSITY: 0.2\n",
            "----- GENERATING with seed: \"рри молил небо о том, чтобы их поскорее \"\n",
            "рри молил небо о том, чтобы их поскорее направлялся в себя к нему волшебника. гарри посмотрел на себя с нем старанное и представил себя на поле, как и не поднялся в поле, как его в полятень и сел себя по столу. но не мог вышего и вот не получал на пол нас ним, когда он стал себя поднял себя по столу. после не собирался на поле под него.\n",
            "\n",
            "— вы все не получил по обе. не поднялся в себя на пол, что стоял по стеле вопрос и поднялся на себя,\n",
            "----- DIVERSITY: 0.5\n",
            "----- GENERATING with seed: \"рри молил небо о том, чтобы их поскорее \"\n",
            "рри молил небо о том, чтобы их поскорее не смог подоротили. а вот это задолжения, что я говорил и полная в руках в голосу дадли вернона. он стал себя с ним стороном команды.\n",
            "\n",
            "— надаю в одной палочку, на потом по поладелей метлы завидите за ним взгляд, чтобы успешь на стол и теперь великан с ней коридор от волшебной тречи, которые посмотрел на пол все под кого-то заклятые наверх и подавал его к стору. и все это совсем не было подовретеля\n",
            "----- DIVERSITY: 1.0\n",
            "----- GENERATING with seed: \"рри молил небо о том, чтобы их поскорее \"\n",
            "рри молил небо о том, чтобы их поскорее легуще, и серебряные колческая перчига сположном.\n",
            "\n",
            "гарри предполжовал, что тон. ты бю мальчише по абсове в свет и рукавидетельную забруться к сования, она должен быстрет, встоми в победаи уже в то, что стояла пробитались мома ол всех чем, — попытался от мачуд\n",
            "\n",
            "— по мже».\n",
            "\n",
            "— и хагрид рон, хотя, она сделала их вдстанить крость, но меча с аозаблю маты подпрытались. «посля нигих, остраявсровал не укри\n",
            "----- DIVERSITY: 1.2\n",
            "----- GENERATING with seed: \"рри молил небо о том, чтобы их поскорее \"\n",
            "рри молил небо о том, чтобы их поскорее эем? — выбрал рон, «строение гарри. и он на историю малфой, он всегда встал чно не стоял из рабытающем сон цекли вышка.\n",
            "\n",
            "хагрид, — заистраваю профессор ивели-же холожну, как и вхват ему тепярь с совой кзабитый школы, сов никровет.\n",
            "\n",
            "— а-те — чего разговарай? — они баснего ждивших убы нашас флимень.\n",
            "\n",
            "— тул затем это хагрид, профессор макгонагалл валиган в стояку. а хагрид оставилась или кого убеждал\n",
            "Epoch 17/40\n",
            "181265/181265 [==============================] - 215s 1ms/step - loss: 1.2436 - acc: 0.6091\n",
            "\n",
            "----- GENERATING TEXT AFTER EPOCH: 16\n",
            "----- DIVERSITY: 0.2\n",
            "----- GENERATING with seed: \"ее. «боа констриктор, бразилия», — прочи\"\n",
            "ее. «боа констриктор, бразилия», — прочитал гарри.\n",
            "\n",
            "— но я пойму сейчас в себя в коридоре возмущиная команды и посторожный волшебных мальчик, пока не все возволали в своим постокой палочку, поттера в свое поспешно выставила первой подняться в коридора столанным очка. на своих постоко вышли на свою своей сторона и посмотрели на него поднялись к нему в под назди и наставали в поля.\n",
            "\n",
            "— не было в короска, потому что вы спальне.\n",
            "\n",
            "— ну пока в\n",
            "----- DIVERSITY: 0.5\n",
            "----- GENERATING with seed: \"ее. «боа констриктор, бразилия», — прочи\"\n",
            "ее. «боа констриктор, бразилия», — прочитал гарри, разумулись к машина. но они вышли из пол за головами, которые они все время всегда и все возвожал их затем он полно все прикоило. если бы вы не всего не понял, что сейчас в сверх сказали с нем расправление по поле, и великога попробують между глазами, показалось побестреться в руках на своих родителей меня, гарри показалось, что в сладестве с каким-то ему помеще до том, что с той короск\n",
            "----- DIVERSITY: 1.0\n",
            "----- GENERATING with seed: \"ее. «боа констриктор, бразилия», — прочи\"\n",
            "ее. «боа констриктор, бразилия», — прочитила на часов. гарри поднялись именно из манезора и чистельно сел, еще, из прасиме до того ты что было всегда из тех.\n",
            "\n",
            "— лучше у не был приводить, пока не возможно были и не может этот первый мыс альбус его были застал мадам подзаритым.\n",
            "\n",
            "— их не какий.\n",
            "\n",
            "ему начного таких в голос, но очень рожался день в последник общения. от хогвартсе остановилась на секунда двери не свое предшастьилось на изгля в\n",
            "----- DIVERSITY: 1.2\n",
            "----- GENERATING with seed: \"ее. «боа констриктор, бразилия», — прочи\"\n",
            "ее. «боа констриктор, бразилия», — прочитал гарри с учётко. только умаднодного ри горбин) брудци в воздухой пансю — невилл, это звеем телевещаю продумать: резко произошла: но зо тех двоириростли спресралствали ь голову в окну и взмомет бы дадли, медленно моргплану — и представил о такого еданиции.\n",
            "\n",
            "— густи, сосчасотом!\n",
            "\n",
            "кто-то в поляна жи творфился, если внутрь наша себя он если мне был очень удел? — ведь произнес гарри.\n",
            "\n",
            "— всю из рей с\n",
            "Epoch 18/40\n",
            "181265/181265 [==============================] - 214s 1ms/step - loss: 1.2204 - acc: 0.6157\n",
            "\n",
            "----- GENERATING TEXT AFTER EPOCH: 17\n",
            "----- DIVERSITY: 0.2\n",
            "----- GENERATING with seed: \"предметов по воздуху.\n",
            "\n",
            "мортмордре — чёрн\"\n",
            "предметов по воздуху.\n",
            "\n",
            "мортмордре — чёрнал дамблдора.\n",
            "\n",
            "— не знаю, что дамблдор был в коридоре по поле постоленное стало на своей странный за котором с ним со всех мантию.\n",
            "\n",
            "— вы не скажу в себя комнат, — произнес он. — не знаю, что он слышал, что они последнил и с ними своих совый такой черные волшебников. когда они не спрашивал его в поляную команды и столом столом сверток по поледней стела. на каком меня не слышал о том, что он всегда \n",
            "----- DIVERSITY: 0.5\n",
            "----- GENERATING with seed: \"предметов по воздуху.\n",
            "\n",
            "мортмордре — чёрн\"\n",
            "предметов по воздуху.\n",
            "\n",
            "мортмордре — чёрнали тебя несколько тебе, что не произнес на себя по чем-то в свете. но он стал судь подняла пустов и посмотрел на столом столом в палочку и показал свое произнесть в том в морет комнаты, вздержул в сторону на выше по положение от столами и собравали к нему в порядке глазами.\n",
            "\n",
            "— нем, но над испешь, — хотя пробедутся на кольный шесту.\n",
            "\n",
            "— надеюсь, что не забыл, ты слишком сказаны.\n",
            "\n",
            "— а вот вот так вы\n",
            "----- DIVERSITY: 1.0\n",
            "----- GENERATING with seed: \"предметов по воздуху.\n",
            "\n",
            "мортмордре — чёрн\"\n",
            "предметов по воздуху.\n",
            "\n",
            "мортмордре — чёрнала сову со блесть, очеещих будет команду с амбора: — гермиона было напостовалось. к нему шага середрясовать за ит его узнать.\n",
            "\n",
            "сказал, чтобы запесзаться хотя довольно, чтобы посыть.\n",
            "\n",
            "— говорят, — писх выпросил гарри, профессор макгонагалл начали филч сквозь забил дже в подумого переволить малочка врягался слыша вдерем и распеешь на карка им весь «ей от. хотя своих боквещного, малфой момен, которы\n",
            "----- DIVERSITY: 1.2\n",
            "----- GENERATING with seed: \"предметов по воздуху.\n",
            "\n",
            "мортмордре — чёрн\"\n",
            "предметов по воздуху.\n",
            "\n",
            "мортмордре — чёрнали своим из шережие, видели начего тех пять вместе в работаки, вышив голос, и встречилась лезное тяжале, магазии все же ир понимаешь плоша. гарри уставалась переводить костаного. а гарри и он ведь ему его истятет здли, точных удивление, подырное были связомущим учиться десь штолатом чулане. дебе не держался с нас… и тут верну?\n",
            "\n",
            "— иди!\n",
            "\n",
            "да близнецки, пооходивший в школе го ть вотцои кускаю, вычата\n",
            "Epoch 19/40\n",
            "181265/181265 [==============================] - 214s 1ms/step - loss: 1.1966 - acc: 0.6224\n",
            "\n",
            "----- GENERATING TEXT AFTER EPOCH: 18\n",
            "----- DIVERSITY: 0.2\n",
            "----- GENERATING with seed: \"арри обрадовался, услышав в его голосе с\"\n",
            "арри обрадовался, услышав в его голосе с ним были в полене до тех пор подорожке. но не понимаешь, как он поднялся в общем, когда они не мог быть на своей мантию и возвращался магу и подумать на свою ответить. но он слышал, что он всегда не понимается на поле, на которым они поднялся в полей в сторону сверток и пробуютал в полом горда в полок свою другом и не смотреть на замет полная под ноз. гарри поднялся в себе под них под нескольком \n",
            "----- DIVERSITY: 0.5\n",
            "----- GENERATING with seed: \"арри обрадовался, услышав в его голосе с\"\n",
            "арри обрадовался, услышав в его голосе с роном под воду приходитки и сметил в сторону к ней, в котором они принялись в коридоре парел, как был на пол на думение, как и они поднялся пари себе отторанное для нас невилл. в общем не подумал. гарри вытящил предупреждающие свертом каменный картан. они обарались и начал с ним, потому что они выучение устраить по столом для светания, чтобы его стало не придется с портом коробки. и гарри посмотр\n",
            "----- DIVERSITY: 1.0\n",
            "----- GENERATING with seed: \"арри обрадовался, услышав в его голосе с\"\n",
            "арри обрадовался, услышав в его голосе с ним горлиеным тарок по доеритеренных никам.\n",
            "\n",
            "\n",
            "\n",
            "\n",
            "\n",
            "\n",
            "\n",
            "\n",
            "гарри резко забледен. идить реберки, пробовал рон и гермиона, говорише. — прилетев этим стучаковол снегг. мотни каждый лица из темнодирассо большим новыми прижанки и в тостелей рон. рон легка к виреу, прежем дело звали, но с гарри удавляли ему не рассказать новых кустки день колтеокулом. и это со рону был жатной передвинованиям и уроки кинфовуй \n",
            "----- DIVERSITY: 1.2\n",
            "----- GENERATING with seed: \"арри обрадовался, услышав в его голосе с\"\n",
            "арри обрадовался, услышав в его голосе слово ушибками селижевший встравлиелся. так и в переденствую доньского вылодили, леженные зна — и попыилиесть ядому, что? пробрариется убы ощновно! — говорят рон. — это оговьет, гарри здесь если мог быть на комнете.\n",
            "\n",
            "— я есть должер считки?\n",
            "\n",
            "делжны.\n",
            "\tфижи близнеццитровывало на треигрокмирам, которые дрожал фламель, — точечно прочитил квиррелл. \n",
            " тебя это очень доети находятся без бечный зостатько? \n",
            "Epoch 20/40\n",
            "181265/181265 [==============================] - 213s 1ms/step - loss: 1.1769 - acc: 0.6276\n",
            "\n",
            "----- GENERATING TEXT AFTER EPOCH: 19\n",
            "----- DIVERSITY: 0.2\n",
            "----- GENERATING with seed: \" — простонал хагрид. — и это… гарри… не \"\n",
            " — простонал хагрид. — и это… гарри… не знаю, что ты не сказал, что так что там случилось, что он не смог подвилал чесер и ушел и принесли в порядке. но не мог списка даже не могло быть, чтобы подумать профессор макгонагалл, поднял гарри.\n",
            "\n",
            "— надо, он поднял гарри, потому что у меня поднял их в сторону свой другой команды и поднялась в сторону и поднял гарри, поднявнял их в сторону свой команды гриффиндора.\n",
            "\n",
            "— но это получил себя в полос\n",
            "----- DIVERSITY: 0.5\n",
            "----- GENERATING with seed: \" — простонал хагрид. — и это… гарри… не \"\n",
            " — простонал хагрид. — и это… гарри… не мог понять, что он слышал, что мы с того остановиться на палочки.\n",
            "\n",
            "— не могу поторутство… — возмущил переводилия.\n",
            "\n",
            "— надо по волноную магуз, — переспросил гарри. — профессор дамблдор, как ты с ним странное сила, направляет по квиддичу, будет совершенными криком так в порядке, потому что возможно, он поднялся по стороне. он справил его на столо в содной сторону, потому что в небо и они уже все трое\n",
            "----- DIVERSITY: 1.0\n",
            "----- GENERATING with seed: \" — простонал хагрид. — и это… гарри… не \"\n",
            " — простонал хагрид. — и это… гарри… не зная, что вас ем почув.\n",
            "\n",
            "— а, сдала передога, — поинтересовался хагрид. — не мыг уюдить, поможем устоил и напродессо и за начала пречего, а не мог бы в шомма сегодни ничто-то большим гортегорверый, увидешь шаг внутри и вывелила ему из волшебся тро, волнец, хагрид ризо все эти опустивающих годрово в чутал, и имстро рыжен последшеми кабине, не один подои голос выглянел, а за то, словно снова потому \n",
            "----- DIVERSITY: 1.2\n",
            "----- GENERATING with seed: \" — простонал хагрид. — и это… гарри… не \"\n",
            " — простонал хагрид. — и это… гарри… не меня жился в отно. — по книневероме домахали просто отвесал, увыбер не исключение — сверху сан! как «ливаоко чудоваза мевлущайся в этот момент, гочяру большой размером?\n",
            "\n",
            "квиррелл, изрешившийся струглами:\n",
            "\n",
            "\n",
            "\n",
            "\n",
            "\n",
            "\n",
            "\n",
            "\n",
            "— его про(подвостлеон.\n",
            "\n",
            "глаза ушил кушка! — расхочет с пергатнишкей. гарри, дурсли этого непшихостру. хагрид был поставшие вспемно, чуть нервозможеные. тем, больше заменить, гарри встала в\n",
            "Epoch 21/40\n",
            "181265/181265 [==============================] - 212s 1ms/step - loss: 1.1547 - acc: 0.6346\n",
            "\n",
            "----- GENERATING TEXT AFTER EPOCH: 20\n",
            "----- DIVERSITY: 0.2\n",
            "----- GENERATING with seed: \"ногого стула, на который уселся хагрид в\"\n",
            "ногого стула, на который уселся хагрид в полейтный момент, он поднял комнату, которые попытался все разнее не могло быть, но не стало не подняться в одно. а когда он произнес гарри, потому что он случил по телевопущ.\n",
            "\n",
            "— не знаю, что на том, что может быть, что это остановился на под наз. но не было напрятно и поднялись к нему уборно по стене. но не было напомнного в подзать мистер дурсль, просто поналось, что гарри уже все возду с ним, \n",
            "----- DIVERSITY: 0.5\n",
            "----- GENERATING with seed: \"ногого стула, на который уселся хагрид в\"\n",
            "ногого стула, на который уселся хагрид в комнату, глядя на темнеты, в котором он поднял свой свою стране, а втольчает поднял команду и голосы. но может быть, так что принеслажить по красне, что гарри показывая слизерина, а когда гарри уже все время в ней большой справиться в ней и ученить себя у монет, он сказал о нем странно, я в полное поднимался по волан-де-морта, но он все разно вспомнил, что и делать не со смотреть на него на двери\n",
            "----- DIVERSITY: 1.0\n",
            "----- GENERATING with seed: \"ногого стула, на который уселся хагрид в\"\n",
            "ногого стула, на который уселся хагрид все работа. он больше все развись, как как раграв на верную стене, на котором идела не было зрапотили, чтобы гарри уже пивз слады жет великан был гредитый вот, пока снаховать, чтобы их не наконец!\n",
            "\n",
            "гарри смотрел эту секци, а возможно, не зная, что люди пройдать их цатя, а сколько я забыл, это именно слово и его рассвотыра: гарри измегнул на держе. в глаза заметли, как я буду ни может подубли. но эт\n",
            "----- DIVERSITY: 1.2\n",
            "----- GENERATING with seed: \"ногого стула, на который уселся хагрид в\"\n",
            "ногого стула, на который уселся хагрид все наже, а любое пытавшем троллевы: «горйб тыми шкланы. а все, неливо хочешь в мирм: никольчучившаю лесуть у него тяжелым роздых — произошла команду wо тебе, чтобы… вы просмотрепи новых находений?\n",
            "\n",
            "«не рассе покниее мистер, хото пока обретил. эта мос «7ториться прячамную чего», — и не спусила тебя сщет. — и сегодня отрала то по начине. я соберлал прого вокихал рослы.\n",
            "\n",
            "— я взял момент этой зеня, пр\n",
            "Epoch 22/40\n",
            "181265/181265 [==============================] - 213s 1ms/step - loss: 1.1377 - acc: 0.6380\n",
            "\n",
            "----- GENERATING TEXT AFTER EPOCH: 21\n",
            "----- DIVERSITY: 0.2\n",
            "----- GENERATING with seed: \"блемы, а когда кто-нибудь узнает про хаг\"\n",
            "блемы, а когда кто-нибудь узнает про хагрида, а тот проследивший в кармана свою свое свое столом. на возможно, не видел какой-то волшебников по поле чередом с том, что он случай, что не слышал, что он случай, что он случай, что он случай, что гарри и гермиона поднялась и вытащили в поледки и последнее черного по столом. вы слишком глазе под придострими поднямиеся в полетный метле, потому что на следующее утро не принес подняться в себя \n",
            "----- DIVERSITY: 0.5\n",
            "----- GENERATING with seed: \"блемы, а когда кто-нибудь узнает про хаг\"\n",
            "блемы, а когда кто-нибудь узнает про хагрида на самом деле полагали к ним и заметил, что гарри и гермиона повернулись в лондон. и еще не мог понять, что гарри попытался высокой слыша.\n",
            "\n",
            "— да нет, готовет подумать… — в поланео запередивала и он великоленный мантию, на свитой совсем не надо смотретить в том, что рассехстноме произнесла тетя петунья.\n",
            "\n",
            "— я тут помнише. на этом может был такой старони. гарри рассказал гарри.\n",
            "\n",
            "— да ты что ж, я\n",
            "----- DIVERSITY: 1.0\n",
            "----- GENERATING with seed: \"блемы, а когда кто-нибудь узнает про хаг\"\n",
            "блемы, а когда кто-нибудь узнает про хагрида? э-э-тами все до оградный, заметие, почему камень временим профессор дамблдора, когда он заколдовала. а что вы…\n",
            "\n",
            "— медлу же-ты дебе задолжить? — громко произнес дядя вернон. — когда гарри и рон радо всякнул всего — утрах вуд, говорить просто надой в же твоих родитеюк, показывая ного, никаких тлечку, лежающаемой вытно, чтобы вернулись к двери, которые предживали на меня, только не понел ее и е\n",
            "----- DIVERSITY: 1.2\n",
            "----- GENERATING with seed: \"блемы, а когда кто-нибудь узнает про хаг\"\n",
            "блемы, а когда кто-нибудь узнает про хагрида.\n",
            "\n",
            "насвет ного, чем у него и умерет, но он покуплив «рон. — разумеесь в «вижую…\n",
            "\n",
            "снегга по случае смешно повремя. у минут должно обвезти обратно прямо так что? вы не знает… «может рядом тебя выпресмальтет! — но с вами соглясилась пойза у на то, что один вериться, рон, снова посмотрел на табера с как, — хагрид поближе гарри не мог остосотел. — у мэль гарри должен вытящула в отрух хвитина \n",
            "\n",
            "pеди\n",
            "Epoch 23/40\n",
            "181265/181265 [==============================] - 214s 1ms/step - loss: 1.1209 - acc: 0.6433\n",
            "\n",
            "----- GENERATING TEXT AFTER EPOCH: 22\n",
            "----- DIVERSITY: 0.2\n",
            "----- GENERATING with seed: \"ь его. а затем перед глазами встала черн\"\n",
            "ь его. а затем перед глазами встала черных долгоповненые к невиллу в поледению крока для вестика и поставил голову и поднялся в порядке. на которой не пришлось в голову принесли на свой слова, а тот полной столом стало напомнила на столу. но не стояли на себя филчу фикули на самого полед волшебный коридоре собрене. не поднялся в одно и светали летать, и гарри все время совершенно ответил внимание в комнату, поднял кучт за положения до п\n",
            "----- DIVERSITY: 0.5\n",
            "----- GENERATING with seed: \"ь его. а затем перед глазами встала черн\"\n",
            "ь его. а затем перед глазами встала черный палочки и постолновать с него.\n",
            "\n",
            "— не все рон и рон выдержала внезапно обратно в себя от волность, но на них не пристопал раздышка в глазах и выглядел по конце свой под колочку. так что он пробурался, когда ему не получалось, который все треется, словно произнес на своей поле от рона.\n",
            "\n",
            "— вон что-то же снегг не получилось, что делать не совершенно не пробують только так и именно темно-то и потому\n",
            "----- DIVERSITY: 1.0\n",
            "----- GENERATING with seed: \"ь его. а затем перед глазами встала черн\"\n",
            "ь его. а затем перед глазами встала черния личности. — запрещено, рон вытярая палочку — и ты, возможно, они будет столше заразно, чтобы сейчись никогда, то не не видел, что гарри вспомнил, направление шур, забравшие его то, что снеггу они тролля с полном черного оказать на: невилл самые слишком, отко обнув девочка» и невидимые отчетлево похратил ключить, откуда-то сидеть вернона, серженый сказать, это их загледеться к думаю и заметать, \n",
            "----- DIVERSITY: 1.2\n",
            "----- GENERATING with seed: \"ь его. а затем перед глазами встала черн\"\n",
            "ь его. а затем перед глазами встала черных доргалению и гарри перегоднила вдольченики пять часов курпеньй своего крыва цилиусся.\n",
            "\n",
            "под шоколи учетевнокуда-однажды не вспомныв.\n",
            "\n",
            "никому девали. ему пропо вище парв поечиться. открывался очка вот-щевест, то, только человек улобка, эти уже вознах купдей.\n",
            "\n",
            "— квиррелл, к-тотором? — пробормотал вверх пилет (толечку головы моглось начитаться и самьего поедилать.\n",
            "\n",
            "— что так, дал же:, — встретил га\n",
            "Epoch 24/40\n",
            "181265/181265 [==============================] - 214s 1ms/step - loss: 1.1028 - acc: 0.6487\n",
            "\n",
            "----- GENERATING TEXT AFTER EPOCH: 23\n",
            "----- DIVERSITY: 0.2\n",
            "----- GENERATING with seed: \"йста». ха-ха! ха-ха-ха!\n",
            "\n",
            "они услышали, к\"\n",
            "йста». ха-ха! ха-ха-ха!\n",
            "\n",
            "они услышали, как и не снова по поледкий коридоре и произошел к ним, которого она пришли какой-то в следующих сталост и направляется с ней под них.\n",
            "\n",
            "— да ты не получилось, что он случил под ней.\n",
            "\n",
            "— надо было запрещено надо быть надела на свою своих свой противоположной совсем волшебница.\n",
            "\n",
            "— нет, нам не поднял гарри, не подумал, что не стоял поднять своих росмэн в свой дом, что он поднял глаза.\n",
            "\n",
            "— нет, не понял, \n",
            "----- DIVERSITY: 0.5\n",
            "----- GENERATING with seed: \"йста». ха-ха! ха-ха-ха!\n",
            "\n",
            "они услышали, к\"\n",
            "йста». ха-ха! ха-ха-ха!\n",
            "\n",
            "они услышали, как ему не стоял бестреми ответели, что кто-то оборвал его на пол, чтобы страхнули в портому житке принеси, что нам не мог побрать сегодня ни своих спорственный сторона «ластой мантии, к потор конечно задомнит, что он слышал о полет и с устрои объясняли стояли на свете. на один время не настоящие свой мантии, которого они заметил, что он обновал на волшебной светению, сделаная настоящий ноги смещал\n",
            "----- DIVERSITY: 1.0\n",
            "----- GENERATING with seed: \"йста». ха-ха! ха-ха-ха!\n",
            "\n",
            "они услышали, к\"\n",
            "йста». ха-ха! ха-ха-ха!\n",
            "\n",
            "они услышали, когда соскрали различаю разнестающисся в этом. она конце подумал, что пришла себе, что волан-де-морт запретел жавточный конпере и размеров сей коночно.\n",
            "\n",
            "— он слишко вышли… да… после предутить дадли…\n",
            "\n",
            "зам ни тебя смотрел себя, только задум невиллан гермиона и напряховал свои соласный ней маленькой факультет, где сладости высперня, — уж несколько этой мяч в увиделие, уроки голона волшебница, такое ог\n",
            "----- DIVERSITY: 1.2\n",
            "----- GENERATING with seed: \"йста». ха-ха! ха-ха-ха!\n",
            "\n",
            "они услышали, к\"\n",
            "йста». ха-ха! ха-ха-ха!\n",
            "\n",
            "они услышали, как аб делал намолены!\n",
            "\n",
            "— на любота!\n",
            "\n",
            "внутри. тот рассказ мимо шурснул и раздовали лицох. гарри, миленький волшебных вах, чтобы воложне будет, даже не было, — громко заявил гарри, ловал трабфяты, мядка свою дынами в инучный хранговой пречел, в квидрую ееу легьико, если свет яснот было оправиленью мяглой цал непонта. надо в поруде. он! исполанный замандей? — ожел на «гарри родной надо — они обращают\n",
            "Epoch 25/40\n",
            "181265/181265 [==============================] - 215s 1ms/step - loss: 1.0868 - acc: 0.6536\n",
            "\n",
            "----- GENERATING TEXT AFTER EPOCH: 24\n",
            "----- DIVERSITY: 0.2\n",
            "----- GENERATING with seed: \"?\n",
            "\n",
            "— м-м-м, — неопределенно промычал гар\"\n",
            "?\n",
            "\n",
            "— м-м-м, — неопределенно промычал гарри, потому что он все равно посмотрел на него, и гарри начал о столом было напомновать на пол меня к столу, поттер в комнату поднял кородку в полядке в коридора по стене и вышли из кармана и поднял гарри. а вот что не становилось подстрить чем, как просто поднял гарри.\n",
            "\n",
            "— но теперь гарри подумал, что ты сказал это всего, а в тот меня повернулись в полядение палочки.\n",
            "\n",
            "— но так ты не знаешь, ты не п\n",
            "----- DIVERSITY: 0.5\n",
            "----- GENERATING with seed: \"?\n",
            "\n",
            "— м-м-м, — неопределенно промычал гар\"\n",
            "?\n",
            "\n",
            "— м-м-м, — неопределенно промычал гарри, повернулся и попытался уда наконего не понятное, что он все собирался все разостьчиться в коридоре от путь. но дадли ты не понимает, что он все говорил, что полной, потому что на спение от угла посмотреть в поезд, чтобы следя веден кактетан, тот же все разостится в коридоре и так встать, что не стало постоить в полядку и выхватил гарри. гарри посмешло от волшебства. так что это сказал на тролл\n",
            "----- DIVERSITY: 1.0\n",
            "----- GENERATING with seed: \"?\n",
            "\n",
            "— м-м-м, — неопределенно промычал гар\"\n",
            "?\n",
            "\n",
            "— м-м-м, — неопределенно промычал гарри с квирреллым… потому, что кто же ли она зеркало сон прижел через хагрида. гарри теперь пусть увидов, слишком сил был в эту вприеем, но плихо, и все решился, как находут только телевков.\n",
            "\n",
            "— но что это… находя…\n",
            "\n",
            "— ловаты, — освезив позволчил гарри.\n",
            "\n",
            "— до теби на увите…\n",
            "\n",
            "быть, промя! он был в лесу буку в нопере, чтобы повеснокое засказали именно, что в все от факультет совсем не наже кочти в лему \n",
            "----- DIVERSITY: 1.2\n",
            "----- GENERATING with seed: \"?\n",
            "\n",
            "— м-м-м, — неопределенно промычал гар\"\n",
            "?\n",
            "\n",
            "— м-м-м, — неопределенно промычал гарри, который его все равно прытнрев спучи в пусткой донах и пире и, что профессор макгонагалл сенуцабо «темные разного сютими о ацмиливый напезы, взлему все еще липот в учительсиких. а рон пытался до высолил такого, как, я дубую, что тоже дурсли забярывал на самое покинок, сыдающий холькими. а гарри пыснорнел.\n",
            "\n",
            "у находившемся под тюй.\n",
            "\n",
            "— ойха!\n",
            "\n",
            "стол назад, гне тут в сторону выстичала же, как и сдел\n",
            "Epoch 26/40\n",
            "181265/181265 [==============================] - 214s 1ms/step - loss: 1.0749 - acc: 0.6555\n",
            "\n",
            "----- GENERATING TEXT AFTER EPOCH: 25\n",
            "----- DIVERSITY: 0.2\n",
            "----- GENERATING with seed: \"том, нет ли там чего-нибудь о николасе ф\"\n",
            "том, нет ли там чего-нибудь о николасе фламеле. — не успел объяснить и с той воздух. — не собырает всего собирается в том, что он просто не понял, что не стал сказать, что он слушал под нес под них сторогом кородка. в конце концавлемент она собирались на себя на света. на свой слова, пока не понял, что ты сказал, что так именно сильно закритывали а поняли, что он заметил в небо, а в какой ней нервно был такой великой совый.\n",
            "\n",
            "— ну, даже \n",
            "----- DIVERSITY: 0.5\n",
            "----- GENERATING with seed: \"том, нет ли там чего-нибудь о николасе ф\"\n",
            "том, нет ли там чего-нибудь о николасе фламеле. — когда малфой мы не соберались, что не снегг подумал, чтобы поймал, что между причет по специально не хотелось поднять этого столом. когда они все посторились сову.\n",
            "\n",
            "— ну что, это уже знает, что ты спально и не понял, что кто-то повернулся к гарри.\n",
            "\n",
            "— он возвольно не справаться по скалений торопанках худей, но и гермиона заметил себя на волишей своего по волана. гарри посмотрел на верху.\n",
            "\n",
            "----- DIVERSITY: 1.0\n",
            "----- GENERATING with seed: \"том, нет ли там чего-нибудь о николасе ф\"\n",
            "том, нет ли там чего-нибудь о николасе флаголам. — я коже, предвсегда на распел ему будет при отвот… и они с массичокуссядорскам лестницы» — становелая на гарри почти несколько обкальный головы. они просто происхожил пивза — как маго тоже сделать?\n",
            "\n",
            "гарри родился, как же его другие поднял, что все такое противетель, как ты не понял, что вы может принета. он похжет всегда не успели не повесху так и возволный ветной люсими. он вытащил откр\n",
            "----- DIVERSITY: 1.2\n",
            "----- GENERATING with seed: \"том, нет ли там чего-нибудь о николасе ф\"\n",
            "том, нет ли там чего-нибудь о николасе фишки, глаза:, ронаного гермиона закончил меняшую сываю фашу. рон и гермиона вскочила к этот маза, в лосах\n",
            "\n",
            "\n",
            "— вы все лучше… ще такую слишенией! — закончил хагрид. — я сывущуться на него, — известил тругну и я легла: не пренысил маленьких однокрым многи плосах, освещивая глубы. — это быт закунчишь.\n",
            "\n",
            "гарри окуда остановилась.\n",
            "\n",
            "— у мятой успоко перезрнать. так это было беда ни словна головы и все так\n",
            "Epoch 27/40\n",
            "181265/181265 [==============================] - 213s 1ms/step - loss: 1.0621 - acc: 0.6593\n",
            "\n",
            "----- GENERATING TEXT AFTER EPOCH: 26\n",
            "----- DIVERSITY: 0.2\n",
            "----- GENERATING with seed: \"е продолжать искать, когда я уеду на кан\"\n",
            "е продолжать искать, когда я уеду на канигану, наконец произнес гарри, но в себя он поднял его в постоянном ноги.\n",
            "\n",
            "— нет, не сможешь по правде. — в себя по полу после школьные верики, потому что в следующей улице было показалось, что он посмотрел на него с на свою очень красовое отсуда в следующем уребе.\n",
            "\n",
            "— ну что, вы слизерин посмотрел на него с ним столом стоялом стелеников по свой сметали в постолних момент, чтобы подумать на себя, н\n",
            "----- DIVERSITY: 0.5\n",
            "----- GENERATING with seed: \"е продолжать искать, когда я уеду на кан\"\n",
            "е продолжать искать, когда я уеду на каниметере гарри не произнес спросила перед свой игрок. гарри уже странилась в подомоще пройти на ней, и девочко после прявали получить коровенику в собой по свете, и хагрид делал вместе с замим.\n",
            "\n",
            "— видите? — с чего встречился на великий. гарри поднялся гарри. — ему все равно обратил собый палочку, как был в последней рад, но было в посторну несколько понеду, и гарри заметил, что после школьного из н\n",
            "----- DIVERSITY: 1.0\n",
            "----- GENERATING with seed: \"е продолжать искать, когда я уеду на кан\"\n",
            "е продолжать искать, когда я уеду на канирельу его решала насколько угля. \n",
            "\n",
            "глада если ему просто осокивал: гарри, накмигно закринул в руку, не обираясь к вас. к инучно лежил ету \n",
            "\n",
            " коречку, мотку может прякотов, но рил впрощесно такого слазелись?\n",
            "\n",
            "квиррелл внезапно появился собраверную ей с большим простой свобговы биство — и в явхо был принеской сталомчем ждать черные веча.\n",
            "\n",
            "битзери осталось с зеркалом. никогда ему не приходил руку у \n",
            "----- DIVERSITY: 1.2\n",
            "----- GENERATING with seed: \"е продолжать искать, когда я уеду на кан\"\n",
            "е продолжать искать, когда я уеду на канигану ы прявостой.\n",
            "\t— я хотя пошли, а что там, гарри, очень громко рравал к кармена, подвидавшись молфорвано трепилом и гойля, как насмотре ни своего наф фаталкий крось снова дохоженно в сужалесь сказать единорого снегг. и в постоле говоря, как раз.\n",
            "\n",
            "— и он, кои-что чувству мы? даже, испорнокуюся, горда так замолди. — мистер тутсци было свои фродарватый столе этот забей. витнеру задал входи. \n",
            "\n",
            "даж\n",
            "Epoch 28/40\n",
            "181265/181265 [==============================] - 215s 1ms/step - loss: 1.0476 - acc: 0.6648\n",
            "\n",
            "----- GENERATING TEXT AFTER EPOCH: 27\n",
            "----- DIVERSITY: 0.2\n",
            "----- GENERATING with seed: \"й случай мистер дурсль закрыл глаза, пот\"\n",
            "й случай мистер дурсль закрыл глаза, поторая как манния вернулись в конца двери в полядений команды гарри и рона.\n",
            "\n",
            "— нет, не знаю, ты не знае, что я теперь я думаю, что я все в порядке, — произнес он. — я тут профессор макгонагалл проверядивая слизерина.\n",
            "\n",
            "— я видели тут полно рассказать так, ты все время забудьте на себя его с себя волшебные стали и представившие на себя его с ней подняться с другой постуче и не сломает собы, — прошепта\n",
            "----- DIVERSITY: 0.5\n",
            "----- GENERATING with seed: \"й случай мистер дурсль закрыл глаза, пот\"\n",
            "й случай мистер дурсль закрыл глаза, поторая в одном из него старки всего на свое придется. он ведь выходит в полной школьный команды до волосах команды у зали поснется с нем столонный коридора совершанного под нос.\n",
            "\n",
            "— надеюсь, что я пойму, что как мально! я всегда не пойму положить малфой, которые они успелились. так что не не было в кармана им из своих подзать. в сперкие магазин, а тот магазины, дамблдор попытался не было слышаться по\n",
            "----- DIVERSITY: 1.0\n",
            "----- GENERATING with seed: \"й случай мистер дурсль закрыл глаза, пот\"\n",
            "й случай мистер дурсль закрыл глаза, потору забывая своих сразаники и зарыл на шепеникам.\n",
            "\n",
            "\n",
            "\n",
            "\n",
            "\n",
            "\n",
            "\n",
            "\n",
            "— ты свидовых из неги?\n",
            "\n",
            "— так что полная учиться! — черно не отмилился, как магины, посмотрев в золота расплетиться к нему судоволеть двигаться втеру о нем произнес с той, когда такого подпомущались одна кляпы», плавными баруи.\n",
            "\n",
            "однако дурсли вогрущие медань, запач первуй соны, и у него рона накрывались, как им показалось, что это… он там ж\n",
            "----- DIVERSITY: 1.2\n",
            "----- GENERATING with seed: \"й случай мистер дурсль закрыл глаза, пот\"\n",
            "й случай мистер дурсль закрыл глаза, потом шпросило напрымение с ветриком шерсающих еюдая састиго школы. и ь с этим никогда»него выиграли, пошли, шегонна наконец, обращаясь к чрок, встоже, на стану сыу? а самый меня, — подумал нетеско — закончил рон. — тот что данти! — встреели он.\n",
            "\n",
            "гирмиона закирнула к дойтеской коридора самбю факультету. — непросто удывались, такое было улица wитера, — произнес рон, в каком то, что не все за мотали, в\n",
            "Epoch 29/40\n",
            "181265/181265 [==============================] - 216s 1ms/step - loss: 1.0394 - acc: 0.6677\n",
            "\n",
            "----- GENERATING TEXT AFTER EPOCH: 28\n",
            "----- DIVERSITY: 0.2\n",
            "----- GENERATING with seed: \"да не говорили, где живет и работает дам\"\n",
            "да не говорили, где живет и работает дамблдор, вернок, подарок в специальной стал и посмотрел на гарри. он вытащил свой полосную палочку, которые подпеливалась призомом в коридоре вопросы. гарри начал отдали в сторону пробечалась и вытащил приступать в полейте, и гарри подпел на пол нескольно сверток и предстоять в сторону полейте. а гарри попытался поднять себя, и гарри подпел к столу свое просто прикупывая верху, и гарри подпел и попы\n",
            "----- DIVERSITY: 0.5\n",
            "----- GENERATING with seed: \"да не говорили, где живет и работает дам\"\n",
            "да не говорили, где живет и работает дамблдор. — пода как мы не знаю, как вы в себя тебя приходиться в воздухе. а гарри попал на пует предстоять за стеных вечах и возвращала себя под оттура. но не понимает. как не страшно, идишка, пока не пришлось за ним в лесу, и гарри смотрел его и поднял гарри. гарри пришли начала придумать свои другом подняться в лестнице, которая на голову профессора макгонагалл по руках приносилась по откуснется в\n",
            "----- DIVERSITY: 1.0\n",
            "----- GENERATING with seed: \"да не говорили, где живет и работает дам\"\n",
            "да не говорили, где живет и работает дамблдор, — ловал он был не тебе, то не забыл. — я даже… гарри впрошинно, он через нее рон сень закрыв лет стол то, что гермиона изучал очередно. когда физмор он не смог убить такое ветрика, потому что ни серьезная надо жить за то, что они вслухил задаха коскету, а когда они видел, что действительно все ответили из рук была закритать.\n",
            "\n",
            "— гарри? — призратал он, взлоянул такого отнок.\n",
            "\n",
            "столько делать н\n",
            "----- DIVERSITY: 1.2\n",
            "----- GENERATING with seed: \"да не говорили, где живет и работает дам\"\n",
            "да не говорили, где живет и работает дамблдур, — затем вредился гарри. — вы думаете, флийте от чего-то дурсле вся стояку, они были они встала, неувили вашим, а гарри смотрел его — воздух ужисников тебя того, — радостой произнес он тебя гарри, своигания из магазена.\n",
            "\n",
            "— каждую назы воздуху, он сказал к чему-небы «томы ех в том, что-ти свой или дахолпа. да можно глупита закриснул гразами, с однум руки, облизевшись шелели спранить ноги.\n",
            "\n",
            "ву\n",
            "Epoch 30/40\n",
            "181265/181265 [==============================] - 217s 1ms/step - loss: 1.0268 - acc: 0.6710\n",
            "\n",
            "----- GENERATING TEXT AFTER EPOCH: 29\n",
            "----- DIVERSITY: 0.2\n",
            "----- GENERATING with seed: \"ило странное, прямо-таки лунное свечение\"\n",
            "ило странное, прямо-таки лунное свечением до тренировки.\n",
            "\n",
            "— нет, не понял, что так волшебник, как ты не было на том, что он всегда никто не знает, никогда не видел тебя в коридоре по поле светере сову.\n",
            "\n",
            "— вы премя вернулись в конце палочку — посмотрел на него с него свободный палочки.\n",
            "\n",
            "— я вышел из мантия, — пробурчал хагрид. — но ведь ничего не получалось.\n",
            "\n",
            "— над уже не могли по-то в боко, — произнес гарри, потому что в какой не понял,\n",
            "----- DIVERSITY: 0.5\n",
            "----- GENERATING with seed: \"ило странное, прямо-таки лунное свечение\"\n",
            "ило странное, прямо-таки лунное свечением может его купе в лондон поспешно справил, что ему не стало не не по стола, с трудом удали в совых копытом после шепещи.\n",
            "\n",
            "— вот это вы не знает, ты скорек вышел бы издевиться заданноется метлы.\n",
            "\n",
            "— так вы прекодавает мои серьезные переводить. он схватил вниз.\n",
            "\n",
            "— ведь он староста, для того чтобы даже надо смотреть на пол полз по поледку, в охранее черные волшебника были крикаво свободный палочку.\n",
            "\n",
            "\n",
            "----- DIVERSITY: 1.0\n",
            "----- GENERATING with seed: \"ило странное, прямо-таки лунное свечение\"\n",
            "ило странное, прямо-таки лунное свечением и светеко — оказался меня помли.\n",
            "\n",
            "— давай присутните, она думали, как долоси дядя вернон верещи отклым, и нескально выперещая эльк. мог о самого не знаю, как пройди не слышать. подо этой его напедались бистри, даже словно внизатно угружился.\n",
            "\n",
            "гарри спытались в улице. а теперь дамблдор был не слишком миное по поторке его увидел и свеитающего тоже было исканить хагрида.\n",
            "\n",
            "— мы с такий торил, прошеп\n",
            "----- DIVERSITY: 1.2\n",
            "----- GENERATING with seed: \"ило странное, прямо-таки лунное свечение\"\n",
            "ило странное, прямо-таки лунное свечением хоть были времене охотыв кособок и пытались только цагритом подошашь. он был в последней зельной урев, напоминавший шкифь в птолах влас искли. что-то слышал, а зермало отлисом выдавил платформу. позадо им уже был если что-нибудь победа ната. над полос все трейдрочит.\n",
            "\n",
            "гарри гоняли, как тебе подразил мантию — хотя она, чтобы даже не жимно, сэр о прихнатек, — протормал гарри по толку, и гарри уже \n",
            "Epoch 31/40\n",
            "181265/181265 [==============================] - 217s 1ms/step - loss: 1.0143 - acc: 0.6732\n",
            "\n",
            "----- GENERATING TEXT AFTER EPOCH: 30\n",
            "----- DIVERSITY: 0.2\n",
            "----- GENERATING with seed: \" не делайте. метлы оставьте на земле. то\"\n",
            " не делайте. метлы оставьте на земле. только тоже подстрял с возмуще. ты не сталось от нее больше. но она была в большой палочки.\n",
            "\n",
            "— как мы можешь похватить в мантию, не понял, что с ними получила на один семено слишком. которые после пробовал гарри по стене, а все обнулся с себя со сторон. — но не понимает, что они не смог выдовили, на профессор макгонагалл по поторе по всему в полядений к ней палочку, как он с ним скроменном пристельн\n",
            "----- DIVERSITY: 0.5\n",
            "----- GENERATING with seed: \" не делайте. метлы оставьте на земле. то\"\n",
            " не делайте. метлы оставьте на земле. только все должен был в небо, чтобы не обращаться и все да вот что он больше открыть. а к тому же мы легко справилась в спику после учительное, что они даже не видел профессор макгонагалл, насколько ответил вверх, поднялись сидую воздух, ведь он был не соседет полной кровать поллебную на карисе. гарри не удалось удивленный соверянный волшебных палочки.\n",
            "\n",
            "— я все равно, однико, судя по всему, только п\n",
            "----- DIVERSITY: 1.0\n",
            "----- GENERATING with seed: \" не делайте. метлы оставьте на земле. то\"\n",
            " не делайте. метлы оставьте на земле. только же исчез, что не оставал, как прощинел, как его ведь услышали, — сказал хагрид, взгловный вцер из стинуту. да лично пробера спросила перед ней. дадли сидела перуа на горлиной и разговор гарри, на котрером видела ему толом становилорости.\n",
            "\n",
            "все расся крепление гриффиндора были плечки.\n",
            "\n",
            "— извините, что у мыся! дал! тредно, рон не видел, где никогда не смогиет, не умает, чтобы он снова моните, чт\n",
            "----- DIVERSITY: 1.2\n",
            "----- GENERATING with seed: \" не делайте. метлы оставьте на земле. то\"\n",
            " не делайте. метлы оставьте на земле. только ни демал заметил оказаться почти него, не огранности принесливает в граза гарри поцулать, как пряжительно, загромнуе, как гернио. — поттер, — выдохнул гарри.\n",
            "\n",
            "\n",
            "\n",
            "\n",
            "\n",
            "\n",
            "\n",
            "\n",
            "— о-уда! только твои другие переежало сильно плохо желающих посавок концего. вы не осващую завистью вам разысало, гремко сделал. — дарбем указывал, хорошая запраженую ярик, скоро отррались из хигвруи двехант — гарри пособенно гор\n",
            "Epoch 32/40\n",
            "181265/181265 [==============================] - 215s 1ms/step - loss: 1.0085 - acc: 0.6769\n",
            "\n",
            "----- GENERATING TEXT AFTER EPOCH: 31\n",
            "----- DIVERSITY: 0.2\n",
            "----- GENERATING with seed: \" если запомнишь то, что я скажу тебе сей\"\n",
            " если запомнишь то, что я скажу тебе сейчас призраться и с том, что он все выходит, и гарри успел на себя свою дверь. они поднялась по квиддичу, — волшебную момент у него было запрещеные волосы.\n",
            "\n",
            "— он все воздуха, и потому что в случае по своей совую новых могло. но не понял, что когтавран был себя поднял их обратно в руком в спорк, которые представлял ему в подструх другой, привленную волшебную палочку и просто ответил в собый по полед\n",
            "----- DIVERSITY: 0.5\n",
            "----- GENERATING with seed: \" если запомнишь то, что я скажу тебе сей\"\n",
            " если запомнишь то, что я скажу тебе сейчас его в школу и все треется, соберая и все разослись в слизерина, а то его вполне на полу столонный дорогой. он поднялась по стене. но не знаю, что на свой парили. а все раз не знает, что он все еще объяснять. он сказал, что он даже не поднял глаза.\n",
            "\n",
            "\n",
            "* * *\n",
            "\n",
            "в как-может был, что ему не понимал, что с того слышал, при никоначие в комнату, гарри пытался всего стояшь.\n",
            "\n",
            "наверное, немного попомнили. \n",
            "----- DIVERSITY: 1.0\n",
            "----- GENERATING with seed: \" если запомнишь то, что я скажу тебе сей\"\n",
            " если запомнишь то, что я скажу тебе сейчас его и знамений: это полтрущать призратья было не убилие. ли они тогду них никогда не ужаснал, если не случайно подвижала те сто того, чтобы на снитч и пира дать и рожится в чем, как в тужахнулся к нам, и невизу на видную отсет то, что медла не скрывались на пол, чтобы давнодно выметрели.\n",
            "\n",
            "— а я полей вечер и посмотрю на метле, пока резко закончил свой зуркали.\n",
            "\n",
            "— ну вот, — мы же был сразившеес\n",
            "----- DIVERSITY: 1.2\n",
            "----- GENERATING with seed: \" если запомнишь то, что я скажу тебе сей\"\n",
            " если запомнишь то, что я скажу тебе сейчас от машфое.\n",
            "\n",
            "он был же что-то смотреть и скажу:\n",
            "\n",
            "— когда дамблдор тебя невилл вели все и продолжает братьеворашим, рон…\n",
            "\n",
            "\n",
            "\n",
            "\n",
            "\n",
            "\n",
            "\n",
            "\n",
            "\n",
            "\n",
            "\n",
            "\n",
            "\n",
            "\n",
            "гермиона, а втели ему совсем вечеть.\n",
            "\n",
            "как дамблдор снегг если назвали, как и пскачит, хурешая в пятно в гостиную команты, они.\n",
            "\n",
            "— ты думаешь, что это ды?\n",
            "\n",
            "еще удавом первой никерен и у замкли, то ему повеще?, и нервнечну, громко угружался на занятия карепал.\n",
            "\n",
            "— д\n",
            "Epoch 33/40\n",
            "181265/181265 [==============================] - 215s 1ms/step - loss: 0.9935 - acc: 0.6788\n",
            "\n",
            "----- GENERATING TEXT AFTER EPOCH: 32\n",
            "----- DIVERSITY: 0.2\n",
            "----- GENERATING with seed: \"оминается в «современной истории магии»,\"\n",
            "оминается в «современной истории магии», настоящий мантию не понимает, что ему не заметил, что он случай по света. на себя его сидет с ним скроменном старостый своего весь когда гарри поттера. не понял, что гарри поттер выдался со своей свое посмотреть себя с ней. но так что ты сказало что-нибудь прикоданый вечер, как как манно было завидеть в него, на потому что ему не стало не поднялая лишь на свое своих сосесками в клестельным заложе\n",
            "----- DIVERSITY: 0.5\n",
            "----- GENERATING with seed: \"оминается в «современной истории магии»,\"\n",
            "оминается в «современной истории магии», — произнес хагрид, потому что в его рука и не смогу сказать на полу. он волшебное пустить со тебя с ней просто в потрений от магфой, вытащил он снога в квиддич магизаника словали свете за свена. во всеми того не знал, что так что дамблдор придумать, что он случай на зомот поднялась с велосибку и поднялся к двери.\n",
            "\n",
            "— вы не могли сказать, что тебе они попали в полячами, так что гарри чуть не стал п\n",
            "----- DIVERSITY: 1.0\n",
            "----- GENERATING with seed: \"оминается в «современной истории магии»,\"\n",
            "оминается в «современной истории магии», которые только они не представил лихом. а гарри достался кревили начала по рукуми, а гарри был его житков?\n",
            "\n",
            "— извинити, я все жинт! — воскликнул как и именно слова гриффиндор обратно пошли.\n",
            "\n",
            "— да нет, пока все видели, уто того же надо одно. и здесь пожелал внимания на себя, не уредал им на залет возмущения крошечных и снегга, чтобы следь никогда не почувствовался.\n",
            "\n",
            "— он весь здесь, ты взярнулся —\n",
            "----- DIVERSITY: 1.2\n",
            "----- GENERATING with seed: \"оминается в «современной истории магии»,\"\n",
            "оминается в «современной истории магии», — и воврещался убедая. добра дакон заметив, что мистер дурсль не мыленно. — прекрасно глаза или вот его малопетесь, донех.\n",
            "\n",
            "— прихта столбку под разгродком были ему горны, что гарри расскажитал иму. — это подойти, одевланность с самого гостиной совгодельной, покозила на невилла.\n",
            "\n",
            "\n",
            "\n",
            "\n",
            "\n",
            "назадник на свободов щистерся кирку улыбку. по покесье забыхо.\n",
            "\n",
            "— способов — он знал. а твоими сегодня блидно было\n",
            "Epoch 34/40\n",
            "181265/181265 [==============================] - 214s 1ms/step - loss: 0.9879 - acc: 0.6806\n",
            "\n",
            "----- GENERATING TEXT AFTER EPOCH: 33\n",
            "----- DIVERSITY: 0.2\n",
            "----- GENERATING with seed: \"мионе.\n",
            "\n",
            "— до встречи, — улыбнулся он.\n",
            "\n",
            "—\"\n",
            "мионе.\n",
            "\n",
            "— до встречи, — улыбнулся он.\n",
            "\n",
            "— надо бы в бокам малфой, просто поднял гарри. он сказал гарри. — не понимае, что я все разоставал под него, и гарри уже понесто на поле, как с ним получилось, что он случай маглу стояли в полядени, как бы не понимал, что он слышал с ним в небо, и все и не слышал, что странно, что он случает по поле, на потому что это очень не понял, что просто поднялся в лондон. — вот так что ты не знает, ты не по\n",
            "----- DIVERSITY: 0.5\n",
            "----- GENERATING with seed: \"мионе.\n",
            "\n",
            "— до встречи, — улыбнулся он.\n",
            "\n",
            "—\"\n",
            "мионе.\n",
            "\n",
            "— до встречи, — улыбнулся он.\n",
            "\n",
            "— хагрид, — признал гарри. — хагрид поднялся в него, и гарри умерялся отделать одного и удаляющий на голову другой команды. гарри начал пристально смотреть профессор макгонагалл. малфой просто стояла по домо в странным столом столом. и в румах глаза от него была в одной комнат. он открыл голову с собой свои подзавали гарри направлялся, как бы не было, что когда он просто не отдалался. похоже, он вс\n",
            "----- DIVERSITY: 1.0\n",
            "----- GENERATING with seed: \"мионе.\n",
            "\n",
            "— до встречи, — улыбнулся он.\n",
            "\n",
            "—\"\n",
            "мионе.\n",
            "\n",
            "— до встречи, — улыбнулся он.\n",
            "\n",
            "— прислаць вытащить за гарри, поспешно выхватил за сину, не ставирось вроди за зать.\n",
            "\n",
            "мадам трюк случало, как он струг его пять сидет. (сел на бангет презыванийе в темное мальшек, другая морония зели… — не ведь здесь?\n",
            "\n",
            "— хагрид, рашег призать? — он. они не могу, традно, что его сйзались глазаю, и гарри резко попытался бестеку на малфоя. гарри был меня заплатитал на нем. гарри грошко попытролиет, на\n",
            "----- DIVERSITY: 1.2\n",
            "----- GENERATING with seed: \"мионе.\n",
            "\n",
            "— до встречи, — улыбнулся он.\n",
            "\n",
            "—\"\n",
            "мионе.\n",
            "\n",
            "— до встречи, — улыбнулся он.\n",
            "\n",
            "— нет, он улыбнулся! — резкому многуресь ушень.\n",
            "\n",
            "— нее присмотрел легону! — мистер гарри должен был белае другие. и это ожден по предиском стало, кодурве затем сверх заклинаниего, потому что и подвидетельно почти по новых балка — тебя, и удавленее двадцаться семуна пожелания и поняли, что на зантые сегедняя дохого поисках лучшей сомашкой окаждом, что он рода. с влет…\n",
            "\n",
            "— давай этой сырокой больше, к\n",
            "Epoch 35/40\n",
            "181265/181265 [==============================] - 214s 1ms/step - loss: 0.9800 - acc: 0.6821\n",
            "\n",
            "----- GENERATING TEXT AFTER EPOCH: 34\n",
            "----- DIVERSITY: 0.2\n",
            "----- GENERATING with seed: \" как и он сам, больше всего боится рассв\"\n",
            " как и он сам, больше всего боится рассвет в квиддич, в которой протянул гарри. в себя, пока последний мантии, на собой после почти пригодовал на гарри. в сторону замка он полножны вернулась и произнесла от миссис дурсльмо произнесла на него.\n",
            "\n",
            "— надо бы вы мне объяснять? — прошептал рон. — настоящем последнего в карман и дадли и последней совы.\n",
            "\n",
            "— нет, не поймал, что ты не знаешь, не сказал, что на каком-то возмущенный возможность можно\n",
            "----- DIVERSITY: 0.5\n",
            "----- GENERATING with seed: \" как и он сам, больше всего боится рассв\"\n",
            " как и он сам, больше всего боится рассвет в лесу…\n",
            "\n",
            "— после профессор макгонагалл, — произнес профессор макгонагалл, — на то не просто прикрывала с ним, потому что подвидет к ним по себе, не становилось с той, что с красными присматываться по квиддичу. нужно донеся последним другой, потому что на стол посколила мне по волшебные барлицки.\n",
            "\n",
            "— ну что ж, хотя по преподывать себе до таблыче. гарри поттер, вы все должен был, а затем на следую\n",
            "----- DIVERSITY: 1.0\n",
            "----- GENERATING with seed: \" как и он сам, больше всего боится рассв\"\n",
            " как и он сам, больше всего боится рассвет все пришлось, что я говорила не такое! — поинтересовался малфой. — и это сничкальсь по перед хвостой цестро на камину, увидевшись леганей, и бибрионни на нем была только головой. они до свейтоких филч приближался мяч отголыкать метла. в карману оказались ли наронам.\n",
            "\n",
            "они школение даже показалось, азумить тебе ничего стояли в большим рефеняй. он представляла требему, нового начал слишком.\n",
            "\n",
            "— раз\n",
            "----- DIVERSITY: 1.2\n",
            "----- GENERATING with seed: \" как и он сам, больше всего боится рассв\"\n",
            " как и он сам, больше всего боится рассвет твоему чудет хвастоком ушее. а вот принес этого заданиться затлинания впустия в чихну силу, уставил огромно али занитался к обеду. с нес полжет нацула, закрывый метле. был даган шурсу, в воздухе. — хагрид был мне долгаты. тяжелы наразныма шестетным на платформе. — что ж, я думаю, судобуй «лихомого филч подчевнулись и руках: в матром, уставилось не ошешно, а того, мальчико из землеглом, никогда \n",
            "Epoch 36/40\n",
            "181265/181265 [==============================] - 215s 1ms/step - loss: 0.9708 - acc: 0.6861\n",
            "\n",
            "----- GENERATING TEXT AFTER EPOCH: 35\n",
            "----- DIVERSITY: 0.2\n",
            "----- GENERATING with seed: \" тут ронана спрашиваю не видел ли он… э-\"\n",
            " тут ронана спрашиваю не видел ли он… э-э… под водзли, так что слишком моро слишком сладере под подойти к нему. гарри поднялся в сторону заплать. он сделал тебя несколько секунд. — в голосе деловали в сторону раз под отколения, подаждо пробудка совсем не мог понять, что он случай на себя его в поле, на котором был предчиках волшебной палочке с подумать. — в поламень они вышел из мантию гарри и рон и гермиона поднялся в огромной стерей, \n",
            "----- DIVERSITY: 0.5\n",
            "----- GENERATING with seed: \" тут ронана спрашиваю не видел ли он… э-\"\n",
            " тут ронана спрашиваю не видел ли он… э-э… что-то сделала полого произность.\n",
            "\n",
            "— да точно произнесло все, что он не подумал, что не забудь.\n",
            "\n",
            "— не было, — тебя прято вполнекал дядя вернон. — что же серьез держащай его совершенно такое друзь только снегга.\n",
            "\n",
            "— да профессор макгонагалл свет голос в волшебное палочки.\n",
            "\n",
            "— но так что ты сказал, что вы спикаником вели в отвое часов, как произнесся гарри наконец встолько от сладествой светлыми кл\n",
            "----- DIVERSITY: 1.0\n",
            "----- GENERATING with seed: \" тут ронана спрашиваю не видел ли он… э-\"\n",
            " тут ронана спрашиваю не видел ли он… э-э-э… именно совершенно он не могу и впусмень их наполнее тело тот лишь или споди никогда не скоре странить в темнотереек, обратно на него, в разуме держая них увиден, заходит с крывым гарри.\n",
            "\n",
            "— вдруг начал персогу стола, если на свое домашам друзей по комнату, глаза звиковать минут), а потом спросил: «минутственного готов его времени, могу юйти водичниты. да и его долги спросил гарри. гарри замети\n",
            "----- DIVERSITY: 1.2\n",
            "----- GENERATING with seed: \" тут ронана спрашиваю не видел ли он… э-\"\n",
            " тут ронана спрашиваю не видел ли он… э-э-э… прямятся, исчез ответа же дорога, — сказал хагрид.\n",
            "\n",
            "— а что том было решь. гарри взросался с него смертья!\n",
            "\n",
            "сейчас наглодищая на ноздопокочно сла хотятя больше туде стыик, вытавающее его вомго осматьющим. он все же язвостивала взгляда дадли и испетное бледов, но готов он молодива не поджилась.\n",
            "\n",
            "\n",
            "\n",
            "\n",
            "\n",
            "\n",
            "\n",
            "\n",
            "и ты попать его любим черным этого, — почувствелнувшие от заколдила его. харри удавила его м\n",
            "Epoch 37/40\n",
            "181265/181265 [==============================] - 214s 1ms/step - loss: 0.9598 - acc: 0.6903\n",
            "\n",
            "----- GENERATING TEXT AFTER EPOCH: 36\n",
            "----- DIVERSITY: 0.2\n",
            "----- GENERATING with seed: \" такого рождественского пира. на столах \"\n",
            " такого рождественского пира. на столах сосвокахи наконец удал только под них.\n",
            "\n",
            "— не знаю, как пройти перед ним поверх на поле, только они не понимала.\n",
            "\n",
            "— надо уже выпустить мне просто прокрастельно. в своей собравшихся в коридоре возможность.\n",
            "\n",
            "— он так что ты не знаешь, так что ты не знаешь, не понимаю, что он случайте под них слышались столом стеленный полнах в коридоре вокруг ветнок, он был очень невилло. в одно не в своей симанных и\n",
            "----- DIVERSITY: 0.5\n",
            "----- GENERATING with seed: \" такого рождественского пира. на столах \"\n",
            " такого рождественского пира. на столах под коней карманах. потом как не разберела в одной квиррелл по тележивопом вечали в поеди коридоре вопрет в краснее большим только секунду со бесного от слова и начал из тех, кто обижалась утро вещий в котререйкими и светером и рекнуть было довольно никогда не понималась. гарри подпрыгнул на спорную школу.\n",
            "\n",
            "горя постали всего каким-то одновение в коридоре вопросы быстро обратно и все и одной профе\n",
            "----- DIVERSITY: 1.0\n",
            "----- GENERATING with seed: \" такого рождественского пира. на столах \"\n",
            " такого рождественского пира. на столах ударал полфотор. скотором слижедестно выставило на пол вкустел, как его обнось он быль очков, когда ты же дваности, как волан-де-морт вывернулся. все эти приключившийся за нацел, а потом руки ничто гернили рассличание скрутый рыц. гарри метле недовирный пить мантия-невидимого, как вы твоих вудишь, что затем перваей ничего не смогу, и она стоял один сирения, но гарри освещен девочитался, чтобы же т\n",
            "----- DIVERSITY: 1.2\n",
            "----- GENERATING with seed: \" такого рождественского пира. на столах \"\n",
            " такого рождественского пира. на столах руках никогда не может дованто: волшебных делать времени, как сказать ему, что у всех гриффиндор, лежала напах, а сам, но тетя петунья кетывов ходя напостинается.\n",
            "\n",
            "— предстояно посмотрел на сверту. в дурсля магии на них все фальшей никага, как он с шегод и ронжал что-то преизотля, что дадли бы кашиные — это истой — нервается преднуть. и у меня если он не было не могла нас!-что она, не было личност\n",
            "Epoch 38/40\n",
            "181265/181265 [==============================] - 214s 1ms/step - loss: 0.9589 - acc: 0.6908\n",
            "\n",
            "----- GENERATING TEXT AFTER EPOCH: 37\n",
            "----- DIVERSITY: 0.2\n",
            "----- GENERATING with seed: \"бя приоткрытую дверь. она была его единс\"\n",
            "бя приоткрытую дверь. она была его единственно, что не получилось, что он понял, что поднял кучи все поверет, что он не понимает, что он случай, что он случай по стране, но не понимал, что гарри поттер в спиней черных желание подняла поламени. когда он понимал, что произошло и вытавит из тверхому, потому что в этом рассказ не так вотврывал ему в рукой в рона.\n",
            "\n",
            "— немного, я почти переводить в то, что вы получит тебя все такое… но не пони\n",
            "----- DIVERSITY: 0.5\n",
            "----- GENERATING with seed: \"бя приоткрытую дверь. она была его единс\"\n",
            "бя приоткрытую дверь. она была его единственно, как он повернулся к нейу, который посмотрел на зеркало. так что это ответал в порядку и вытящий сова.\n",
            "\n",
            "— я тоже понесло, что он не мог понять, что его не понимает, что он не понимал.\n",
            "\n",
            "теперь он попытался почти никакого не понимаетесь с массими книги.\n",
            "\n",
            "в постели ему все время все же подняться за кошну. а тот почували книга и потому что на поле судить не было в домойных росшимо на поле с пре\n",
            "----- DIVERSITY: 1.0\n",
            "----- GENERATING with seed: \"бя приоткрытую дверь. она была его единс\"\n",
            "бя приоткрытую дверь. она была его единственно, гоплобы, я в моен прима испуганно прокосто стояла на гарри, пытаясь занить изучать лестница, — учетикое периотрачное пусто. позадиваются оливаное фреда, когда в госто не был написано. вдиры, спали буках же с трудом пытался поздрать фламени. и не слушал на метлу, пару в пор, его затих, как прой становкой сосразовосодиваные меняй.\n",
            "\n",
            "— иди! — угружился напрому и гриффиндор рон, дрижание вскочи\n",
            "----- DIVERSITY: 1.2\n",
            "----- GENERATING with seed: \"бя приоткрытую дверь. она была его единс\"\n",
            "бя приоткрытую дверь. она была его единством — это огради»… ны умера постоон, что долж снулся его пять тебя, начал одного, в поестокой мне как у тебя два авточисов все, что пришли подпальную крота боло, но это же стояли, пытается застать карен, что дыла гермиона, словно расскажил мимо.\n",
            "\n",
            "— э, дамблдор? — глужил уам вообще но и нездесь по этух по или достали на себя приблизание выот фрете безморение, такрюкого отнеми казалось небесхожеть \n",
            "Epoch 39/40\n",
            "181265/181265 [==============================] - 214s 1ms/step - loss: 0.9491 - acc: 0.6923\n",
            "\n",
            "----- GENERATING TEXT AFTER EPOCH: 38\n",
            "----- DIVERSITY: 0.2\n",
            "----- GENERATING with seed: \"была одна из моих самых гениальных идей.\"\n",
            "была одна из моих самых гениальных идей.\n",
            "\n",
            "— а теперь он стал сейчас представились в гостиную, и гарри уже почти привидеться в коридоре под назодинались. они были возможность совсем не обратить. наконец пробортительно отъясить в собый.\n",
            "\n",
            "гарри поттер в коридоре конце кровавших стали под них.\n",
            "\n",
            "— ты видели в себя ни с той воздухе, — спросил гарри.\n",
            "\n",
            "— ну что? — воскликнул гарри. — не могу понять, как такое во всем то, что тоже был сказать, ч\n",
            "----- DIVERSITY: 0.5\n",
            "----- GENERATING with seed: \"была одна из моих самых гениальных идей.\"\n",
            "была одна из моих самых гениальных идей.\n",
            "\n",
            "— я хотел сказать, что он случай, все это поднялись и солнее, она дурслей, но так что ты не видел и объяснять с ним лежание застали на пол, повернувшись к воздух, которые отетя первая задня филч. и только перестуль к волшебник, тоже затверду и все же страние.\n",
            "\n",
            "знако хагрид в коридоре говорил о том, что он случайно умерет.\n",
            "\n",
            "— а что ты не суметел мне только даже было в большой палецев ко наскольки\n",
            "----- DIVERSITY: 1.0\n",
            "----- GENERATING with seed: \"была одна из моих самых гениальных идей.\"\n",
            "была одна из моих самых гениальных идей.\n",
            "\n",
            "квиррелл молчал с хагридом и ушел любищей. так важ заставивши на стол, но даже гарри кинались ошибовал за того, что не было. так что он попадумусь на домольком непоразным. именно было бела в зеркале одня из кармана и снегг», пошко спускаться смелали. но просто произошло накакиеет день волшебники, когда резко был наменого.\n",
            "\n",
            "\n",
            "\n",
            "\n",
            "\n",
            "\n",
            "\n",
            "\n",
            "затем он отхрал глази, которые ему не было. наконец был такой же, \n",
            "----- DIVERSITY: 1.2\n",
            "----- GENERATING with seed: \"была одна из моих самых гениальных идей.\"\n",
            "была одна из моих самых гениальных идей.\n",
            "\n",
            "приключившиеся на чуть стила. гарри плечился в биклибется, а залого прязнаком шагную работы, пободая над темное, вращались вдерум за нем картому. а гарри вновать судь и именно флинет было судя, коли что-то было, но гарри туда странно переспузнуть… и тут школьной к гарри копора, произнес в квотреча, вылетев какая такой вокрестельное, закак на вокзал каключа. цистии брогоров, ропали гарри виду шля\n",
            "Epoch 40/40\n",
            "181265/181265 [==============================] - 214s 1ms/step - loss: 0.9412 - acc: 0.6959\n",
            "\n",
            "----- GENERATING TEXT AFTER EPOCH: 39\n",
            "----- DIVERSITY: 0.2\n",
            "----- GENERATING with seed: \"кашу и заляпывал ею стены.\n",
            "\n",
            "— ух, ты моя\"\n",
            "кашу и заляпывал ею стены.\n",
            "\n",
            "— ух, ты моя поспешь? — взглян головым гарри и рону в сторону заплать своего стола. настоящий маглый вездуху. гарри поднял его и просто ответил с него.\n",
            "\n",
            "— нет, можно заметил мантии. но я попади спать в собой в том, что в следующего согласел на самом деле, который не было не сомершийся в комнату, глаза его помядывал его грабители совутся и не было собые не понял, что я все разно вытал, с такой меня поднял пере\n",
            "----- DIVERSITY: 0.5\n",
            "----- GENERATING with seed: \"кашу и заляпывал ею стены.\n",
            "\n",
            "— ух, ты моя\"\n",
            "кашу и заляпывал ею стены.\n",
            "\n",
            "— ух, ты моя последить в мое сидеть, — сказал хагрид. — волан-де-морт поймал всем собой шагматы. а вот пришлось, что в каком-то добе возможно, я вышли на поле гарри и рон и гермиона все разно схватил внезапно к рону.\n",
            "\n",
            "— нет, я все разно заметил, что если честно, на как и он вспомнил гарри, только удаля толовыми поступетем в часов коменны. в концу могла тебя забольшего магазина от профессора мнете того, что я \n",
            "----- DIVERSITY: 1.0\n",
            "----- GENERATING with seed: \"кашу и заляпывал ею стены.\n",
            "\n",
            "— ух, ты моя\"\n",
            "кашу и заляпывал ею стены.\n",
            "\n",
            "— ух, ты моя врятали передевали: очень обрат и обнатужески заглянул на глазах мысть раздавшего таболек, и потому что ему с трудом повестили на голову овратности.\n",
            "\n",
            "— как дышать? — давит коросом спали сотюрались сову. а как захладывать флинеги. мядели взгляд дадли, когда они углядила кошка позвольтели в жирни, а он повернулся к гарри чудена. как клык стали домашный черев лица, его говорил ручку перед строгом и \n",
            "----- DIVERSITY: 1.2\n",
            "----- GENERATING with seed: \"кашу и заляпывал ею стены.\n",
            "\n",
            "— ух, ты моя\"\n",
            "кашу и заляпывал ею стены.\n",
            "\n",
            "— ух, ты моянь ярего даже рон и целю-то имяю принудителя. готовый вообще я такое…\n",
            "\n",
            "— и помядал и отчетлывай. на мой огромко… заоблема!\n",
            "\n",
            "гарри ужутно поднял через спутених мысль, ему чувствовалось, что проззомение огляниться предмомот. раз не глубокух изучала по заболшей моие солет, произнес с ехурс. и и тут поймал себе, что мы припах — восклюкал гарри, увидев из коммнат о силая, а могва застели на ней.\n",
            "\n",
            "гарри\n"
          ],
          "name": "stdout"
        },
        {
          "output_type": "execute_result",
          "data": {
            "text/plain": [
              "<keras.callbacks.History at 0x7f2c41306a58>"
            ]
          },
          "metadata": {
            "tags": []
          },
          "execution_count": 11
        }
      ]
    },
    {
      "cell_type": "markdown",
      "metadata": {
        "id": "RWkNvwIcKzrp"
      },
      "source": [
        "Удалось достигнуть неплохой точности - 69%."
      ]
    },
    {
      "cell_type": "markdown",
      "metadata": {
        "id": "NOk8Grkb0LF8"
      },
      "source": [
        "### Результаты тренировки"
      ]
    },
    {
      "cell_type": "markdown",
      "metadata": {
        "id": "nQBksQmRQ6rC"
      },
      "source": [
        "Пробуем несколько разных параметров длины текста."
      ]
    },
    {
      "cell_type": "code",
      "metadata": {
        "id": "Eiv3YIXMdQHn",
        "outputId": "ba94d395-dc5d-499a-e170-4f2cfad8935c",
        "colab": {
          "base_uri": "https://localhost:8080/",
          "height": 154
        }
      },
      "source": [
        "print(generateText(600, 0.5))"
      ],
      "execution_count": null,
      "outputs": [
        {
          "output_type": "stream",
          "text": [
            "пределяется качеством перевода, так как справил их внего. чем не слушали, что гарри вышел из комнаты в библиотеке, было из мальчика поблизелина целая носы, когда ледянно рассчет дома.\n",
            "\n",
            "— не снова сказал его тур, к тому же они предпочивались. но настоящий в переденную собстреником команды. гарри не удалось узнать, что он представил голову и совсем учеников возможность на запискими перед ним поднялась в карточку гостиной лон.\n",
            "\n",
            "в кантору, вытая другу с полной столых круже в собой дверь и посмотрели на поля посмотреть в коридора. но он встал, что ему не понял, что когда дамблдор убыл гарри.\n",
            "\n",
            "— нет, нет, не знаю… — продолжил дядя вернон,\n"
          ],
          "name": "stdout"
        }
      ]
    },
    {
      "cell_type": "code",
      "metadata": {
        "id": "D4AqISRKdVZd",
        "outputId": "f5206f12-eafa-4311-caf5-6991ec3d90b9",
        "colab": {
          "base_uri": "https://localhost:8080/",
          "height": 188
        }
      },
      "source": [
        "print(generateText(800, 0.5))"
      ],
      "execution_count": null,
      "outputs": [
        {
          "output_type": "stream",
          "text": [
            " в стене над мусорной урной.\n",
            "\n",
            "— три вверх поттеры — как мы собираешь убивать себе на себя, не понимаю, что именно следующий метлы, а закрыл рон, с трудом призернил к дурслям. ведь к ним дошего не было, а ты судишь телевезали. в голосе секцию на свете и с трудом выдавил из комнаты о солетание мореди на поле гостиной. а мог выполнить черный метлы, которые они вышел из своих гарри и вернульсь. и не смог поднял сторону и солыбались под нес.\n",
            "\n",
            "— похожи всем собокой с самой коридором. он был остались подняла собый пол, сотся по своей меня, что он не время забыл о хогвартса?\n",
            "\n",
            "— да нет… не высобием маглы вернулась по молеть. я вот от небрадитесь, что это очень впереди, что его в воздухе, профессор макгонагалл правел были уже вскативала.\n",
            "\n",
            "— а ты поймай, мне подумать, — пробормотал он. — квиррелл не мог быть, и представил забыл, ты вот-рон\n"
          ],
          "name": "stdout"
        }
      ]
    },
    {
      "cell_type": "markdown",
      "metadata": {
        "id": "zgfC30daxWLK"
      },
      "source": [
        "В общем не так плохо, но в текстах есть много не согласованных друг с другом слов."
      ]
    },
    {
      "cell_type": "markdown",
      "metadata": {
        "id": "b4m_Q07typnU"
      },
      "source": [
        "## **Model 3** - two GRU"
      ]
    },
    {
      "cell_type": "markdown",
      "metadata": {
        "id": "aqVMwlhOz9v1"
      },
      "source": [
        "### Обучение"
      ]
    },
    {
      "cell_type": "code",
      "metadata": {
        "id": "VhCszDRwq0N4",
        "outputId": "57cdc887-03c0-4cd9-e94f-683173282eda",
        "colab": {
          "base_uri": "https://localhost:8080/",
          "height": 1000
        }
      },
      "source": [
        "model.fit(x, y,\n",
        "          batch_size=128,\n",
        "          epochs=40)"
      ],
      "execution_count": null,
      "outputs": [
        {
          "output_type": "stream",
          "text": [
            "Epoch 1/40\n",
            "181265/181265 [==============================] - 159s 876us/step - loss: 0.0094 - acc: 0.2805\n",
            "Epoch 2/40\n",
            "181265/181265 [==============================] - 158s 874us/step - loss: 0.0086 - acc: 0.3593\n",
            "Epoch 3/40\n",
            "181265/181265 [==============================] - 158s 872us/step - loss: 0.0081 - acc: 0.4094\n",
            "Epoch 4/40\n",
            "181265/181265 [==============================] - 157s 867us/step - loss: 0.0076 - acc: 0.4486\n",
            "Epoch 5/40\n",
            "181265/181265 [==============================] - 155s 856us/step - loss: 0.0073 - acc: 0.4745\n",
            "Epoch 6/40\n",
            "181265/181265 [==============================] - 155s 856us/step - loss: 0.0071 - acc: 0.4950\n",
            "Epoch 7/40\n",
            "181265/181265 [==============================] - 159s 875us/step - loss: 0.0069 - acc: 0.5092\n",
            "Epoch 8/40\n",
            "181265/181265 [==============================] - 160s 880us/step - loss: 0.0067 - acc: 0.5245\n",
            "Epoch 9/40\n",
            "181265/181265 [==============================] - 159s 877us/step - loss: 0.0066 - acc: 0.5363\n",
            "Epoch 10/40\n",
            "181265/181265 [==============================] - 159s 876us/step - loss: 0.0065 - acc: 0.5458\n",
            "Epoch 11/40\n",
            "181265/181265 [==============================] - 157s 869us/step - loss: 0.0064 - acc: 0.5541\n",
            "Epoch 12/40\n",
            "181265/181265 [==============================] - 157s 867us/step - loss: 0.0063 - acc: 0.5610\n",
            "Epoch 13/40\n",
            "181265/181265 [==============================] - 158s 870us/step - loss: 0.0062 - acc: 0.5699\n",
            "Epoch 14/40\n",
            "181265/181265 [==============================] - 158s 871us/step - loss: 0.0061 - acc: 0.5734\n",
            "Epoch 15/40\n",
            "181265/181265 [==============================] - 158s 870us/step - loss: 0.0061 - acc: 0.5791\n",
            "Epoch 16/40\n",
            "181265/181265 [==============================] - 157s 867us/step - loss: 0.0060 - acc: 0.5840\n",
            "Epoch 17/40\n",
            "181265/181265 [==============================] - 162s 893us/step - loss: 0.0060 - acc: 0.5868\n",
            "Epoch 18/40\n",
            "181265/181265 [==============================] - 161s 890us/step - loss: 0.0059 - acc: 0.5911\n",
            "Epoch 19/40\n",
            "181265/181265 [==============================] - 160s 885us/step - loss: 0.0059 - acc: 0.5933\n",
            "Epoch 20/40\n",
            "181265/181265 [==============================] - 158s 870us/step - loss: 0.0058 - acc: 0.5978\n",
            "Epoch 21/40\n",
            "181265/181265 [==============================] - 157s 864us/step - loss: 0.0058 - acc: 0.5995\n",
            "Epoch 22/40\n",
            "181265/181265 [==============================] - 155s 857us/step - loss: 0.0058 - acc: 0.6033\n",
            "Epoch 23/40\n",
            "181265/181265 [==============================] - 156s 863us/step - loss: 0.0057 - acc: 0.6066\n",
            "Epoch 24/40\n",
            "181265/181265 [==============================] - 157s 866us/step - loss: 0.0057 - acc: 0.6078\n",
            "Epoch 25/40\n",
            "181265/181265 [==============================] - 160s 882us/step - loss: 0.0057 - acc: 0.6099\n",
            "Epoch 26/40\n",
            "181265/181265 [==============================] - 160s 883us/step - loss: 0.0056 - acc: 0.6127\n",
            "Epoch 27/40\n",
            "181265/181265 [==============================] - 160s 880us/step - loss: 0.0056 - acc: 0.6155\n",
            "Epoch 28/40\n",
            "181265/181265 [==============================] - 158s 870us/step - loss: 0.0056 - acc: 0.6172\n",
            "Epoch 29/40\n",
            "181265/181265 [==============================] - 158s 870us/step - loss: 0.0055 - acc: 0.6200\n",
            "Epoch 30/40\n",
            "181265/181265 [==============================] - 159s 879us/step - loss: 0.0055 - acc: 0.6211\n",
            "Epoch 31/40\n",
            "181265/181265 [==============================] - 159s 877us/step - loss: 0.0055 - acc: 0.6233\n",
            "Epoch 32/40\n",
            "181265/181265 [==============================] - 159s 874us/step - loss: 0.0055 - acc: 0.6248\n",
            "Epoch 33/40\n",
            "181265/181265 [==============================] - 156s 861us/step - loss: 0.0054 - acc: 0.6273\n",
            "Epoch 34/40\n",
            "181265/181265 [==============================] - 155s 857us/step - loss: 0.0054 - acc: 0.6298\n",
            "Epoch 35/40\n",
            "181265/181265 [==============================] - 156s 863us/step - loss: 0.0054 - acc: 0.6308\n",
            "Epoch 36/40\n",
            "181265/181265 [==============================] - 157s 864us/step - loss: 0.0054 - acc: 0.6324\n",
            "Epoch 37/40\n",
            "181265/181265 [==============================] - 157s 866us/step - loss: 0.0054 - acc: 0.6338\n",
            "Epoch 38/40\n",
            "181265/181265 [==============================] - 157s 867us/step - loss: 0.0053 - acc: 0.6351\n",
            "Epoch 39/40\n",
            "181265/181265 [==============================] - 160s 884us/step - loss: 0.0053 - acc: 0.6381\n",
            "Epoch 40/40\n",
            "181265/181265 [==============================] - 161s 886us/step - loss: 0.0053 - acc: 0.6395\n"
          ],
          "name": "stdout"
        },
        {
          "output_type": "execute_result",
          "data": {
            "text/plain": [
              "<keras.callbacks.History at 0x7fdb300ffe48>"
            ]
          },
          "metadata": {
            "tags": []
          },
          "execution_count": 14
        }
      ]
    },
    {
      "cell_type": "markdown",
      "metadata": {
        "id": "Uqj3qNnCQf5O"
      },
      "source": [
        "В этом эксперименте точность достигла 64%."
      ]
    },
    {
      "cell_type": "markdown",
      "metadata": {
        "id": "7vT58AFo0Mla"
      },
      "source": [
        "### Результаты тренировки"
      ]
    },
    {
      "cell_type": "code",
      "metadata": {
        "id": "e0B9jfOuq9Yy",
        "outputId": "04974b63-7184-4bda-a5d3-a9b8de0dd2a1",
        "colab": {
          "base_uri": "https://localhost:8080/",
          "height": 121
        }
      },
      "source": [
        " print(generateText(800,0.5))"
      ],
      "execution_count": null,
      "outputs": [
        {
          "output_type": "stream",
          "text": [
            "рнон отошел в сторону, а гарри повернулся к ней подаролом в сторону постели на полеский по положение и предпоповой старых сторону, потому что на стену kожет.\n",
            "\n",
            "— ну #она. — вы подумать, что дадли подумал, что в том произнес гарри, 9то все предпосил гарри.\n",
            "\n",
            "— 7д, 0»мая поyвали в полном и поднялись по перед.ть, как профессор макгонагалл поняли в 6емных уюсты, в последний водумии камень в qв запрете подорогне столо были за того, что произнес гарри, повернулся к конецу, произнес он. — что не спросилось в коников. — если с ними заметил, что в спальнем cтаг, на возможно, он скозненил произнесил мому 9какой. «bстолько сесть на просто попросил гарри, конечно, 5следив в за ней было 8аконького поправила себя на тор, чтобы подумать, что дадли подумал, что с 8суся, потому что h него не понимает, что он сбыл leобразачивая по*нает просто не бы\n"
          ],
          "name": "stdout"
        }
      ]
    },
    {
      "cell_type": "markdown",
      "metadata": {
        "id": "7K3BVUQXxv6T"
      },
      "source": [
        "В данном примере присутствует много лишних символов, неправильные слова."
      ]
    },
    {
      "cell_type": "markdown",
      "metadata": {
        "id": "8oawtNhcRMXC"
      },
      "source": [
        "Как можно заметить, что сгенерированный текст модели выше (с двумя LSTM) получился более читабельный. Именно на это нам и указывало значение accuracy."
      ]
    },
    {
      "cell_type": "markdown",
      "metadata": {
        "id": "ouyAiLcX0O30"
      },
      "source": [
        "# **Вывод**\n",
        "\n"
      ]
    },
    {
      "cell_type": "markdown",
      "metadata": {
        "id": "4MDbGt5SHtFX"
      },
      "source": [
        "Для улучшения результата следует \"утяжелить\" сети (увеличить число слоёв), делать больше эпох при обучении."
      ]
    }
  ]
}