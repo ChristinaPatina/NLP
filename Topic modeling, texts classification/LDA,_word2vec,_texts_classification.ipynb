{
  "cells": [
    {
      "cell_type": "markdown",
      "metadata": {
        "id": "h28BQvnWhuCR"
      },
      "source": [
        "# **LDA, word2vec, классификация документов**\n",
        "### **Часть 1. Тематическое моделирование**\n",
        "1. Обучение моделей LDA(с разным числом тем), выбор лучшей с\n",
        "помощью когерентности(использовав претренированный word2vec), поиск соответствия между найденными темами и исходными тегами и\n",
        "категориями с помощью word2vec.\n",
        "2. Анализ результатов.\n",
        "\n",
        "### **Часть 2. Классификация**\n",
        "1. Классификация новостей по категориям, используя word2vec, doc2vec(попытаться как можно сильнее повысить точность).\n",
        "2. Анализ результатов."
      ]
    },
    {
      "cell_type": "code",
      "execution_count": null,
      "metadata": {
        "id": "Z9i3lbyMmMdA",
        "outputId": "44baf975-59a9-4ab6-9b15-26f5a0b7240a"
      },
      "outputs": [
        {
          "name": "stderr",
          "output_type": "stream",
          "text": [
            "[nltk_data] Downloading package stopwords to\n",
            "[nltk_data]     C:\\Users\\Lina\\AppData\\Roaming\\nltk_data...\n",
            "[nltk_data]   Package stopwords is already up-to-date!\n"
          ]
        }
      ],
      "source": [
        "import os\n",
        "import numpy as np\n",
        "import lxml\n",
        "from lxml import objectify, etree, html\n",
        "from xml.etree import ElementTree as xml\n",
        "import urllib3\n",
        "from io import StringIO, BytesIO\n",
        "import pandas as pd\n",
        "import re\n",
        "import codecs\n",
        "from pymystem3 import Mystem\n",
        "import copy\n",
        "import nltk\n",
        "import string\n",
        "nltk.download(\"stopwords\")\n",
        "from nltk.corpus import stopwords\n",
        "import sklearn\n",
        "import scipy\n",
        "import random\n",
        "from sklearn import utils\n",
        "from sklearn.feature_extraction.text import TfidfVectorizer, CountVectorizer\n",
        "from sklearn.model_selection import train_test_split, GridSearchCV, ShuffleSplit, RandomizedSearchCV\n",
        "from sklearn.neural_network import MLPClassifier\n",
        "from sklearn.linear_model import LogisticRegression\n",
        "from sklearn.ensemble import RandomForestClassifier, VotingClassifier\n",
        "from sklearn.metrics import accuracy_score, recall_score, precision_score, f1_score, roc_curve, roc_auc_score, plot_confusion_matrix, classification_report\n",
        "from sklearn.svm import LinearSVC, SVC\n",
        "from sklearn.pipeline import make_pipeline\n",
        "from sklearn.preprocessing import MinMaxScaler\n",
        "from sklearn.feature_selection import SelectFromModel\n",
        "from sklearn.multiclass import OneVsRestClassifier\n",
        "import itertools\n",
        "import json\n",
        "from scipy.sparse import csr_matrix\n",
        "import matplotlib.pyplot as plt\n",
        "from wordcloud import WordCloud, STOPWORDS\n",
        "import matplotlib.colors as mcolors\n",
        "from nltk import word_tokenize\n",
        "import gensim\n",
        "import gensim.corpora as corpora\n",
        "from gensim.utils import simple_preprocess\n",
        "from gensim.models import CoherenceModel\n",
        "from gensim.models.doc2vec import Doc2Vec, TaggedDocument\n",
        "import multiprocessing\n",
        "from tqdm import tqdm\n",
        "from gensim.test.utils import common_texts\n",
        "import pyLDAvis\n",
        "import pyLDAvis.gensim\n",
        "import warnings\n",
        "warnings.filterwarnings(\"ignore\")\n",
        "\n",
        "%matplotlib inline"
      ]
    },
    {
      "cell_type": "markdown",
      "metadata": {
        "id": "3Ug1vSTlmMdF"
      },
      "source": [
        "### Новостной корпус - https://www.bbc.com/news"
      ]
    },
    {
      "cell_type": "markdown",
      "metadata": {
        "id": "P0Sx3ekNmMdG"
      },
      "source": [
        "## Чтение данных"
      ]
    },
    {
      "cell_type": "markdown",
      "metadata": {
        "id": "WZsGhqgzmMdH"
      },
      "source": [
        "Прочитаем все наши новости."
      ]
    },
    {
      "cell_type": "code",
      "execution_count": null,
      "metadata": {
        "id": "23ku2wOMmMdH"
      },
      "outputs": [],
      "source": [
        "files = ['output0.xml', 'output.xml','output2.xml','output3.xml', 'output4.xml', 'output5.xml', 'output6.xml']\n",
        "catalog = []\n",
        "for file in files:\n",
        "    xmlstr = codecs.open(file, encoding='utf-8', mode='r').read()\n",
        "    root = etree.fromstring(xmlstr)\n",
        "    for element_lvl1 in root:\n",
        "        article = {}\n",
        "        for element_lvl2 in element_lvl1:\n",
        "            txt = element_lvl2.text\n",
        "            article[element_lvl2.tag] = '' if txt is None else txt\n",
        "        catalog.append(article)"
      ]
    },
    {
      "cell_type": "code",
      "execution_count": null,
      "metadata": {
        "id": "aXSdmKLMmMdI",
        "outputId": "c59203b9-b746-4549-8d50-90d250393bb8"
      },
      "outputs": [
        {
          "data": {
            "text/plain": [
              "1787"
            ]
          },
          "execution_count": 4,
          "metadata": {},
          "output_type": "execute_result"
        }
      ],
      "source": [
        "len(catalog)"
      ]
    },
    {
      "cell_type": "markdown",
      "metadata": {
        "id": "NtwL60E9mMdJ"
      },
      "source": [
        "Всего получилось 1787 текстов."
      ]
    },
    {
      "cell_type": "markdown",
      "metadata": {
        "id": "Lux8aK3DmMdK"
      },
      "source": [
        "Обязательно перемешаем все статьи, т.к. некоторые категории могут идти подряд."
      ]
    },
    {
      "cell_type": "code",
      "execution_count": null,
      "metadata": {
        "id": "Y1WqQLGxmMdL"
      },
      "outputs": [],
      "source": [
        "random.shuffle(catalog)"
      ]
    },
    {
      "cell_type": "code",
      "execution_count": null,
      "metadata": {
        "jupyter": {
          "outputs_hidden": true
        },
        "scrolled": true,
        "id": "toTOMpqhmMdM",
        "outputId": "15d910f8-b399-4858-99eb-2069ea891f77"
      },
      "outputs": [
        {
          "data": {
            "text/plain": [
              "[{'category': 'world',\n",
              "  'title': 'Assam register: Four million risk losing India citizenship',\n",
              "  'text': 'Media playback is unsupported on your device Media caption Living in limbo: Assam\\'s four million unwanted\\n\\nIndia has published a list which effectively strips about four million people in the north-eastern state of Assam of their citizenship.\\n\\nThe National Register of Citizens (NRC) is a list of people who can prove they came to the state by 24 March 1971, a day before neighbouring Bangladesh declared independence.\\n\\nIndia says the process is needed to identify illegal Bangladeshi migrants.\\n\\nBut it has sparked fears of a witch hunt against Assam\\'s ethnic minorities.\\n\\nFearing violence, officials say that no-one will face immediate deportation.\\n\\nThey say that a lengthy appeal process will be available to all - even if it means millions of families will live in limbo until they get a final decision on their legal status.\\n\\nWho is affected?\\n\\nMillions of people fled to neighbouring India after Bangladesh declared itself an independent country from Pakistan on 26 March 1971, sparking a bitter war. Many of the refugees settled in Assam.\\n\\nUnder the Assam Accord, an agreement signed by then PM Rajiv Gandhi in 1985, all those who cannot prove that they came to the north-eastern state before 24 March 1971 will be deleted from electoral rolls and expelled as they are not considered legitimate citizens.\\n\\nMore than 32 million people submitted documents to the NRC to prove they were citizens, but four million of them have been excluded from the published list.\\n\\nMany Bengalis - a linguistic minority in Assam - are worried they will be deported en masse.\\n\\nHasitun Nissa, who spoke to the BBC\\'s Joe Miller days before the list was published, said she had never known a home outside the state\\'s floodplains.\\n\\nIt is where the 47-year-old schoolteacher spent her childhood, where she studied, where she got married and where she had her four children.\\n\\nShe said her family arrived in India before 1971 but she expected to be stripped of her Indian citizenship and feared her land rights, voting rights and freedom would be in peril.\\n\\nImage copyright Reuters Image caption Four million people have been excluded from the list, which throws their citizenship into doubt\\n\\nAre Bengalis being targeted?\\n\\nActivists say the NRC is now being used as a pretext for a two-pronged attack - by Hindu nationalists and Assamese hardliners - on the state\\'s Bengali community, a large portion of whom are Muslims.\\n\\nLike Hasitun, many Bengalis live in the wetlands dotted along the Bramaputra river, moving around when water levels rise. Their paperwork, if it exists, is often inaccurate.\\n\\nOfficials claim illegal Bangladeshis are enmeshed in the Bengali population, often hiding in plain sight with forged papers - and a thorough examination of all documents is the only way to find them.\\n\\nBut Bengali campaigner Nazrul Ali Ahmed is adamant that the NRC is serving another agenda entirely.\\n\\n\"It is nothing but a conspiracy to commit atrocities,\" he told the BBC.\\n\\n\"They are openly threatening to get rid of Muslims, and what happened to the Rohingya in Myanmar, could happen to us here.\"\\n\\nSuch alarming comparisons are dismissed by Prime Minister Narendra Modi\\'s government, which emphasises that the NRC is an apolitical task, overseen by the country\\'s secular Supreme Court.\\n\\nWhat next for the \\'stateless\\'?\\n\\nSoutik Biswas, BBC News, Delhi\\n\\nThe latest move to make millions of people stateless overnight has sparked fears of violence in what is already a tinderbox state.\\n\\nNarendra Modi\\'s Hindu nationalist Bharatiya Janata Party (BJP), which rules the state, has insisted in the past that illegal Muslim immigrants will be deported.\\n\\nBut neighbouring Bangladesh will definitely not accede to such a request.\\n\\nChances are India will end up creating the newest cohort of stateless people, raising the spectre of a homegrown crisis that will echo the Rohingya people who fled Myanmar for Bangladesh.\\n\\nAfter human rights organisations began to express concern, the civil servant in charge of the NRC, Prateek Hajela, released a statement stressing that the law required him to make \"no differentiation on the basis of religion or language\" in determining citizenship.\\n\\nBut correspondents say the prime minister has never been shy of expressing his preference for Hindu Bangladeshi migrants, whom he says should be embraced by India.\\n\\nOther \"infiltrators\", Mr Modi told a crowd in 2014, would be deported.\\n\\nImage caption Activists allege that the list is a \"conspiracy\" to commit atrocities\\n\\nHis Bharatiya Janata Party (BJP) is considering a bill that would enshrine the rights of Hindu migrants in law.\\n\\nIndeed, a promotional song posted on Facebook by the NRC itself does little to calm the nerves of those worried about a Hindu nationalist witch hunt.\\n\\n\"A new revolution, to defeat the alien enemy, is beckoning,\" a young woman sings, \"bravely let us shield our motherland.\"\\n\\nWill there definitely be deportations?\\n\\nSiddhartha Bhattacharya, Assam\\'s law minister and a member of the BJP, is in no doubt about the fate of those who have been rejected.\\n\\n\"Everyone will be given a right to prove their citizenship,\" he told the BBC. \"But if they fail to do so, well, the legal system will take its own course.\"\\n\\nThat, Mr Bhattacharya clarified, would mean expulsion from India.\\n\\nImage caption Questions of identity and citizenship have long vexed a vast number of people living in Assam\\n\\nAt present, correspondents say, that seems little more than a threat aimed at whipping up Hindu support for the BJP ahead of elections.\\n\\nNo deportation procedures have been put in place, and Bangladesh, already burdened by the Rohingya crisis, has shown no sign of being open to accepting a raft of new refugees.\\n\\nNonetheless, campaigners like Samujjal Bhattacharyya say something must be done.\\n\\nHis organisation, the All Assam Students\\' Union, has been agitating for the expulsion of illegal Bangladeshis - regardless of their religion - for decades.\\n\\nIf deportations don\\'t happen, he says, \"the illegal foreigner will intrude upon the corridor of power. We are not prepared to be second-class citizens\".\\n\\nHasitun Nissa takes such rhetoric seriously.\\n\\n\"We have never harmed Hindus. We can live peacefully side-by-side,\" she says. \"But I fear bad news will come.\"',\n",
              "  'tags': 'Citizenship, India, Asia, Bangladesh'},\n",
              " {'category': 'sport',\n",
              "  'title': \"Coronavirus: Tokyo Olympics still 'business as usual', says IOC's Dick Pound\",\n",
              "  'text': 'The new Tokyo Olympic Stadium will be the centrepiece of the 2020 Games\\n\\nPreparations for the Tokyo Olympics are \"business as usual\" despite the outbreak of coronavirus, according to International Olympic Committee member Dick Pound.\\n\\nA number of sporting events in China have been cancelled, with football in Italy also affected.\\n\\nSpeaking to Associated Press, Pound told athletes to \"keep focussed on your sport\".\\n\\n\"As far as we all know, you\\'re going to be in Tokyo,\" he said.\\n\\nThe outbreak in China has already led to the cancellation of April\\'s Chinese Grand Prix, and cases in Italy led to the postponement of four Serie A games last weekend and the decision to play five behind closed doors this weekend.\\n\\nInter Milan\\'s Europa League last-32 home match against Ludogorets will be played behind closed doors on Thursday, while organisers of the Six Nations are \"monitoring very closely\" the coronavirus situation, with Italy set to host England and Ireland in the coming weeks.\\n\\nJapan\\'s J-League has postponed all domestic football matches until the middle of March, while the Tokyo Marathon on 1 March will now be for elite athletes only instead of being a mass participation event.\\n\\nWith the Olympics due to begin on 24 July, Pound said any decision on whether the Games will go ahead does not need to be taken until late May.\\n\\n\"You could certainly go to two months out if you had to,\" the 77-year-old Canadian said. \"A lot of things have to start happening. You\\'ve got to start ramping up your security, your food, the Olympic Village, the hotels, the media folks will be in there building their studios.\\n\\n\"This is the new war and you have to face it. In and around that time, I\\'d say folks are going to have to ask: \\'Is this under sufficient control that we can be confident about going to Tokyo, or not?\\'\"\\n\\nPound explained that the IOC will be led by decisions taken by the World Health Organization (WHO) and individual national governments.\\n\\n\"We\\'re pretty good at dealing with sport problems, but a pandemic is beyond our pay grade,\" he told BBC Radio 5 live.\\n\\n\"It will depend on the WHO to make a call with respect to international travel and the places that should be avoided. It may come down to a government intervention in Japan, or other governments saying \\'we don\\'t want our citizens travelling there\\'.\"\\n\\nPound said that cancelling the Games is a \"worst-case scenario\" and that other contingencies, such as a postponement, or even dispersing events across the globe, may be already be under consideration.\\n\\n\"We have to think of alternatives,\" he said. \"Could you still hold them this year? We would speak with the Japanese government to ask them if this \\'bubble\\' can be held in place.\\n\\n\"Everything is on the table. You could disperse the Games, for example have some events in Canada, some in Britain, etc.\"',\n",
              "  'tags': ''},\n",
              " {'category': 'world',\n",
              "  'title': 'Rio Olympic Park: Judge orders closure of site over security concerns',\n",
              "  'text': 'Image copyright AFP Image caption The venues hosted competitions during the Olympic Games in 2016\\n\\nA Brazilian judge has ordered the closure of the venues built for the 2016 Olympic Games in Rio de Janeiro over safety concerns.\\n\\nThe city\\'s authorities had not provided safety guarantees for the Olympic Park to hold public events, the judge said.\\n\\nIn 2016, the site hosted basketball, swimming and tennis competitions. It is now used for concerts and other events.\\n\\nBut parts of it have been poorly maintained. The Games were criticised for their cost and alleged corruption.\\n\\nA number of investigations have been opened into claims of corruption in the construction of venues and infrastructure related to the event, the first to be held in South America. In 2017, the cost of hosting it was estimated at around $15bn (£11bn in current figures).\\n\\nThe Olympic Park in the western Barra da Tijuca neighbourhood is a sprawling complex that includes a velodrome, aquatics and tennis centres and several arenas. It is now a public park, and hosts events including music festivals and e-sports tournaments.\\n\\nBut even before the Games were held, critics argued the sites were too big and expensive to maintain in the long run, warning that some risked becoming \"white elephants\" like several of the arenas built in Brazil when it hosted the World Cup in 2014.\\n\\nImage copyright Getty Images Image caption Parts of the Olympic Park have suffered from poor maintenance (File photo)\\n\\nImage copyright Getty Images Image caption Critics have long argued the sites are too expensive to maintain (File photo)\\n\\nJudge Eugenio Araujo ruled in favour of a request from the Rio prosecutor\\'s office asking for a ban on all major events at the facilities until authorities had seen certificates demonstrating their safety. He said the place was \"progressively battered by the lack of care\" and \"ready for tragedies\".\\n\\nThe federal government is responsible for most of the venues while some are administered by city authorities, the Brazil Olympic Committee and private companies.\\n\\nMedia playback is unsupported on your device Media caption From 2017: What has happened to the Rio Olympic venues?\\n\\nRio\\'s city hall and the federal government said they would appeal against the decision, local media reported. The city\\'s fire brigade said the facilities had all the necessary documents for events to be held.',\n",
              "  'tags': 'Brazil, Rio de Janeiro'}]"
            ]
          },
          "execution_count": 6,
          "metadata": {},
          "output_type": "execute_result"
        }
      ],
      "source": [
        "catalog [0:3]"
      ]
    },
    {
      "cell_type": "markdown",
      "metadata": {
        "id": "su3GE4gymMdN"
      },
      "source": [
        "## Preprocessing"
      ]
    },
    {
      "cell_type": "markdown",
      "metadata": {
        "id": "id5ioDoGmMdN"
      },
      "source": [
        "Текст каждый статьи приводим к нижнему регистру, удаляем знаки препинаия, цифры, стоп-слова и нормализуем. Также мы расширили список стоп-слов теми словами, которые ссылаются на картинки или видео, присутствующие в статьях."
      ]
    },
    {
      "cell_type": "code",
      "execution_count": null,
      "metadata": {
        "id": "c3onFshbmMdO"
      },
      "outputs": [],
      "source": [
        "def preprocess_article(text, mystem=Mystem(entire_input=False)):\n",
        "    text = text.lower()\n",
        "    en_stopwords = stopwords.words('english')\n",
        "    stop = ['image', 'copyright', 'getty', 'images', 'caption', 'media', 'playback',\n",
        "            'video', 'timewise', 'unsupported', 'afp', 'reuters']\n",
        "    en_stopwords.extend(stop)\n",
        "    dgts = [str(i) for i in range(10)]\n",
        "    punct = string.punctuation + '£'\n",
        "    for s in punct:\n",
        "        text = text.replace(s, '')\n",
        "    text = re.sub( '\\s+', ' ', text).strip()\n",
        "    \n",
        "    tokens = mystem.lemmatize(text)\n",
        "    tokens = [token for token in tokens if token not in en_stopwords\\\n",
        "              and token not in dgts\\\n",
        "              and token != \" \"]\n",
        "    text = \" \".join(tokens)\n",
        "    return text\n",
        "\n",
        "def preprocess_docs(catalog):\n",
        "    preproc_catalog = copy.deepcopy(catalog)\n",
        "    for i in range(len(preproc_catalog)):\n",
        "        preproc_catalog[i]['text'] = preprocess_article(catalog[i]['text'])\n",
        "    return preproc_catalog"
      ]
    },
    {
      "cell_type": "code",
      "execution_count": null,
      "metadata": {
        "id": "pPS_VPlpmMdO"
      },
      "outputs": [],
      "source": [
        "preproc_catalog = preprocess_docs(catalog)"
      ]
    },
    {
      "cell_type": "code",
      "execution_count": null,
      "metadata": {
        "jupyter": {
          "outputs_hidden": true
        },
        "scrolled": true,
        "id": "heN0DSXMmMdP",
        "outputId": "49858527-a10b-41a1-ce2c-78310eadb224"
      },
      "outputs": [
        {
          "data": {
            "text/plain": [
              "[{'category': 'world',\n",
              "  'title': 'Assam register: Four million risk losing India citizenship',\n",
              "  'text': 'device living limbo assams four million unwanted india published list effectively strips four million people northeastern state assam citizenship national register citizens nrc list people prove came state march day neighbouring bangladesh declared independence india says process needed identify illegal bangladeshi migrants sparked fears witch hunt assams ethnic minorities fearing violence officials say noone face immediate deportation say lengthy appeal process available even means millions families live limbo get final decision legal status affected millions people fled neighbouring india bangladesh declared independent country pakistan march sparking bitter war many refugees settled assam assam accord agreement signed pm rajiv gandhi cannot prove came northeastern state march deleted electoral rolls expelled considered legitimate citizens million people submitted documents nrc prove citizens four million excluded published list many bengalis linguistic minority assam worried deported en masse hasitun nissa spoke bbcs joe miller days list published said never known home outside states floodplains schoolteacher spent childhood studied got married four children said family arrived india expected stripped indian citizenship feared land rights voting rights freedom would peril four million people excluded list throws citizenship doubt bengalis targeted activists say nrc used pretext twopronged attack hindu nationalists assamese hardliners states bengali community large portion muslims like hasitun many bengalis live wetlands dotted along bramaputra river moving around water levels rise paperwork exists often inaccurate officials claim illegal bangladeshis enmeshed bengali population often hiding plain sight forged papers thorough examination documents way find bengali campaigner nazrul ali ahmed adamant nrc serving another agenda entirely nothing conspiracy commit atrocities told bbc openly threatening get rid muslims happened rohingya myanmar could happen us alarming comparisons dismissed prime minister narendra modis government emphasises nrc apolitical task overseen countrys secular supreme court next stateless soutik biswas bbc news delhi latest move make millions people stateless overnight sparked fears violence already tinderbox state narendra modis hindu nationalist bharatiya janata party bjp rules state insisted past illegal muslim immigrants deported neighbouring bangladesh definitely accede request chances india end creating newest cohort stateless people raising spectre homegrown crisis echo rohingya people fled myanmar bangladesh human rights organisations began express concern civil servant charge nrc prateek hajela released statement stressing law required make differentiation basis religion language determining citizenship correspondents say prime minister never shy expressing preference hindu bangladeshi migrants says embraced india infiltrators mr modi told crowd would deported activists allege list conspiracy commit atrocities bharatiya janata party bjp considering bill would enshrine rights hindu migrants law indeed promotional song posted facebook nrc little calm nerves worried hindu nationalist witch hunt new revolution defeat alien enemy beckoning young woman sings bravely let us shield motherland definitely deportations siddhartha bhattacharya assams law minister member bjp doubt fate rejected everyone given right prove citizenship told bbc fail well legal system take course mr bhattacharya clarified would mean expulsion india questions identity citizenship long vexed vast number people living assam present correspondents say seems little threat aimed whipping hindu support bjp ahead elections deportation procedures put place bangladesh already burdened rohingya crisis shown sign open accepting raft new refugees nonetheless campaigners like samujjal bhattacharyya say something must done organisation assam students union agitating expulsion illegal bangladeshis regardless religion decades deportations dont happen says illegal foreigner intrude upon corridor power prepared secondclass citizens hasitun nissa takes rhetoric seriously never harmed hindus live peacefully sidebyside says fear bad news come',\n",
              "  'tags': 'Citizenship, India, Asia, Bangladesh'},\n",
              " {'category': 'sport',\n",
              "  'title': \"Coronavirus: Tokyo Olympics still 'business as usual', says IOC's Dick Pound\",\n",
              "  'text': 'new tokyo olympic stadium centrepiece games preparations tokyo olympics business usual despite outbreak coronavirus according international olympic committee member dick pound number sporting events china cancelled football italy also affected speaking associated press pound told athletes keep focussed sport far know youre going tokyo said outbreak china already led cancellation aprils chinese grand prix cases italy led postponement four serie games last weekend decision play five behind closed doors weekend inter milans europa league home match ludogorets played behind closed doors thursday organisers six nations monitoring closely coronavirus situation italy set host england ireland coming weeks japans jleague postponed domestic football matches middle march tokyo marathon march elite athletes instead mass participation event olympics due begin july pound said decision whether games go ahead need taken late may could certainly go two months canadian said lot things start happening youve got start ramping security food olympic village hotels folks building studios new war face around time id say folks going ask sufficient control confident going tokyo pound explained ioc led decisions taken world health organization individual national governments pretty good dealing sport problems pandemic beyond pay grade told bbc radio live depend make call respect international travel places avoided may come government intervention japan governments saying dont want citizens travelling pound said cancelling games worstcase scenario contingencies postponement even dispersing events across globe may already consideration think alternatives said could still hold year would speak japanese government ask bubble held place everything table could disperse games example events canada britain etc',\n",
              "  'tags': ''},\n",
              " {'category': 'world',\n",
              "  'title': 'Rio Olympic Park: Judge orders closure of site over security concerns',\n",
              "  'text': 'venues hosted competitions olympic games brazilian judge ordered closure venues built olympic games rio de janeiro safety concerns citys authorities provided safety guarantees olympic park hold public events judge said site hosted basketball swimming tennis competitions used concerts events parts poorly maintained games criticised cost alleged corruption number investigations opened claims corruption construction venues infrastructure related event first held south america cost hosting estimated around current figures olympic park western barra da tijuca neighbourhood sprawling complex includes velodrome aquatics tennis centres several arenas public park hosts events including music festivals esports tournaments even games held critics argued sites big expensive maintain long run warning risked becoming white elephants like several arenas built brazil hosted world cup parts olympic park suffered poor maintenance file photo critics long argued sites expensive maintain file photo judge eugenio araujo ruled favour request rio prosecutors office asking ban major events facilities authorities seen certificates demonstrating safety said place progressively battered lack care ready tragedies federal government responsible venues administered city authorities brazil olympic committee private companies device happened rio olympic venues rios city hall federal government said would appeal decision local reported citys fire brigade said facilities necessary documents events held',\n",
              "  'tags': 'Brazil, Rio de Janeiro'}]"
            ]
          },
          "execution_count": 9,
          "metadata": {},
          "output_type": "execute_result"
        }
      ],
      "source": [
        "preproc_catalog[0:3]"
      ]
    },
    {
      "cell_type": "code",
      "execution_count": null,
      "metadata": {
        "id": "MC-YmVrVmMdQ"
      },
      "outputs": [],
      "source": [
        "labels_w, tags, data = list(), list(), list()\n",
        "for i in range(len(preproc_catalog)):\n",
        "    labels_w.append(preproc_catalog[i]['category'])\n",
        "    data.append(preproc_catalog[i]['text'])\n",
        "    tags.append(preproc_catalog[i]['tags'])"
      ]
    },
    {
      "cell_type": "markdown",
      "metadata": {
        "id": "cONu1PrwmMdQ"
      },
      "source": [
        "Всего у нас 6 категорий. UK является отдельной категорией, это значит местные новости, потому что BBC - это новостной сайт Великобритании."
      ]
    },
    {
      "cell_type": "code",
      "execution_count": null,
      "metadata": {
        "id": "HAkTdA1smMdQ",
        "outputId": "6580dbf1-b9c6-410a-9cdb-f22973254ad5"
      },
      "outputs": [
        {
          "data": {
            "text/plain": [
              "['business', 'health', 'sport', 'technology', 'uk', 'world']"
            ]
          },
          "execution_count": 11,
          "metadata": {},
          "output_type": "execute_result"
        }
      ],
      "source": [
        "categories = list(np.unique(labels_w))\n",
        "categories"
      ]
    },
    {
      "cell_type": "markdown",
      "metadata": {
        "id": "sbmbC6f3mMdR"
      },
      "source": [
        "# Часть 1. Тематическое моделирование"
      ]
    },
    {
      "cell_type": "markdown",
      "metadata": {
        "id": "fA6OXHTUmMdR"
      },
      "source": [
        "Токенезируем каждый текст."
      ]
    },
    {
      "cell_type": "code",
      "execution_count": null,
      "metadata": {
        "id": "bdhCtUngmMdS",
        "outputId": "a5c82e6c-c614-4d85-d22d-332a2519cd62"
      },
      "outputs": [
        {
          "data": {
            "text/plain": [
              "(1787, 1787)"
            ]
          },
          "execution_count": 12,
          "metadata": {},
          "output_type": "execute_result"
        }
      ],
      "source": [
        "data_words = list()\n",
        "for text in data:\n",
        "    data_words.append(word_tokenize(text, language='english'))\n",
        "len(data), len(data_words)"
      ]
    },
    {
      "cell_type": "markdown",
      "metadata": {
        "id": "g533hJPzmMdS"
      },
      "source": [
        "Для моделей LDA нужен словарь из всех появляющихся в текстах слов и корпус, с частотой появления каждого конкретного слова в тексте. Создадим их. Корпус - отображение (word_id, word_frequency)."
      ]
    },
    {
      "cell_type": "code",
      "execution_count": null,
      "metadata": {
        "jupyter": {
          "outputs_hidden": true
        },
        "id": "ect96OJQmMdT",
        "outputId": "cd588570-fc65-481c-9387-1f4a0f962bfa"
      },
      "outputs": [
        {
          "data": {
            "text/plain": [
              "[(0, 1),\n",
              " (1, 1),\n",
              " (2, 1),\n",
              " (3, 1),\n",
              " (4, 1),\n",
              " (5, 2),\n",
              " (6, 2),\n",
              " (7, 5),\n",
              " (8, 2),\n",
              " (9, 1),\n",
              " (10, 1),\n",
              " (11, 1),\n",
              " (12, 1),\n",
              " (13, 1),\n",
              " (14, 1),\n",
              " (15, 1),\n",
              " (16, 1),\n",
              " (17, 1),\n",
              " (18, 1),\n",
              " (19, 1),\n",
              " (20, 3),\n",
              " (21, 1),\n",
              " (22, 1),\n",
              " (23, 1),\n",
              " (24, 1),\n",
              " (25, 1),\n",
              " (26, 1),\n",
              " (27, 1),\n",
              " (28, 1),\n",
              " (29, 1),\n",
              " (30, 1),\n",
              " (31, 1),\n",
              " (32, 1),\n",
              " (33, 1),\n",
              " (34, 1),\n",
              " (35, 1),\n",
              " (36, 1),\n",
              " (37, 3),\n",
              " (38, 1),\n",
              " (39, 1),\n",
              " (40, 1),\n",
              " (41, 1),\n",
              " (42, 1),\n",
              " (43, 1),\n",
              " (44, 1),\n",
              " (45, 1),\n",
              " (46, 1),\n",
              " (47, 2),\n",
              " (48, 1),\n",
              " (49, 1),\n",
              " (50, 1),\n",
              " (51, 3),\n",
              " (52, 2),\n",
              " (53, 1),\n",
              " (54, 6),\n",
              " (55, 1),\n",
              " (56, 1),\n",
              " (57, 1),\n",
              " (58, 1),\n",
              " (59, 1),\n",
              " (60, 1),\n",
              " (61, 3),\n",
              " (62, 2),\n",
              " (63, 1),\n",
              " (64, 1),\n",
              " (65, 1),\n",
              " (66, 1),\n",
              " (67, 1),\n",
              " (68, 1),\n",
              " (69, 3),\n",
              " (70, 1),\n",
              " (71, 1),\n",
              " (72, 1),\n",
              " (73, 1),\n",
              " (74, 2),\n",
              " (75, 2),\n",
              " (76, 2),\n",
              " (77, 1),\n",
              " (78, 1),\n",
              " (79, 1),\n",
              " (80, 1),\n",
              " (81, 4),\n",
              " (82, 2),\n",
              " (83, 4),\n",
              " (84, 1),\n",
              " (85, 2),\n",
              " (86, 1),\n",
              " (87, 1),\n",
              " (88, 3),\n",
              " (89, 1),\n",
              " (90, 1),\n",
              " (91, 1),\n",
              " (92, 1),\n",
              " (93, 2),\n",
              " (94, 1),\n",
              " (95, 1),\n",
              " (96, 1),\n",
              " (97, 1),\n",
              " (98, 2),\n",
              " (99, 1),\n",
              " (100, 1),\n",
              " (101, 1),\n",
              " (102, 1),\n",
              " (103, 1),\n",
              " (104, 3),\n",
              " (105, 1),\n",
              " (106, 1),\n",
              " (107, 3),\n",
              " (108, 1),\n",
              " (109, 1),\n",
              " (110, 1),\n",
              " (111, 1),\n",
              " (112, 2),\n",
              " (113, 1),\n",
              " (114, 1),\n",
              " (115, 1),\n",
              " (116, 1),\n",
              " (117, 1),\n",
              " (118, 1),\n",
              " (119, 1),\n",
              " (120, 2),\n",
              " (121, 1),\n",
              " (122, 2),\n",
              " (123, 1),\n",
              " (124, 2),\n",
              " (125, 1),\n",
              " (126, 1),\n",
              " (127, 1),\n",
              " (128, 1),\n",
              " (129, 1),\n",
              " (130, 1),\n",
              " (131, 1),\n",
              " (132, 1),\n",
              " (133, 1),\n",
              " (134, 1),\n",
              " (135, 3),\n",
              " (136, 1),\n",
              " (137, 1),\n",
              " (138, 1),\n",
              " (139, 2),\n",
              " (140, 2),\n",
              " (141, 5),\n",
              " (142, 2),\n",
              " (143, 1),\n",
              " (144, 2),\n",
              " (145, 1),\n",
              " (146, 1),\n",
              " (147, 1),\n",
              " (148, 1),\n",
              " (149, 1),\n",
              " (150, 2),\n",
              " (151, 6),\n",
              " (152, 1),\n",
              " (153, 5),\n",
              " (154, 1),\n",
              " (155, 1),\n",
              " (156, 1),\n",
              " (157, 2),\n",
              " (158, 1),\n",
              " (159, 1),\n",
              " (160, 1),\n",
              " (161, 1),\n",
              " (162, 2),\n",
              " (163, 1),\n",
              " (164, 1),\n",
              " (165, 1),\n",
              " (166, 1),\n",
              " (167, 1),\n",
              " (168, 1),\n",
              " (169, 1),\n",
              " (170, 1),\n",
              " (171, 1),\n",
              " (172, 1),\n",
              " (173, 1),\n",
              " (174, 1),\n",
              " (175, 1),\n",
              " (176, 1),\n",
              " (177, 1),\n",
              " (178, 1),\n",
              " (179, 1),\n",
              " (180, 1),\n",
              " (181, 1),\n",
              " (182, 2),\n",
              " (183, 1),\n",
              " (184, 13),\n",
              " (185, 1),\n",
              " (186, 4),\n",
              " (187, 1),\n",
              " (188, 2),\n",
              " (189, 1),\n",
              " (190, 1),\n",
              " (191, 1),\n",
              " (192, 1),\n",
              " (193, 2),\n",
              " (194, 1),\n",
              " (195, 2),\n",
              " (196, 1),\n",
              " (197, 1),\n",
              " (198, 2),\n",
              " (199, 1),\n",
              " (200, 1),\n",
              " (201, 1),\n",
              " (202, 2),\n",
              " (203, 1),\n",
              " (204, 1),\n",
              " (205, 1),\n",
              " (206, 1),\n",
              " (207, 1),\n",
              " (208, 1),\n",
              " (209, 1),\n",
              " (210, 1),\n",
              " (211, 1),\n",
              " (212, 1),\n",
              " (213, 6),\n",
              " (214, 1),\n",
              " (215, 1),\n",
              " (216, 1),\n",
              " (217, 1),\n",
              " (218, 1),\n",
              " (219, 1),\n",
              " (220, 1),\n",
              " (221, 1),\n",
              " (222, 1),\n",
              " (223, 1),\n",
              " (224, 4),\n",
              " (225, 1),\n",
              " (226, 1),\n",
              " (227, 7),\n",
              " (228, 2),\n",
              " (229, 1),\n",
              " (230, 3),\n",
              " (231, 1),\n",
              " (232, 1),\n",
              " (233, 1),\n",
              " (234, 1),\n",
              " (235, 2),\n",
              " (236, 2),\n",
              " (237, 2),\n",
              " (238, 1)]"
            ]
          },
          "execution_count": 23,
          "metadata": {},
          "output_type": "execute_result"
        }
      ],
      "source": [
        "# Dictionary\n",
        "id2word = corpora.Dictionary(data_words)\n",
        "# Term Document Frequency\n",
        "corpus = [id2word.doc2bow(t) for t in data_words]\n",
        "corpus[0]"
      ]
    },
    {
      "cell_type": "code",
      "execution_count": null,
      "metadata": {
        "jupyter": {
          "outputs_hidden": true
        },
        "id": "x4IoV2C_mMdT",
        "outputId": "9c8f5a0c-a16b-4258-8333-7d6dc78af345"
      },
      "outputs": [
        {
          "data": {
            "text/plain": [
              "[('absence', 1),\n",
              " ('accepts', 1),\n",
              " ('according', 1),\n",
              " ('admit', 1),\n",
              " ('admits', 1),\n",
              " ('agencies', 2),\n",
              " ('ago', 2),\n",
              " ('also', 5),\n",
              " ('alwayson', 2),\n",
              " ('ambitious', 1),\n",
              " ('among', 1),\n",
              " ('another', 1),\n",
              " ('april', 1),\n",
              " ('arent', 1),\n",
              " ('arrangement', 1),\n",
              " ('asked', 1),\n",
              " ('attitudes', 1),\n",
              " ('basis', 1),\n",
              " ('become', 1),\n",
              " ('begin', 1),\n",
              " ('bickerstaffe', 3),\n",
              " ('big', 1),\n",
              " ('bit', 1),\n",
              " ('blames', 1),\n",
              " ('board', 1),\n",
              " ('boss', 1),\n",
              " ('bosses', 1),\n",
              " ('boundaries', 1),\n",
              " ('brought', 1),\n",
              " ('call', 1),\n",
              " ('came', 1),\n",
              " ('career', 1),\n",
              " ('careful', 1),\n",
              " ('carphone', 1),\n",
              " ('chair', 1),\n",
              " ('changing', 1),\n",
              " ('charity', 1),\n",
              " ('chief', 3),\n",
              " ('children', 1),\n",
              " ('cofounder', 1),\n",
              " ('colleagues', 1),\n",
              " ('come', 1),\n",
              " ('committed', 1),\n",
              " ('common', 1),\n",
              " ('communications', 1),\n",
              " ('company', 1),\n",
              " ('considered', 1),\n",
              " ('consultancy', 2),\n",
              " ('control', 1),\n",
              " ('could', 1),\n",
              " ('credited', 1),\n",
              " ('culture', 3),\n",
              " ('currently', 2),\n",
              " ('data', 1),\n",
              " ('days', 6),\n",
              " ('dealing', 1),\n",
              " ('decision', 1),\n",
              " ('depending', 1),\n",
              " ('determine', 1),\n",
              " ('detrimental', 1),\n",
              " ('didnt', 1),\n",
              " ('director', 3),\n",
              " ('dixons', 2),\n",
              " ('done', 1),\n",
              " ('dont', 1),\n",
              " ('earlier', 1),\n",
              " ('eight', 1),\n",
              " ('emergencies', 1),\n",
              " ('employee', 1),\n",
              " ('employers', 3),\n",
              " ('equivalent', 1),\n",
              " ('era', 1),\n",
              " ('everyone', 1),\n",
              " ('exchange', 1),\n",
              " ('executive', 2),\n",
              " ('family', 2),\n",
              " ('fear', 2),\n",
              " ('fell', 1),\n",
              " ('figures', 1),\n",
              " ('firms', 1),\n",
              " ('flattered', 1),\n",
              " ('flexible', 4),\n",
              " ('found', 2),\n",
              " ('four', 4),\n",
              " ('free', 1),\n",
              " ('friday', 2),\n",
              " ('fulltime', 1),\n",
              " ('general', 1),\n",
              " ('get', 3),\n",
              " ('getgo', 1),\n",
              " ('getting', 1),\n",
              " ('go', 1),\n",
              " ('good', 1),\n",
              " ('group', 2),\n",
              " ('growing', 1),\n",
              " ('harming', 1),\n",
              " ('helps', 1),\n",
              " ('hours', 1),\n",
              " ('however', 2),\n",
              " ('huge', 1),\n",
              " ('hugely', 1),\n",
              " ('important', 1),\n",
              " ('involved', 1),\n",
              " ('ireland', 1),\n",
              " ('job', 3),\n",
              " ('jobs', 1),\n",
              " ('karen', 1),\n",
              " ('katie', 3),\n",
              " ('know', 1),\n",
              " ('last', 1),\n",
              " ('leap', 1),\n",
              " ('less', 1),\n",
              " ('level', 2),\n",
              " ('life', 1),\n",
              " ('like', 1),\n",
              " ('loss', 1),\n",
              " ('loyalty', 1),\n",
              " ('make', 1),\n",
              " ('making', 1),\n",
              " ('management', 1),\n",
              " ('managerlevel', 2),\n",
              " ('managers', 1),\n",
              " ('marc', 2),\n",
              " ('marketing', 1),\n",
              " ('marks', 2),\n",
              " ('mattison', 1),\n",
              " ('mean', 1),\n",
              " ('means', 1),\n",
              " ('mental', 1),\n",
              " ('midnight', 1),\n",
              " ('million', 1),\n",
              " ('miroma', 1),\n",
              " ('morale', 1),\n",
              " ('morning', 1),\n",
              " ('motivation', 1),\n",
              " ('mr', 3),\n",
              " ('national', 1),\n",
              " ('neck', 1),\n",
              " ('need', 1),\n",
              " ('new', 2),\n",
              " ('nobody', 2),\n",
              " ('nohr', 5),\n",
              " ('nonexecutive', 2),\n",
              " ('noting', 1),\n",
              " ('number', 2),\n",
              " ('office', 1),\n",
              " ('official', 1),\n",
              " ('old', 1),\n",
              " ('one', 1),\n",
              " ('opportunity', 1),\n",
              " ('part', 2),\n",
              " ('parttime', 6),\n",
              " ('parttimer', 1),\n",
              " ('people', 5),\n",
              " ('period', 1),\n",
              " ('person', 1),\n",
              " ('phrase', 1),\n",
              " ('pick', 2),\n",
              " ('place', 1),\n",
              " ('plan', 1),\n",
              " ('pool', 1),\n",
              " ('positions', 1),\n",
              " ('presenteeism', 2),\n",
              " ('problems', 1),\n",
              " ('productivity', 1),\n",
              " ('promotes', 1),\n",
              " ('qualified', 1),\n",
              " ('quite', 1),\n",
              " ('rare', 1),\n",
              " ('realistic', 1),\n",
              " ('regards', 1),\n",
              " ('regime', 1),\n",
              " ('relatively', 1),\n",
              " ('reluctant', 1),\n",
              " ('require', 1),\n",
              " ('respectful', 1),\n",
              " ('rewarded', 1),\n",
              " ('right', 1),\n",
              " ('risks', 1),\n",
              " ('roles', 1),\n",
              " ('routine', 1),\n",
              " ('runs', 1),\n",
              " ('said', 2),\n",
              " ('salary', 1),\n",
              " ('says', 13),\n",
              " ('seen', 1),\n",
              " ('senior', 4),\n",
              " ('seven', 1),\n",
              " ('shes', 2),\n",
              " ('shift', 1),\n",
              " ('since', 1),\n",
              " ('slacker', 1),\n",
              " ('something', 1),\n",
              " ('soon', 2),\n",
              " ('speaking', 1),\n",
              " ('spencer', 2),\n",
              " ('spend', 1),\n",
              " ('staff', 1),\n",
              " ('start', 2),\n",
              " ('started', 1),\n",
              " ('statistics', 1),\n",
              " ('sticking', 1),\n",
              " ('still', 2),\n",
              " ('strategy', 1),\n",
              " ('supportive', 1),\n",
              " ('sure', 1),\n",
              " ('talent', 1),\n",
              " ('talked', 1),\n",
              " ('test', 1),\n",
              " ('thats', 1),\n",
              " ('thing', 1),\n",
              " ('thinks', 1),\n",
              " ('thrilled', 1),\n",
              " ('time', 6),\n",
              " ('top', 1),\n",
              " ('towards', 1),\n",
              " ('transformation', 1),\n",
              " ('trial', 1),\n",
              " ('two', 1),\n",
              " ('uk', 1),\n",
              " ('unsustainable', 1),\n",
              " ('used', 1),\n",
              " ('using', 1),\n",
              " ('want', 1),\n",
              " ('week', 4),\n",
              " ('wider', 1),\n",
              " ('wonders', 1),\n",
              " ('work', 7),\n",
              " ('worked', 2),\n",
              " ('workers', 1),\n",
              " ('working', 3),\n",
              " ('workplace', 1),\n",
              " ('works', 1),\n",
              " ('world', 1),\n",
              " ('worth', 1),\n",
              " ('would', 2),\n",
              " ('year', 2),\n",
              " ('years', 2),\n",
              " ('young', 1)]"
            ]
          },
          "execution_count": 24,
          "metadata": {},
          "output_type": "execute_result"
        }
      ],
      "source": [
        "# Пример слова и его частоты для 1 текста\n",
        "[(id2word[cp[0]], cp[1]) for cp in corpus[0]]"
      ]
    },
    {
      "cell_type": "code",
      "execution_count": null,
      "metadata": {
        "id": "lEnC5UuImMdU"
      },
      "outputs": [],
      "source": [
        "def get_coherence(lda_model):\n",
        "    coherence_model_lda = CoherenceModel(model=lda_model, texts=data_words, dictionary=id2word, coherence='c_w2v')\n",
        "    coherence_lda = coherence_model_lda.get_coherence()\n",
        "    print('Coherence Score: ', coherence_lda)"
      ]
    },
    {
      "cell_type": "code",
      "execution_count": null,
      "metadata": {
        "id": "4ed5nXY6mMdU"
      },
      "outputs": [],
      "source": [
        "def visualize(lda_model, file_name):\n",
        "    vis = pyLDAvis.gensim.prepare(lda_model, corpus, id2word)\n",
        "    pyLDAvis.save_html(vis, file_name)"
      ]
    },
    {
      "cell_type": "code",
      "execution_count": null,
      "metadata": {
        "id": "e8e_qWtamMdU"
      },
      "outputs": [],
      "source": [
        "def visualize2(lda_model):\n",
        "    en_stopwords = stopwords.words('english')\n",
        "    cols = [color for name, color in mcolors.TABLEAU_COLORS.items()]\n",
        "\n",
        "    cloud = WordCloud(stopwords=en_stopwords,\n",
        "                    background_color='white',\n",
        "                    width=2500,\n",
        "                    height=1800,\n",
        "                    max_words=10,\n",
        "                    colormap='tab10',\n",
        "                    color_func=lambda *args, **kwargs: cols[i],\n",
        "                    prefer_horizontal=1.0)\n",
        "\n",
        "    topics = lda_model.show_topics(formatted=False)\n",
        "\n",
        "    fig, axes = plt.subplots(2, 2, figsize=(10,10), sharex=True, sharey=True)\n",
        "\n",
        "    for i, ax in enumerate(axes.flatten()):\n",
        "        fig.add_subplot(ax)\n",
        "        topic_words = dict(topics[i][1])\n",
        "        cloud.generate_from_frequencies(topic_words, max_font_size=300)\n",
        "        plt.gca().imshow(cloud)\n",
        "        plt.gca().set_title('Topic ' + str(i), fontdict=dict(size=16))\n",
        "        plt.gca().axis('off')\n",
        "\n",
        "    plt.subplots_adjust(wspace=0, hspace=0)\n",
        "    plt.axis('off')\n",
        "    plt.margins(x=0, y=0)\n",
        "    plt.tight_layout()\n",
        "    plt.show()"
      ]
    },
    {
      "cell_type": "markdown",
      "metadata": {
        "id": "SlIU5qOxmMdV"
      },
      "source": [
        "## LDA models"
      ]
    },
    {
      "cell_type": "markdown",
      "metadata": {
        "id": "Gp0hd-stmMdV"
      },
      "source": [
        "Теперь построим LDA модели с разным количеством тем."
      ]
    },
    {
      "cell_type": "markdown",
      "metadata": {
        "id": "m2AMOCoXmMdV"
      },
      "source": [
        "* ### Модель **1** (5 тем)"
      ]
    },
    {
      "cell_type": "code",
      "execution_count": null,
      "metadata": {
        "id": "ot4eO5pAmMdV"
      },
      "outputs": [],
      "source": [
        "lda_model1 = gensim.models.ldamodel.LdaModel(corpus=corpus, id2word=id2word, num_topics=5, random_state=100, update_every=1, chunksize=100,\n",
        "                                             passes=10, alpha='auto', per_word_topics=True)"
      ]
    },
    {
      "cell_type": "markdown",
      "metadata": {
        "id": "UbX3Pk7ymMdW"
      },
      "source": [
        "Посмотрим на полученные темы."
      ]
    },
    {
      "cell_type": "code",
      "execution_count": null,
      "metadata": {
        "id": "fOevH_kymMdW",
        "outputId": "1ed7bb74-0989-4c5a-b245-7347d058bc9a"
      },
      "outputs": [
        {
          "data": {
            "text/plain": [
              "[(0,\n",
              "  '0.012*\"said\" + 0.005*\"government\" + 0.005*\"would\" + 0.004*\"also\" + 0.004*\"says\" + 0.004*\"new\" + 0.003*\"climate\" + 0.003*\"people\" + 0.003*\"uk\" + 0.003*\"mr\"'),\n",
              " (1,\n",
              "  '0.012*\"coronavirus\" + 0.011*\"china\" + 0.011*\"virus\" + 0.011*\"said\" + 0.008*\"cases\" + 0.008*\"people\" + 0.008*\"health\" + 0.007*\"us\" + 0.006*\"chinese\" + 0.005*\"outbreak\"'),\n",
              " (2,\n",
              "  '0.009*\"said\" + 0.008*\"mr\" + 0.007*\"us\" + 0.005*\"one\" + 0.005*\"president\" + 0.004*\"taliban\" + 0.004*\"women\" + 0.004*\"told\" + 0.004*\"would\" + 0.004*\"also\"'),\n",
              " (3,\n",
              "  '0.006*\"league\" + 0.006*\"first\" + 0.006*\"one\" + 0.005*\"world\" + 0.005*\"game\" + 0.005*\"team\" + 0.005*\"time\" + 0.004*\"bbc\" + 0.004*\"last\" + 0.004*\"cup\"'),\n",
              " (4,\n",
              "  '0.012*\"people\" + 0.011*\"said\" + 0.006*\"says\" + 0.005*\"one\" + 0.004*\"get\" + 0.004*\"would\" + 0.004*\"could\" + 0.003*\"like\" + 0.003*\"work\" + 0.003*\"time\"')]"
            ]
          },
          "execution_count": 28,
          "metadata": {},
          "output_type": "execute_result"
        }
      ],
      "source": [
        "lda_model1.print_topics()"
      ]
    },
    {
      "cell_type": "markdown",
      "metadata": {
        "id": "tse7oCIAmMdW"
      },
      "source": [
        "Вычислим когерентность."
      ]
    },
    {
      "cell_type": "code",
      "execution_count": null,
      "metadata": {
        "id": "4Qse3jcPmMdW",
        "outputId": "50a13ad1-d730-45fe-ad44-7265aada6514"
      },
      "outputs": [
        {
          "name": "stdout",
          "output_type": "stream",
          "text": [
            "Coherence Score:  0.5438507\n"
          ]
        }
      ],
      "source": [
        "get_coherence(lda_model1)"
      ]
    },
    {
      "cell_type": "markdown",
      "metadata": {
        "id": "WeC56mcEmMdX"
      },
      "source": [
        "Визуализируем темы и ключевые слова."
      ]
    },
    {
      "cell_type": "markdown",
      "metadata": {
        "id": "wOvaqPn_mMdX"
      },
      "source": [
        "Чтобы посмотреть визуализацию мы предлагаем открыть соответствующий html файл :)"
      ]
    },
    {
      "cell_type": "code",
      "execution_count": null,
      "metadata": {
        "id": "eVHxs2WQmMdX"
      },
      "outputs": [],
      "source": [
        "visualize(lda_model1, 'lda_model1.html')"
      ]
    },
    {
      "cell_type": "markdown",
      "metadata": {
        "id": "5-e61d7_mMdY"
      },
      "source": [
        "На левом графике видно, что 2 и 3 темы немного пересекаются. 5 тема распространена меньше других."
      ]
    },
    {
      "cell_type": "markdown",
      "metadata": {
        "id": "ALZoKQXjmMdY"
      },
      "source": [
        "Выведем наиболее часто используемые слова в первых четырех темах, чтобы их обобщить и было нагляднее."
      ]
    },
    {
      "cell_type": "code",
      "execution_count": null,
      "metadata": {
        "id": "LeLbQcMUmMdY",
        "outputId": "05274731-1c57-4939-9ee1-18e7ea4c7a23"
      },
      "outputs": [
        {
          "data": {
            "image/png": "[encoded data removed]",
            "text/plain": [
              "<Figure size 720x720 with 4 Axes>"
            ]
          },
          "metadata": {
            "needs_background": "light"
          },
          "output_type": "display_data"
        }
      ],
      "source": [
        "visualize2(lda_model1)"
      ]
    },
    {
      "cell_type": "markdown",
      "metadata": {
        "id": "JUveJpmUmMdY"
      },
      "source": [
        "* **Topic 0**: Исходя из слов government и uk, эта тема связана с внутренней политикой Британии, то есть в этой тему, возможно, попали темы из раздела \"UK\".\n",
        "* **Topic 1**: Очевидно, это тема Здоровье.\n",
        "* **Topic 2**: Политика.\n",
        "* **Topic 3**: Спорт."
      ]
    },
    {
      "cell_type": "markdown",
      "metadata": {
        "id": "TSFfA_VumMdZ"
      },
      "source": [
        "* ### Модель **2** (10 тем)"
      ]
    },
    {
      "cell_type": "code",
      "execution_count": null,
      "metadata": {
        "id": "2yTEuqG_mMdZ"
      },
      "outputs": [],
      "source": [
        "lda_model2 = gensim.models.ldamodel.LdaModel(corpus=corpus, id2word=id2word, num_topics=10, random_state=100, update_every=1, chunksize=100,\n",
        "                                             passes=10, alpha='auto', per_word_topics=True)"
      ]
    },
    {
      "cell_type": "code",
      "execution_count": null,
      "metadata": {
        "id": "jfg3uI6qmMdZ",
        "outputId": "79648c86-5114-4925-d8bb-046fb1ea8375"
      },
      "outputs": [
        {
          "data": {
            "text/plain": [
              "[(0,\n",
              "  '0.008*\"said\" + 0.008*\"people\" + 0.006*\"climate\" + 0.005*\"world\" + 0.005*\"one\" + 0.005*\"also\" + 0.005*\"around\" + 0.004*\"police\" + 0.004*\"change\" + 0.004*\"fire\"'),\n",
              " (1,\n",
              "  '0.010*\"south\" + 0.010*\"country\" + 0.008*\"city\" + 0.008*\"africa\" + 0.008*\"north\" + 0.008*\"china\" + 0.007*\"korea\" + 0.006*\"iran\" + 0.006*\"african\" + 0.005*\"church\"'),\n",
              " (2,\n",
              "  '0.017*\"said\" + 0.008*\"people\" + 0.007*\"one\" + 0.007*\"told\" + 0.006*\"would\" + 0.006*\"says\" + 0.006*\"women\" + 0.006*\"time\" + 0.005*\"could\" + 0.004*\"also\"'),\n",
              " (3,\n",
              "  '0.007*\"first\" + 0.007*\"league\" + 0.006*\"one\" + 0.006*\"team\" + 0.005*\"time\" + 0.005*\"world\" + 0.005*\"last\" + 0.005*\"game\" + 0.005*\"bbc\" + 0.005*\"cup\"'),\n",
              " (4,\n",
              "  '0.013*\"said\" + 0.009*\"water\" + 0.009*\"wales\" + 0.009*\"people\" + 0.008*\"school\" + 0.007*\"schools\" + 0.007*\"hong\" + 0.006*\"river\" + 0.005*\"pupils\" + 0.005*\"kong\"'),\n",
              " (5,\n",
              "  '0.025*\"mr\" + 0.014*\"president\" + 0.010*\"trump\" + 0.008*\"biden\" + 0.008*\"us\" + 0.007*\"democratic\" + 0.007*\"sanders\" + 0.007*\"vote\" + 0.007*\"political\" + 0.007*\"state\"'),\n",
              " (6,\n",
              "  '0.014*\"us\" + 0.013*\"says\" + 0.012*\"china\" + 0.009*\"trade\" + 0.009*\"chinese\" + 0.008*\"companies\" + 0.007*\"company\" + 0.006*\"business\" + 0.006*\"mr\" + 0.006*\"year\"'),\n",
              " (7,\n",
              "  '0.017*\"said\" + 0.006*\"new\" + 0.006*\"would\" + 0.006*\"technology\" + 0.005*\"government\" + 0.005*\"use\" + 0.005*\"data\" + 0.005*\"plans\" + 0.005*\"system\" + 0.005*\"make\"'),\n",
              " (8,\n",
              "  '0.013*\"government\" + 0.012*\"us\" + 0.011*\"taliban\" + 0.008*\"said\" + 0.006*\"internet\" + 0.006*\"deal\" + 0.006*\"eu\" + 0.006*\"uk\" + 0.006*\"afghanistan\" + 0.005*\"access\"'),\n",
              " (9,\n",
              "  '0.017*\"coronavirus\" + 0.016*\"people\" + 0.016*\"said\" + 0.015*\"virus\" + 0.013*\"health\" + 0.013*\"cases\" + 0.008*\"uk\" + 0.007*\"spread\" + 0.007*\"china\" + 0.007*\"outbreak\"')]"
            ]
          },
          "execution_count": 39,
          "metadata": {},
          "output_type": "execute_result"
        }
      ],
      "source": [
        "lda_model2.print_topics()"
      ]
    },
    {
      "cell_type": "code",
      "execution_count": null,
      "metadata": {
        "id": "M-fuqhmNmMdZ",
        "outputId": "f53d6190-7407-46a2-c395-f38929014ed4"
      },
      "outputs": [
        {
          "name": "stdout",
          "output_type": "stream",
          "text": [
            "Coherence Score:  0.60708535\n"
          ]
        }
      ],
      "source": [
        "get_coherence(lda_model2)"
      ]
    },
    {
      "cell_type": "markdown",
      "metadata": {
        "id": "j0DGFocSmMdZ"
      },
      "source": [
        "Когерентность возросла."
      ]
    },
    {
      "cell_type": "code",
      "execution_count": null,
      "metadata": {
        "id": "pz08UDrnmMda"
      },
      "outputs": [],
      "source": [
        "visualize(lda_model2, 'lda_model2.html')"
      ]
    },
    {
      "cell_type": "markdown",
      "metadata": {
        "id": "oOG0HZdEmMda"
      },
      "source": [
        "Появилось больше пересекающихся тем, но все темы довольно распространённые, 1- самая распространённая."
      ]
    },
    {
      "cell_type": "markdown",
      "metadata": {
        "id": "OjsP-f3UmMda"
      },
      "source": [
        "* ### Модель **3** (20 тем)"
      ]
    },
    {
      "cell_type": "code",
      "execution_count": null,
      "metadata": {
        "id": "8cBu5aOVmMda"
      },
      "outputs": [],
      "source": [
        "lda_model3 = gensim.models.ldamodel.LdaModel(corpus=corpus, id2word=id2word, num_topics=20, random_state=100, update_every=1, chunksize=100,\n",
        "                                             passes=10, alpha='auto', per_word_topics=True)"
      ]
    },
    {
      "cell_type": "code",
      "execution_count": null,
      "metadata": {
        "scrolled": true,
        "id": "VRpEFeKFmMda",
        "outputId": "b2c3a7e4-55d0-4f10-e44e-96f75a2252dd"
      },
      "outputs": [
        {
          "data": {
            "text/plain": [
              "[(0,\n",
              "  '0.015*\"facebook\" + 0.014*\"twitter\" + 0.012*\"information\" + 0.011*\"social\" + 0.009*\"said\" + 0.009*\"online\" + 0.009*\"recognition\" + 0.009*\"news\" + 0.008*\"users\" + 0.008*\"false\"'),\n",
              " (1,\n",
              "  '0.025*\"coronavirus\" + 0.024*\"virus\" + 0.018*\"cases\" + 0.016*\"said\" + 0.016*\"china\" + 0.015*\"people\" + 0.015*\"health\" + 0.012*\"outbreak\" + 0.011*\"italy\" + 0.011*\"spread\"'),\n",
              " (2,\n",
              "  '0.025*\"said\" + 0.011*\"told\" + 0.009*\"people\" + 0.009*\"one\" + 0.008*\"women\" + 0.007*\"would\" + 0.007*\"time\" + 0.006*\"made\" + 0.005*\"like\" + 0.005*\"life\"'),\n",
              " (3,\n",
              "  '0.014*\"first\" + 0.013*\"one\" + 0.012*\"world\" + 0.012*\"time\" + 0.011*\"last\" + 0.008*\"two\" + 0.008*\"team\" + 0.007*\"could\" + 0.007*\"best\" + 0.007*\"well\"'),\n",
              " (4,\n",
              "  '0.020*\"nhs\" + 0.017*\"symptoms\" + 0.014*\"disease\" + 0.013*\"advice\" + 0.013*\"patients\" + 0.011*\"uk\" + 0.011*\"people\" + 0.010*\"risk\" + 0.010*\"hands\" + 0.008*\"school\"'),\n",
              " (5,\n",
              "  '0.038*\"mr\" + 0.026*\"president\" + 0.021*\"trump\" + 0.015*\"biden\" + 0.015*\"democratic\" + 0.014*\"sanders\" + 0.014*\"vote\" + 0.013*\"states\" + 0.011*\"state\" + 0.010*\"party\"'),\n",
              " (6,\n",
              "  '0.025*\"trade\" + 0.020*\"us\" + 0.014*\"garlic\" + 0.012*\"mr\" + 0.010*\"economy\" + 0.010*\"says\" + 0.008*\"year\" + 0.008*\"economic\" + 0.008*\"president\" + 0.008*\"oil\"'),\n",
              " (7,\n",
              "  '0.047*\"said\" + 0.019*\"wales\" + 0.014*\"australia\" + 0.012*\"would\" + 0.011*\"public\" + 0.011*\"fires\" + 0.011*\"legal\" + 0.011*\"court\" + 0.010*\"change\" + 0.010*\"new\"'),\n",
              " (8,\n",
              "  '0.013*\"internet\" + 0.013*\"government\" + 0.012*\"people\" + 0.012*\"police\" + 0.010*\"also\" + 0.010*\"country\" + 0.010*\"violence\" + 0.008*\"fire\" + 0.007*\"state\" + 0.007*\"mr\"'),\n",
              " (9,\n",
              "  '0.019*\"taliban\" + 0.016*\"climate\" + 0.015*\"government\" + 0.013*\"us\" + 0.012*\"said\" + 0.011*\"uk\" + 0.009*\"eu\" + 0.009*\"afghanistan\" + 0.009*\"deal\" + 0.009*\"change\"'),\n",
              " (10,\n",
              "  '0.016*\"us\" + 0.011*\"says\" + 0.010*\"technology\" + 0.010*\"china\" + 0.009*\"data\" + 0.007*\"use\" + 0.007*\"chinese\" + 0.006*\"companies\" + 0.005*\"huawei\" + 0.005*\"like\"'),\n",
              " (11,\n",
              "  '0.034*\"league\" + 0.022*\"game\" + 0.016*\"club\" + 0.015*\"players\" + 0.015*\"cup\" + 0.013*\"side\" + 0.013*\"goal\" + 0.012*\"premier\" + 0.012*\"games\" + 0.011*\"goals\"'),\n",
              " (12,\n",
              "  '0.018*\"said\" + 0.008*\"people\" + 0.007*\"new\" + 0.007*\"would\" + 0.007*\"company\" + 0.006*\"products\" + 0.006*\"says\" + 0.006*\"also\" + 0.006*\"like\" + 0.005*\"year\"'),\n",
              " (13,\n",
              "  '0.059*\"salazar\" + 0.043*\"farah\" + 0.029*\"lcarnitine\" + 0.024*\"panorama\" + 0.023*\"nike\" + 0.019*\"alberto\" + 0.019*\"oregon\" + 0.017*\"coach\" + 0.014*\"doping\" + 0.014*\"antidoping\"'),\n",
              " (14,\n",
              "  '0.036*\"turkey\" + 0.030*\"idlib\" + 0.029*\"syrian\" + 0.022*\"nato\" + 0.022*\"turkish\" + 0.018*\"russia\" + 0.015*\"syria\" + 0.014*\"russian\" + 0.012*\"border\" + 0.012*\"migrants\"'),\n",
              " (15,\n",
              "  '0.015*\"housing\" + 0.009*\"suburbs\" + 0.008*\"yard\" + 0.007*\"downloading\" + 0.006*\"lists\" + 0.006*\"homeowners\" + 0.005*\"shaw\" + 0.004*\"filmed\" + 0.003*\"waiting\" + 0.003*\"accommodation\"'),\n",
              " (16,\n",
              "  '0.013*\"team\" + 0.012*\"sport\" + 0.012*\"says\" + 0.011*\"usa\" + 0.008*\"games\" + 0.008*\"would\" + 0.008*\"four\" + 0.008*\"athletes\" + 0.007*\"time\" + 0.006*\"olympics\"'),\n",
              " (17,\n",
              "  '0.014*\"says\" + 0.014*\"people\" + 0.011*\"said\" + 0.008*\"could\" + 0.008*\"may\" + 0.007*\"also\" + 0.006*\"water\" + 0.006*\"one\" + 0.006*\"work\" + 0.005*\"dr\"'),\n",
              " (18,\n",
              "  '0.057*\"car\" + 0.028*\"driver\" + 0.024*\"bibi\" + 0.021*\"cars\" + 0.019*\"asia\" + 0.017*\"blasphemy\" + 0.017*\"drivers\" + 0.013*\"crash\" + 0.013*\"huang\" + 0.013*\"vehicle\"'),\n",
              " (19,\n",
              "  '0.022*\"bbc\" + 0.020*\"rape\" + 0.020*\"womens\" + 0.020*\"year\" + 0.019*\"assault\" + 0.015*\"film\" + 0.015*\"court\" + 0.015*\"polanski\" + 0.014*\"us\" + 0.013*\"five\"')]"
            ]
          },
          "execution_count": 43,
          "metadata": {},
          "output_type": "execute_result"
        }
      ],
      "source": [
        "lda_model3.print_topics()"
      ]
    },
    {
      "cell_type": "code",
      "execution_count": null,
      "metadata": {
        "id": "BNfPOh6jmMdb",
        "outputId": "b17fff23-57eb-4a7b-f904-49d28cd372c0"
      },
      "outputs": [
        {
          "name": "stdout",
          "output_type": "stream",
          "text": [
            "Coherence Score:  0.6629831\n"
          ]
        }
      ],
      "source": [
        "get_coherence(lda_model3)"
      ]
    },
    {
      "cell_type": "code",
      "execution_count": null,
      "metadata": {
        "id": "MFLo6oezmMdb"
      },
      "outputs": [],
      "source": [
        "visualize(lda_model3, 'lda_model3.html')"
      ]
    },
    {
      "cell_type": "markdown",
      "metadata": {
        "id": "VWhhLGApmMdb"
      },
      "source": [
        "Появилось больше перекрытий между темами. 20 тему можно вообще исключить, ей принадлежат единицы документов."
      ]
    },
    {
      "cell_type": "markdown",
      "metadata": {
        "id": "vU2I5bx3mMdc"
      },
      "source": [
        "* ### Модель **4** (30 тем)"
      ]
    },
    {
      "cell_type": "code",
      "execution_count": null,
      "metadata": {
        "id": "aZ4BzI-6mMdc"
      },
      "outputs": [],
      "source": [
        "lda_model4 = gensim.models.ldamodel.LdaModel(corpus=corpus, id2word=id2word, num_topics=30, random_state=100, update_every=1, chunksize=100,\n",
        "                                             passes=10, alpha='auto', per_word_topics=True)"
      ]
    },
    {
      "cell_type": "code",
      "execution_count": null,
      "metadata": {
        "scrolled": true,
        "id": "OS9ih1edmMdc",
        "outputId": "72417e44-5c2a-4342-b9e6-5add9ce75a6d"
      },
      "outputs": [
        {
          "data": {
            "text/plain": [
              "[(28,\n",
              "  '0.097*\"sidewalk\" + 0.085*\"toronto\" + 0.073*\"labs\" + 0.053*\"waterfront\" + 0.043*\"city\" + 0.020*\"labss\" + 0.016*\"urban\" + 0.015*\"development\" + 0.015*\"neighbourhood\" + 0.014*\"site\"'),\n",
              " (15,\n",
              "  '0.026*\"venture\" + 0.014*\"beauty\" + 0.012*\"firm\" + 0.012*\"capital\" + 0.012*\"minds\" + 0.011*\"investment\" + 0.011*\"business\" + 0.010*\"largescale\" + 0.010*\"backing\" + 0.007*\"brand\"'),\n",
              " (17,\n",
              "  '0.056*\"board\" + 0.052*\"animal\" + 0.039*\"boards\" + 0.029*\"san\" + 0.026*\"unit\" + 0.017*\"francisco\" + 0.016*\"whilst\" + 0.016*\"plant\" + 0.012*\"ring\" + 0.010*\"wet\"'),\n",
              " (13,\n",
              "  '0.059*\"year\" + 0.056*\"cancer\" + 0.050*\"bbc\" + 0.049*\"usa\" + 0.044*\"bowel\" + 0.042*\"footballer\" + 0.031*\"full\" + 0.030*\"netherlands\" + 0.028*\"award\" + 0.028*\"megan\"'),\n",
              " (9,\n",
              "  '0.029*\"wild\" + 0.023*\"driver\" + 0.020*\"crash\" + 0.019*\"huang\" + 0.015*\"illegal\" + 0.015*\"indonesia\" + 0.015*\"indonesian\" + 0.014*\"ban\" + 0.014*\"tesla\" + 0.011*\"vegas\"'),\n",
              " (7,\n",
              "  '0.039*\"rates\" + 0.031*\"brain\" + 0.024*\"jones\" + 0.023*\"falls\" + 0.022*\"spanish\" + 0.020*\"ftse\" + 0.016*\"scottish\" + 0.015*\"lord\" + 0.013*\"dow\" + 0.012*\"specific\"'),\n",
              " (14,\n",
              "  '0.030*\"hong\" + 0.024*\"kong\" + 0.018*\"trials\" + 0.011*\"says\" + 0.010*\"square\" + 0.009*\"using\" + 0.009*\"space\" + 0.008*\"used\" + 0.008*\"human\" + 0.007*\"cells\"'),\n",
              " (6,\n",
              "  '0.064*\"trade\" + 0.032*\"garlic\" + 0.031*\"us\" + 0.016*\"tariffs\" + 0.015*\"says\" + 0.014*\"chinese\" + 0.014*\"mr\" + 0.013*\"goods\" + 0.013*\"farmers\" + 0.013*\"president\"'),\n",
              " (21,\n",
              "  '0.049*\"taliban\" + 0.025*\"afghanistan\" + 0.024*\"us\" + 0.021*\"afghan\" + 0.019*\"forces\" + 0.019*\"government\" + 0.016*\"peace\" + 0.015*\"turkey\" + 0.015*\"war\" + 0.014*\"military\"'),\n",
              " (4,\n",
              "  '0.029*\"plastic\" + 0.023*\"etika\" + 0.015*\"location\" + 0.015*\"visiting\" + 0.014*\"acute\" + 0.014*\"charity\" + 0.013*\"youtube\" + 0.012*\"particles\" + 0.010*\"accommodation\" + 0.009*\"fans\"'),\n",
              " (0,\n",
              "  '0.014*\"film\" + 0.014*\"fire\" + 0.014*\"rape\" + 0.013*\"australia\" + 0.013*\"women\" + 0.013*\"assault\" + 0.011*\"us\" + 0.010*\"fires\" + 0.010*\"defence\" + 0.010*\"polanski\"'),\n",
              " (22,\n",
              "  '0.040*\"women\" + 0.032*\"says\" + 0.020*\"children\" + 0.017*\"school\" + 0.014*\"like\" + 0.014*\"years\" + 0.013*\"ms\" + 0.012*\"mother\" + 0.012*\"profile\" + 0.012*\"life\"'),\n",
              " (3,\n",
              "  '0.018*\"get\" + 0.017*\"think\" + 0.014*\"got\" + 0.014*\"would\" + 0.013*\"one\" + 0.013*\"going\" + 0.013*\"right\" + 0.012*\"like\" + 0.011*\"good\" + 0.011*\"lot\"'),\n",
              " (10,\n",
              "  '0.027*\"us\" + 0.019*\"technology\" + 0.017*\"china\" + 0.015*\"says\" + 0.014*\"chinese\" + 0.012*\"use\" + 0.012*\"data\" + 0.011*\"companies\" + 0.011*\"tech\" + 0.010*\"huawei\"'),\n",
              " (24,\n",
              "  '0.029*\"people\" + 0.022*\"health\" + 0.016*\"coronavirus\" + 0.015*\"uk\" + 0.012*\"symptoms\" + 0.012*\"contact\" + 0.010*\"disease\" + 0.010*\"hospital\" + 0.009*\"nhs\" + 0.009*\"patients\"'),\n",
              " (12,\n",
              "  '0.009*\"money\" + 0.008*\"company\" + 0.008*\"people\" + 0.008*\"said\" + 0.008*\"one\" + 0.008*\"year\" + 0.008*\"products\" + 0.007*\"also\" + 0.007*\"new\" + 0.006*\"online\"'),\n",
              " (27,\n",
              "  '0.029*\"said\" + 0.025*\"government\" + 0.022*\"mr\" + 0.019*\"would\" + 0.016*\"minister\" + 0.015*\"uk\" + 0.011*\"prime\" + 0.010*\"also\" + 0.007*\"office\" + 0.007*\"johnson\"'),\n",
              " (2,\n",
              "  '0.042*\"said\" + 0.014*\"police\" + 0.013*\"told\" + 0.009*\"people\" + 0.007*\"mr\" + 0.006*\"including\" + 0.006*\"found\" + 0.006*\"time\" + 0.006*\"ms\" + 0.006*\"family\"'),\n",
              " (29,\n",
              "  '0.025*\"said\" + 0.012*\"climate\" + 0.011*\"change\" + 0.009*\"new\" + 0.007*\"would\" + 0.007*\"bbc\" + 0.007*\"people\" + 0.006*\"world\" + 0.005*\"wales\" + 0.005*\"report\"'),\n",
              " (20,\n",
              "  '0.011*\"one\" + 0.009*\"years\" + 0.008*\"two\" + 0.008*\"says\" + 0.007*\"first\" + 0.006*\"many\" + 0.006*\"could\" + 0.006*\"would\" + 0.006*\"time\" + 0.006*\"people\"')]"
            ]
          },
          "execution_count": 47,
          "metadata": {},
          "output_type": "execute_result"
        }
      ],
      "source": [
        "lda_model4.print_topics()"
      ]
    },
    {
      "cell_type": "code",
      "execution_count": null,
      "metadata": {
        "id": "dOenrZmamMdc",
        "outputId": "4d6bacd2-d7d8-4df5-d1a2-30886a068390"
      },
      "outputs": [
        {
          "name": "stdout",
          "output_type": "stream",
          "text": [
            "Coherence Score:  0.6881668\n"
          ]
        }
      ],
      "source": [
        "get_coherence(lda_model4)"
      ]
    },
    {
      "cell_type": "code",
      "execution_count": null,
      "metadata": {
        "id": "sMNRUm56mMdd"
      },
      "outputs": [],
      "source": [
        "visualize(lda_model4, 'lda_model4.html')"
      ]
    },
    {
      "cell_type": "markdown",
      "metadata": {
        "id": "yvXSt4KomMdd"
      },
      "source": [
        "Большое число тем сильно пересекается. Темы 3,4 почти полностью совпадают. Появляется много маленьких кругов(мало распространенных тем)."
      ]
    },
    {
      "cell_type": "code",
      "execution_count": null,
      "metadata": {
        "id": "kcmMjyPimMdd",
        "outputId": "ebb6163a-3cc9-4df4-ac54-957ec4685cd0"
      },
      "outputs": [
        {
          "data": {
            "image/png": "[encoded data removed]",
            "text/plain": [
              "<Figure size 720x720 with 4 Axes>"
            ]
          },
          "metadata": {
            "needs_background": "light"
          },
          "output_type": "display_data"
        }
      ],
      "source": [
        "visualize2(lda_model4)"
      ]
    },
    {
      "cell_type": "markdown",
      "metadata": {
        "id": "Z6mA2SiXmMdd"
      },
      "source": [
        "Аналогично первой модели мы интерпретируем темы и для четвевртой.\n",
        "\n",
        "* **Topic 0**: Тут вырисовывается Экология.\n",
        "* **Topic 1**: Бизнес.\n",
        "* **Topic 2**: Тут всё не так однозначно: ключевые слова \"животное\", \"растение\", \"влажность\". Скорее всего, здесь что-то связанное с Природой.\n",
        "* **Topic 3**: Спорт."
      ]
    },
    {
      "cell_type": "markdown",
      "metadata": {
        "id": "9rmOnIowmMde"
      },
      "source": [
        "*После анализа облака слов у двух моделей (первой и четвертой) мы заметили, что было бы неплохо добавить слова глаголы \"said\", \"told\" в список стоп-слов.*"
      ]
    },
    {
      "cell_type": "markdown",
      "metadata": {
        "id": "BGRK6UCYmMde"
      },
      "source": [
        "**Best model:** Если посмотреть на Coherence Score полученных моделей, то лучше **МОДЕЛЬ 4 с 30 темами**.\n",
        "\n",
        "Чем больше число тем, тем выше когерентность. Однако большое количество тем не всегда хорошо, т.к. многие из них могут сильно пересекаться. Модель со слишком большим количеством тем, как правило, имеет много перекрытий, круги небольшого размера, сгруппированные в одной области диаграммы.\n",
        "\n",
        "Согласно значению когерентности, чаще всего топ-слова встречаются в одном и том же контексте в модели 4, где у нас наибольшее количество тем. Но с другой стороны, мы понимаем, что в данной модели может происходить путаница в темах из-за их обилия. И этот факт подтверждает визуализация, в которой можно заметить, что в этом случае темы 1, 2, 3, 4, 6 и 8 сильно пересекаются и находятся в одной области графика, но все-таки стоит отметить, что все темы распределены по всей плоскости. А в модели 1 темы так же распределены по всей плоскости и в то же время лишь две из них пересекаются. Именно благодаря этому модель 1 выглядит более выигрышной, если учитывать визуализацию.\n",
        "\n",
        "Далее будем работать с этими двумя моделями."
      ]
    },
    {
      "cell_type": "markdown",
      "metadata": {
        "id": "MRUQcdwqmMde"
      },
      "source": [
        "* ### Модель 4"
      ]
    },
    {
      "cell_type": "markdown",
      "metadata": {
        "id": "YLn8NYX_mMde"
      },
      "source": [
        "Теперь найдём информацию о том, какая тема преобладает в каждом новостном тексте(документе)."
      ]
    },
    {
      "cell_type": "code",
      "execution_count": null,
      "metadata": {
        "id": "xIJb--2pmMde"
      },
      "outputs": [],
      "source": [
        "def documents_topic(lda_model):\n",
        "    df = pd.DataFrame()\n",
        "    for i, doc in enumerate(lda_model[corpus]):\n",
        "        doc = sorted(doc[0], key=lambda x: (x[1]), reverse=True)\n",
        "        for j, (topic_num, prop_topic) in enumerate(doc):\n",
        "            if j == 0:  # main topic\n",
        "                wp = lda_model.show_topic(topic_num)\n",
        "                keywords = [word for word, prop in wp]\n",
        "                df = df.append(pd.Series([int(topic_num), round(prop_topic,4), keywords]), ignore_index=True)\n",
        "            else:\n",
        "                break\n",
        "    texts = pd.Series(data)\n",
        "    df = pd.concat([df, texts], axis=1)\n",
        "    df = df.reset_index()\n",
        "    df.columns = ['Document №', 'MainTopic', 'PercContribution', 'Keywords', 'Text']\n",
        "    '''PercContibution-Percentage Contribution'''\n",
        "    return df"
      ]
    },
    {
      "cell_type": "markdown",
      "metadata": {
        "id": "sA-KaaormMdf"
      },
      "source": [
        "В таблице представлен номер документа, его преобладющая тема, доля этой темы(наибольшая среди всех), ключевые слова данной темы и текст самого документа."
      ]
    },
    {
      "cell_type": "code",
      "execution_count": null,
      "metadata": {
        "id": "M5wOl1NBmMdf",
        "outputId": "7bce7259-11fb-4380-9c33-d903cdf5eeab"
      },
      "outputs": [
        {
          "data": {
            "text/html": [
              "<div>\n",
              "<style scoped>\n",
              "    .dataframe tbody tr th:only-of-type {\n",
              "        vertical-align: middle;\n",
              "    }\n",
              "\n",
              "    .dataframe tbody tr th {\n",
              "        vertical-align: top;\n",
              "    }\n",
              "\n",
              "    .dataframe thead th {\n",
              "        text-align: right;\n",
              "    }\n",
              "</style>\n",
              "<table border=\"1\" class=\"dataframe\">\n",
              "  <thead>\n",
              "    <tr style=\"text-align: right;\">\n",
              "      <th></th>\n",
              "      <th>Document №</th>\n",
              "      <th>MainTopic</th>\n",
              "      <th>PercContribution</th>\n",
              "      <th>Keywords</th>\n",
              "      <th>Text</th>\n",
              "    </tr>\n",
              "  </thead>\n",
              "  <tbody>\n",
              "    <tr>\n",
              "      <th>0</th>\n",
              "      <td>0</td>\n",
              "      <td>12.0</td>\n",
              "      <td>0.1867</td>\n",
              "      <td>[money, company, people, said, one, year, prod...</td>\n",
              "      <td>marc nohr marc nohr parttime boss means spend ...</td>\n",
              "    </tr>\n",
              "    <tr>\n",
              "      <th>1</th>\n",
              "      <td>1</td>\n",
              "      <td>24.0</td>\n",
              "      <td>0.5514</td>\n",
              "      <td>[people, health, coronavirus, uk, symptoms, co...</td>\n",
              "      <td>common type gut bacterium may increase persons...</td>\n",
              "    </tr>\n",
              "    <tr>\n",
              "      <th>2</th>\n",
              "      <td>2</td>\n",
              "      <td>2.0</td>\n",
              "      <td>0.2379</td>\n",
              "      <td>[said, police, told, people, mr, including, fo...</td>\n",
              "      <td>device dropped dead sky hundreds birds found d...</td>\n",
              "    </tr>\n",
              "    <tr>\n",
              "      <th>3</th>\n",
              "      <td>3</td>\n",
              "      <td>9.0</td>\n",
              "      <td>0.7875</td>\n",
              "      <td>[wild, driver, crash, huang, illegal, indonesi...</td>\n",
              "      <td>driver tesla model x died shortly crash apple ...</td>\n",
              "    </tr>\n",
              "    <tr>\n",
              "      <th>4</th>\n",
              "      <td>4</td>\n",
              "      <td>25.0</td>\n",
              "      <td>0.6629</td>\n",
              "      <td>[said, water, river, station, city, public, el...</td>\n",
              "      <td>facebook thomas hughes previously worked human...</td>\n",
              "    </tr>\n",
              "    <tr>\n",
              "      <th>5</th>\n",
              "      <td>5</td>\n",
              "      <td>12.0</td>\n",
              "      <td>0.2980</td>\n",
              "      <td>[money, company, people, said, one, year, prod...</td>\n",
              "      <td>tesco uks biggest retailer tesco stocking plas...</td>\n",
              "    </tr>\n",
              "    <tr>\n",
              "      <th>6</th>\n",
              "      <td>6</td>\n",
              "      <td>20.0</td>\n",
              "      <td>0.3035</td>\n",
              "      <td>[one, years, two, says, first, many, could, wo...</td>\n",
              "      <td>half flights taken last year yearold men stag ...</td>\n",
              "    </tr>\n",
              "    <tr>\n",
              "      <th>7</th>\n",
              "      <td>7</td>\n",
              "      <td>27.0</td>\n",
              "      <td>0.8094</td>\n",
              "      <td>[said, government, mr, would, minister, uk, pr...</td>\n",
              "      <td>apples chief executive tim cook said company w...</td>\n",
              "    </tr>\n",
              "    <tr>\n",
              "      <th>8</th>\n",
              "      <td>8</td>\n",
              "      <td>19.0</td>\n",
              "      <td>0.5357</td>\n",
              "      <td>[court, trial, case, salazar, told, said, coul...</td>\n",
              "      <td>salazar centre alongside farah right american ...</td>\n",
              "    </tr>\n",
              "    <tr>\n",
              "      <th>9</th>\n",
              "      <td>9</td>\n",
              "      <td>12.0</td>\n",
              "      <td>0.7219</td>\n",
              "      <td>[money, company, people, said, one, year, prod...</td>\n",
              "      <td>florist zhao yuanyuan wearing protective face ...</td>\n",
              "    </tr>\n",
              "  </tbody>\n",
              "</table>\n",
              "</div>"
            ],
            "text/plain": [
              "   Document №  MainTopic  PercContribution  \\\n",
              "0           0       12.0            0.1867   \n",
              "1           1       24.0            0.5514   \n",
              "2           2        2.0            0.2379   \n",
              "3           3        9.0            0.7875   \n",
              "4           4       25.0            0.6629   \n",
              "5           5       12.0            0.2980   \n",
              "6           6       20.0            0.3035   \n",
              "7           7       27.0            0.8094   \n",
              "8           8       19.0            0.5357   \n",
              "9           9       12.0            0.7219   \n",
              "\n",
              "                                            Keywords  \\\n",
              "0  [money, company, people, said, one, year, prod...   \n",
              "1  [people, health, coronavirus, uk, symptoms, co...   \n",
              "2  [said, police, told, people, mr, including, fo...   \n",
              "3  [wild, driver, crash, huang, illegal, indonesi...   \n",
              "4  [said, water, river, station, city, public, el...   \n",
              "5  [money, company, people, said, one, year, prod...   \n",
              "6  [one, years, two, says, first, many, could, wo...   \n",
              "7  [said, government, mr, would, minister, uk, pr...   \n",
              "8  [court, trial, case, salazar, told, said, coul...   \n",
              "9  [money, company, people, said, one, year, prod...   \n",
              "\n",
              "                                                Text  \n",
              "0  marc nohr marc nohr parttime boss means spend ...  \n",
              "1  common type gut bacterium may increase persons...  \n",
              "2  device dropped dead sky hundreds birds found d...  \n",
              "3  driver tesla model x died shortly crash apple ...  \n",
              "4  facebook thomas hughes previously worked human...  \n",
              "5  tesco uks biggest retailer tesco stocking plas...  \n",
              "6  half flights taken last year yearold men stag ...  \n",
              "7  apples chief executive tim cook said company w...  \n",
              "8  salazar centre alongside farah right american ...  \n",
              "9  florist zhao yuanyuan wearing protective face ...  "
            ]
          },
          "execution_count": 52,
          "metadata": {},
          "output_type": "execute_result"
        }
      ],
      "source": [
        "df = documents_topic(lda_model4)\n",
        "df.head(10)"
      ]
    },
    {
      "cell_type": "markdown",
      "metadata": {
        "id": "lLT8Ax8cmMdf"
      },
      "source": [
        "Также найдём число документов, принадлежащей каждой теме и посчитаем распределение тем по документам."
      ]
    },
    {
      "cell_type": "code",
      "execution_count": null,
      "metadata": {
        "id": "TclYw58amMdf",
        "outputId": "042bfcee-fe41-48ef-e961-60a37749de5d"
      },
      "outputs": [
        {
          "data": {
            "text/html": [
              "<div>\n",
              "<style scoped>\n",
              "    .dataframe tbody tr th:only-of-type {\n",
              "        vertical-align: middle;\n",
              "    }\n",
              "\n",
              "    .dataframe tbody tr th {\n",
              "        vertical-align: top;\n",
              "    }\n",
              "\n",
              "    .dataframe thead th {\n",
              "        text-align: right;\n",
              "    }\n",
              "</style>\n",
              "<table border=\"1\" class=\"dataframe\">\n",
              "  <thead>\n",
              "    <tr style=\"text-align: right;\">\n",
              "      <th></th>\n",
              "      <th>MainTopic</th>\n",
              "      <th>NumberDocuments</th>\n",
              "      <th>PercDocuments</th>\n",
              "    </tr>\n",
              "  </thead>\n",
              "  <tbody>\n",
              "    <tr>\n",
              "      <th>0</th>\n",
              "      <td>0.0</td>\n",
              "      <td>30</td>\n",
              "      <td>0.0168</td>\n",
              "    </tr>\n",
              "    <tr>\n",
              "      <th>1</th>\n",
              "      <td>1.0</td>\n",
              "      <td>112</td>\n",
              "      <td>0.0627</td>\n",
              "    </tr>\n",
              "    <tr>\n",
              "      <th>2</th>\n",
              "      <td>2.0</td>\n",
              "      <td>150</td>\n",
              "      <td>0.0839</td>\n",
              "    </tr>\n",
              "    <tr>\n",
              "      <th>3</th>\n",
              "      <td>3.0</td>\n",
              "      <td>26</td>\n",
              "      <td>0.0145</td>\n",
              "    </tr>\n",
              "    <tr>\n",
              "      <th>4</th>\n",
              "      <td>4.0</td>\n",
              "      <td>17</td>\n",
              "      <td>0.0095</td>\n",
              "    </tr>\n",
              "    <tr>\n",
              "      <th>5</th>\n",
              "      <td>5.0</td>\n",
              "      <td>53</td>\n",
              "      <td>0.0297</td>\n",
              "    </tr>\n",
              "    <tr>\n",
              "      <th>6</th>\n",
              "      <td>6.0</td>\n",
              "      <td>13</td>\n",
              "      <td>0.0073</td>\n",
              "    </tr>\n",
              "    <tr>\n",
              "      <th>7</th>\n",
              "      <td>8.0</td>\n",
              "      <td>31</td>\n",
              "      <td>0.0173</td>\n",
              "    </tr>\n",
              "    <tr>\n",
              "      <th>8</th>\n",
              "      <td>9.0</td>\n",
              "      <td>8</td>\n",
              "      <td>0.0045</td>\n",
              "    </tr>\n",
              "    <tr>\n",
              "      <th>9</th>\n",
              "      <td>10.0</td>\n",
              "      <td>73</td>\n",
              "      <td>0.0409</td>\n",
              "    </tr>\n",
              "    <tr>\n",
              "      <th>10</th>\n",
              "      <td>11.0</td>\n",
              "      <td>32</td>\n",
              "      <td>0.0179</td>\n",
              "    </tr>\n",
              "    <tr>\n",
              "      <th>11</th>\n",
              "      <td>12.0</td>\n",
              "      <td>119</td>\n",
              "      <td>0.0666</td>\n",
              "    </tr>\n",
              "    <tr>\n",
              "      <th>12</th>\n",
              "      <td>14.0</td>\n",
              "      <td>14</td>\n",
              "      <td>0.0078</td>\n",
              "    </tr>\n",
              "    <tr>\n",
              "      <th>13</th>\n",
              "      <td>15.0</td>\n",
              "      <td>5</td>\n",
              "      <td>0.0028</td>\n",
              "    </tr>\n",
              "    <tr>\n",
              "      <th>14</th>\n",
              "      <td>16.0</td>\n",
              "      <td>16</td>\n",
              "      <td>0.0090</td>\n",
              "    </tr>\n",
              "    <tr>\n",
              "      <th>15</th>\n",
              "      <td>18.0</td>\n",
              "      <td>17</td>\n",
              "      <td>0.0095</td>\n",
              "    </tr>\n",
              "    <tr>\n",
              "      <th>16</th>\n",
              "      <td>19.0</td>\n",
              "      <td>9</td>\n",
              "      <td>0.0050</td>\n",
              "    </tr>\n",
              "    <tr>\n",
              "      <th>17</th>\n",
              "      <td>20.0</td>\n",
              "      <td>472</td>\n",
              "      <td>0.2641</td>\n",
              "    </tr>\n",
              "    <tr>\n",
              "      <th>18</th>\n",
              "      <td>21.0</td>\n",
              "      <td>23</td>\n",
              "      <td>0.0129</td>\n",
              "    </tr>\n",
              "    <tr>\n",
              "      <th>19</th>\n",
              "      <td>22.0</td>\n",
              "      <td>21</td>\n",
              "      <td>0.0118</td>\n",
              "    </tr>\n",
              "    <tr>\n",
              "      <th>20</th>\n",
              "      <td>23.0</td>\n",
              "      <td>126</td>\n",
              "      <td>0.0705</td>\n",
              "    </tr>\n",
              "    <tr>\n",
              "      <th>21</th>\n",
              "      <td>24.0</td>\n",
              "      <td>119</td>\n",
              "      <td>0.0666</td>\n",
              "    </tr>\n",
              "    <tr>\n",
              "      <th>22</th>\n",
              "      <td>25.0</td>\n",
              "      <td>35</td>\n",
              "      <td>0.0196</td>\n",
              "    </tr>\n",
              "    <tr>\n",
              "      <th>23</th>\n",
              "      <td>26.0</td>\n",
              "      <td>13</td>\n",
              "      <td>0.0073</td>\n",
              "    </tr>\n",
              "    <tr>\n",
              "      <th>24</th>\n",
              "      <td>27.0</td>\n",
              "      <td>60</td>\n",
              "      <td>0.0336</td>\n",
              "    </tr>\n",
              "    <tr>\n",
              "      <th>25</th>\n",
              "      <td>28.0</td>\n",
              "      <td>1</td>\n",
              "      <td>0.0006</td>\n",
              "    </tr>\n",
              "    <tr>\n",
              "      <th>26</th>\n",
              "      <td>29.0</td>\n",
              "      <td>192</td>\n",
              "      <td>0.1074</td>\n",
              "    </tr>\n",
              "  </tbody>\n",
              "</table>\n",
              "</div>"
            ],
            "text/plain": [
              "    MainTopic  NumberDocuments  PercDocuments\n",
              "0         0.0               30         0.0168\n",
              "1         1.0              112         0.0627\n",
              "2         2.0              150         0.0839\n",
              "3         3.0               26         0.0145\n",
              "4         4.0               17         0.0095\n",
              "5         5.0               53         0.0297\n",
              "6         6.0               13         0.0073\n",
              "7         8.0               31         0.0173\n",
              "8         9.0                8         0.0045\n",
              "9        10.0               73         0.0409\n",
              "10       11.0               32         0.0179\n",
              "11       12.0              119         0.0666\n",
              "12       14.0               14         0.0078\n",
              "13       15.0                5         0.0028\n",
              "14       16.0               16         0.0090\n",
              "15       18.0               17         0.0095\n",
              "16       19.0                9         0.0050\n",
              "17       20.0              472         0.2641\n",
              "18       21.0               23         0.0129\n",
              "19       22.0               21         0.0118\n",
              "20       23.0              126         0.0705\n",
              "21       24.0              119         0.0666\n",
              "22       25.0               35         0.0196\n",
              "23       26.0               13         0.0073\n",
              "24       27.0               60         0.0336\n",
              "25       28.0                1         0.0006\n",
              "26       29.0              192         0.1074"
            ]
          },
          "execution_count": 53,
          "metadata": {},
          "output_type": "execute_result"
        }
      ],
      "source": [
        "counts = df['MainTopic'].value_counts()\n",
        "contribution = round(counts/counts.sum(), 4)\n",
        "df_all_topics = pd.concat([counts, contribution], axis=1)\n",
        "df_all_topics = df_all_topics.reset_index()\n",
        "df_all_topics.columns = ['MainTopic', 'NumberDocuments', 'PercDocuments']\n",
        "df_all_topics = df_all_topics.sort_values(by=['MainTopic'])\n",
        "df_all_topics.reset_index(drop=True)"
      ]
    },
    {
      "cell_type": "markdown",
      "metadata": {
        "id": "iirSkYZemMdg"
      },
      "source": [
        "Можно заметить, что нет нескольких тем: 7, 13, 17 (считая от 0). Т.е. они не являются доминирующими ни в одном из документов. Самая распространённая тема-20 (считая от 0), ей принадлежит 472 текста."
      ]
    },
    {
      "cell_type": "markdown",
      "metadata": {
        "id": "KLX69MiFmMdh"
      },
      "source": [
        "* ### Модель 1"
      ]
    },
    {
      "cell_type": "markdown",
      "metadata": {
        "id": "yGNGhWKNmMdh"
      },
      "source": [
        "Построим те же таблицы для 1 модели."
      ]
    },
    {
      "cell_type": "code",
      "execution_count": null,
      "metadata": {
        "id": "ukoglqZsmMdh",
        "outputId": "14d480ab-555c-422d-ccbd-eb1fe1760b81"
      },
      "outputs": [
        {
          "data": {
            "text/html": [
              "<div>\n",
              "<style scoped>\n",
              "    .dataframe tbody tr th:only-of-type {\n",
              "        vertical-align: middle;\n",
              "    }\n",
              "\n",
              "    .dataframe tbody tr th {\n",
              "        vertical-align: top;\n",
              "    }\n",
              "\n",
              "    .dataframe thead th {\n",
              "        text-align: right;\n",
              "    }\n",
              "</style>\n",
              "<table border=\"1\" class=\"dataframe\">\n",
              "  <thead>\n",
              "    <tr style=\"text-align: right;\">\n",
              "      <th></th>\n",
              "      <th>Document №</th>\n",
              "      <th>MainTopic</th>\n",
              "      <th>PercContribution</th>\n",
              "      <th>Keywords</th>\n",
              "      <th>Text</th>\n",
              "    </tr>\n",
              "  </thead>\n",
              "  <tbody>\n",
              "    <tr>\n",
              "      <th>0</th>\n",
              "      <td>0</td>\n",
              "      <td>4.0</td>\n",
              "      <td>0.5585</td>\n",
              "      <td>[people, said, says, one, get, would, could, l...</td>\n",
              "      <td>marc nohr marc nohr parttime boss means spend ...</td>\n",
              "    </tr>\n",
              "    <tr>\n",
              "      <th>1</th>\n",
              "      <td>1</td>\n",
              "      <td>4.0</td>\n",
              "      <td>0.9688</td>\n",
              "      <td>[people, said, says, one, get, would, could, l...</td>\n",
              "      <td>common type gut bacterium may increase persons...</td>\n",
              "    </tr>\n",
              "    <tr>\n",
              "      <th>2</th>\n",
              "      <td>2</td>\n",
              "      <td>4.0</td>\n",
              "      <td>0.5583</td>\n",
              "      <td>[people, said, says, one, get, would, could, l...</td>\n",
              "      <td>device dropped dead sky hundreds birds found d...</td>\n",
              "    </tr>\n",
              "    <tr>\n",
              "      <th>3</th>\n",
              "      <td>3</td>\n",
              "      <td>0.0</td>\n",
              "      <td>0.9820</td>\n",
              "      <td>[said, government, would, also, says, new, cli...</td>\n",
              "      <td>driver tesla model x died shortly crash apple ...</td>\n",
              "    </tr>\n",
              "    <tr>\n",
              "      <th>4</th>\n",
              "      <td>4</td>\n",
              "      <td>0.0</td>\n",
              "      <td>0.9966</td>\n",
              "      <td>[said, government, would, also, says, new, cli...</td>\n",
              "      <td>facebook thomas hughes previously worked human...</td>\n",
              "    </tr>\n",
              "    <tr>\n",
              "      <th>5</th>\n",
              "      <td>5</td>\n",
              "      <td>4.0</td>\n",
              "      <td>0.5053</td>\n",
              "      <td>[people, said, says, one, get, would, could, l...</td>\n",
              "      <td>tesco uks biggest retailer tesco stocking plas...</td>\n",
              "    </tr>\n",
              "    <tr>\n",
              "      <th>6</th>\n",
              "      <td>6</td>\n",
              "      <td>1.0</td>\n",
              "      <td>0.5241</td>\n",
              "      <td>[coronavirus, china, virus, said, cases, peopl...</td>\n",
              "      <td>half flights taken last year yearold men stag ...</td>\n",
              "    </tr>\n",
              "    <tr>\n",
              "      <th>7</th>\n",
              "      <td>7</td>\n",
              "      <td>1.0</td>\n",
              "      <td>0.5044</td>\n",
              "      <td>[coronavirus, china, virus, said, cases, peopl...</td>\n",
              "      <td>apples chief executive tim cook said company w...</td>\n",
              "    </tr>\n",
              "    <tr>\n",
              "      <th>8</th>\n",
              "      <td>8</td>\n",
              "      <td>2.0</td>\n",
              "      <td>0.6399</td>\n",
              "      <td>[said, mr, us, one, president, taliban, women,...</td>\n",
              "      <td>salazar centre alongside farah right american ...</td>\n",
              "    </tr>\n",
              "    <tr>\n",
              "      <th>9</th>\n",
              "      <td>9</td>\n",
              "      <td>1.0</td>\n",
              "      <td>0.9960</td>\n",
              "      <td>[coronavirus, china, virus, said, cases, peopl...</td>\n",
              "      <td>florist zhao yuanyuan wearing protective face ...</td>\n",
              "    </tr>\n",
              "  </tbody>\n",
              "</table>\n",
              "</div>"
            ],
            "text/plain": [
              "   Document №  MainTopic  PercContribution  \\\n",
              "0           0        4.0            0.5585   \n",
              "1           1        4.0            0.9688   \n",
              "2           2        4.0            0.5583   \n",
              "3           3        0.0            0.9820   \n",
              "4           4        0.0            0.9966   \n",
              "5           5        4.0            0.5053   \n",
              "6           6        1.0            0.5241   \n",
              "7           7        1.0            0.5044   \n",
              "8           8        2.0            0.6399   \n",
              "9           9        1.0            0.9960   \n",
              "\n",
              "                                            Keywords  \\\n",
              "0  [people, said, says, one, get, would, could, l...   \n",
              "1  [people, said, says, one, get, would, could, l...   \n",
              "2  [people, said, says, one, get, would, could, l...   \n",
              "3  [said, government, would, also, says, new, cli...   \n",
              "4  [said, government, would, also, says, new, cli...   \n",
              "5  [people, said, says, one, get, would, could, l...   \n",
              "6  [coronavirus, china, virus, said, cases, peopl...   \n",
              "7  [coronavirus, china, virus, said, cases, peopl...   \n",
              "8  [said, mr, us, one, president, taliban, women,...   \n",
              "9  [coronavirus, china, virus, said, cases, peopl...   \n",
              "\n",
              "                                                Text  \n",
              "0  marc nohr marc nohr parttime boss means spend ...  \n",
              "1  common type gut bacterium may increase persons...  \n",
              "2  device dropped dead sky hundreds birds found d...  \n",
              "3  driver tesla model x died shortly crash apple ...  \n",
              "4  facebook thomas hughes previously worked human...  \n",
              "5  tesco uks biggest retailer tesco stocking plas...  \n",
              "6  half flights taken last year yearold men stag ...  \n",
              "7  apples chief executive tim cook said company w...  \n",
              "8  salazar centre alongside farah right american ...  \n",
              "9  florist zhao yuanyuan wearing protective face ...  "
            ]
          },
          "execution_count": 102,
          "metadata": {},
          "output_type": "execute_result"
        }
      ],
      "source": [
        "df2 = documents_topic(lda_model1)\n",
        "df2.head(10)"
      ]
    },
    {
      "cell_type": "code",
      "execution_count": null,
      "metadata": {
        "id": "8cD5bPWzmMdi",
        "outputId": "8ece9b0e-0c68-4efd-a628-847f58ffbad8"
      },
      "outputs": [
        {
          "data": {
            "text/html": [
              "<div>\n",
              "<style scoped>\n",
              "    .dataframe tbody tr th:only-of-type {\n",
              "        vertical-align: middle;\n",
              "    }\n",
              "\n",
              "    .dataframe tbody tr th {\n",
              "        vertical-align: top;\n",
              "    }\n",
              "\n",
              "    .dataframe thead th {\n",
              "        text-align: right;\n",
              "    }\n",
              "</style>\n",
              "<table border=\"1\" class=\"dataframe\">\n",
              "  <thead>\n",
              "    <tr style=\"text-align: right;\">\n",
              "      <th></th>\n",
              "      <th>MainTopic</th>\n",
              "      <th>NumberDocuments</th>\n",
              "      <th>PercDocuments</th>\n",
              "    </tr>\n",
              "  </thead>\n",
              "  <tbody>\n",
              "    <tr>\n",
              "      <th>0</th>\n",
              "      <td>0.0</td>\n",
              "      <td>477</td>\n",
              "      <td>0.2669</td>\n",
              "    </tr>\n",
              "    <tr>\n",
              "      <th>1</th>\n",
              "      <td>1.0</td>\n",
              "      <td>306</td>\n",
              "      <td>0.1712</td>\n",
              "    </tr>\n",
              "    <tr>\n",
              "      <th>2</th>\n",
              "      <td>2.0</td>\n",
              "      <td>320</td>\n",
              "      <td>0.1791</td>\n",
              "    </tr>\n",
              "    <tr>\n",
              "      <th>3</th>\n",
              "      <td>3.0</td>\n",
              "      <td>318</td>\n",
              "      <td>0.1780</td>\n",
              "    </tr>\n",
              "    <tr>\n",
              "      <th>4</th>\n",
              "      <td>4.0</td>\n",
              "      <td>366</td>\n",
              "      <td>0.2048</td>\n",
              "    </tr>\n",
              "  </tbody>\n",
              "</table>\n",
              "</div>"
            ],
            "text/plain": [
              "   MainTopic  NumberDocuments  PercDocuments\n",
              "0        0.0              477         0.2669\n",
              "1        1.0              306         0.1712\n",
              "2        2.0              320         0.1791\n",
              "3        3.0              318         0.1780\n",
              "4        4.0              366         0.2048"
            ]
          },
          "execution_count": 103,
          "metadata": {},
          "output_type": "execute_result"
        }
      ],
      "source": [
        "counts2 = df2['MainTopic'].value_counts()\n",
        "contribution2 = round(counts2/counts2.sum(), 4)\n",
        "df_all_topics2 = pd.concat([counts2, contribution2], axis=1)\n",
        "df_all_topics2 = df_all_topics2.reset_index()\n",
        "df_all_topics2.columns = ['MainTopic', 'NumberDocuments', 'PercDocuments']\n",
        "df_all_topics2 = df_all_topics2.sort_values(by=['MainTopic'])\n",
        "df_all_topics2.reset_index(drop=True)"
      ]
    },
    {
      "cell_type": "markdown",
      "metadata": {
        "id": "q7-iWiInmMdi"
      },
      "source": [
        "Самая распространённая тема - 1. Вообще распределение по темам примерно одинаковое."
      ]
    },
    {
      "cell_type": "markdown",
      "metadata": {
        "id": "sXjyi1Z9mMdi"
      },
      "source": [
        "## Word2Vec соответствие"
      ]
    },
    {
      "cell_type": "markdown",
      "metadata": {
        "id": "ZQydiwgamMdj"
      },
      "source": [
        "Рассмотрим несколько документов и посчитаем близость темы с категорией и тегами."
      ]
    },
    {
      "cell_type": "markdown",
      "metadata": {
        "id": "afMIjTAsmMdj"
      },
      "source": [
        "* #### Документ 1"
      ]
    },
    {
      "cell_type": "code",
      "execution_count": null,
      "metadata": {
        "id": "M5Ku2Os-mMdk",
        "outputId": "8a53cfe0-9d97-4092-d248-19a1577a12d4"
      },
      "outputs": [
        {
          "data": {
            "text/plain": [
              "{'category': 'technology',\n",
              " 'title': \"Tesla Autopilot crash driver 'was playing video game'\",\n",
              " 'text': 'driver tesla model x died shortly crash apple employee died tesla car hit concrete barrier playing game time crash investigators believe us national transportation safety board ntsb said car driving semiautonomously using teslas autopilot software tesla instructs drivers keep hands wheel autopilot mode ntsb said crashes foreseeable tesla implement changes autopilot system authority published results twoyear investigation following crash march teslas autopilot software steered vehicle triangular gore area motorway intersection accelerated concrete barrier tesla entered gore area highway hit barrier front tesla separated rear causing two drivers crash tesla driver walter huang taken hospital died injuries drivers survived ntsb said tesla driver taken control car distracted smartphone game teslas collision avoidance system designed detect crash barrier teslas autopilot system provide effective means monitoring drivers engagement use teslas autopilot software implicated several crashes system lets car operate semiautonomously changing lanes adjusting speed critics say autopilot branding makes drivers think car driving fully autonomously ntsb said driver overreliant software tesla instruct drivers keep hands wheel using autopilot audible warning sounds fail ntsb said monitoring driverapplied steering wheel torque ineffective surrogate measure driver engagement tesla incorporate system safeguards limit use autopilot system conditions designed continued use system beyond operational design domain foreseeable risk future crashes remain said recommendations ntsb ended report several recommendations including improving collision avoidance systems include common obstacles traffic barriers evaluating teslas autopilot determine whether ability operate outside intended operational design posed unreasonable risk safety preventing automation complacency drivers requiring new passenger vehicles semiautonomous features equipped driver monitoring system meets new standards also suggested smartphone manufacturers develop distracted driving lockout mechanism disable driverdistracting functions vehicle motion allows device used emergency urged apple implement company policy bans nonemergency use portable electronic devices driving employees contractors ntsb also found impactabsorbing crash barrier hit tesla damaged nonoperational condition time collision said california highway patrol failed report damage following previous crash likely tesla driver would survived crash barrier replaced bbc news contacted tesla response',\n",
              " 'tags': 'Driverless cars, Apple, Tesla'}"
            ]
          },
          "execution_count": 55,
          "metadata": {},
          "output_type": "execute_result"
        }
      ],
      "source": [
        "preproc_catalog[3]"
      ]
    },
    {
      "cell_type": "code",
      "execution_count": null,
      "metadata": {
        "id": "-LzqS-UYmMdl",
        "outputId": "40a4a40c-54d2-44cc-eb49-7191632c0e67"
      },
      "outputs": [
        {
          "data": {
            "text/html": [
              "<div>\n",
              "<style scoped>\n",
              "    .dataframe tbody tr th:only-of-type {\n",
              "        vertical-align: middle;\n",
              "    }\n",
              "\n",
              "    .dataframe tbody tr th {\n",
              "        vertical-align: top;\n",
              "    }\n",
              "\n",
              "    .dataframe thead th {\n",
              "        text-align: right;\n",
              "    }\n",
              "</style>\n",
              "<table border=\"1\" class=\"dataframe\">\n",
              "  <thead>\n",
              "    <tr style=\"text-align: right;\">\n",
              "      <th></th>\n",
              "      <th>Document №</th>\n",
              "      <th>MainTopic</th>\n",
              "      <th>PercContribution</th>\n",
              "      <th>Keywords</th>\n",
              "      <th>Text</th>\n",
              "    </tr>\n",
              "  </thead>\n",
              "  <tbody>\n",
              "    <tr>\n",
              "      <th>3</th>\n",
              "      <td>3</td>\n",
              "      <td>9.0</td>\n",
              "      <td>0.7875</td>\n",
              "      <td>[wild, driver, crash, huang, illegal, indonesi...</td>\n",
              "      <td>driver tesla model x died shortly crash apple ...</td>\n",
              "    </tr>\n",
              "  </tbody>\n",
              "</table>\n",
              "</div>"
            ],
            "text/plain": [
              "   Document №  MainTopic  PercContribution  \\\n",
              "3           3        9.0            0.7875   \n",
              "\n",
              "                                            Keywords  \\\n",
              "3  [wild, driver, crash, huang, illegal, indonesi...   \n",
              "\n",
              "                                                Text  \n",
              "3  driver tesla model x died shortly crash apple ...  "
            ]
          },
          "execution_count": 56,
          "metadata": {},
          "output_type": "execute_result"
        }
      ],
      "source": [
        "df[3:4]"
      ]
    },
    {
      "cell_type": "code",
      "execution_count": null,
      "metadata": {
        "id": "-OTcXtYTmMdl",
        "outputId": "c810c2ca-0ef7-41b0-aa81-f9a0995ba0d8"
      },
      "outputs": [
        {
          "data": {
            "text/plain": [
              "'0.029*\"wild\" + 0.023*\"driver\" + 0.020*\"crash\" + 0.019*\"huang\" + 0.015*\"illegal\" + 0.015*\"indonesia\" + 0.015*\"indonesian\" + 0.014*\"ban\" + 0.014*\"tesla\" + 0.011*\"vegas\"'"
            ]
          },
          "execution_count": 57,
          "metadata": {},
          "output_type": "execute_result"
        }
      ],
      "source": [
        "lda_model4.print_topic(9)"
      ]
    },
    {
      "cell_type": "markdown",
      "metadata": {
        "id": "uHJG3ckTmMdm"
      },
      "source": [
        "Загрузим предобученную на Google news модель Word2Vec."
      ]
    },
    {
      "cell_type": "code",
      "execution_count": null,
      "metadata": {
        "id": "lbOshu3ImMdm"
      },
      "outputs": [],
      "source": [
        "vectorizerW2V = gensim.models.KeyedVectors.load_word2vec_format('GoogleNews-vectors-negative300.bin', binary=True)"
      ]
    },
    {
      "cell_type": "markdown",
      "metadata": {
        "id": "MXY6sa2MmMdm"
      },
      "source": [
        "Найдём **сходство между найденной темой и категорией** документа(считается как среднее между близостью каждого слова темы и самой категорией)."
      ]
    },
    {
      "cell_type": "code",
      "execution_count": null,
      "metadata": {
        "id": "uNT70YcsmMdn"
      },
      "outputs": [],
      "source": [
        "def similarity(model, category, words=list()):\n",
        "    s = 0\n",
        "    for w in words:\n",
        "        s+= model.similarity(w,category)\n",
        "        #print(model.similarity(w,category))\n",
        "    print('Similarity: ', round(s/len(words),4))"
      ]
    },
    {
      "cell_type": "code",
      "execution_count": null,
      "metadata": {
        "id": "sgEw_GHdmMdn",
        "outputId": "2a621b72-e621-4f7b-d32c-0541ab12e80a"
      },
      "outputs": [
        {
          "name": "stdout",
          "output_type": "stream",
          "text": [
            "Similarity:  0.065\n"
          ]
        }
      ],
      "source": [
        "similarity(vectorizerW2V, labels_w[3], df['Keywords'][3])"
      ]
    },
    {
      "cell_type": "markdown",
      "metadata": {
        "id": "NmJfyVn7mMdn"
      },
      "source": [
        "По такому маленькому значению можно сказать, что ничего общего между категорией и темой нет."
      ]
    },
    {
      "cell_type": "markdown",
      "metadata": {
        "id": "WE7z-np_mMdo"
      },
      "source": [
        "Например, посмотрим на сходство кошки и собаки."
      ]
    },
    {
      "cell_type": "code",
      "execution_count": null,
      "metadata": {
        "id": "7yzI1067mMdo",
        "outputId": "f5b396af-2ae2-454a-a55e-336cfc5ab39e"
      },
      "outputs": [
        {
          "data": {
            "text/plain": [
              "0.76094574"
            ]
          },
          "execution_count": 62,
          "metadata": {},
          "output_type": "execute_result"
        }
      ],
      "source": [
        "vectorizerW2V.similarity('cat','dog')"
      ]
    },
    {
      "cell_type": "markdown",
      "metadata": {
        "id": "ctvrBWkcmMdo"
      },
      "source": [
        "Теперь найдём **сходство между темой и каждым тегом**."
      ]
    },
    {
      "cell_type": "code",
      "execution_count": null,
      "metadata": {
        "id": "42kiDEjumMdo",
        "outputId": "760ad2d2-9074-4730-c739-ec69ed6da0b4"
      },
      "outputs": [
        {
          "name": "stdout",
          "output_type": "stream",
          "text": [
            "Similarity:  0.0674\n"
          ]
        }
      ],
      "source": [
        "similarity(vectorizerW2V, 'driverless_cars', df['Keywords'][3])"
      ]
    },
    {
      "cell_type": "code",
      "execution_count": null,
      "metadata": {
        "id": "cA93Dj_XmMdo",
        "outputId": "480a2e8b-d932-4265-b980-9a9f6ba02f2e"
      },
      "outputs": [
        {
          "name": "stdout",
          "output_type": "stream",
          "text": [
            "Similarity:  0.1108\n"
          ]
        }
      ],
      "source": [
        "similarity(vectorizerW2V, 'apple', df['Keywords'][3])"
      ]
    },
    {
      "cell_type": "code",
      "execution_count": null,
      "metadata": {
        "id": "GWC0zZH8mMdp",
        "outputId": "a2d37a96-7397-47c0-fb54-ed9f8a993534"
      },
      "outputs": [
        {
          "name": "stdout",
          "output_type": "stream",
          "text": [
            "Similarity:  0.1426\n"
          ]
        }
      ],
      "source": [
        "similarity(vectorizerW2V, 'tesla', df['Keywords'][3])"
      ]
    },
    {
      "cell_type": "markdown",
      "metadata": {
        "id": "7hxZ3KFkmMdp"
      },
      "source": [
        "Близость маленькая для всех тегов."
      ]
    },
    {
      "cell_type": "markdown",
      "metadata": {
        "id": "IP3Hi195mMdp"
      },
      "source": [
        "* #### Документ 2"
      ]
    },
    {
      "cell_type": "code",
      "execution_count": null,
      "metadata": {
        "id": "ZPYTNjFmmMdp",
        "outputId": "5eebdcb5-31a1-4d29-918d-b7406ccf1977"
      },
      "outputs": [
        {
          "data": {
            "text/plain": [
              "{'category': 'business',\n",
              " 'title': 'The people who got to the top on a four-day week',\n",
              " 'text': 'marc nohr marc nohr parttime boss means spend time family charity work one million people senior managerlevel jobs work part time number growing according official figures mr nohr group chief executive agencies miroma runs group marketing communications agencies started working four days week two years ago found hours become unsustainable admits everyone board decision noting phrase parttimer considered mean slacker careful depending speaking people come era presenteeism thats world brought require quite bit mental leap alwayson culture using data office national statistics consultancy promotes flexible working found number parttime workers senior level positions last year since used fulltime equivalent salary year determine qualified senior managerlevel employee consultancy credited changing attitudes towards flexible working shift years ago people reluctant admit worked parttime fear seen less committed ambitious says cofounder karen mattison however says parttime work senior roles still relatively rare old routine mr nohr says days getting seven eight morning still midnight alwayson culture hugely detrimental family life says also harming productivity begin asked employers could test parttime regime trial period also came plan work would done absence general says employers supportive also helps staff company level arrangement however accepts risks involved says boundaries place important making sure colleagues know nobody right call friday dont work friday go says regards workplace emergencies katie bickerstaffe katie bickerstaffe soon start new job marks spencer shes currently nonexecutive director katie bickerstaffe another person top works part time soon start new job marks spencer shes currently nonexecutive director april work four days week chief strategy transformation director getgo said would want flexible basis says nobody fell chair says earlier career worked dixons carphone chief executive uk ireland also four days week dixons talked job said flattered need four days week time children young says didnt make big thing respectful like mr nohr says realistic dealing problems days motivation free time exchange good time management work wonders morale says parttime bosses arent common blames culture presenteeism firms also fear loss control among managers employers thinks flexible get pick wider pool talent something worth sticking neck get rewarded says get pick people huge loyalty people thrilled opportunity',\n",
              " 'tags': 'Gig economy, Employment'}"
            ]
          },
          "execution_count": 63,
          "metadata": {},
          "output_type": "execute_result"
        }
      ],
      "source": [
        "preproc_catalog[0]"
      ]
    },
    {
      "cell_type": "code",
      "execution_count": null,
      "metadata": {
        "id": "_GOd3AanmMdq",
        "outputId": "e05c6742-bb3f-4a48-c8b5-e4c9233358da"
      },
      "outputs": [
        {
          "data": {
            "text/html": [
              "<div>\n",
              "<style scoped>\n",
              "    .dataframe tbody tr th:only-of-type {\n",
              "        vertical-align: middle;\n",
              "    }\n",
              "\n",
              "    .dataframe tbody tr th {\n",
              "        vertical-align: top;\n",
              "    }\n",
              "\n",
              "    .dataframe thead th {\n",
              "        text-align: right;\n",
              "    }\n",
              "</style>\n",
              "<table border=\"1\" class=\"dataframe\">\n",
              "  <thead>\n",
              "    <tr style=\"text-align: right;\">\n",
              "      <th></th>\n",
              "      <th>Document №</th>\n",
              "      <th>MainTopic</th>\n",
              "      <th>PercContribution</th>\n",
              "      <th>Keywords</th>\n",
              "      <th>Text</th>\n",
              "    </tr>\n",
              "  </thead>\n",
              "  <tbody>\n",
              "    <tr>\n",
              "      <th>0</th>\n",
              "      <td>0</td>\n",
              "      <td>12.0</td>\n",
              "      <td>0.1867</td>\n",
              "      <td>[money, company, people, said, one, year, prod...</td>\n",
              "      <td>marc nohr marc nohr parttime boss means spend ...</td>\n",
              "    </tr>\n",
              "  </tbody>\n",
              "</table>\n",
              "</div>"
            ],
            "text/plain": [
              "   Document №  MainTopic  PercContribution  \\\n",
              "0           0       12.0            0.1867   \n",
              "\n",
              "                                            Keywords  \\\n",
              "0  [money, company, people, said, one, year, prod...   \n",
              "\n",
              "                                                Text  \n",
              "0  marc nohr marc nohr parttime boss means spend ...  "
            ]
          },
          "execution_count": 64,
          "metadata": {},
          "output_type": "execute_result"
        }
      ],
      "source": [
        "df[0:1]"
      ]
    },
    {
      "cell_type": "code",
      "execution_count": null,
      "metadata": {
        "id": "kU_xJNpRmMdq",
        "outputId": "19d3ae01-ef7a-46bf-f255-c2b121c9c840"
      },
      "outputs": [
        {
          "data": {
            "text/plain": [
              "'0.009*\"money\" + 0.008*\"company\" + 0.008*\"people\" + 0.008*\"said\" + 0.008*\"one\" + 0.008*\"year\" + 0.008*\"products\" + 0.007*\"also\" + 0.007*\"new\" + 0.006*\"online\"'"
            ]
          },
          "execution_count": 65,
          "metadata": {},
          "output_type": "execute_result"
        }
      ],
      "source": [
        "lda_model4.print_topic(12)"
      ]
    },
    {
      "cell_type": "markdown",
      "metadata": {
        "id": "uQIJaEw3mMdq"
      },
      "source": [
        "**Сходство категория-тема:**"
      ]
    },
    {
      "cell_type": "code",
      "execution_count": null,
      "metadata": {
        "id": "NiLl5YwwmMdq",
        "outputId": "b3cd58ae-479b-4083-aa67-476e81bc98fb"
      },
      "outputs": [
        {
          "name": "stdout",
          "output_type": "stream",
          "text": [
            "Similarity:  0.2243\n"
          ]
        }
      ],
      "source": [
        "similarity(vectorizerW2V, labels_w[0], df['Keywords'][0])"
      ]
    },
    {
      "cell_type": "markdown",
      "metadata": {
        "id": "38QlfcnMmMdr"
      },
      "source": [
        "В этом документе сходство уже больше, но всё равно в целом небольшое."
      ]
    },
    {
      "cell_type": "markdown",
      "metadata": {
        "id": "3qkycH_vmMdr"
      },
      "source": [
        "**Сходство теги-тема:**"
      ]
    },
    {
      "cell_type": "markdown",
      "metadata": {
        "id": "X-_aHaGBmMdr"
      },
      "source": [
        "Слова gig нет в словаре, поэтому вместо тега 'gig_economy', оставим 'economy'."
      ]
    },
    {
      "cell_type": "code",
      "execution_count": null,
      "metadata": {
        "id": "vOj10TgHmMdr",
        "outputId": "e525d00d-7959-4848-eaf3-1bfecf9f5d06"
      },
      "outputs": [
        {
          "name": "stdout",
          "output_type": "stream",
          "text": [
            "Similarity:  0.1256\n"
          ]
        }
      ],
      "source": [
        "similarity(vectorizerW2V, 'economy', df['Keywords'][0])"
      ]
    },
    {
      "cell_type": "code",
      "execution_count": null,
      "metadata": {
        "id": "W47JH8VsmMdr",
        "outputId": "b400777d-1cb9-4eb1-aeb5-e38b98f4fa7e"
      },
      "outputs": [
        {
          "name": "stdout",
          "output_type": "stream",
          "text": [
            "Similarity:  0.1273\n"
          ]
        }
      ],
      "source": [
        "similarity(vectorizerW2V, 'employment', df['Keywords'][0])"
      ]
    },
    {
      "cell_type": "markdown",
      "metadata": {
        "id": "Q8fk1t8bmMds"
      },
      "source": [
        "Близость тегов и темы также маленькая."
      ]
    },
    {
      "cell_type": "markdown",
      "metadata": {
        "id": "53mGdsACmMds"
      },
      "source": [
        "## Вывод\n",
        "\n",
        "Соответствие между темой документа, его категорией и тегами получилось не очень хорошее, хотя когерентность для 4 модели нормальная. Возможно стоит ещё обновить список стоп-слов, чтобы темы образовались более точными, т.е. в состав тем вошли наиболее четко определяющие схожие документы слова."
      ]
    },
    {
      "cell_type": "markdown",
      "metadata": {
        "id": "bCAxK7kumMds"
      },
      "source": [
        "# Часть 2. Классификация"
      ]
    },
    {
      "cell_type": "markdown",
      "metadata": {
        "id": "54ekiuOemMdt"
      },
      "source": [
        "## Подготовка данных"
      ]
    },
    {
      "cell_type": "markdown",
      "metadata": {
        "id": "C1sxXB-rmMdt"
      },
      "source": [
        "Переведём категории для будущих классификаторов в числовой формат."
      ]
    },
    {
      "cell_type": "code",
      "execution_count": null,
      "metadata": {
        "id": "G_9Uyo1jmMdt"
      },
      "outputs": [],
      "source": [
        "labels = [categories.index(lb) for lb in labels_w]"
      ]
    },
    {
      "cell_type": "markdown",
      "metadata": {
        "id": "pY-BTbMlmMdu"
      },
      "source": [
        "## Word2Vec"
      ]
    },
    {
      "cell_type": "markdown",
      "metadata": {
        "id": "LIS-7FkgmMdu"
      },
      "source": [
        "Векторизируем наши данные с помощью Word2Vec."
      ]
    },
    {
      "cell_type": "code",
      "execution_count": null,
      "metadata": {
        "id": "rj1_v1LImMdu"
      },
      "outputs": [],
      "source": [
        "def averageEmb(tokens_list, w2v_model, k=300):\n",
        "    if len(tokens_list)<1:\n",
        "        return np.zeros(k)\n",
        "    vectors = [w2v_model[word] if word in w2v_model else np.zeros(k) for word in tokens_list]\n",
        "    summed = np.sum(vectors, axis=0)\n",
        "    return np.divide(summed, len(vectors))\n",
        "\n",
        "def getW2Vembeddings(w2v_model, data):\n",
        "    embeddings = [averageEmb(x, w2v_model) for x in data]\n",
        "    return embeddings"
      ]
    },
    {
      "cell_type": "code",
      "execution_count": null,
      "metadata": {
        "id": "WFsAhaXbmMdu"
      },
      "outputs": [],
      "source": [
        "embeddings = getW2Vembeddings(vectorizerW2V, data_words)"
      ]
    },
    {
      "cell_type": "markdown",
      "metadata": {
        "id": "vEiJVldLmMdv"
      },
      "source": [
        "## Разделение на train/test\n",
        "\n",
        "Соотношение обучающей и тестовой выборок - 70% к 30%"
      ]
    },
    {
      "cell_type": "code",
      "execution_count": null,
      "metadata": {
        "id": "WO0eMGC6mMdv",
        "outputId": "3e5d3dfe-cbe8-45c8-a5a9-8e2eecc9128b"
      },
      "outputs": [
        {
          "name": "stdout",
          "output_type": "stream",
          "text": [
            "1250 1250 537 537\n"
          ]
        }
      ],
      "source": [
        "X_train, X_test, y_train, y_test = train_test_split(embeddings, labels, test_size=0.3, random_state=42)\n",
        "y_train = np.asarray(y_train)\n",
        "y_test = np.asarray(y_test)\n",
        "\n",
        "print(len(X_train), len(y_train), len(X_test), len(y_test))"
      ]
    },
    {
      "cell_type": "markdown",
      "metadata": {
        "id": "PfAhwdHZmMdv"
      },
      "source": [
        "Посмотрим сколько текстов каждой категории взято в набор train. И сверимся с его размером."
      ]
    },
    {
      "cell_type": "code",
      "execution_count": null,
      "metadata": {
        "id": "cm-amddRmMdw",
        "outputId": "79272f39-342e-47c8-ce75-fa1676edfc47"
      },
      "outputs": [
        {
          "name": "stdout",
          "output_type": "stream",
          "text": [
            "Class '0' samples N: 175\n",
            "Class '1' samples N: 58\n",
            "Class '2' samples N: 214\n",
            "Class '3' samples N: 140\n",
            "Class '4' samples N: 232\n",
            "Class '5' samples N: 431\n"
          ]
        }
      ],
      "source": [
        "for c in np.unique(np.asarray(y_train)):\n",
        "    print('Class \\'{}\\' samples N: {}'.format(c, np.asarray(y_train)[np.asarray(y_train) == c].shape[0]))"
      ]
    },
    {
      "cell_type": "markdown",
      "metadata": {
        "id": "1SfWq1vrmMdw"
      },
      "source": [
        "## Build Models\n",
        "\n",
        "Попробуем классификаторы, которые в прошлой лабораторной показали лучшие результаты.\n",
        "\n",
        "* **SVM**\n",
        "* **Random Forest**\n",
        "* **MLP** (Multi-layer Perceptron classifier)\n",
        "* **One-Vs-The-Rest**"
      ]
    },
    {
      "cell_type": "markdown",
      "metadata": {
        "id": "UuWogNGfmMdx"
      },
      "source": [
        "### Define classifiers:"
      ]
    },
    {
      "cell_type": "code",
      "execution_count": null,
      "metadata": {
        "id": "QfxnZiavmMdx"
      },
      "outputs": [],
      "source": [
        "predictor_svm = LinearSVC().fit(X_train, y_train)"
      ]
    },
    {
      "cell_type": "code",
      "execution_count": null,
      "metadata": {
        "id": "y5NGhdl1mMdy"
      },
      "outputs": [],
      "source": [
        "predictor_rf = RandomForestClassifier(n_estimators=100).fit(X_train, y_train)"
      ]
    },
    {
      "cell_type": "code",
      "execution_count": null,
      "metadata": {
        "id": "HyMHA3gTmMdy"
      },
      "outputs": [],
      "source": [
        "predictor_mlp = MLPClassifier(alpha=1, max_iter=1000).fit(X_train, y_train)"
      ]
    },
    {
      "cell_type": "code",
      "execution_count": null,
      "metadata": {
        "id": "Nc1KevJJmMdz"
      },
      "outputs": [],
      "source": [
        "predictor_oneVSall = OneVsRestClassifier(LinearSVC(), n_jobs=-1).fit(X_train, y_train)"
      ]
    },
    {
      "cell_type": "markdown",
      "metadata": {
        "id": "NBroC3SsmMdz"
      },
      "source": [
        "### Evaluate Classifiers:"
      ]
    },
    {
      "cell_type": "code",
      "execution_count": null,
      "metadata": {
        "id": "n99EyEzWmMdz",
        "outputId": "56cf4664-a615-4e6a-b1da-4d2efb5c2b9f"
      },
      "outputs": [
        {
          "name": "stdout",
          "output_type": "stream",
          "text": [
            "SVM accuracy: 0.88%\n"
          ]
        }
      ],
      "source": [
        "y_pred_svm = predictor_svm.predict(X_test)\n",
        "print('SVM accuracy: {}%'.format(round(np.mean(y_test == y_pred_svm), 2)))"
      ]
    },
    {
      "cell_type": "markdown",
      "metadata": {
        "id": "MLPOXCzimMd0"
      },
      "source": [
        "Попытаемся улучшить точность, подобрав параметры."
      ]
    },
    {
      "cell_type": "code",
      "execution_count": null,
      "metadata": {
        "id": "LvlzEMmOmMd0"
      },
      "outputs": [],
      "source": [
        "param_grid = {'svc__C': [0.001, 0.01, 0.1, 1, 10, 100, 1000], 'svc__gamma' : [0.01, 0.1, 1]}\n",
        "svm_gs = GridSearchCV(make_pipeline(MinMaxScaler(), SVC(kernel='rbf')),\n",
        "                      param_grid, n_jobs=-1)\n",
        "svmg_gs = svm_gs.fit(X_train, y_train)"
      ]
    },
    {
      "cell_type": "code",
      "execution_count": null,
      "metadata": {
        "id": "o6oRfQu9mMd1",
        "outputId": "549e8e32-a795-4afa-90c9-9a5902a50a37"
      },
      "outputs": [
        {
          "data": {
            "text/plain": [
              "{'svc__C': 10, 'svc__gamma': 0.1}"
            ]
          },
          "execution_count": 112,
          "metadata": {},
          "output_type": "execute_result"
        }
      ],
      "source": [
        "svm_gs.best_params_"
      ]
    },
    {
      "cell_type": "code",
      "execution_count": null,
      "metadata": {
        "id": "6ztz0d2zmMd1",
        "outputId": "7d52a837-a521-44af-b2d1-d5228c3686aa"
      },
      "outputs": [
        {
          "data": {
            "text/plain": [
              "0.9216000000000001"
            ]
          },
          "execution_count": 113,
          "metadata": {},
          "output_type": "execute_result"
        }
      ],
      "source": [
        "svm_gs.best_score_"
      ]
    },
    {
      "cell_type": "markdown",
      "metadata": {
        "id": "_GLW7Ex5mMd1"
      },
      "source": [
        "Построим новый классификатор SVM с лучшими параметрами."
      ]
    },
    {
      "cell_type": "code",
      "execution_count": null,
      "metadata": {
        "id": "zjanr1YkmMd1",
        "outputId": "abfd1609-4512-4fc1-fa13-67997155d535"
      },
      "outputs": [
        {
          "name": "stdout",
          "output_type": "stream",
          "text": [
            "SVM accuracy: 0.91%\n"
          ]
        }
      ],
      "source": [
        "predictor_svm2 = make_pipeline(MinMaxScaler(), SVC(kernel='rbf', C=10, gamma=0.1)).fit(X_train, y_train)\n",
        "y_pred_svm2 = predictor_svm2.predict(X_test)\n",
        "print('SVM accuracy: {}%'.format(round(np.mean(y_test == y_pred_svm2), 2)))"
      ]
    },
    {
      "cell_type": "markdown",
      "metadata": {
        "id": "fmAC9KBemMd2"
      },
      "source": [
        "Точность стала выше."
      ]
    },
    {
      "cell_type": "code",
      "execution_count": null,
      "metadata": {
        "id": "cQU2yamnmMd2",
        "outputId": "097780e5-0af5-41d0-fc8b-8b22dd96bfc6"
      },
      "outputs": [
        {
          "name": "stdout",
          "output_type": "stream",
          "text": [
            "RF accuracy: 0.9%\n"
          ]
        }
      ],
      "source": [
        "y_pred_rf = predictor_rf.predict(X_test)\n",
        "print('RF accuracy: {}%'.format(round(np.mean(y_test == y_pred_rf), 2)))"
      ]
    },
    {
      "cell_type": "markdown",
      "metadata": {
        "id": "X2oJTZNWmMd2"
      },
      "source": [
        "Попытаемся улучшить точность, подобрав параметры."
      ]
    },
    {
      "cell_type": "code",
      "execution_count": null,
      "metadata": {
        "id": "88ox8IummMd2"
      },
      "outputs": [],
      "source": [
        "distr = {\n",
        "    'n_estimators': [50, 100, 200, 500, 1000],\n",
        "    'max_depth': [10, 20, 40, 50],\n",
        "    'max_features': [\"auto\", \"sqrt\", \"log2\", None]\n",
        "}\n",
        "rf_gs = RandomizedSearchCV(RandomForestClassifier(n_jobs=-1), n_iter=100, \n",
        "                           param_distributions=distr, n_jobs=-1)"
      ]
    },
    {
      "cell_type": "code",
      "execution_count": null,
      "metadata": {
        "id": "PyEXBiGumMd3"
      },
      "outputs": [],
      "source": [
        "rf_gs = rf_gs.fit(X_train, y_train)"
      ]
    },
    {
      "cell_type": "code",
      "execution_count": null,
      "metadata": {
        "id": "PPQFk263mMd3",
        "outputId": "b432d2bb-3f67-45cf-92c2-a9595db7f41e"
      },
      "outputs": [
        {
          "data": {
            "text/plain": [
              "{'n_estimators': 500, 'max_features': 'sqrt', 'max_depth': 40}"
            ]
          },
          "execution_count": 84,
          "metadata": {},
          "output_type": "execute_result"
        }
      ],
      "source": [
        "rf_gs.best_params_"
      ]
    },
    {
      "cell_type": "code",
      "execution_count": null,
      "metadata": {
        "id": "DwTqktJXmMd3",
        "outputId": "1efd610d-ce1a-447b-a084-0b5699a7dea9"
      },
      "outputs": [
        {
          "data": {
            "text/plain": [
              "0.8976000000000001"
            ]
          },
          "execution_count": 85,
          "metadata": {},
          "output_type": "execute_result"
        }
      ],
      "source": [
        "rf_gs.best_score_"
      ]
    },
    {
      "cell_type": "markdown",
      "metadata": {
        "id": "SL-yb562mMd4"
      },
      "source": [
        "Построим новый классификатор RandomForest с лучшими параметрами."
      ]
    },
    {
      "cell_type": "code",
      "execution_count": null,
      "metadata": {
        "id": "MS3a71gUmMd4",
        "outputId": "c0878920-f048-4351-bd73-714e3f6df24c"
      },
      "outputs": [
        {
          "name": "stdout",
          "output_type": "stream",
          "text": [
            "RF accuracy: 0.89%\n"
          ]
        }
      ],
      "source": [
        "predictor_rf2 = RandomForestClassifier(n_estimators=500, max_depth=40, max_features=\"sqrt\").fit(X_train, y_train)\n",
        "y_pred_rf2 = predictor_rf2.predict(X_test)\n",
        "print('RF accuracy: {}%'.format(round(np.mean(y_test == y_pred_rf2), 2)))"
      ]
    },
    {
      "cell_type": "markdown",
      "metadata": {
        "id": "5EBTgpBqmMd4"
      },
      "source": [
        "Точность не увеличилась."
      ]
    },
    {
      "cell_type": "code",
      "execution_count": null,
      "metadata": {
        "id": "buVesHvYmMd4",
        "outputId": "e9117e60-5b44-4462-d429-c3a7a5b801e7"
      },
      "outputs": [
        {
          "name": "stdout",
          "output_type": "stream",
          "text": [
            "MLP accuracy: 0.82%\n"
          ]
        }
      ],
      "source": [
        "y_pred_mlp = predictor_mlp.predict(X_test)\n",
        "print('MLP accuracy: {}%'.format(round(np.mean(y_test == y_pred_mlp), 2)))"
      ]
    },
    {
      "cell_type": "code",
      "execution_count": null,
      "metadata": {
        "id": "0CFTswI_mMd5",
        "outputId": "9563c526-7795-4d1e-b989-c39ae03dc733"
      },
      "outputs": [
        {
          "name": "stdout",
          "output_type": "stream",
          "text": [
            "One-VS-all accuracy: 0.88%\n"
          ]
        }
      ],
      "source": [
        "y_pred_onevsall = predictor_oneVSall.predict(X_test)\n",
        "print('One-VS-all accuracy: {}%'.format(round(np.mean(y_test == y_pred_onevsall), 2)))"
      ]
    },
    {
      "cell_type": "markdown",
      "metadata": {
        "id": "7t6myhy7mMd5"
      },
      "source": [
        "Лучшая модель - **SVM**, c точностью предсказания **91%**."
      ]
    },
    {
      "cell_type": "markdown",
      "metadata": {
        "id": "tgu2csuJmMd5"
      },
      "source": [
        "### Confusion Matrices"
      ]
    },
    {
      "cell_type": "markdown",
      "metadata": {
        "id": "3_WNqozBmMd6"
      },
      "source": [
        "Теперь для 3 классификаторов, с наибольшей точностью, построим нормализированную confusion matrix, чтобы посмотреть соотношение правильно и не правильно предсказанных категорий (какие категории путаются между собой)."
      ]
    },
    {
      "cell_type": "code",
      "execution_count": null,
      "metadata": {
        "id": "IjpGZMKOmMd6"
      },
      "outputs": [],
      "source": [
        "def ConfMatr(classifier, name_pr):\n",
        "    title = name_pr + ' Confusion Matrix'\n",
        "    fig, ax = plt.subplots(figsize=(15,15))\n",
        "    disp = plot_confusion_matrix(classifier, X_test, y_test,\n",
        "                                     display_labels=categories,\n",
        "                                     cmap=plt.cm.BuPu,\n",
        "                                     normalize='true',\n",
        "                                    xticks_rotation='vertical',\n",
        "                                    ax=ax)\n",
        "    disp.ax_.set_title(title)"
      ]
    },
    {
      "cell_type": "code",
      "execution_count": null,
      "metadata": {
        "id": "gnFCYx3SmMd6",
        "outputId": "bd4617d3-51be-4c1a-a3a6-b80ce4f85201"
      },
      "outputs": [
        {
          "data": {
            "image/png": "[encoded data removed]",
            "text/plain": [
              "<Figure size 1080x1080 with 2 Axes>"
            ]
          },
          "metadata": {
            "needs_background": "light"
          },
          "output_type": "display_data"
        }
      ],
      "source": [
        "ConfMatr(predictor_svm2, 'SVM')"
      ]
    },
    {
      "cell_type": "markdown",
      "metadata": {
        "id": "NPJABShrmMd6"
      },
      "source": [
        "Категория health имеет меньше всего правильных предсказаний, она путается в 12% случаев с категорией uk."
      ]
    },
    {
      "cell_type": "code",
      "execution_count": null,
      "metadata": {
        "id": "nx3zoXc-mMd6",
        "outputId": "5d3e0140-d56c-404a-c5fe-c65a4e5aafc2"
      },
      "outputs": [
        {
          "data": {
            "image/png": "[encoded data removed]",
            "text/plain": [
              "<Figure size 1080x1080 with 2 Axes>"
            ]
          },
          "metadata": {
            "needs_background": "light"
          },
          "output_type": "display_data"
        }
      ],
      "source": [
        "ConfMatr(predictor_rf, 'RF')"
      ]
    },
    {
      "cell_type": "markdown",
      "metadata": {
        "id": "Cm4uWeh8mMd7"
      },
      "source": [
        "Больше всего путается категория health с категорией world, что вполне естественно, учитывая текущую ситуацию в мире, связанную с вспышкой вируса."
      ]
    },
    {
      "cell_type": "code",
      "execution_count": null,
      "metadata": {
        "id": "_Uq79Z6pmMd7",
        "outputId": "113666fb-1bae-4922-a845-067163c99a68"
      },
      "outputs": [
        {
          "data": {
            "image/png": "[encoded data removed]",
            "text/plain": [
              "<Figure size 1080x1080 with 2 Axes>"
            ]
          },
          "metadata": {
            "needs_background": "light"
          },
          "output_type": "display_data"
        }
      ],
      "source": [
        "ConfMatr(predictor_oneVSall, 'one-VS-all SVM')"
      ]
    },
    {
      "cell_type": "markdown",
      "metadata": {
        "id": "ZMO7_e5CmMd7"
      },
      "source": [
        "Категория sport определяется абсолютно точно. Категория health имеет меньше всего правильных предсказаний."
      ]
    },
    {
      "cell_type": "markdown",
      "metadata": {
        "id": "yjwITl7JmMd7"
      },
      "source": [
        "### Feature Importances:\n",
        "\n",
        "Теперь попробуем выявить наиболее важные признаки на основе лесов из деревьев."
      ]
    },
    {
      "cell_type": "code",
      "execution_count": null,
      "metadata": {
        "id": "xl2EFjccmMd8",
        "outputId": "7630f9e3-e56a-4095-9893-7d495dc84321"
      },
      "outputs": [
        {
          "data": {
            "image/png": "[encoded data removed]",
            "text/plain": [
              "<Figure size 1080x360 with 1 Axes>"
            ]
          },
          "metadata": {
            "needs_background": "light"
          },
          "output_type": "display_data"
        }
      ],
      "source": [
        "plt.figure(figsize=(15, 5))\n",
        "plt.hist(predictor_rf.feature_importances_, bins=100)\n",
        "plt.grid(True)"
      ]
    },
    {
      "cell_type": "markdown",
      "metadata": {
        "id": "v3YqX4GJmMd8"
      },
      "source": [
        "Частота не всегда убывает, а скачет, наиболее информативные признаки идут вперемешку."
      ]
    },
    {
      "cell_type": "markdown",
      "metadata": {
        "id": "WB25cOU9mMd8"
      },
      "source": [
        "### Create feature selector:"
      ]
    },
    {
      "cell_type": "markdown",
      "metadata": {
        "id": "BQ1wmKMpmMd8"
      },
      "source": [
        "Попробуем отобрать 1000 признаков и посмотреть улучшится ли результат."
      ]
    },
    {
      "cell_type": "code",
      "execution_count": null,
      "metadata": {
        "id": "xrnpAq0tmMd9",
        "outputId": "f515cb38-416c-4e98-8d18-e969e411a52f"
      },
      "outputs": [
        {
          "name": "stdout",
          "output_type": "stream",
          "text": [
            "(1250, 88) (537, 88)\n"
          ]
        }
      ],
      "source": [
        "feature_selector = SelectFromModel(RandomForestClassifier(n_estimators=1000)).fit(X_train, y_train)\n",
        "X_train_transformed = feature_selector.transform(X_train)\n",
        "X_test_transformed = feature_selector.transform(X_test)\n",
        "print(X_train_transformed.shape, X_test_transformed.shape)"
      ]
    },
    {
      "cell_type": "code",
      "execution_count": null,
      "metadata": {
        "id": "Rkgqv7enmMd9",
        "outputId": "128596ef-098c-4429-800c-0c20aef3e8d2"
      },
      "outputs": [
        {
          "name": "stdout",
          "output_type": "stream",
          "text": [
            "SVM accuracy: 0.85%\n"
          ]
        }
      ],
      "source": [
        "predictor_svm_ = make_pipeline(MinMaxScaler(), SVC(kernel='rbf', C=10, gamma=0.1)).fit(X_train_transformed, y_train)\n",
        "y_pred_svm_ = predictor_svm_.predict(X_test_transformed)\n",
        "print('SVM accuracy: {}%'.format(round(np.mean(y_test == y_pred_svm_), 2)))"
      ]
    },
    {
      "cell_type": "markdown",
      "metadata": {
        "id": "7VnuP3rcmMd9"
      },
      "source": [
        "Точность уменьшилась, т.к. важные признаки всё таки смешаны."
      ]
    },
    {
      "cell_type": "markdown",
      "metadata": {
        "id": "MuPd9ktymMd9"
      },
      "source": [
        "### Metrics\n",
        "\n",
        "Посчитаем разные метрики для лучшего классификатора."
      ]
    },
    {
      "cell_type": "code",
      "execution_count": null,
      "metadata": {
        "id": "bMY6fN2nmMd9"
      },
      "outputs": [],
      "source": [
        "def get_metrics(y_test, y_predicted):  \n",
        "    precision = precision_score(y_test, y_predicted, pos_label=None, average='weighted')             \n",
        "    recall = recall_score(y_test, y_predicted, pos_label=None, average='weighted')\n",
        "    f1 = f1_score(y_test, y_predicted, pos_label=None, average='weighted')\n",
        "    print(\"Precision = %.2f, Recall = %.2f, F1 = %.2f\" % (precision, recall, f1))"
      ]
    },
    {
      "cell_type": "code",
      "execution_count": null,
      "metadata": {
        "id": "AexVBFTAmMd-",
        "outputId": "0410a8bb-0173-431e-ce20-e66fe8dea324"
      },
      "outputs": [
        {
          "name": "stdout",
          "output_type": "stream",
          "text": [
            "Precision = 0.92, Recall = 0.91, F1 = 0.91\n"
          ]
        }
      ],
      "source": [
        "get_metrics(y_test, y_pred_svm2)"
      ]
    },
    {
      "cell_type": "markdown",
      "metadata": {
        "id": "yHAa6Wh_mMd-"
      },
      "source": [
        "Классификатору можно доверять и его полнота 91%."
      ]
    },
    {
      "cell_type": "markdown",
      "metadata": {
        "id": "jk0gBiQ_mMd-"
      },
      "source": [
        "##  Doc2Vec"
      ]
    },
    {
      "cell_type": "markdown",
      "metadata": {
        "id": "7NaDfm_6mMd-"
      },
      "source": [
        "#### Подготовим данные."
      ]
    },
    {
      "cell_type": "code",
      "execution_count": null,
      "metadata": {
        "id": "9aAgL6sgmMd-"
      },
      "outputs": [],
      "source": [
        "def tokenize_text(text):\n",
        "    tokens = []\n",
        "    for sent in nltk.sent_tokenize(text):\n",
        "        for word in nltk.word_tokenize(sent):\n",
        "            if len(word) < 2:\n",
        "                continue\n",
        "            tokens.append(word.lower())\n",
        "    return tokens"
      ]
    },
    {
      "cell_type": "markdown",
      "metadata": {
        "id": "5vOwKzssmMd_"
      },
      "source": [
        "Пометим каждый текст своей категорией."
      ]
    },
    {
      "cell_type": "code",
      "execution_count": null,
      "metadata": {
        "id": "FCxhSUjbmMd_"
      },
      "outputs": [],
      "source": [
        "train_documents=[]\n",
        "test_documents=[]\n",
        "for i in range(len(preproc_catalog)):\n",
        "    if i<1250:\n",
        "        train_documents.append(TaggedDocument(words=tokenize_text(preproc_catalog[i]['text']), tags=[preproc_catalog[i]['category']]))\n",
        "for i in range(len(preproc_catalog)):\n",
        "    if i>=1250:\n",
        "        test_documents.append( TaggedDocument(words=tokenize_text(preproc_catalog[i]['text']), tags=[preproc_catalog[i]['category']]))"
      ]
    },
    {
      "cell_type": "code",
      "execution_count": null,
      "metadata": {
        "scrolled": true,
        "id": "3nbcccv9mMd_",
        "outputId": "225c8108-ee39-48bf-802f-af808a6c4a83"
      },
      "outputs": [
        {
          "data": {
            "text/plain": [
              "TaggedDocument(words=['device', 'living', 'limbo', 'assams', 'four', 'million', 'unwanted', 'india', 'published', 'list', 'effectively', 'strips', 'four', 'million', 'people', 'northeastern', 'state', 'assam', 'citizenship', 'national', 'register', 'citizens', 'nrc', 'list', 'people', 'prove', 'came', 'state', 'march', 'day', 'neighbouring', 'bangladesh', 'declared', 'independence', 'india', 'says', 'process', 'needed', 'identify', 'illegal', 'bangladeshi', 'migrants', 'sparked', 'fears', 'witch', 'hunt', 'assams', 'ethnic', 'minorities', 'fearing', 'violence', 'officials', 'say', 'noone', 'face', 'immediate', 'deportation', 'say', 'lengthy', 'appeal', 'process', 'available', 'even', 'means', 'millions', 'families', 'live', 'limbo', 'get', 'final', 'decision', 'legal', 'status', 'affected', 'millions', 'people', 'fled', 'neighbouring', 'india', 'bangladesh', 'declared', 'independent', 'country', 'pakistan', 'march', 'sparking', 'bitter', 'war', 'many', 'refugees', 'settled', 'assam', 'assam', 'accord', 'agreement', 'signed', 'pm', 'rajiv', 'gandhi', 'can', 'not', 'prove', 'came', 'northeastern', 'state', 'march', 'deleted', 'electoral', 'rolls', 'expelled', 'considered', 'legitimate', 'citizens', 'million', 'people', 'submitted', 'documents', 'nrc', 'prove', 'citizens', 'four', 'million', 'excluded', 'published', 'list', 'many', 'bengalis', 'linguistic', 'minority', 'assam', 'worried', 'deported', 'en', 'masse', 'hasitun', 'nissa', 'spoke', 'bbcs', 'joe', 'miller', 'days', 'list', 'published', 'said', 'never', 'known', 'home', 'outside', 'states', 'floodplains', 'schoolteacher', 'spent', 'childhood', 'studied', 'got', 'married', 'four', 'children', 'said', 'family', 'arrived', 'india', 'expected', 'stripped', 'indian', 'citizenship', 'feared', 'land', 'rights', 'voting', 'rights', 'freedom', 'would', 'peril', 'four', 'million', 'people', 'excluded', 'list', 'throws', 'citizenship', 'doubt', 'bengalis', 'targeted', 'activists', 'say', 'nrc', 'used', 'pretext', 'twopronged', 'attack', 'hindu', 'nationalists', 'assamese', 'hardliners', 'states', 'bengali', 'community', 'large', 'portion', 'muslims', 'like', 'hasitun', 'many', 'bengalis', 'live', 'wetlands', 'dotted', 'along', 'bramaputra', 'river', 'moving', 'around', 'water', 'levels', 'rise', 'paperwork', 'exists', 'often', 'inaccurate', 'officials', 'claim', 'illegal', 'bangladeshis', 'enmeshed', 'bengali', 'population', 'often', 'hiding', 'plain', 'sight', 'forged', 'papers', 'thorough', 'examination', 'documents', 'way', 'find', 'bengali', 'campaigner', 'nazrul', 'ali', 'ahmed', 'adamant', 'nrc', 'serving', 'another', 'agenda', 'entirely', 'nothing', 'conspiracy', 'commit', 'atrocities', 'told', 'bbc', 'openly', 'threatening', 'get', 'rid', 'muslims', 'happened', 'rohingya', 'myanmar', 'could', 'happen', 'us', 'alarming', 'comparisons', 'dismissed', 'prime', 'minister', 'narendra', 'modis', 'government', 'emphasises', 'nrc', 'apolitical', 'task', 'overseen', 'countrys', 'secular', 'supreme', 'court', 'next', 'stateless', 'soutik', 'biswas', 'bbc', 'news', 'delhi', 'latest', 'move', 'make', 'millions', 'people', 'stateless', 'overnight', 'sparked', 'fears', 'violence', 'already', 'tinderbox', 'state', 'narendra', 'modis', 'hindu', 'nationalist', 'bharatiya', 'janata', 'party', 'bjp', 'rules', 'state', 'insisted', 'past', 'illegal', 'muslim', 'immigrants', 'deported', 'neighbouring', 'bangladesh', 'definitely', 'accede', 'request', 'chances', 'india', 'end', 'creating', 'newest', 'cohort', 'stateless', 'people', 'raising', 'spectre', 'homegrown', 'crisis', 'echo', 'rohingya', 'people', 'fled', 'myanmar', 'bangladesh', 'human', 'rights', 'organisations', 'began', 'express', 'concern', 'civil', 'servant', 'charge', 'nrc', 'prateek', 'hajela', 'released', 'statement', 'stressing', 'law', 'required', 'make', 'differentiation', 'basis', 'religion', 'language', 'determining', 'citizenship', 'correspondents', 'say', 'prime', 'minister', 'never', 'shy', 'expressing', 'preference', 'hindu', 'bangladeshi', 'migrants', 'says', 'embraced', 'india', 'infiltrators', 'mr', 'modi', 'told', 'crowd', 'would', 'deported', 'activists', 'allege', 'list', 'conspiracy', 'commit', 'atrocities', 'bharatiya', 'janata', 'party', 'bjp', 'considering', 'bill', 'would', 'enshrine', 'rights', 'hindu', 'migrants', 'law', 'indeed', 'promotional', 'song', 'posted', 'facebook', 'nrc', 'little', 'calm', 'nerves', 'worried', 'hindu', 'nationalist', 'witch', 'hunt', 'new', 'revolution', 'defeat', 'alien', 'enemy', 'beckoning', 'young', 'woman', 'sings', 'bravely', 'let', 'us', 'shield', 'motherland', 'definitely', 'deportations', 'siddhartha', 'bhattacharya', 'assams', 'law', 'minister', 'member', 'bjp', 'doubt', 'fate', 'rejected', 'everyone', 'given', 'right', 'prove', 'citizenship', 'told', 'bbc', 'fail', 'well', 'legal', 'system', 'take', 'course', 'mr', 'bhattacharya', 'clarified', 'would', 'mean', 'expulsion', 'india', 'questions', 'identity', 'citizenship', 'long', 'vexed', 'vast', 'number', 'people', 'living', 'assam', 'present', 'correspondents', 'say', 'seems', 'little', 'threat', 'aimed', 'whipping', 'hindu', 'support', 'bjp', 'ahead', 'elections', 'deportation', 'procedures', 'put', 'place', 'bangladesh', 'already', 'burdened', 'rohingya', 'crisis', 'shown', 'sign', 'open', 'accepting', 'raft', 'new', 'refugees', 'nonetheless', 'campaigners', 'like', 'samujjal', 'bhattacharyya', 'say', 'something', 'must', 'done', 'organisation', 'assam', 'students', 'union', 'agitating', 'expulsion', 'illegal', 'bangladeshis', 'regardless', 'religion', 'decades', 'deportations', 'dont', 'happen', 'says', 'illegal', 'foreigner', 'intrude', 'upon', 'corridor', 'power', 'prepared', 'secondclass', 'citizens', 'hasitun', 'nissa', 'takes', 'rhetoric', 'seriously', 'never', 'harmed', 'hindus', 'live', 'peacefully', 'sidebyside', 'says', 'fear', 'bad', 'news', 'come'], tags=['world'])"
            ]
          },
          "execution_count": 68,
          "metadata": {},
          "output_type": "execute_result"
        }
      ],
      "source": [
        "train_documents[0]"
      ]
    },
    {
      "cell_type": "code",
      "execution_count": null,
      "metadata": {
        "id": "HHym8EKzmMd_",
        "outputId": "5a15b38b-c083-4364-f173-8418cec759de"
      },
      "outputs": [
        {
          "data": {
            "text/plain": [
              "TaggedDocument(words=['motheroftwo', 'among', 'britons', 'quarantined', 'coronavirushit', 'hotel', 'tenerife', 'says', 'family', 'feel', 'unsafe', 'left', 'rooms', 'lara', 'pennington', 'staying', 'lockeddown', 'costa', 'adeje', 'palace', 'hotel', 'two', 'young', 'children', 'elderly', 'parentsinlaw', 'says', 'put', 'risk', 'leave', 'rooms', 'believes', 'quarantine', 'rules', 'enforced', 'followed', 'guests'], tags=['world'])"
            ]
          },
          "execution_count": 71,
          "metadata": {},
          "output_type": "execute_result"
        }
      ],
      "source": [
        "test_documents[0]"
      ]
    },
    {
      "cell_type": "markdown",
      "metadata": {
        "id": "-V3eGtyomMeA"
      },
      "source": [
        "#### Обучим Doc2Vec модель."
      ]
    },
    {
      "cell_type": "code",
      "execution_count": null,
      "metadata": {
        "id": "ru1CZ8i2mMeA",
        "outputId": "5d3a3a5c-3e73-4f19-c20f-7de591782811"
      },
      "outputs": [
        {
          "name": "stderr",
          "output_type": "stream",
          "text": [
            "100%|██████████████████████████████████████████████████████████████████████████| 1250/1250 [00:00<00:00, 771011.76it/s]\n"
          ]
        }
      ],
      "source": [
        "cores = multiprocessing.cpu_count()\n",
        "\n",
        "model_dbow = Doc2Vec(dm=1, vector_size=300, negative=5, hs=0, min_count=2, sample = 0, workers=cores, alpha=0.025, min_alpha=0.001)\n",
        "model_dbow.build_vocab([x for x in tqdm(train_documents)])\n",
        "train_documents  = utils.shuffle(train_documents)\n",
        "model_dbow.train(train_documents,total_examples=len(train_documents), epochs=30)"
      ]
    },
    {
      "cell_type": "code",
      "execution_count": null,
      "metadata": {
        "id": "3sBECp7zmMeA"
      },
      "outputs": [],
      "source": [
        "def vector_for_learning(model, input_docs):\n",
        "    sents = input_docs\n",
        "    targets, feature_vectors = zip(*[(doc.tags[0], model.infer_vector(doc.words, steps=20)) for doc in sents])\n",
        "    return targets, feature_vectors\n",
        "model_dbow.save('./Model.d2v')"
      ]
    },
    {
      "cell_type": "markdown",
      "metadata": {
        "id": "-OstczgYmMeB"
      },
      "source": [
        "#### Получим train и test выборки."
      ]
    },
    {
      "cell_type": "code",
      "execution_count": null,
      "metadata": {
        "id": "FSR_FSu5mMeB"
      },
      "outputs": [],
      "source": [
        "y_train, X_train = vector_for_learning(model_dbow, train_documents)\n",
        "y_test, X_test = vector_for_learning(model_dbow, test_documents)"
      ]
    },
    {
      "cell_type": "markdown",
      "metadata": {
        "id": "zSwwwY1umMeB"
      },
      "source": [
        "### Классификация"
      ]
    },
    {
      "cell_type": "markdown",
      "metadata": {
        "id": "xFXyHNV5mMeC"
      },
      "source": [
        "Опробуем те же модели классификации на данных, векторизованных с помощью Doc2Vec."
      ]
    },
    {
      "cell_type": "code",
      "execution_count": null,
      "metadata": {
        "id": "V27GdtqomMeC",
        "outputId": "71dcc467-43fa-494b-ee12-abf818a4b873"
      },
      "outputs": [
        {
          "name": "stdout",
          "output_type": "stream",
          "text": [
            "RF accuracy: 0.9\n"
          ]
        }
      ],
      "source": [
        "predict_rf = RandomForestClassifier(n_estimators=500, max_depth=40, max_features=\"sqrt\").fit(X_train, y_train)\n",
        "y_pred_rf = predict_rf.predict(X_test)\n",
        "print('RF accuracy: {}'.format(round(np.mean(y_test == y_pred_rf), 2)))"
      ]
    },
    {
      "cell_type": "code",
      "execution_count": null,
      "metadata": {
        "id": "w-Yo58UmmMeC",
        "outputId": "dd64ab1b-6fbc-4864-d0d6-de1360d7d485"
      },
      "outputs": [
        {
          "name": "stdout",
          "output_type": "stream",
          "text": [
            "SVM accuracy: 0.91\n"
          ]
        }
      ],
      "source": [
        "predict_svm = LinearSVC().fit(X_train, y_train)\n",
        "y_pred = predict_svm.predict(X_test)\n",
        "print('SVM accuracy: {}'.format(round(np.mean(y_test == y_pred), 2)))"
      ]
    },
    {
      "cell_type": "code",
      "execution_count": null,
      "metadata": {
        "id": "aS-t3gXlmMeD",
        "outputId": "7fb95078-eb9a-4451-fe2c-1c2247fd812f"
      },
      "outputs": [
        {
          "name": "stdout",
          "output_type": "stream",
          "text": [
            "MLP accuracy: 0.92\n"
          ]
        }
      ],
      "source": [
        "predict_mlp = MLPClassifier(alpha=1, max_iter=1000).fit(X_train, y_train)\n",
        "y_pred_mlp = predict_mlp.predict(X_test)\n",
        "print('MLP accuracy: {}'.format(round(np.mean(y_test == y_pred_mlp), 2)))"
      ]
    },
    {
      "cell_type": "code",
      "execution_count": null,
      "metadata": {
        "id": "sFgrqfR4mMeE",
        "outputId": "2e82d278-af20-40b9-f5a5-b479631c33e2"
      },
      "outputs": [
        {
          "name": "stdout",
          "output_type": "stream",
          "text": [
            "One-VS-all accuracy: 0.91\n"
          ]
        }
      ],
      "source": [
        "predict_oneVSall = OneVsRestClassifier(LinearSVC(), n_jobs=-1).fit(X_train, y_train)\n",
        "y_pred_onevsall = predict_oneVSall.predict(X_test)\n",
        "print('One-VS-all accuracy: {}'.format(round(np.mean(y_test == y_pred_onevsall), 2)))"
      ]
    },
    {
      "cell_type": "markdown",
      "metadata": {
        "id": "P6JAqdpQmMeE"
      },
      "source": [
        "Удалось повысить прошлую лучшую точность до **92%**, с помощью **MLP** классификатора."
      ]
    },
    {
      "cell_type": "markdown",
      "metadata": {
        "id": "6xzE3wUDmMeF"
      },
      "source": [
        "#### Построим confusion matrixes"
      ]
    },
    {
      "cell_type": "code",
      "execution_count": null,
      "metadata": {
        "id": "DTSHUY-ZmMeF",
        "outputId": "4467d630-d937-4d19-acd8-47f169031c3f"
      },
      "outputs": [
        {
          "data": {
            "image/png": "[encoded data removed]",
            "text/plain": [
              "<Figure size 1080x1080 with 2 Axes>"
            ]
          },
          "metadata": {
            "needs_background": "light"
          },
          "output_type": "display_data"
        }
      ],
      "source": [
        "ConfMatr(predict_svm, 'SVM')"
      ]
    },
    {
      "cell_type": "code",
      "execution_count": null,
      "metadata": {
        "id": "19eG8WgZmMeG",
        "outputId": "4ccc8918-f5ce-4dd0-c1c2-b87f490d8b46"
      },
      "outputs": [
        {
          "data": {
            "image/png": "[encoded data removed]",
            "text/plain": [
              "<Figure size 1080x1080 with 2 Axes>"
            ]
          },
          "metadata": {
            "needs_background": "light"
          },
          "output_type": "display_data"
        }
      ],
      "source": [
        "ConfMatr(predict_rf, 'RF')"
      ]
    },
    {
      "cell_type": "code",
      "execution_count": null,
      "metadata": {
        "id": "NQpmiVwzmMeG",
        "outputId": "1a789491-e7d9-4d11-8b7c-b65338eb1e09"
      },
      "outputs": [
        {
          "data": {
            "image/png": "[encoded data removed]",
            "text/plain": [
              "<Figure size 1080x1080 with 2 Axes>"
            ]
          },
          "metadata": {
            "needs_background": "light"
          },
          "output_type": "display_data"
        }
      ],
      "source": [
        "ConfMatr(predict_mlp, 'MLP')"
      ]
    },
    {
      "cell_type": "markdown",
      "metadata": {
        "id": "CQvtJUBVmMeG"
      },
      "source": [
        "Три модели, для которых были построены матрицы ошибок, верно классифицировали почти все темы.\n",
        "\n",
        "## Вывод\n",
        "\n",
        "С помощью модели векторизации слов - Word2Vec, удалось увеличить точность предсказаний классификатора, по сравнению с предыдущей лабораторной работой. Конечно размер датасета ещё увеличился. Лучшая точность составила в этом случае 91%. А, используя Doc2Vec, точность удалось увеличить до 92%."
      ]
    }
  ],
  "metadata": {
    "kernelspec": {
      "display_name": "Python 3",
      "language": "python",
      "name": "python3"
    },
    "language_info": {
      "codemirror_mode": {
        "name": "ipython",
        "version": 3
      },
      "file_extension": ".py",
      "mimetype": "text/x-python",
      "name": "python",
      "nbconvert_exporter": "python",
      "pygments_lexer": "ipython3",
      "version": "3.7.4"
    },
    "colab": {
      "name": "LDA, word2vec, texts classification.ipynb",
      "provenance": []
    }
  },
  "nbformat": 4,
  "nbformat_minor": 0
}